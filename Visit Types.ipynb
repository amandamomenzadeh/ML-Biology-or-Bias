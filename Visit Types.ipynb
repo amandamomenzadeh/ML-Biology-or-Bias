{
 "cells": [
  {
   "cell_type": "markdown",
   "id": "670f04a1-8daa-4a1e-9d11-c044a4720c6c",
   "metadata": {},
   "source": [
    "## Types of medical visits\n",
    "----------------------------------"
   ]
  },
  {
   "cell_type": "markdown",
   "id": "1256a40b-23d2-44a2-b479-021ee3396b92",
   "metadata": {
    "jp-MarkdownHeadingCollapsed": true,
    "tags": []
   },
   "source": [
    "### Import packages"
   ]
  },
  {
   "cell_type": "code",
   "execution_count": 1,
   "id": "01bdac1c-1671-4508-8c77-bb16218aa779",
   "metadata": {
    "ExecuteTime": {
     "end_time": "2021-09-24T21:11:10.209823Z",
     "start_time": "2021-09-24T21:10:59.833304Z"
    },
    "run_control": {
     "marked": false
    },
    "tags": []
   },
   "outputs": [
    {
     "name": "stdout",
     "output_type": "stream",
     "text": [
      "Requirement already satisfied: pickle5 in /opt/anaconda3/envs/Python37/lib/python3.7/site-packages (0.0.11)\n"
     ]
    }
   ],
   "source": [
    "import pandas as pd\n",
    "import sqlite3 as sql\n",
    "import numpy as np\n",
    "from IPython.display import HTML\n",
    "from datetime import datetime\n",
    "\n",
    "%matplotlib inline\n",
    "import matplotlib\n",
    "import matplotlib.pyplot as plt\n",
    "import seaborn as sns\n",
    "sns.set()  # set plot style\n",
    "from collections import Counter\n",
    "import scipy as sp\n",
    "import sklearn as sk\n",
    "import sys\n",
    "import plotly.express as px\n",
    "import pydot\n",
    "\n",
    "import time\n",
    "import xgboost as xgb\n",
    "import shap\n",
    "import dill\n",
    "import gc\n",
    "import subprocess\n",
    "!pip3 install pickle5\n",
    "import pickle5 as pickle\n",
    "from statannot import add_stat_annotation"
   ]
  },
  {
   "cell_type": "code",
   "execution_count": 2,
   "id": "6f3b5e38-d8a6-4e1f-865c-a09befa35062",
   "metadata": {
    "ExecuteTime": {
     "end_time": "2021-09-24T21:11:10.240882Z",
     "start_time": "2021-09-24T21:11:10.225260Z"
    },
    "tags": []
   },
   "outputs": [],
   "source": [
    "import os\n",
    "from pandas.plotting import scatter_matrix\n",
    "from matplotlib import pyplot\n",
    "\n",
    "from collections import defaultdict\n",
    "\n",
    "from sklearn.linear_model import Lasso\n",
    "from sklearn.linear_model import ElasticNet\n",
    "from sklearn.linear_model import LinearRegression\n",
    "from sklearn.linear_model import RidgeCV\n",
    "\n",
    "from sklearn.model_selection import train_test_split\n",
    "from sklearn.model_selection import cross_val_score\n",
    "from sklearn.model_selection import StratifiedKFold\n",
    "\n",
    "from sklearn.metrics import classification_report\n",
    "from sklearn.metrics import confusion_matrix\n",
    "from sklearn.metrics import accuracy_score\n",
    "from sklearn.metrics import recall_score\n",
    "from sklearn.metrics import precision_score\n",
    "from sklearn.metrics import f1_score\n",
    "from sklearn.metrics import explained_variance_score\n",
    "from sklearn.metrics import mean_absolute_error\n",
    "from sklearn.metrics import mean_squared_error\n",
    "from sklearn.metrics import r2_score\n",
    "from sklearn.metrics import plot_confusion_matrix\n",
    "from sklearn.tree import export_graphviz\n",
    "from sklearn.metrics import roc_curve\n",
    "from sklearn.metrics import roc_auc_score\n",
    "\n",
    "from sklearn.neighbors import KNeighborsRegressor\n",
    "from sklearn.ensemble import RandomForestRegressor\n",
    "from sklearn.ensemble import ExtraTreesRegressor, AdaBoostRegressor, GradientBoostingRegressor\n",
    "from sklearn.dummy import DummyRegressor\n",
    "from sklearn.linear_model import Lasso, Ridge, ElasticNet\n",
    "from sklearn.svm import SVR\n",
    "from sklearn.multioutput import MultiOutputRegressor\n",
    "\n",
    "from sklearn.model_selection import KFold\n",
    "from sklearn.model_selection import ParameterGrid\n",
    "from sklearn.model_selection import GridSearchCV"
   ]
  },
  {
   "cell_type": "code",
   "execution_count": 3,
   "id": "aafcefa1-97b3-4174-9b93-be632e86a152",
   "metadata": {
    "ExecuteTime": {
     "end_time": "2021-09-24T21:11:10.271596Z",
     "start_time": "2021-09-24T21:11:10.257604Z"
    },
    "tags": []
   },
   "outputs": [],
   "source": [
    "from sklearn.linear_model import LogisticRegression\n",
    "from sklearn.dummy import DummyClassifier\n",
    "from sklearn.ensemble import RandomForestClassifier\n",
    "from sklearn.ensemble import ExtraTreesClassifier\n",
    "from sklearn.ensemble import AdaBoostClassifier\n",
    "from sklearn.ensemble import GradientBoostingClassifier\n",
    "from sklearn.svm import SVC\n",
    "from sklearn.neighbors import KNeighborsClassifier\n",
    "from sklearn.discriminant_analysis import LinearDiscriminantAnalysis\n",
    "from sklearn.naive_bayes import GaussianNB\n",
    "from sklearn.tree import DecisionTreeClassifier"
   ]
  },
  {
   "cell_type": "markdown",
   "id": "9151de3f-898e-4b04-9f71-631be5b79fa0",
   "metadata": {
    "jp-MarkdownHeadingCollapsed": true,
    "tags": []
   },
   "source": [
    "### OPTH"
   ]
  },
  {
   "cell_type": "code",
   "execution_count": 5,
   "id": "ed82dbf6-f43d-474c-a7c7-e96f1c732247",
   "metadata": {},
   "outputs": [],
   "source": [
    "with open(r'/Users/amomenzadeh/Desktop/DM_pickles/opth_merge.pkl', 'rb') as handle:\n",
    "    opth_merge = pickle.load(handle)\n",
    "with open(r'/Users/amomenzadeh/Desktop/DM_pickles/opth_enc.pkl', 'rb') as handle:\n",
    "    opth_enc = pickle.load(handle)"
   ]
  },
  {
   "cell_type": "code",
   "execution_count": 6,
   "id": "e76d28c0-1a22-4912-85e1-002aeb321ba7",
   "metadata": {},
   "outputs": [],
   "source": [
    "slow=opth_merge[(opth_merge['output_class']==0)]\n",
    "slow_tto=slow['time_to_opth(yr)'].sum()"
   ]
  },
  {
   "cell_type": "code",
   "execution_count": 7,
   "id": "c5f86be9-33c9-42ec-a564-2194a4928f96",
   "metadata": {},
   "outputs": [],
   "source": [
    "fast=opth_merge[(opth_merge['output_class']==1)]\n",
    "fast_tto=fast['time_to_opth(yr)'].sum()"
   ]
  },
  {
   "cell_type": "code",
   "execution_count": 8,
   "id": "727c1570-bc12-4c35-aeb3-4c3d19d9ba83",
   "metadata": {},
   "outputs": [],
   "source": [
    "fast_visit_type=[]\n",
    "for x in opth_merge[opth_merge['output_class']==1].index:\n",
    "    enc=opth_enc[(opth_enc.patient_num==x)]\n",
    "    after_DM=enc[(enc.i2b2_date_shifted.values >= opth_merge.loc[[x]].initial_DIAB.values)]\n",
    "    before_comp=after_DM[(after_DM.i2b2_date_shifted.values <= opth_merge.loc[[x]].initial_OPTH.values)]\n",
    "    fast_visit_type+=before_comp.src_enc_type_name.values.tolist()"
   ]
  },
  {
   "cell_type": "code",
   "execution_count": 9,
   "id": "d61a83ab-3307-4d7e-95aa-21824bd33e9c",
   "metadata": {},
   "outputs": [
    {
     "data": {
      "text/plain": [
       "103823"
      ]
     },
     "execution_count": 9,
     "metadata": {},
     "output_type": "execute_result"
    }
   ],
   "source": [
    "len(fast_visit_type)"
   ]
  },
  {
   "cell_type": "code",
   "execution_count": 10,
   "id": "c0e052eb-20f9-4c84-8f6c-24e421f606f7",
   "metadata": {},
   "outputs": [],
   "source": [
    "fast_visits = pd.DataFrame(data=fast_visit_type)"
   ]
  },
  {
   "cell_type": "code",
   "execution_count": 11,
   "id": "31f3af42-329f-475d-8253-d09a879f4e57",
   "metadata": {},
   "outputs": [],
   "source": [
    "fast_visits['class']='fast'"
   ]
  },
  {
   "cell_type": "code",
   "execution_count": 12,
   "id": "50ab74ce-4791-4264-b43d-b4f70e3a8706",
   "metadata": {},
   "outputs": [],
   "source": [
    "fast_visits.columns =['visit_type','class']"
   ]
  },
  {
   "cell_type": "code",
   "execution_count": 13,
   "id": "686116d1-d7e2-4747-87ad-e722c09e8125",
   "metadata": {},
   "outputs": [],
   "source": [
    "slow_visit_type=[]\n",
    "for x in opth_merge[opth_merge['output_class']==0].index:\n",
    "    enc=opth_enc[(opth_enc.patient_num==x)]\n",
    "    after_DM=enc[(enc.i2b2_date_shifted.values >= opth_merge.loc[[x]].initial_DIAB.values)]\n",
    "    before_comp=after_DM[(after_DM.i2b2_date_shifted.values <= opth_merge.loc[[x]].initial_OPTH.values)]\n",
    "    slow_visit_type+=before_comp.src_enc_type_name.values.tolist()"
   ]
  },
  {
   "cell_type": "code",
   "execution_count": 14,
   "id": "6077fe14-0168-4506-99cb-7ade463e76a3",
   "metadata": {},
   "outputs": [
    {
     "data": {
      "text/plain": [
       "354762"
      ]
     },
     "execution_count": 14,
     "metadata": {},
     "output_type": "execute_result"
    }
   ],
   "source": [
    "len(slow_visit_type)"
   ]
  },
  {
   "cell_type": "code",
   "execution_count": 15,
   "id": "da2d4baf-eaa5-49f2-b50d-122eb5336ce9",
   "metadata": {
    "tags": []
   },
   "outputs": [],
   "source": [
    "slow_visits = pd.DataFrame(data=slow_visit_type)"
   ]
  },
  {
   "cell_type": "code",
   "execution_count": 16,
   "id": "b6828cca-7191-4a1b-a8cb-3db150a02b9e",
   "metadata": {},
   "outputs": [],
   "source": [
    "slow_visits['class']='slow'"
   ]
  },
  {
   "cell_type": "code",
   "execution_count": 17,
   "id": "93aed559-c7b2-4f85-95e1-9a83a5e40359",
   "metadata": {},
   "outputs": [],
   "source": [
    "slow_visits.columns =['visit_type','class']"
   ]
  },
  {
   "cell_type": "code",
   "execution_count": 18,
   "id": "c9d25c3b-a6d1-464c-a25b-1b40ab51ac9a",
   "metadata": {},
   "outputs": [
    {
     "data": {
      "text/plain": [
       "IDX fabricated encounter                   6.590338\n",
       "Telephone                                  5.653338\n",
       "History                                    4.962955\n",
       "Office Visit                               3.865982\n",
       "Refill                                     2.503855\n",
       "                                             ...   \n",
       "Documentation with Professional Charges    0.000205\n",
       "Cardiology Procedure                       0.000102\n",
       "Remote Care Management                     0.000102\n",
       "Core Test                                  0.000102\n",
       "Lactation Encounter                        0.000102\n",
       "Name: visit_type, Length: 93, dtype: float64"
      ]
     },
     "execution_count": 18,
     "metadata": {},
     "output_type": "execute_result"
    }
   ],
   "source": [
    "slow_visits.visit_type.value_counts()/slow_tto"
   ]
  },
  {
   "cell_type": "code",
   "execution_count": 359,
   "id": "8434ba2f-37c7-458c-b0ef-92b6398938f9",
   "metadata": {},
   "outputs": [
    {
     "data": {
      "text/plain": [
       "IDX fabricated encounter               11.102644\n",
       "History                                 7.431563\n",
       "Telephone                               7.418718\n",
       "Office Visit                            5.377401\n",
       "Hospital Encounter|Outpatient [102]     3.279568\n",
       "Refill                                  2.337777\n",
       "Lab Only                                2.243239\n",
       "Clinical Documentation                  1.659565\n",
       "Conversion Encounter                    1.595854\n",
       "Letter (Out)                            1.137033\n",
       "Patient Message                         1.050201\n",
       "Therapy                                 0.928432\n",
       "Ancillary Orders                        0.870372\n",
       "Abstract                                0.644302\n",
       "Results Only                            0.392541\n",
       "Scan Encounter                          0.364282\n",
       "Hospital Encounter|Emergency [103]      0.330885\n",
       "Surgery                                 0.327803\n",
       "Anesthesia Event                        0.305196\n",
       "Hospital Encounter|Inpatient [101]      0.298516\n",
       "Name: visit_type, dtype: float64"
      ]
     },
     "execution_count": 359,
     "metadata": {},
     "output_type": "execute_result"
    }
   ],
   "source": [
    "fast_visits.visit_type.value_counts().head(20)/fast_tto"
   ]
  },
  {
   "cell_type": "code",
   "execution_count": 20,
   "id": "d4d3d150-63ac-4bae-a220-a4a526c2e5bf",
   "metadata": {
    "tags": []
   },
   "outputs": [],
   "source": [
    "slow_types=slow_visits[slow_visits.visit_type.isin(['Telephone', 'History', \n",
    "                                                    'Office Visit','Refill', \n",
    "                                                    'Hospital Encounter|Outpatient [102]', \n",
    "                                                    'Lab Only','Therapy',\n",
    "                                                    'Hospital Encounter|Emergency [103]',\n",
    "                                                    'Surgery', 'Hospital Encounter|Inpatient [101]'\n",
    "                                                    ])]"
   ]
  },
  {
   "cell_type": "code",
   "execution_count": 21,
   "id": "18cc2e7e-b425-4bcc-af3f-3a209df0b0ef",
   "metadata": {},
   "outputs": [
    {
     "data": {
      "text/plain": [
       "Telephone                              5.653338\n",
       "History                                4.962955\n",
       "Office Visit                           3.865982\n",
       "Refill                                 2.503855\n",
       "Hospital Encounter|Outpatient [102]    1.816340\n",
       "Lab Only                               1.707677\n",
       "Therapy                                0.676352\n",
       "Hospital Encounter|Emergency [103]     0.280414\n",
       "Surgery                                0.202680\n",
       "Hospital Encounter|Inpatient [101]     0.143996\n",
       "Name: visit_type, dtype: float64"
      ]
     },
     "execution_count": 21,
     "metadata": {},
     "output_type": "execute_result"
    }
   ],
   "source": [
    "slow_types.visit_type.value_counts()/slow_tto"
   ]
  },
  {
   "cell_type": "code",
   "execution_count": 22,
   "id": "e80db619-df95-4d56-8843-a4d796869d77",
   "metadata": {},
   "outputs": [],
   "source": [
    "d = {'Visit Type': ['Telephone', 'History', 'Office Visit','Refill', \n",
    "                    'Hospital - Outpatient', 'Lab Only',\n",
    "                    'Therapy','Hospital - Emergency',\n",
    "                    'Surgery', 'Hospital - Inpatient'],\n",
    "     'Visits/Patient Years': [5.65333793, 4.96295476, 3.86598189, 2.50385518, 1.81633964,\n",
    "                    1.70767675,  0.676352, 0.28041375, 0.20268036, 0.14399625]}                        "
   ]
  },
  {
   "cell_type": "code",
   "execution_count": 23,
   "id": "0f76ae5a-a56a-4ea1-acb4-11988a905ee2",
   "metadata": {},
   "outputs": [],
   "source": [
    "slow_df= pd.DataFrame(data=d)               "
   ]
  },
  {
   "cell_type": "code",
   "execution_count": 24,
   "id": "1bd2dd2d-4074-47a0-897e-09a244ac11ec",
   "metadata": {},
   "outputs": [],
   "source": [
    "slow_df['Class']='Slow'"
   ]
  },
  {
   "cell_type": "code",
   "execution_count": 25,
   "id": "020b1e22-4b5a-4d21-9883-e9e1e5be4f46",
   "metadata": {},
   "outputs": [],
   "source": [
    "fast_types=fast_visits[fast_visits.visit_type.isin(['Telephone', 'History', \n",
    "                                                    'Office Visit','Refill', \n",
    "                                                    'Hospital Encounter|Outpatient [102]', \n",
    "                                                    'Lab Only','Therapy',\n",
    "                                                    'Hospital Encounter|Emergency [103]',\n",
    "                                                    'Surgery', 'Hospital Encounter|Inpatient [101]'\n",
    "                                                    ])]"
   ]
  },
  {
   "cell_type": "code",
   "execution_count": 26,
   "id": "7253c1bc-32d6-4e55-abb8-83a44cc4457a",
   "metadata": {},
   "outputs": [
    {
     "data": {
      "text/plain": [
       "History                                7.431563\n",
       "Telephone                              7.418718\n",
       "Office Visit                           5.377401\n",
       "Hospital Encounter|Outpatient [102]    3.279568\n",
       "Refill                                 2.337777\n",
       "Lab Only                               2.243239\n",
       "Therapy                                0.928432\n",
       "Hospital Encounter|Emergency [103]     0.330885\n",
       "Surgery                                0.327803\n",
       "Hospital Encounter|Inpatient [101]     0.298516\n",
       "Name: visit_type, dtype: float64"
      ]
     },
     "execution_count": 26,
     "metadata": {},
     "output_type": "execute_result"
    }
   ],
   "source": [
    "fast_types.visit_type.value_counts()/fast_tto"
   ]
  },
  {
   "cell_type": "code",
   "execution_count": 27,
   "id": "00856f41-7688-4660-9163-4dff7c4ecbbe",
   "metadata": {},
   "outputs": [],
   "source": [
    "a=fast_types.visit_type.value_counts()/fast_tto"
   ]
  },
  {
   "cell_type": "code",
   "execution_count": 28,
   "id": "40a574ff-1117-4ca1-8585-f0f6ab13fee8",
   "metadata": {},
   "outputs": [],
   "source": [
    "x = {'Visit Type': ['Telephone', 'History', 'Office Visit','Refill', \n",
    "                    'Hospital - Outpatient', 'Lab Only',\n",
    "                    'Therapy','Hospital - Emergency',\n",
    "                    'Surgery', 'Hospital - Inpatient'],\n",
    "     'Visits/Patient Years': [7.41871773,7.43156266, 5.37740147, 2.33777725, 3.27956751,\n",
    "       2.24323856, 0.87037245, 0.3308854 , 0.32780261, 0.29851617]}                        "
   ]
  },
  {
   "cell_type": "code",
   "execution_count": 29,
   "id": "70898063-5819-4aaa-ae52-74105dfd894e",
   "metadata": {},
   "outputs": [],
   "source": [
    "fast_df= pd.DataFrame(data=x)   \n",
    "fast_df['Class']='Fast'"
   ]
  },
  {
   "cell_type": "code",
   "execution_count": 33,
   "id": "1f2f5d8a-a4b5-449d-ac89-bdf134b7ebc7",
   "metadata": {},
   "outputs": [],
   "source": [
    "frames = [slow_df, fast_df]"
   ]
  },
  {
   "cell_type": "code",
   "execution_count": 34,
   "id": "17fd1ea1-60e3-4808-b3a9-d953f4f63a2f",
   "metadata": {},
   "outputs": [],
   "source": [
    "result = pd.concat(frames)"
   ]
  },
  {
   "cell_type": "code",
   "execution_count": 35,
   "id": "df00be5f-9216-4285-ab52-fb9fcffd9ba1",
   "metadata": {},
   "outputs": [
    {
     "data": {
      "image/png": "[encoded data removed]",
      "text/plain": [
       "<Figure size 468x504 with 1 Axes>"
      ]
     },
     "metadata": {},
     "output_type": "display_data"
    }
   ],
   "source": [
    "sns.set(style=\"whitegrid\")\n",
    "ax=sns.barplot(data=result, y='Visit Type', x='Visits/Patient Years', hue='Class')\n",
    "ax.tick_params(labelsize=20)\n",
    "ax.set_xlabel(\"Visits/Patient Years\",fontsize=25)\n",
    "ax.set_ylabel(\"Visit Type\",fontsize=25)\n",
    "sns.set(rc={'figure.figsize':(6.5,7)})\n",
    "ax.grid(False)\n",
    "legend = plt.legend(loc=\"lower right\", edgecolor=\"black\", fontsize=20)\n",
    "legend.get_frame().set_facecolor('white')\n",
    "plt.title('Ocular Disease',fontsize=25)\n",
    "plt.savefig(r'/Users/amomenzadeh/Desktop/DM_figures/opth_visit_types.svg', format='svg',bbox_inches='tight')\n",
    "plt.show()"
   ]
  },
  {
   "cell_type": "markdown",
   "id": "1d38c4ef-7541-4538-85f9-806acac280a9",
   "metadata": {
    "jp-MarkdownHeadingCollapsed": true,
    "tags": []
   },
   "source": [
    "## CVD"
   ]
  },
  {
   "cell_type": "code",
   "execution_count": 105,
   "id": "a5153e8c-1c1e-4506-91b1-d7d814a594c0",
   "metadata": {},
   "outputs": [],
   "source": [
    "with open(r'/Users/amomenzadeh/Desktop/DM_pickles/cv_merge.pkl', 'rb') as handle:\n",
    "    cv_merge = pickle.load(handle)\n",
    "with open(r'/Users/amomenzadeh/Desktop/DM_pickles/cv_enc.pkl', 'rb') as handle:\n",
    "    cv_enc = pickle.load(handle)"
   ]
  },
  {
   "cell_type": "code",
   "execution_count": 106,
   "id": "68fd3cda-25e4-4dae-8c46-45fb0cd6052c",
   "metadata": {},
   "outputs": [],
   "source": [
    "slow=cv_merge[(cv_merge['output_class']==0)]\n",
    "slow_tto=slow['time_to_CV(yr)'].sum()"
   ]
  },
  {
   "cell_type": "code",
   "execution_count": 107,
   "id": "cdc30de5-b301-4a5f-875a-814a92054db1",
   "metadata": {},
   "outputs": [],
   "source": [
    "fast=cv_merge[(cv_merge['output_class']==1)]\n",
    "fast_tto=fast['time_to_CV(yr)'].sum()"
   ]
  },
  {
   "cell_type": "code",
   "execution_count": 108,
   "id": "e08b2dc6-fcf9-4f66-a1c6-8dced2fb6658",
   "metadata": {},
   "outputs": [],
   "source": [
    "fast_visit_type=[]\n",
    "for x in cv_merge[cv_merge['output_class']==1].index:\n",
    "    enc=cv_enc[(cv_enc.patient_num==x)]\n",
    "    after_DM=enc[(enc.i2b2_date_shifted.values >= cv_merge.loc[[x]].initial_DIAB.values)]\n",
    "    before_comp=after_DM[(after_DM.i2b2_date_shifted.values <= cv_merge.loc[[x]].initial_CVD.values)]\n",
    "    fast_visit_type+=before_comp.src_enc_type_name.values.tolist()"
   ]
  },
  {
   "cell_type": "code",
   "execution_count": 109,
   "id": "b5e23140-3c34-4d2f-a7b6-c6030b92a783",
   "metadata": {},
   "outputs": [
    {
     "data": {
      "text/plain": [
       "162771"
      ]
     },
     "execution_count": 109,
     "metadata": {},
     "output_type": "execute_result"
    }
   ],
   "source": [
    "len(fast_visit_type)"
   ]
  },
  {
   "cell_type": "code",
   "execution_count": 110,
   "id": "4f1386e9-f8be-4ca5-af9d-aae737f66515",
   "metadata": {},
   "outputs": [],
   "source": [
    "fast_visits = pd.DataFrame(data=fast_visit_type)"
   ]
  },
  {
   "cell_type": "code",
   "execution_count": 111,
   "id": "b9fe2ba5-f22e-43df-ab2d-9bb896ad20b7",
   "metadata": {},
   "outputs": [],
   "source": [
    "fast_visits['Class']='Fast'"
   ]
  },
  {
   "cell_type": "code",
   "execution_count": 112,
   "id": "8e59c0e5-3eb4-41aa-ace2-93e936b052c7",
   "metadata": {},
   "outputs": [],
   "source": [
    "fast_visits.columns =['visit_type','class']"
   ]
  },
  {
   "cell_type": "code",
   "execution_count": 113,
   "id": "956d6e9e-8f3f-4fd4-8fbc-50bb253f0a19",
   "metadata": {},
   "outputs": [],
   "source": [
    "slow_visit_type=[]\n",
    "for x in cv_merge[cv_merge['output_class']==0].index:\n",
    "    enc=cv_enc[(cv_enc.patient_num==x)]\n",
    "    after_DM=enc[(enc.i2b2_date_shifted.values >= cv_merge.loc[[x]].initial_DIAB.values)]\n",
    "    before_comp=after_DM[(after_DM.i2b2_date_shifted.values <= cv_merge.loc[[x]].initial_CVD.values)]\n",
    "    slow_visit_type+=before_comp.src_enc_type_name.values.tolist()"
   ]
  },
  {
   "cell_type": "code",
   "execution_count": 114,
   "id": "8da5b367-7343-4c7e-9265-e2c6b1fbf588",
   "metadata": {},
   "outputs": [
    {
     "data": {
      "text/plain": [
       "500713"
      ]
     },
     "execution_count": 114,
     "metadata": {},
     "output_type": "execute_result"
    }
   ],
   "source": [
    "len(slow_visit_type)"
   ]
  },
  {
   "cell_type": "code",
   "execution_count": 115,
   "id": "03a33103-f828-4d96-a7b7-8c203fba9fdb",
   "metadata": {
    "tags": []
   },
   "outputs": [],
   "source": [
    "slow_visits = pd.DataFrame(data=slow_visit_type)"
   ]
  },
  {
   "cell_type": "code",
   "execution_count": 116,
   "id": "1828e2e3-a6d6-41e4-8eca-4147bbaf9c47",
   "metadata": {},
   "outputs": [],
   "source": [
    "slow_visits['Class']='Slow'"
   ]
  },
  {
   "cell_type": "code",
   "execution_count": 117,
   "id": "68fccc0a-28ee-4628-8906-0ebc27354ae5",
   "metadata": {},
   "outputs": [],
   "source": [
    "slow_visits.columns =['visit_type','class']"
   ]
  },
  {
   "cell_type": "code",
   "execution_count": 119,
   "id": "99e040cb-db0b-4797-ae14-d44c1f86670b",
   "metadata": {},
   "outputs": [
    {
     "data": {
      "text/plain": [
       "IDX fabricated encounter               6.245975\n",
       "Telephone                              5.312943\n",
       "History                                4.531794\n",
       "Office Visit                           3.453655\n",
       "Refill                                 2.243356\n",
       "                                         ...   \n",
       "Ancillary Procedure                    0.000201\n",
       "Community Orders                       0.000134\n",
       "Consent/Legal                          0.000067\n",
       "Clinical Documentation with Charges    0.000067\n",
       "Cardiology Consult Visit               0.000067\n",
       "Name: visit_type, Length: 96, dtype: float64"
      ]
     },
     "execution_count": 119,
     "metadata": {},
     "output_type": "execute_result"
    }
   ],
   "source": [
    "slow_visits.visit_type.value_counts()/slow_tto"
   ]
  },
  {
   "cell_type": "code",
   "execution_count": 120,
   "id": "8e788935-de03-49a4-bec0-49e7a6f6e3ed",
   "metadata": {},
   "outputs": [
    {
     "data": {
      "text/plain": [
       "IDX fabricated encounter               14.793065\n",
       "Telephone                               8.087588\n",
       "History                                 7.502164\n",
       "Hospital Encounter|Outpatient [102]     5.334274\n",
       "Office Visit                            4.565222\n",
       "Lab Only                                2.091530\n",
       "Clinical Documentation                  2.039533\n",
       "Refill                                  2.001353\n",
       "Conversion Encounter                    1.198484\n",
       "Ancillary Orders                        1.187212\n",
       "Letter (Out)                            1.137760\n",
       "Patient Message                         0.898136\n",
       "Therapy                                 0.879228\n",
       "Results Only                            0.725781\n",
       "Abstract                                0.594515\n",
       "Hospital Encounter|Inpatient [101]      0.470522\n",
       "Hospital Encounter|Emergency [103]      0.437796\n",
       "Surgery                                 0.379617\n",
       "Anesthesia Event                        0.336347\n",
       "Anesthesia                              0.320711\n",
       "Name: visit_type, dtype: float64"
      ]
     },
     "execution_count": 120,
     "metadata": {},
     "output_type": "execute_result"
    }
   ],
   "source": [
    "fast_visits.visit_type.value_counts().head(20)/fast_tto"
   ]
  },
  {
   "cell_type": "code",
   "execution_count": 121,
   "id": "f5c2c8bb-24f8-44bb-a13a-69e80e85aa28",
   "metadata": {
    "tags": []
   },
   "outputs": [],
   "source": [
    "slow_types=slow_visits[slow_visits.visit_type.isin(['Telephone', 'History', \n",
    "                                                    'Office Visit','Refill', \n",
    "                                                    'Hospital Encounter|Outpatient [102]', \n",
    "                                                    'Lab Only','Therapy',\n",
    "                                                    'Hospital Encounter|Emergency [103]',\n",
    "                                                    'Surgery', 'Hospital Encounter|Inpatient [101]'\n",
    "                                                    ])]"
   ]
  },
  {
   "cell_type": "code",
   "execution_count": 122,
   "id": "f2941979-c509-44ef-90ef-c966976c1e92",
   "metadata": {},
   "outputs": [
    {
     "data": {
      "text/plain": [
       "Telephone                              5.312943\n",
       "History                                4.531794\n",
       "Office Visit                           3.453655\n",
       "Refill                                 2.243356\n",
       "Hospital Encounter|Outpatient [102]    1.693452\n",
       "Lab Only                               1.586047\n",
       "Therapy                                0.672202\n",
       "Hospital Encounter|Emergency [103]     0.290818\n",
       "Surgery                                0.197770\n",
       "Hospital Encounter|Inpatient [101]     0.182675\n",
       "Name: visit_type, dtype: float64"
      ]
     },
     "execution_count": 122,
     "metadata": {},
     "output_type": "execute_result"
    }
   ],
   "source": [
    "slow_types.visit_type.value_counts()/slow_tto"
   ]
  },
  {
   "cell_type": "code",
   "execution_count": 123,
   "id": "402417b3-db3f-4dd1-a4c2-e78dce6f6d6c",
   "metadata": {},
   "outputs": [],
   "source": [
    "d = {'Visit Type': ['Telephone', 'History', 'Office Visit','Refill', \n",
    "                    'Hospital - Outpatient', 'Lab Only',\n",
    "                    'Therapy','Hospital - Emergency',\n",
    "                    'Surgery', 'Hospital - Inpatient'],\n",
    "     'Visits/Patient Years': [5.31294312, 4.5317937 , 3.45365454, 2.24335595, 1.69345198,\n",
    "       1.58604729, 0.67220175, 0.29081782, 0.19776954, 0.18267519]}                        "
   ]
  },
  {
   "cell_type": "code",
   "execution_count": 124,
   "id": "0da27d98-75c6-49ce-bb66-bba111239117",
   "metadata": {},
   "outputs": [],
   "source": [
    "slow_df= pd.DataFrame(data=d)               "
   ]
  },
  {
   "cell_type": "code",
   "execution_count": 125,
   "id": "25712cd5-532f-4f68-975b-47d8cb900582",
   "metadata": {},
   "outputs": [],
   "source": [
    "slow_df['Class']='Slow'"
   ]
  },
  {
   "cell_type": "code",
   "execution_count": 126,
   "id": "8886a1da-804b-410a-8769-18f2544ece3b",
   "metadata": {},
   "outputs": [],
   "source": [
    "fast_types=fast_visits[fast_visits.visit_type.isin(['Telephone', 'History', \n",
    "                                                    'Office Visit','Refill', \n",
    "                                                    'Hospital Encounter|Outpatient [102]', \n",
    "                                                    'Lab Only','Therapy',\n",
    "                                                    'Hospital Encounter|Emergency [103]',\n",
    "                                                    'Surgery', 'Hospital Encounter|Inpatient [101]'\n",
    "                                                    ])]"
   ]
  },
  {
   "cell_type": "code",
   "execution_count": 127,
   "id": "84fcb14d-5189-464e-a7f5-fd45f2f6ac32",
   "metadata": {},
   "outputs": [
    {
     "data": {
      "text/plain": [
       "Index(['Telephone', 'History', 'Hospital Encounter|Outpatient [102]',\n",
       "       'Office Visit', 'Lab Only', 'Refill', 'Therapy',\n",
       "       'Hospital Encounter|Inpatient [101]',\n",
       "       'Hospital Encounter|Emergency [103]', 'Surgery'],\n",
       "      dtype='object')"
      ]
     },
     "execution_count": 127,
     "metadata": {},
     "output_type": "execute_result"
    }
   ],
   "source": [
    "fast_types.visit_type.value_counts().index"
   ]
  },
  {
   "cell_type": "code",
   "execution_count": 128,
   "id": "f2b5916b-d184-4872-9f62-4bcf2c5940bd",
   "metadata": {},
   "outputs": [
    {
     "data": {
      "text/plain": [
       "array([8.08758834, 7.50216359, 5.33427394, 4.56522217, 2.0915299 ,\n",
       "       2.00135268, 0.87922797, 0.4705215 , 0.4377959 , 0.37961704])"
      ]
     },
     "execution_count": 128,
     "metadata": {},
     "output_type": "execute_result"
    }
   ],
   "source": [
    "fast_types.visit_type.value_counts().values/fast_tto"
   ]
  },
  {
   "cell_type": "code",
   "execution_count": 129,
   "id": "639fa9a1-d819-4a6b-a083-50c0a370d439",
   "metadata": {},
   "outputs": [
    {
     "data": {
      "text/plain": [
       "Telephone                              8.087588\n",
       "History                                7.502164\n",
       "Hospital Encounter|Outpatient [102]    5.334274\n",
       "Office Visit                           4.565222\n",
       "Lab Only                               2.091530\n",
       "Refill                                 2.001353\n",
       "Therapy                                0.879228\n",
       "Hospital Encounter|Inpatient [101]     0.470522\n",
       "Hospital Encounter|Emergency [103]     0.437796\n",
       "Surgery                                0.379617\n",
       "Name: visit_type, dtype: float64"
      ]
     },
     "execution_count": 129,
     "metadata": {},
     "output_type": "execute_result"
    }
   ],
   "source": [
    "fast_types.visit_type.value_counts()/fast_tto"
   ]
  },
  {
   "cell_type": "code",
   "execution_count": 130,
   "id": "25693008-7f80-46a2-9f61-08adbc605896",
   "metadata": {},
   "outputs": [],
   "source": [
    "x = {'Visit Type': ['Telephone', 'History', 'Hospital - Outpatient',\n",
    "       'Office Visit', 'Lab Only', 'Refill', 'Therapy',\n",
    "       'Hospital - Inpatient',\n",
    "       'Hospital - Emergency', 'Surgery'],\n",
    "     'Visits/Patient Years': fast_types.visit_type.value_counts().values/fast_tto}                        "
   ]
  },
  {
   "cell_type": "code",
   "execution_count": 131,
   "id": "462fbe46-f744-46df-8a95-da87bf38f5b5",
   "metadata": {},
   "outputs": [],
   "source": [
    "fast_df= pd.DataFrame(data=x)   \n",
    "fast_df['Class']='Fast'"
   ]
  },
  {
   "cell_type": "code",
   "execution_count": 132,
   "id": "e3edf0ce-00f6-4292-9e69-5953cb63fccc",
   "metadata": {},
   "outputs": [],
   "source": [
    "frames = [slow_df, fast_df]"
   ]
  },
  {
   "cell_type": "code",
   "execution_count": 134,
   "id": "379e5a04-b0b4-460c-a8ee-b8243446751c",
   "metadata": {},
   "outputs": [],
   "source": [
    "result = pd.concat(frames)"
   ]
  },
  {
   "cell_type": "code",
   "execution_count": 135,
   "id": "23fdfdda-a9d0-4d53-957b-7d9a43bc2781",
   "metadata": {},
   "outputs": [
    {
     "data": {
      "image/png": "[encoded data removed]",
      "text/plain": [
       "<Figure size 468x504 with 1 Axes>"
      ]
     },
     "metadata": {},
     "output_type": "display_data"
    }
   ],
   "source": [
    "sns.set(style=\"whitegrid\")\n",
    "ax=sns.barplot(data=result, y='Visit Type', x='Visits/Patient Years', hue='Class')\n",
    "ax.tick_params(labelsize=20)\n",
    "ax.set_xlabel(\"Visits/Patient Years\",fontsize=25)\n",
    "ax.set_ylabel(\"Visit Type\",fontsize=25)\n",
    "sns.set(rc={'figure.figsize':(6.5,7)})\n",
    "ax.grid(False)\n",
    "legend = plt.legend(loc=\"lower right\", edgecolor=\"black\", fontsize=20)\n",
    "legend.get_frame().set_facecolor('white')\n",
    "plt.title('CVD',fontsize=25)\n",
    "plt.savefig(r'/Users/amomenzadeh/Desktop/DM_figures/cvd_visit_types.svg', format='svg',bbox_inches='tight')\n",
    "plt.show()"
   ]
  },
  {
   "cell_type": "markdown",
   "id": "5afd8bd5-5246-4f25-a564-390021545843",
   "metadata": {
    "jp-MarkdownHeadingCollapsed": true,
    "tags": []
   },
   "source": [
    "## Renal"
   ]
  },
  {
   "cell_type": "code",
   "execution_count": 37,
   "id": "4ad76bd1-ddcb-42e5-aac2-49e7c22b5501",
   "metadata": {},
   "outputs": [],
   "source": [
    "with open(r'/Users/amomenzadeh/Desktop/DM_pickles/renal_merge.pkl', 'rb') as handle:\n",
    "    renal_merge = pickle.load(handle)\n",
    "with open(r'/Users/amomenzadeh/Desktop/DM_pickles/renal_enc.pkl', 'rb') as handle:\n",
    "    renal_enc = pickle.load(handle)"
   ]
  },
  {
   "cell_type": "code",
   "execution_count": 38,
   "id": "6269f4b8-bd23-405f-a465-84e879a1b353",
   "metadata": {},
   "outputs": [],
   "source": [
    "slow=renal_merge[(renal_merge['output_class']==0)]\n",
    "slow_tto=slow['time_to_renal(yr)'].sum()"
   ]
  },
  {
   "cell_type": "code",
   "execution_count": 39,
   "id": "b34d3c0a-8118-4de1-a6ac-def71318d467",
   "metadata": {},
   "outputs": [],
   "source": [
    "fast=renal_merge[(renal_merge['output_class']==1)]\n",
    "fast_tto=fast['time_to_renal(yr)'].sum()"
   ]
  },
  {
   "cell_type": "code",
   "execution_count": 40,
   "id": "b273d91c-7ad9-4bb3-91f4-3ee1ceae3c84",
   "metadata": {},
   "outputs": [],
   "source": [
    "fast_visit_type=[]\n",
    "for x in renal_merge[renal_merge['output_class']==1].index:\n",
    "    enc=renal_enc[(renal_enc.patient_num==x)]\n",
    "    after_DM=enc[(enc.i2b2_date_shifted.values >= renal_merge.loc[[x]].initial_DIAB.values)]\n",
    "    before_comp=after_DM[(after_DM.i2b2_date_shifted.values <= renal_merge.loc[[x]].initial_KIDNEY.values)]\n",
    "    fast_visit_type+=before_comp.src_enc_type_name.values.tolist()"
   ]
  },
  {
   "cell_type": "code",
   "execution_count": 41,
   "id": "b42016f3-ca8f-4c32-949d-df69676e03ef",
   "metadata": {},
   "outputs": [
    {
     "data": {
      "text/plain": [
       "227754"
      ]
     },
     "execution_count": 41,
     "metadata": {},
     "output_type": "execute_result"
    }
   ],
   "source": [
    "len(fast_visit_type)"
   ]
  },
  {
   "cell_type": "code",
   "execution_count": 42,
   "id": "f6c2e714-6f0d-4c6c-8059-783cc992ea02",
   "metadata": {},
   "outputs": [],
   "source": [
    "fast_visits = pd.DataFrame(data=fast_visit_type)"
   ]
  },
  {
   "cell_type": "code",
   "execution_count": 43,
   "id": "7718f177-d85a-41ab-b5e4-a1c8178f84e9",
   "metadata": {},
   "outputs": [],
   "source": [
    "fast_visits['Class']='Fast'"
   ]
  },
  {
   "cell_type": "code",
   "execution_count": 44,
   "id": "cf0ff800-98b9-434c-b612-b7da2562ce54",
   "metadata": {},
   "outputs": [],
   "source": [
    "fast_visits.columns =['visit_type','class']"
   ]
  },
  {
   "cell_type": "code",
   "execution_count": 45,
   "id": "ef744f71-9482-43c6-9c8d-f1713dd7809f",
   "metadata": {},
   "outputs": [],
   "source": [
    "slow_visit_type=[]\n",
    "for x in renal_merge[renal_merge['output_class']==0].index:\n",
    "    enc=renal_enc[(renal_enc.patient_num==x)]\n",
    "    after_DM=enc[(enc.i2b2_date_shifted.values >= renal_merge.loc[[x]].initial_DIAB.values)]\n",
    "    before_comp=after_DM[(after_DM.i2b2_date_shifted.values <= renal_merge.loc[[x]].initial_KIDNEY.values)]\n",
    "    slow_visit_type+=before_comp.src_enc_type_name.values.tolist()"
   ]
  },
  {
   "cell_type": "code",
   "execution_count": 46,
   "id": "5071b5f2-0f0a-4515-91d2-142c87680f5f",
   "metadata": {},
   "outputs": [
    {
     "data": {
      "text/plain": [
       "549647"
      ]
     },
     "execution_count": 46,
     "metadata": {},
     "output_type": "execute_result"
    }
   ],
   "source": [
    "len(slow_visit_type)"
   ]
  },
  {
   "cell_type": "code",
   "execution_count": 47,
   "id": "a067d9ca-2961-4491-a207-d92bd4c9b7c2",
   "metadata": {
    "tags": []
   },
   "outputs": [],
   "source": [
    "slow_visits = pd.DataFrame(data=slow_visit_type)"
   ]
  },
  {
   "cell_type": "code",
   "execution_count": 48,
   "id": "ab96c940-bb4f-4c34-9669-b2836f7de0ca",
   "metadata": {},
   "outputs": [],
   "source": [
    "slow_visits['Class']='Slow'"
   ]
  },
  {
   "cell_type": "code",
   "execution_count": 49,
   "id": "3eebdc0c-a41b-40f1-997a-daa48841cf68",
   "metadata": {},
   "outputs": [],
   "source": [
    "slow_visits.columns =['visit_type','class']"
   ]
  },
  {
   "cell_type": "code",
   "execution_count": 50,
   "id": "9db3b415-4f38-428e-89d8-a50b61918486",
   "metadata": {},
   "outputs": [
    {
     "data": {
      "text/plain": [
       "IDX fabricated encounter                            5.449334\n",
       "Telephone                                           4.930026\n",
       "History                                             4.224655\n",
       "Office Visit                                        3.170497\n",
       "Refill                                              2.261723\n",
       "                                                      ...   \n",
       "Hospital Encounter|Outpatient Surgical MHC [128]    0.000281\n",
       "Cardiology Consult Visit                            0.000224\n",
       "Video-Visit                                         0.000112\n",
       "Remote Care Management                              0.000112\n",
       "Clinical Documentation with Charges                 0.000056\n",
       "Name: visit_type, Length: 95, dtype: float64"
      ]
     },
     "execution_count": 50,
     "metadata": {},
     "output_type": "execute_result"
    }
   ],
   "source": [
    "slow_visits.visit_type.value_counts()/slow_tto"
   ]
  },
  {
   "cell_type": "code",
   "execution_count": 51,
   "id": "935cbd27-24e7-4511-a29e-bfa4d6c8c270",
   "metadata": {},
   "outputs": [
    {
     "data": {
      "text/plain": [
       "IDX fabricated encounter               15.911139\n",
       "Telephone                               8.882441\n",
       "History                                 7.964399\n",
       "Hospital Encounter|Outpatient [102]     6.196433\n",
       "Office Visit                            4.585725\n",
       "Clinical Documentation                  2.510810\n",
       "Lab Only                                2.358317\n",
       "Refill                                  2.251235\n",
       "Letter (Out)                            1.217422\n",
       "Patient Message                         1.084271\n",
       "Ancillary Orders                        1.049791\n",
       "Conversion Encounter                    1.032692\n",
       "Results Only                            0.800308\n",
       "Therapy                                 0.728267\n",
       "Abstract                                0.605768\n",
       "Hospital Encounter|Inpatient [101]      0.569326\n",
       "Hospital Encounter|Emergency [103]      0.484390\n",
       "Surgery                                 0.426644\n",
       "Anesthesia Event                        0.399173\n",
       "Anesthesia                              0.374505\n",
       "Name: visit_type, dtype: float64"
      ]
     },
     "execution_count": 51,
     "metadata": {},
     "output_type": "execute_result"
    }
   ],
   "source": [
    "fast_visits.visit_type.value_counts().head(20)/fast_tto"
   ]
  },
  {
   "cell_type": "code",
   "execution_count": 52,
   "id": "ad059bb1-c684-40d7-8c48-d1d567f11a79",
   "metadata": {
    "tags": []
   },
   "outputs": [],
   "source": [
    "slow_types=slow_visits[slow_visits.visit_type.isin(['Telephone', 'History', \n",
    "                                                    'Office Visit','Refill', \n",
    "                                                    'Hospital Encounter|Outpatient [102]', \n",
    "                                                    'Lab Only','Therapy',\n",
    "                                                    'Hospital Encounter|Emergency [103]',\n",
    "                                                    'Surgery', 'Hospital Encounter|Inpatient [101]'\n",
    "                                                    ])]"
   ]
  },
  {
   "cell_type": "code",
   "execution_count": 53,
   "id": "a0cd9284-9238-402b-bd46-59f69740f443",
   "metadata": {},
   "outputs": [
    {
     "data": {
      "text/plain": [
       "Telephone                              4.930026\n",
       "History                                4.224655\n",
       "Office Visit                           3.170497\n",
       "Refill                                 2.261723\n",
       "Hospital Encounter|Outpatient [102]    1.605112\n",
       "Lab Only                               1.408443\n",
       "Therapy                                0.576148\n",
       "Hospital Encounter|Emergency [103]     0.284427\n",
       "Surgery                                0.169792\n",
       "Hospital Encounter|Inpatient [101]     0.160029\n",
       "Name: visit_type, dtype: float64"
      ]
     },
     "execution_count": 53,
     "metadata": {},
     "output_type": "execute_result"
    }
   ],
   "source": [
    "slow_types.visit_type.value_counts()/slow_tto"
   ]
  },
  {
   "cell_type": "code",
   "execution_count": 54,
   "id": "c33bce25-5fc0-4b83-a5ea-d25f9f83d163",
   "metadata": {},
   "outputs": [
    {
     "data": {
      "text/plain": [
       "Index(['Telephone', 'History', 'Office Visit', 'Refill',\n",
       "       'Hospital Encounter|Outpatient [102]', 'Lab Only', 'Therapy',\n",
       "       'Hospital Encounter|Emergency [103]', 'Surgery',\n",
       "       'Hospital Encounter|Inpatient [101]'],\n",
       "      dtype='object')"
      ]
     },
     "execution_count": 54,
     "metadata": {},
     "output_type": "execute_result"
    }
   ],
   "source": [
    "slow_types.visit_type.value_counts().index"
   ]
  },
  {
   "cell_type": "code",
   "execution_count": 55,
   "id": "b9f4e247-dcca-498a-a83a-1c804e27152f",
   "metadata": {},
   "outputs": [
    {
     "data": {
      "text/plain": [
       "array([4.93002632, 4.22465471, 3.170497  , 2.26172294, 1.6051118 ,\n",
       "       1.40844268, 0.57614794, 0.28442675, 0.16979194, 0.16002863])"
      ]
     },
     "execution_count": 55,
     "metadata": {},
     "output_type": "execute_result"
    }
   ],
   "source": [
    "slow_types.visit_type.value_counts().values/slow_tto"
   ]
  },
  {
   "cell_type": "code",
   "execution_count": 56,
   "id": "072b89e9-c725-4595-876d-f848158f53f0",
   "metadata": {},
   "outputs": [],
   "source": [
    "d = {'Visit Type': ['Telephone', 'History', 'Office Visit','Refill', \n",
    "                    'Hospital - Outpatient', 'Lab Only',\n",
    "                    'Therapy','Hospital - Emergency',\n",
    "                    'Surgery', 'Hospital - Inpatient'],\n",
    "     'Visits/Patient Years': [4.93002632, 4.22465471, 3.170497  , 2.26172294, 1.6051118 ,\n",
    "       1.40844268, 0.57614794, 0.28442675, 0.16979194, 0.16002863]}                        "
   ]
  },
  {
   "cell_type": "code",
   "execution_count": 57,
   "id": "a81fa527-3ea8-4121-92ad-1d52be972065",
   "metadata": {},
   "outputs": [],
   "source": [
    "slow_df= pd.DataFrame(data=d)               "
   ]
  },
  {
   "cell_type": "code",
   "execution_count": 58,
   "id": "95fc85fd-6b91-49da-991c-1336a0f8a600",
   "metadata": {},
   "outputs": [],
   "source": [
    "slow_df['Class']='Slow'"
   ]
  },
  {
   "cell_type": "code",
   "execution_count": 59,
   "id": "820230e6-23cd-4f85-a9c8-06e8beead7f6",
   "metadata": {},
   "outputs": [],
   "source": [
    "fast_types=fast_visits[fast_visits.visit_type.isin(['Telephone', 'History', \n",
    "                                                    'Office Visit','Refill', \n",
    "                                                    'Hospital Encounter|Outpatient [102]', \n",
    "                                                    'Lab Only','Therapy',\n",
    "                                                    'Hospital Encounter|Emergency [103]',\n",
    "                                                    'Surgery', 'Hospital Encounter|Inpatient [101]'\n",
    "                                                    ])]"
   ]
  },
  {
   "cell_type": "code",
   "execution_count": 60,
   "id": "645641f2-9455-4396-a189-d5081fd71363",
   "metadata": {},
   "outputs": [
    {
     "data": {
      "text/plain": [
       "Index(['Telephone', 'History', 'Hospital Encounter|Outpatient [102]',\n",
       "       'Office Visit', 'Lab Only', 'Refill', 'Therapy',\n",
       "       'Hospital Encounter|Inpatient [101]',\n",
       "       'Hospital Encounter|Emergency [103]', 'Surgery'],\n",
       "      dtype='object')"
      ]
     },
     "execution_count": 60,
     "metadata": {},
     "output_type": "execute_result"
    }
   ],
   "source": [
    "fast_types.visit_type.value_counts().index"
   ]
  },
  {
   "cell_type": "code",
   "execution_count": 61,
   "id": "c75976dc-2ef7-40d6-9e26-643c42778342",
   "metadata": {},
   "outputs": [
    {
     "data": {
      "text/plain": [
       "array([8.88244132, 7.96439937, 6.19643278, 4.58572467, 2.35831662,\n",
       "       2.25123509, 0.72826656, 0.56932617, 0.48438977, 0.42664423])"
      ]
     },
     "execution_count": 61,
     "metadata": {},
     "output_type": "execute_result"
    }
   ],
   "source": [
    "fast_types.visit_type.value_counts().values/fast_tto"
   ]
  },
  {
   "cell_type": "code",
   "execution_count": 62,
   "id": "59f264cc-32e4-4661-9ccd-affdc842e905",
   "metadata": {},
   "outputs": [
    {
     "data": {
      "text/plain": [
       "Telephone                              8.882441\n",
       "History                                7.964399\n",
       "Hospital Encounter|Outpatient [102]    6.196433\n",
       "Office Visit                           4.585725\n",
       "Lab Only                               2.358317\n",
       "Refill                                 2.251235\n",
       "Therapy                                0.728267\n",
       "Hospital Encounter|Inpatient [101]     0.569326\n",
       "Hospital Encounter|Emergency [103]     0.484390\n",
       "Surgery                                0.426644\n",
       "Name: visit_type, dtype: float64"
      ]
     },
     "execution_count": 62,
     "metadata": {},
     "output_type": "execute_result"
    }
   ],
   "source": [
    "fast_types.visit_type.value_counts()/fast_tto"
   ]
  },
  {
   "cell_type": "code",
   "execution_count": 63,
   "id": "1abe6b0e-ea70-4d16-9be7-97af84085703",
   "metadata": {},
   "outputs": [],
   "source": [
    "x = {'Visit Type': ['Telephone', 'History', 'Hospital - Outpatient',\n",
    "       'Office Visit', 'Lab Only', 'Refill', 'Therapy',\n",
    "       'Hospital - Inpatient',\n",
    "       'Hospital - Emergency', 'Surgery'],\n",
    "     'Visits/Patient Years': fast_types.visit_type.value_counts().values/fast_tto}                        "
   ]
  },
  {
   "cell_type": "code",
   "execution_count": 65,
   "id": "e4925050-dc54-42f6-9fb0-0050f9e2a2d1",
   "metadata": {},
   "outputs": [],
   "source": [
    "fast_df= pd.DataFrame(data=x)   \n",
    "fast_df['Class']='Fast'"
   ]
  },
  {
   "cell_type": "code",
   "execution_count": 69,
   "id": "050d1631-a182-4038-9c7e-bece4d31ed94",
   "metadata": {},
   "outputs": [],
   "source": [
    "frames = [slow_df, fast_df]"
   ]
  },
  {
   "cell_type": "code",
   "execution_count": 70,
   "id": "9bbf2a95-6378-42d3-8a61-ca4e158368c5",
   "metadata": {},
   "outputs": [],
   "source": [
    "result = pd.concat(frames)"
   ]
  },
  {
   "cell_type": "code",
   "execution_count": 71,
   "id": "bb87fcbb-c750-41b9-8170-da3d8df1ec40",
   "metadata": {},
   "outputs": [
    {
     "data": {
      "image/png": "[encoded data removed]",
      "text/plain": [
       "<Figure size 468x504 with 1 Axes>"
      ]
     },
     "metadata": {},
     "output_type": "display_data"
    }
   ],
   "source": [
    "sns.set(style=\"whitegrid\")\n",
    "ax=sns.barplot(data=result, y='Visit Type', x='Visits/Patient Years', hue='Class')\n",
    "ax.tick_params(labelsize=20)\n",
    "ax.set_xlabel(\"Visits/Patient Years\",fontsize=25)\n",
    "ax.set_ylabel(\"Visit Type\",fontsize=25)\n",
    "sns.set(rc={'figure.figsize':(6.5,7)})\n",
    "ax.grid(False)\n",
    "legend = plt.legend(loc=\"lower right\", edgecolor=\"black\", fontsize=20)\n",
    "legend.get_frame().set_facecolor('white')\n",
    "plt.title('Nephropathy',fontsize=25)\n",
    "plt.savefig(r'/Users/amomenzadeh/Desktop/DM_figures/renal_visit_types.svg', format='svg',bbox_inches='tight')\n",
    "plt.show()"
   ]
  },
  {
   "cell_type": "markdown",
   "id": "2fcc968b-fd2e-43ee-9bef-5f316a510066",
   "metadata": {
    "jp-MarkdownHeadingCollapsed": true,
    "tags": []
   },
   "source": [
    "## Neuro"
   ]
  },
  {
   "cell_type": "code",
   "execution_count": 72,
   "id": "2c168485-bb4c-4120-8dfc-4c481a786ebd",
   "metadata": {},
   "outputs": [],
   "source": [
    "with open(r'/Users/amomenzadeh/Desktop/DM_pickles/neur_merge.pkl', 'rb') as handle:\n",
    "    neuro_merge = pickle.load(handle)\n",
    "with open(r'/Users/amomenzadeh/Desktop/DM_pickles/neuro_enc.pkl', 'rb') as handle:\n",
    "    neuro_enc = pickle.load(handle)"
   ]
  },
  {
   "cell_type": "code",
   "execution_count": 73,
   "id": "2c648e41-ab1b-4912-ae90-ad407603945b",
   "metadata": {},
   "outputs": [],
   "source": [
    "slow=neuro_merge[(neuro_merge['output_class']==0)]\n",
    "slow_tto=slow['time_to_neuro(yr)'].sum()"
   ]
  },
  {
   "cell_type": "code",
   "execution_count": 74,
   "id": "69d602aa-ffde-4580-8aa9-75840e241c26",
   "metadata": {},
   "outputs": [],
   "source": [
    "fast=neuro_merge[(neuro_merge['output_class']==1)]\n",
    "fast_tto=fast['time_to_neuro(yr)'].sum()"
   ]
  },
  {
   "cell_type": "code",
   "execution_count": 75,
   "id": "0a60e90a-85be-4a8f-8749-07fb077051f8",
   "metadata": {},
   "outputs": [],
   "source": [
    "fast_visit_type=[]\n",
    "for x in neuro_merge[neuro_merge['output_class']==1].index:\n",
    "    enc=neuro_enc[(neuro_enc.patient_num==x)]\n",
    "    after_DM=enc[(enc.i2b2_date_shifted.values >= neuro_merge.loc[[x]].initial_DIAB.values)]\n",
    "    before_comp=after_DM[(after_DM.i2b2_date_shifted.values <= neuro_merge.loc[[x]].initial_NEUROPATH.values)]\n",
    "    fast_visit_type+=before_comp.src_enc_type_name.values.tolist()"
   ]
  },
  {
   "cell_type": "code",
   "execution_count": 76,
   "id": "6b394a41-2336-4cb6-a623-e897d00d36fa",
   "metadata": {},
   "outputs": [
    {
     "data": {
      "text/plain": [
       "189416"
      ]
     },
     "execution_count": 76,
     "metadata": {},
     "output_type": "execute_result"
    }
   ],
   "source": [
    "len(fast_visit_type)"
   ]
  },
  {
   "cell_type": "code",
   "execution_count": 77,
   "id": "752919fe-727c-47a6-8638-49e944d80ef4",
   "metadata": {},
   "outputs": [],
   "source": [
    "fast_visits = pd.DataFrame(data=fast_visit_type)"
   ]
  },
  {
   "cell_type": "code",
   "execution_count": 78,
   "id": "a8d93528-0e18-4f95-bd51-dc10554e5449",
   "metadata": {},
   "outputs": [],
   "source": [
    "fast_visits['Class']='Fast'"
   ]
  },
  {
   "cell_type": "code",
   "execution_count": 79,
   "id": "de69e5a4-4c43-409e-8ec4-efa27ac053bc",
   "metadata": {},
   "outputs": [],
   "source": [
    "fast_visits.columns =['visit_type','class']"
   ]
  },
  {
   "cell_type": "code",
   "execution_count": 80,
   "id": "2f0ea121-fb67-4fd0-ab74-2edcec2a70ad",
   "metadata": {},
   "outputs": [],
   "source": [
    "slow_visit_type=[]\n",
    "for x in neuro_merge[neuro_merge['output_class']==0].index:\n",
    "    enc=neuro_enc[(neuro_enc.patient_num==x)]\n",
    "    after_DM=enc[(enc.i2b2_date_shifted.values >= neuro_merge.loc[[x]].initial_DIAB.values)]\n",
    "    before_comp=after_DM[(after_DM.i2b2_date_shifted.values <= neuro_merge.loc[[x]].initial_NEUROPATH.values)]\n",
    "    slow_visit_type+=before_comp.src_enc_type_name.values.tolist()"
   ]
  },
  {
   "cell_type": "code",
   "execution_count": 81,
   "id": "46bf08c1-f4c9-4f82-9e4a-2931739b09ba",
   "metadata": {},
   "outputs": [
    {
     "data": {
      "text/plain": [
       "518141"
      ]
     },
     "execution_count": 81,
     "metadata": {},
     "output_type": "execute_result"
    }
   ],
   "source": [
    "len(slow_visit_type)"
   ]
  },
  {
   "cell_type": "code",
   "execution_count": 82,
   "id": "911c0101-0683-441d-9e56-bf8af1953d08",
   "metadata": {
    "tags": []
   },
   "outputs": [],
   "source": [
    "slow_visits = pd.DataFrame(data=slow_visit_type)"
   ]
  },
  {
   "cell_type": "code",
   "execution_count": 83,
   "id": "7dfd72ae-5e5d-4b6a-9d16-b6d87ff9b34c",
   "metadata": {},
   "outputs": [],
   "source": [
    "slow_visits['Class']='Slow'"
   ]
  },
  {
   "cell_type": "code",
   "execution_count": 84,
   "id": "a6c3226f-bde5-4cf7-97fd-af82c518f8a4",
   "metadata": {},
   "outputs": [],
   "source": [
    "slow_visits.columns =['visit_type','class']"
   ]
  },
  {
   "cell_type": "code",
   "execution_count": 86,
   "id": "e17e50d6-8182-4716-81d5-46af5d819e98",
   "metadata": {},
   "outputs": [
    {
     "data": {
      "text/plain": [
       "IDX fabricated encounter                            7.308764\n",
       "Telephone                                           5.786261\n",
       "History                                             4.809738\n",
       "Office Visit                                        3.716084\n",
       "Refill                                              2.511359\n",
       "                                                      ...   \n",
       "E-Consult                                           0.000141\n",
       "Hospital Encounter|Outpatient Surgical MHC [128]    0.000070\n",
       "Consent/Legal                                       0.000070\n",
       "Community Orders                                    0.000070\n",
       "Remote Care Management                              0.000070\n",
       "Name: visit_type, Length: 94, dtype: float64"
      ]
     },
     "execution_count": 86,
     "metadata": {},
     "output_type": "execute_result"
    }
   ],
   "source": [
    "slow_visits.visit_type.value_counts()/slow_tto"
   ]
  },
  {
   "cell_type": "code",
   "execution_count": 87,
   "id": "dbdd1941-b5b5-4364-ac9e-7316e55c5b32",
   "metadata": {},
   "outputs": [
    {
     "data": {
      "text/plain": [
       "IDX fabricated encounter               13.450361\n",
       "Telephone                               9.504834\n",
       "History                                 8.829346\n",
       "Hospital Encounter|Outpatient [102]     6.628485\n",
       "Office Visit                            5.518903\n",
       "Refill                                  2.613890\n",
       "Lab Only                                2.560017\n",
       "Clinical Documentation                  2.442946\n",
       "Patient Message                         1.589607\n",
       "Letter (Out)                            1.307118\n",
       "Therapy                                 1.119597\n",
       "Ancillary Orders                        0.896507\n",
       "Conversion Encounter                    0.748355\n",
       "Abstract                                0.544258\n",
       "Hospital Encounter|Emergency [103]      0.520084\n",
       "Surgery                                 0.502817\n",
       "Hospital Encounter|Inpatient [101]      0.481061\n",
       "Anesthesia Event                        0.465175\n",
       "Anesthesia                              0.446181\n",
       "Results Only                            0.445836\n",
       "Name: visit_type, dtype: float64"
      ]
     },
     "execution_count": 87,
     "metadata": {},
     "output_type": "execute_result"
    }
   ],
   "source": [
    "fast_visits.visit_type.value_counts().head(20)/fast_tto"
   ]
  },
  {
   "cell_type": "code",
   "execution_count": 88,
   "id": "39028fc9-b1ac-4d00-9509-098c357f2f54",
   "metadata": {
    "tags": []
   },
   "outputs": [],
   "source": [
    "slow_types=slow_visits[slow_visits.visit_type.isin(['Telephone', 'History', \n",
    "                                                    'Office Visit','Refill', \n",
    "                                                    'Hospital Encounter|Outpatient [102]', \n",
    "                                                    'Lab Only','Therapy',\n",
    "                                                    'Hospital Encounter|Emergency [103]',\n",
    "                                                    'Surgery', 'Hospital Encounter|Inpatient [101]'\n",
    "                                                    ])]"
   ]
  },
  {
   "cell_type": "code",
   "execution_count": 89,
   "id": "b45ebdfd-6bc7-46e0-ae13-04a61dcdb0ac",
   "metadata": {},
   "outputs": [
    {
     "data": {
      "text/plain": [
       "Telephone                              5.786261\n",
       "History                                4.809738\n",
       "Office Visit                           3.716084\n",
       "Refill                                 2.511359\n",
       "Hospital Encounter|Outpatient [102]    1.716807\n",
       "Lab Only                               1.708280\n",
       "Therapy                                0.695744\n",
       "Hospital Encounter|Emergency [103]     0.305797\n",
       "Surgery                                0.207130\n",
       "Hospital Encounter|Inpatient [101]     0.166184\n",
       "Name: visit_type, dtype: float64"
      ]
     },
     "execution_count": 89,
     "metadata": {},
     "output_type": "execute_result"
    }
   ],
   "source": [
    "slow_types.visit_type.value_counts()/slow_tto"
   ]
  },
  {
   "cell_type": "code",
   "execution_count": 90,
   "id": "161ffdf7-9e44-4a78-b5e5-ad4cf3d29090",
   "metadata": {},
   "outputs": [
    {
     "data": {
      "text/plain": [
       "array([5.78626068, 4.80973845, 3.7160843 , 2.5113592 , 1.71680727,\n",
       "       1.70827961, 0.6957439 , 0.30579748, 0.2071304 , 0.16618356])"
      ]
     },
     "execution_count": 90,
     "metadata": {},
     "output_type": "execute_result"
    }
   ],
   "source": [
    "slow_types.visit_type.value_counts().values/slow_tto"
   ]
  },
  {
   "cell_type": "code",
   "execution_count": 91,
   "id": "722263a8-d605-414c-8632-8364cde40b2a",
   "metadata": {},
   "outputs": [],
   "source": [
    "d = {'Visit Type': ['Telephone', 'History', 'Office Visit','Refill', \n",
    "                    'Hospital - Outpatient', 'Lab Only',\n",
    "                    'Therapy','Hospital - Emergency',\n",
    "                    'Surgery', 'Hospital - Inpatient'],\n",
    "     'Visits/Patient Years': [5.78626068, 4.80973845, 3.7160843 , 2.5113592 , 1.71680727,\n",
    "       1.70827961, 0.6957439 , 0.30579748, 0.2071304 , 0.16618356]}                        "
   ]
  },
  {
   "cell_type": "code",
   "execution_count": 92,
   "id": "727be2e8-03d8-4680-ba0e-34b083dcbdd9",
   "metadata": {},
   "outputs": [],
   "source": [
    "slow_df= pd.DataFrame(data=d)               "
   ]
  },
  {
   "cell_type": "code",
   "execution_count": 94,
   "id": "c30e715d-978a-45b0-a04e-98ebf12358fc",
   "metadata": {},
   "outputs": [],
   "source": [
    "slow_df['Class']='Slow'"
   ]
  },
  {
   "cell_type": "code",
   "execution_count": 95,
   "id": "0698516d-c0a6-436c-afb4-159bf63e8019",
   "metadata": {},
   "outputs": [],
   "source": [
    "fast_types=fast_visits[fast_visits.visit_type.isin(['Telephone', 'History', \n",
    "                                                    'Office Visit','Refill', \n",
    "                                                    'Hospital Encounter|Outpatient [102]', \n",
    "                                                    'Lab Only','Therapy',\n",
    "                                                    'Hospital Encounter|Emergency [103]',\n",
    "                                                    'Surgery', 'Hospital Encounter|Inpatient [101]'\n",
    "                                                    ])]"
   ]
  },
  {
   "cell_type": "code",
   "execution_count": 96,
   "id": "a52089e5-bfd9-4e03-86e6-05bb5ed5ceed",
   "metadata": {},
   "outputs": [
    {
     "data": {
      "text/plain": [
       "Index(['Telephone', 'History', 'Hospital Encounter|Outpatient [102]',\n",
       "       'Office Visit', 'Refill', 'Lab Only', 'Therapy',\n",
       "       'Hospital Encounter|Emergency [103]', 'Surgery',\n",
       "       'Hospital Encounter|Inpatient [101]'],\n",
       "      dtype='object')"
      ]
     },
     "execution_count": 96,
     "metadata": {},
     "output_type": "execute_result"
    }
   ],
   "source": [
    "fast_types.visit_type.value_counts().index"
   ]
  },
  {
   "cell_type": "code",
   "execution_count": 97,
   "id": "20583d8b-f7b5-41fa-9937-0b58e852a3e0",
   "metadata": {},
   "outputs": [
    {
     "data": {
      "text/plain": [
       "array([9.50483424, 8.82934626, 6.62848485, 5.51890259, 2.61388985,\n",
       "       2.56001658, 1.11959716, 0.52008431, 0.50281723, 0.48106072])"
      ]
     },
     "execution_count": 97,
     "metadata": {},
     "output_type": "execute_result"
    }
   ],
   "source": [
    "fast_types.visit_type.value_counts().values/fast_tto"
   ]
  },
  {
   "cell_type": "code",
   "execution_count": 98,
   "id": "d22e69b9-3794-4250-ac5d-94f96d7ae392",
   "metadata": {},
   "outputs": [
    {
     "data": {
      "text/plain": [
       "Telephone                              9.504834\n",
       "History                                8.829346\n",
       "Hospital Encounter|Outpatient [102]    6.628485\n",
       "Office Visit                           5.518903\n",
       "Refill                                 2.613890\n",
       "Lab Only                               2.560017\n",
       "Therapy                                1.119597\n",
       "Hospital Encounter|Emergency [103]     0.520084\n",
       "Surgery                                0.502817\n",
       "Hospital Encounter|Inpatient [101]     0.481061\n",
       "Name: visit_type, dtype: float64"
      ]
     },
     "execution_count": 98,
     "metadata": {},
     "output_type": "execute_result"
    }
   ],
   "source": [
    "fast_types.visit_type.value_counts()/fast_tto"
   ]
  },
  {
   "cell_type": "code",
   "execution_count": 99,
   "id": "f14a78cf-3bc2-4a4d-a459-98b1f2dd0b91",
   "metadata": {},
   "outputs": [],
   "source": [
    "x = {'Visit Type': ['Telephone', 'History', 'Hospital - Outpatient',\n",
    "       'Office Visit', 'Refill', 'Lab Only', 'Therapy',\n",
    "       'Hospital - Emergency', 'Surgery',\n",
    "       'Hospital - Inpatient'],\n",
    "     'Visits/Patient Years': fast_types.visit_type.value_counts().values/fast_tto}                        "
   ]
  },
  {
   "cell_type": "code",
   "execution_count": 100,
   "id": "56da0f9e-e62e-4594-ad7a-48f48f9d4f06",
   "metadata": {},
   "outputs": [],
   "source": [
    "fast_df= pd.DataFrame(data=x)   \n",
    "fast_df['Class']='Fast'"
   ]
  },
  {
   "cell_type": "code",
   "execution_count": null,
   "id": "b3dde1a7-0787-4304-98df-3faa3c77a5a4",
   "metadata": {},
   "outputs": [],
   "source": [
    "frames = [slow_df, fast_df]"
   ]
  },
  {
   "cell_type": "code",
   "execution_count": 103,
   "id": "28c11ab3-3ade-4ee8-b99c-f39624801e72",
   "metadata": {},
   "outputs": [],
   "source": [
    "result = pd.concat(frames)"
   ]
  },
  {
   "cell_type": "code",
   "execution_count": 104,
   "id": "d13da30b-cb79-45d3-896f-692d0b5d91c9",
   "metadata": {},
   "outputs": [
    {
     "data": {
      "image/png": "[encoded data removed]",
      "text/plain": [
       "<Figure size 468x504 with 1 Axes>"
      ]
     },
     "metadata": {},
     "output_type": "display_data"
    }
   ],
   "source": [
    "sns.set(style=\"whitegrid\")\n",
    "ax=sns.barplot(data=result, y='Visit Type', x='Visits/Patient Years', hue='Class')\n",
    "ax.tick_params(labelsize=20)\n",
    "ax.set_xlabel(\"Visits/Patient Years\",fontsize=25)\n",
    "ax.set_ylabel(\"Visit Type\",fontsize=25)\n",
    "sns.set(rc={'figure.figsize':(6.5,7)})\n",
    "ax.grid(False)\n",
    "legend = plt.legend(loc=\"lower right\", edgecolor=\"black\", fontsize=20)\n",
    "legend.get_frame().set_facecolor('white')\n",
    "plt.title('Neuropathy',fontsize=25)\n",
    "plt.savefig(r'/Users/amomenzadeh/Desktop/DM_figures/neuro_visit_types.svg', format='svg',bbox_inches='tight')\n",
    "plt.show()"
   ]
  }
 ],
 "metadata": {
  "kernelspec": {
   "display_name": "Python 3 (ipykernel)",
   "language": "python",
   "name": "python3"
  },
  "language_info": {
   "codemirror_mode": {
    "name": "ipython",
    "version": 3
   },
   "file_extension": ".py",
   "mimetype": "text/x-python",
   "name": "python",
   "nbconvert_exporter": "python",
   "pygments_lexer": "ipython3",
   "version": "3.7.11"
  }
 },
 "nbformat": 4,
 "nbformat_minor": 5
}
