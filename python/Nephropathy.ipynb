{
 "cells": [
  {
   "cell_type": "markdown",
   "id": "dfef385c-6bf2-46cf-8cb5-0e02fee14270",
   "metadata": {
    "tags": []
   },
   "source": [
    "## Nephropathy\n",
    "----------------------------------"
   ]
  },
  {
   "cell_type": "markdown",
   "id": "775ead9f-e6d8-4449-b316-0a62f962ac7f",
   "metadata": {
    "jp-MarkdownHeadingCollapsed": true,
    "tags": []
   },
   "source": [
    "### 1. Import packages"
   ]
  },
  {
   "cell_type": "code",
   "execution_count": null,
   "id": "1629b881-b58d-420b-b596-fe4132123de1",
   "metadata": {},
   "outputs": [],
   "source": [
    "#!conda install -c https://conda.anaconda.org/plotly plotly -y\n",
    "#!pip install pydot\n",
    "#!pip install graphviz\n",
    "#!conda install -c anaconda py-xgboost -y\n",
    "#!pip install shap\n",
    "#!pip install dill\n",
    "#pip install matplotlib\n",
    "#pip install seaborn\n",
    "#pip install missingpy\n",
    "#!pip3 install pickle5\n",
    "#pip install statannot"
   ]
  },
  {
   "cell_type": "code",
   "execution_count": 1,
   "id": "12b50529",
   "metadata": {
    "ExecuteTime": {
     "end_time": "2021-09-24T21:11:10.209823Z",
     "start_time": "2021-09-24T21:10:59.833304Z"
    },
    "run_control": {
     "marked": false
    },
    "tags": []
   },
   "outputs": [
    {
     "name": "stdout",
     "output_type": "stream",
     "text": [
      "Requirement already satisfied: pickle5 in /opt/anaconda3/envs/Python37/lib/python3.7/site-packages (0.0.11)\n"
     ]
    }
   ],
   "source": [
    "import pandas as pd\n",
    "import sqlite3 as sql\n",
    "import numpy as np\n",
    "from IPython.display import HTML\n",
    "from datetime import datetime\n",
    "\n",
    "%matplotlib inline\n",
    "import matplotlib\n",
    "import matplotlib.pyplot as plt\n",
    "import seaborn as sns\n",
    "sns.set()  # set plot style\n",
    "from collections import Counter\n",
    "import scipy as sp\n",
    "import sklearn as sk\n",
    "import sys\n",
    "import plotly.express as px\n",
    "import pydot\n",
    "import pickle\n",
    "import time\n",
    "import xgboost as xgb\n",
    "import shap\n",
    "import dill\n",
    "import gc\n",
    "import subprocess\n",
    "!pip3 install pickle5\n",
    "import pickle5 as pickle\n",
    "import sklearn.metrics as metrics\n",
    "from scipy.stats import ranksums, ttest_ind\n",
    "from statsmodels.stats.weightstats import ztest\n",
    "import pylab \n",
    "import scipy.stats as stats\n",
    "from scipy.stats import chi2_contingency\n",
    "from matplotlib import rc\n",
    "from cycler import cycler\n",
    "from sklearn.calibration import calibration_curve\n",
    "from sklearn.metrics import brier_score_loss\n",
    "from statannot import add_stat_annotation"
   ]
  },
  {
   "cell_type": "code",
   "execution_count": 2,
   "id": "b9c1ee78",
   "metadata": {
    "ExecuteTime": {
     "end_time": "2021-09-24T21:11:10.240882Z",
     "start_time": "2021-09-24T21:11:10.225260Z"
    },
    "tags": []
   },
   "outputs": [],
   "source": [
    "import os\n",
    "from pandas.plotting import scatter_matrix\n",
    "from matplotlib import pyplot\n",
    "\n",
    "from collections import defaultdict\n",
    "\n",
    "from sklearn.linear_model import Lasso\n",
    "from sklearn.linear_model import ElasticNet\n",
    "from sklearn.linear_model import LinearRegression\n",
    "from sklearn.linear_model import RidgeCV\n",
    "\n",
    "from sklearn.model_selection import train_test_split\n",
    "from sklearn.model_selection import cross_val_score\n",
    "from sklearn.model_selection import StratifiedKFold\n",
    "\n",
    "from sklearn.metrics import classification_report\n",
    "from sklearn.metrics import confusion_matrix\n",
    "from sklearn.metrics import accuracy_score\n",
    "from sklearn.metrics import recall_score\n",
    "from sklearn.metrics import precision_score\n",
    "from sklearn.metrics import f1_score\n",
    "from sklearn.metrics import explained_variance_score\n",
    "from sklearn.metrics import mean_absolute_error\n",
    "from sklearn.metrics import mean_squared_error\n",
    "from sklearn.metrics import r2_score\n",
    "from sklearn.metrics import plot_confusion_matrix\n",
    "from sklearn.tree import export_graphviz\n",
    "from sklearn.metrics import roc_curve\n",
    "from sklearn.metrics import roc_auc_score\n",
    "\n",
    "from sklearn.neighbors import KNeighborsRegressor\n",
    "from sklearn.ensemble import RandomForestRegressor\n",
    "from sklearn.ensemble import ExtraTreesRegressor, AdaBoostRegressor, GradientBoostingRegressor\n",
    "from sklearn.dummy import DummyRegressor\n",
    "from sklearn.linear_model import Lasso, Ridge, ElasticNet\n",
    "from sklearn.svm import SVR\n",
    "from sklearn.multioutput import MultiOutputRegressor\n",
    "\n",
    "from sklearn.model_selection import KFold\n",
    "from sklearn.model_selection import ParameterGrid\n",
    "from sklearn.model_selection import GridSearchCV"
   ]
  },
  {
   "cell_type": "code",
   "execution_count": 3,
   "id": "3e4acfe8",
   "metadata": {
    "ExecuteTime": {
     "end_time": "2021-09-24T21:11:10.271596Z",
     "start_time": "2021-09-24T21:11:10.257604Z"
    },
    "tags": []
   },
   "outputs": [],
   "source": [
    "from sklearn.linear_model import LogisticRegression\n",
    "from sklearn.dummy import DummyClassifier\n",
    "from sklearn.ensemble import RandomForestClassifier\n",
    "from sklearn.ensemble import ExtraTreesClassifier\n",
    "from sklearn.ensemble import AdaBoostClassifier\n",
    "from sklearn.ensemble import GradientBoostingClassifier\n",
    "from sklearn.svm import SVC\n",
    "from sklearn.neighbors import KNeighborsClassifier\n",
    "from sklearn.discriminant_analysis import LinearDiscriminantAnalysis\n",
    "from sklearn.naive_bayes import GaussianNB\n",
    "from sklearn.tree import DecisionTreeClassifier\n",
    "import time"
   ]
  },
  {
   "cell_type": "markdown",
   "id": "4b6552b9-1943-45f9-92d5-f66c2774ebc8",
   "metadata": {
    "jp-MarkdownHeadingCollapsed": true,
    "tags": []
   },
   "source": [
    "### 2. Removing pts w/ comp diff=NaN from Output"
   ]
  },
  {
   "cell_type": "code",
   "execution_count": 8,
   "id": "3543224a-dd07-4fe0-98df-63152d59b024",
   "metadata": {},
   "outputs": [],
   "source": [
    "with open(r'/Users/amomenzadeh/Desktop/DM_pickles/comps_over1mo_df.pkl', 'rb') as handle:\n",
    "    comps_over1mo_df = pickle.load(handle) "
   ]
  },
  {
   "cell_type": "code",
   "execution_count": 9,
   "id": "ec6831d1-64c6-4782-99f0-1d866bb028b6",
   "metadata": {},
   "outputs": [
    {
     "name": "stdout",
     "output_type": "stream",
     "text": [
      "Total Length:  (30854,)\n",
      "Number to be dropped:  (18979,)\n",
      "Output dataset size: (11875,)\n"
     ]
    }
   ],
   "source": [
    "#1mo\n",
    "renal_time = comps_over1mo_df.KIDNEY_diff.copy()\n",
    "renal_time_drop=renal_time.replace(np.nan, 'Drop', inplace=False)\n",
    "renal_index = renal_time_drop [renal_time_drop == 'Drop'].index\n",
    "print(\"Total Length: \", renal_time_drop.shape)\n",
    "print(\"Number to be dropped: \", renal_time_drop[renal_time_drop == 'Drop'].shape)\n",
    "# dropping the NaNs from our OUTput data\n",
    "renal_time_drop.drop(renal_index, inplace=True)\n",
    "renal_time_final = renal_time_drop.astype('float64')\n",
    "print('Output dataset size:', renal_time_final.shape)"
   ]
  },
  {
   "cell_type": "markdown",
   "id": "bc68b5e8-b93a-4ca0-a596-87de942fb5e6",
   "metadata": {
    "jp-MarkdownHeadingCollapsed": true,
    "tags": []
   },
   "source": [
    "### 3. Two way drop from input and output"
   ]
  },
  {
   "cell_type": "code",
   "execution_count": 10,
   "id": "44d6c78e-e9e4-4b6a-ab78-626aac47b900",
   "metadata": {},
   "outputs": [],
   "source": [
    "with open(r'/Users/amomenzadeh/Desktop/DM_pickles/phen_demos_vit_soc_lab.pkl', 'rb') as handle:\n",
    "    phen_demos_vit_soc_lab = pickle.load(handle)"
   ]
  },
  {
   "cell_type": "code",
   "execution_count": 11,
   "id": "8c8afd19-e260-4821-9b2f-608ba371ab95",
   "metadata": {
    "tags": []
   },
   "outputs": [],
   "source": [
    "def drop_opth_list(output_df,input_df):\n",
    "    extra_list=list(set(input_df.index.tolist())-set(output_df.index.tolist()))\n",
    "    input_df_new=input_df.drop(extra_list)\n",
    "    extra_list_rev=list(set(output_df.index.tolist())-set(input_df_new.index.tolist()))\n",
    "    output_df_new=output_df.drop(extra_list_rev)\n",
    "    print('length of input_df:', len(input_df))\n",
    "    print('length of opth_df:', len(output_df))\n",
    "    print('length of # to drop from  input:',len(extra_list))\n",
    "    print('length of # to drop from  opth:',len(extra_list_rev))\n",
    "    print('length of input_df after dropping',len(input_df_new))\n",
    "    print('length of opth_df after dropping',len(output_df_new))\n",
    "    print('Indexes equal?', np.all(input_df_new.index == output_df_new.index))\n",
    "    return output_df_new, input_df_new"
   ]
  },
  {
   "cell_type": "code",
   "execution_count": 12,
   "id": "eb00fc75-c00b-4279-8d64-0f615a8e9d63",
   "metadata": {},
   "outputs": [
    {
     "data": {
      "text/plain": [
       "(15987, 1824)"
      ]
     },
     "execution_count": 12,
     "metadata": {},
     "output_type": "execute_result"
    }
   ],
   "source": [
    "phen_demos_vit_soc_lab.shape"
   ]
  },
  {
   "cell_type": "code",
   "execution_count": 13,
   "id": "7a276257-d815-4d62-a140-4aaeac24f119",
   "metadata": {},
   "outputs": [
    {
     "data": {
      "text/plain": [
       "(11875,)"
      ]
     },
     "execution_count": 13,
     "metadata": {},
     "output_type": "execute_result"
    }
   ],
   "source": [
    "renal_time_final.shape"
   ]
  },
  {
   "cell_type": "code",
   "execution_count": 14,
   "id": "82c2754b-d9e0-4412-8f4d-d18bd366ccbe",
   "metadata": {
    "tags": []
   },
   "outputs": [
    {
     "name": "stdout",
     "output_type": "stream",
     "text": [
      "length of input_df: 15987\n",
      "length of opth_df: 11875\n",
      "length of # to drop from  input: 10379\n",
      "length of # to drop from  opth: 6267\n",
      "length of input_df after dropping 5608\n",
      "length of opth_df after dropping 5608\n",
      "Indexes equal? True\n"
     ]
    }
   ],
   "source": [
    "renal_final, all_inputs=drop_opth_list(renal_time_final, phen_demos_vit_soc_lab)"
   ]
  },
  {
   "cell_type": "markdown",
   "id": "a3a3db94-cc30-4112-89d3-29f9a9dddc1d",
   "metadata": {
    "jp-MarkdownHeadingCollapsed": true,
    "tags": []
   },
   "source": [
    "### 4. Make output diff times categorical using median as cut-off"
   ]
  },
  {
   "cell_type": "code",
   "execution_count": 15,
   "id": "59008050-e7f7-4468-8d3b-afbf6984b6bf",
   "metadata": {},
   "outputs": [
    {
     "data": {
      "text/plain": [
       "3.0664558478271284"
      ]
     },
     "execution_count": 15,
     "metadata": {},
     "output_type": "execute_result"
    }
   ],
   "source": [
    "renal_final.median()"
   ]
  },
  {
   "cell_type": "code",
   "execution_count": 16,
   "id": "57f31883-20ec-432a-b923-98684deefe3d",
   "metadata": {},
   "outputs": [
    {
     "data": {
      "text/plain": [
       "15.480126217513023"
      ]
     },
     "execution_count": 16,
     "metadata": {},
     "output_type": "execute_result"
    }
   ],
   "source": [
    "renal_final.max()"
   ]
  },
  {
   "cell_type": "code",
   "execution_count": 17,
   "id": "6483754f-1bfb-4d48-bfaa-f812b4fa1655",
   "metadata": {},
   "outputs": [
    {
     "data": {
      "text/plain": [
       "<Figure size 864x576 with 0 Axes>"
      ]
     },
     "metadata": {},
     "output_type": "display_data"
    },
    {
     "data": {
      "image/png": "[encoded data removed]",
      "text/plain": [
       "<Figure size 864x576 with 1 Axes>"
      ]
     },
     "metadata": {},
     "output_type": "display_data"
    }
   ],
   "source": [
    "plt.figure(figsize=(12,8))\n",
    "plt.rcParams['axes.facecolor']='white'\n",
    "plt.rcParams[\"axes.edgecolor\"] = \"black\"\n",
    "plt.figure(figsize=(12,8))\n",
    "h = plt.hist(renal_final, edgecolor='#007066', \n",
    "             bins=60, alpha=0.4,\n",
    "             color='#007066')\n",
    "h = plt.axvline(renal_final.median(), color='maroon', linestyle='solid', linewidth=1.25)\n",
    "min_ylim, max_ylim = plt.ylim()\n",
    "plt.text(renal_final.median()*1.08, max_ylim*0.6, \n",
    "         'Median: {:.2f} years'.format(renal_final.median()),\n",
    "         fontsize=24, fontweight=600, color='maroon')\n",
    "plt.xlim(left=0.0)\n",
    "plt.xlabel('Time to Complication (years)', fontsize=26, fontweight=600)\n",
    "plt.ylabel('Counts', fontsize=30, fontweight=600)\n",
    "plt.xticks(fontsize=30)\n",
    "plt.yticks(fontsize=30)\n",
    "plt.title(\"Nephropathy\", fontsize=32, fontweight=600)\n",
    "plt.savefig(r'/Users/amomenzadeh/Desktop/DM_figures/renal_hist.svg', format='svg')\n",
    "plt.show()"
   ]
  },
  {
   "cell_type": "code",
   "execution_count": 18,
   "id": "48eef47c-ef48-4618-9252-73674e27c7bf",
   "metadata": {},
   "outputs": [],
   "source": [
    "#assign 0 if opth complication occurred > renal diff median \n",
    "#assign 1 if opth complication occurred < renal diff median \n",
    "renal_final_clf = renal_final.copy()\n",
    "renal_final_clf = pd.Series(np.where((renal_final_clf > renal_final.median()), 0, renal_final_clf), \n",
    "                            index=renal_final_clf.index)\n",
    "renal_final_clf = pd.Series(np.where((renal_final_clf > 0), 1, renal_final_clf), \n",
    "                            index=renal_final_clf.index)"
   ]
  },
  {
   "cell_type": "code",
   "execution_count": 19,
   "id": "18480797-661d-48c7-8eec-fc3c12a4b856",
   "metadata": {},
   "outputs": [
    {
     "name": "stdout",
     "output_type": "stream",
     "text": [
      "49.98% negative\n",
      "50.02% positive\n"
     ]
    }
   ],
   "source": [
    "num_negs = renal_final_clf.value_counts()[0]\n",
    "num_pos = renal_final_clf.value_counts()[1]\n",
    "neg_prop = num_negs/(num_negs + num_pos)\n",
    "print(str(round(neg_prop*100,2)), '% negative', sep='')\n",
    "print(str(100-round(neg_prop*100,2)), '% positive', sep='')"
   ]
  },
  {
   "cell_type": "code",
   "execution_count": 20,
   "id": "68495c27-368f-48ca-916d-6e001991e26a",
   "metadata": {},
   "outputs": [
    {
     "data": {
      "text/plain": [
       "(5608,)"
      ]
     },
     "execution_count": 20,
     "metadata": {},
     "output_type": "execute_result"
    }
   ],
   "source": [
    "renal_final_clf.shape"
   ]
  },
  {
   "cell_type": "code",
   "execution_count": 16,
   "id": "b962848e-3626-4fb9-a35e-2e81ac74ab4f",
   "metadata": {},
   "outputs": [],
   "source": [
    "with open(r'./pickles/renal_final_clf.pkl', 'wb') as handle:\n",
    "    pickle.dump(renal_final_clf, handle, protocol=pickle.HIGHEST_PROTOCOL)"
   ]
  },
  {
   "cell_type": "markdown",
   "id": "4324ec60-804a-49a7-abad-c51847343b10",
   "metadata": {
    "jp-MarkdownHeadingCollapsed": true,
    "tags": []
   },
   "source": [
    "### 5. Final Inputs"
   ]
  },
  {
   "cell_type": "code",
   "execution_count": 17,
   "id": "f7c497e3-cfb9-4a79-93b5-98b5186deba0",
   "metadata": {},
   "outputs": [
    {
     "data": {
      "text/plain": [
       "Index(['ASCVD', 'Abdominal aortic aneurysm', 'Abdominal hernia',\n",
       "       'Abdominal pain',\n",
       "       'Abnormal Papanicolaou smear of cervix and cervical HPV',\n",
       "       'Abnormal arterial blood gases', 'Abnormal chest sounds',\n",
       "       'Abnormal coagulation profile',\n",
       "       'Abnormal electrocardiogram [ECG] [EKG]',\n",
       "       'Abnormal findings examination of lungs',\n",
       "       ...\n",
       "       'Vitamin B-complex deficiencies', 'Vitamin D deficiency',\n",
       "       'Vitamin deficiency', 'Vitiligo', 'Voice disturbance',\n",
       "       'Von willebrand's disease', 'Wegener's granulomatosis', 'Wheezing',\n",
       "       'severe protein-calorie malnutrition', 'stress incontinence, female'],\n",
       "      dtype='object', length=1721)"
      ]
     },
     "execution_count": 17,
     "metadata": {},
     "output_type": "execute_result"
    }
   ],
   "source": [
    "renal_phen=all_inputs.iloc[:,:-103]\n",
    "renal_phen.columns"
   ]
  },
  {
   "cell_type": "code",
   "execution_count": 18,
   "id": "29cf49c3-5be6-4bd0-86fb-179e3a7fa34c",
   "metadata": {
    "tags": []
   },
   "outputs": [],
   "source": [
    "renal_all=all_inputs.drop(['duration_diab','vital_status_Alive','vital_status_Deceased'],axis=1)"
   ]
  },
  {
   "cell_type": "code",
   "execution_count": 19,
   "id": "c9c3485c-77d2-483f-b904-8041ba4674dc",
   "metadata": {
    "tags": []
   },
   "outputs": [
    {
     "data": {
      "text/plain": [
       "Index(['age_at_diab', 'sex_Female', 'sex_Male', 'marital_status_Divorced',\n",
       "       'marital_status_Legally Separated', 'marital_status_Married',\n",
       "       'marital_status_Patient Refused', 'marital_status_Significant Other',\n",
       "       'marital_status_Single', 'marital_status_Unknown',\n",
       "       'marital_status_Widowed', 'employment_status_Disabled',\n",
       "       'employment_status_Full Time', 'employment_status_Not Employed',\n",
       "       'employment_status_On Active Military Duty',\n",
       "       'employment_status_Part Time', 'employment_status_Patient Refused',\n",
       "       'employment_status_Retired', 'employment_status_Self Employed',\n",
       "       'employment_status_Student - Full Time',\n",
       "       'employment_status_Student - Part Time', 'employment_status_Unknown',\n",
       "       'race_American Indian or Alaska Native', 'race_Asian',\n",
       "       'race_Black or African American', 'race_Multiracial',\n",
       "       'race_Native Hawaiian or Other Pacific Islander', 'race_Other',\n",
       "       'race_Unknown', 'race_White or Caucasian'],\n",
       "      dtype='object')"
      ]
     },
     "execution_count": 19,
     "metadata": {},
     "output_type": "execute_result"
    }
   ],
   "source": [
    "renal_demos_norm=renal_all.iloc[:,-100:-70]\n",
    "renal_demos_norm.columns"
   ]
  },
  {
   "cell_type": "code",
   "execution_count": 21,
   "id": "73d8aab5-609d-4ca4-aa2c-8c55b9e7d941",
   "metadata": {
    "tags": []
   },
   "outputs": [
    {
     "data": {
      "text/plain": [
       "Index(['bmi', 'bp_diastolic', 'bp_systolic', 'pulse', 'temperature',\n",
       "       'respiration'],\n",
       "      dtype='object')"
      ]
     },
     "execution_count": 21,
     "metadata": {},
     "output_type": "execute_result"
    }
   ],
   "source": [
    "renal_vitals_norm=renal_all.iloc[:,-70:-64]\n",
    "renal_vitals_norm.columns"
   ]
  },
  {
   "cell_type": "code",
   "execution_count": 22,
   "id": "28afa543-e4c6-4e8a-8b5e-2ff9fb8b2dda",
   "metadata": {},
   "outputs": [
    {
     "data": {
      "text/plain": [
       "Index(['alcohol_use_name_Never', 'alcohol_use_name_No',\n",
       "       'alcohol_use_name_Not Asked', 'alcohol_use_name_Not Currently',\n",
       "       'alcohol_use_name_Yes', 'ill_drug_user_name_Never',\n",
       "       'ill_drug_user_name_No', 'ill_drug_user_name_Not Asked',\n",
       "       'ill_drug_user_name_Not Currently', 'ill_drug_user_name_Yes',\n",
       "       'tobacco_user_name_Never', 'tobacco_user_name_Not Asked',\n",
       "       'tobacco_user_name_Passive', 'tobacco_user_name_Quit',\n",
       "       'tobacco_user_name_Yes', 'cigarettes_yn_N', 'cigarettes_yn_Y',\n",
       "       'pipes_yn_N', 'pipes_yn_Y', 'cigars_yn_N', 'cigars_yn_Y', 'snuff_yn_N',\n",
       "       'snuff_yn_Y', 'chew_yn_N', 'chew_yn_Y',\n",
       "       'smokeless_tob_use_name_Current User',\n",
       "       'smokeless_tob_use_name_Former User',\n",
       "       'smokeless_tob_use_name_Never Used', 'smokeless_tob_use_name_Unknown'],\n",
       "      dtype='object')"
      ]
     },
     "execution_count": 22,
     "metadata": {},
     "output_type": "execute_result"
    }
   ],
   "source": [
    "renal_social_norm=renal_all.iloc[:,-64:-35]\n",
    "renal_social_norm.columns"
   ]
  },
  {
   "cell_type": "code",
   "execution_count": 23,
   "id": "5ea4662b-49bb-4529-874c-05a77cd0ce2b",
   "metadata": {},
   "outputs": [
    {
     "data": {
      "text/plain": [
       "Index(['PLATELET COUNT', 'AST/SGOT', 'CALCIUM', 'GLUCOSE', 'BICARBONATE',\n",
       "       'CHLORIDE', 'POTASSIUM', 'HEMATOCRIT', 'WHITE BLOOD CELL COUNT',\n",
       "       'CREATININE', 'TOTAL PROTEIN', 'ALBUMIN', 'BLOOD UREA NITROGEN',\n",
       "       'ANION GAP', 'EGFR', 'EGFR FOR AFRICAN AMERICANS', 'SODIUM',\n",
       "       'BILIRUBIN TOTAL', 'ALKALINE PHOSPHATASE', 'ALT/SGPT', 'HEMOGLOBIN',\n",
       "       'RED BLOOD CELL COUNT', 'MEAN CORPUSCULAR HGB',\n",
       "       'MEAN CORPUSCULAR VOLUME', 'MEAN PLATELET VOLUME',\n",
       "       'RED CELL DISTRIBUTION WIDTH', 'MEAN CORPUSCULAR HGB CONCENTRN',\n",
       "       'MONOCYTE PERCENT', 'NEUTROPHIL PERCENT', 'EOSINOPHIL PERCENT',\n",
       "       'LYMPH PERCENT', 'NEUTROPHIL ABSOLUTE', 'LYMPHOCYTE ABSOLUTE',\n",
       "       'MONOCYTE ABSOLUTE', 'EOSINOPHIL ABSOLUTE'],\n",
       "      dtype='object')"
      ]
     },
     "execution_count": 23,
     "metadata": {},
     "output_type": "execute_result"
    }
   ],
   "source": [
    "renal_labs_norm=renal_all.iloc[:,-35:]\n",
    "renal_labs_norm.columns"
   ]
  },
  {
   "cell_type": "code",
   "execution_count": null,
   "id": "89f4cd2e-031c-4be1-a6f8-0bd417ec4649",
   "metadata": {},
   "outputs": [],
   "source": [
    "with open(r'./pickles/renal_all.pkl', 'wb') as handle:\n",
    "    pickle.dump(renal_all, handle, protocol=pickle.HIGHEST_PROTOCOL)\n",
    "with open(r'./pickles/renal_phen.pkl', 'wb') as handle:\n",
    "    pickle.dump(renal_phen, handle, protocol=pickle.HIGHEST_PROTOCOL)\n",
    "with open(r'./pickles/renal_demos_norm.pkl', 'wb') as handle:\n",
    "    pickle.dump(renal_demos_norm, handle, protocol=pickle.HIGHEST_PROTOCOL)\n",
    "with open(r'./pickles/renal_vitals_norm.pkl', 'wb') as handle:\n",
    "    pickle.dump(renal_vitals_norm, handle, protocol=pickle.HIGHEST_PROTOCOL)\n",
    "with open(r'./pickles/renal_social_norm.pkl', 'wb') as handle:\n",
    "    pickle.dump(renal_social_norm, handle, protocol=pickle.HIGHEST_PROTOCOL)\n",
    "with open(r'./pickles/renal_labs_norm.pkl', 'wb') as handle:\n",
    "    pickle.dump(renal_labs_norm, handle, protocol=pickle.HIGHEST_PROTOCOL)"
   ]
  },
  {
   "cell_type": "markdown",
   "id": "4886b4c1-7551-4f28-b665-c859d915cd0f",
   "metadata": {
    "jp-MarkdownHeadingCollapsed": true,
    "tags": []
   },
   "source": [
    "### 6. Make Table 1"
   ]
  },
  {
   "cell_type": "code",
   "execution_count": 8,
   "id": "e2771a13-19f6-49eb-8463-7f52886f46cb",
   "metadata": {},
   "outputs": [],
   "source": [
    "with open(r'./pickles/phen_prediab_bin.pkl', 'rb') as handle:\n",
    "    phen_prediab_bin = pickle.load(handle)\n",
    "with open(r'./pickles/social_df.pkl', 'rb') as handle:\n",
    "    social_df = pickle.load(handle)\n",
    "with open(r'./pickles/vitals_df.pkl', 'rb') as handle:\n",
    "    vitals_df = pickle.load(handle)\n",
    "with open(r'./pickles/imp_labs.pkl', 'rb') as handle:\n",
    "    imp_labs = pickle.load(handle)\n",
    "with open(r'./pickles/renal_final_clf.pkl', 'rb') as handle:\n",
    "    renal_final_clf = pickle.load(handle)"
   ]
  },
  {
   "cell_type": "code",
   "execution_count": 13,
   "id": "70ad349d-3bdc-4e9b-b625-bb0e6c40497e",
   "metadata": {},
   "outputs": [],
   "source": [
    "demos_all = pd.read_csv(r'/Users/amomenzadeh/Desktop/DM_csv/demos_all.csv',low_memory=False)"
   ]
  },
  {
   "cell_type": "code",
   "execution_count": 14,
   "id": "7578a8a2-2dcf-409e-bb10-a5c64ddc839c",
   "metadata": {},
   "outputs": [],
   "source": [
    "demos_R = pd.read_csv(r'/Users/amomenzadeh/Desktop/DM_csv/demos_from_R.csv',low_memory=False)"
   ]
  },
  {
   "cell_type": "code",
   "execution_count": 15,
   "id": "52437d57-08df-41e0-812e-2e6d85ae9b8a",
   "metadata": {},
   "outputs": [],
   "source": [
    "demos_R['patient_num'] = demos_all['patient_num'].values"
   ]
  },
  {
   "cell_type": "code",
   "execution_count": 16,
   "id": "60641564-a823-4e82-af67-f5c59948b312",
   "metadata": {},
   "outputs": [],
   "source": [
    "demos_R=demos_R.set_index('patient_num')"
   ]
  },
  {
   "cell_type": "code",
   "execution_count": 17,
   "id": "afbbb454-2f6c-488e-bbc0-82e298f4eacc",
   "metadata": {},
   "outputs": [
    {
     "data": {
      "text/plain": [
       "(5608, 1)"
      ]
     },
     "execution_count": 17,
     "metadata": {},
     "output_type": "execute_result"
    }
   ],
   "source": [
    "renal_df=renal_final_clf.to_frame(name='class')\n",
    "renal_df.shape"
   ]
  },
  {
   "cell_type": "code",
   "execution_count": 18,
   "id": "df712aff-abd5-469f-8a71-3cb0eff9f2ac",
   "metadata": {},
   "outputs": [
    {
     "data": {
      "text/plain": [
       "(5608, 8)"
      ]
     },
     "execution_count": 18,
     "metadata": {},
     "output_type": "execute_result"
    }
   ],
   "source": [
    "all_ren=demos_R.merge(renal_df,left_index=True, right_index=True)\n",
    "all_ren.shape"
   ]
  },
  {
   "cell_type": "code",
   "execution_count": 19,
   "id": "8d0ae14e-a964-4b1a-97f1-9d2da4433b82",
   "metadata": {},
   "outputs": [
    {
     "data": {
      "text/plain": [
       "(5608, 43)"
      ]
     },
     "execution_count": 19,
     "metadata": {},
     "output_type": "execute_result"
    }
   ],
   "source": [
    "all_ren=all_ren.merge(imp_labs,left_index=True, right_index=True)\n",
    "all_ren.shape"
   ]
  },
  {
   "cell_type": "code",
   "execution_count": 20,
   "id": "2aa5983e-c384-4fed-9d10-451bea01a6da",
   "metadata": {},
   "outputs": [
    {
     "data": {
      "text/plain": [
       "(5608, 49)"
      ]
     },
     "execution_count": 20,
     "metadata": {},
     "output_type": "execute_result"
    }
   ],
   "source": [
    "all_ren=all_ren.merge(vitals_df,left_index=True, right_index=True)\n",
    "all_ren.shape"
   ]
  },
  {
   "cell_type": "code",
   "execution_count": 21,
   "id": "02398b47-5d62-4703-8a11-63f47c690721",
   "metadata": {},
   "outputs": [
    {
     "data": {
      "text/plain": [
       "(5608, 58)"
      ]
     },
     "execution_count": 21,
     "metadata": {},
     "output_type": "execute_result"
    }
   ],
   "source": [
    "all_ren=all_ren.merge(social_df,left_index=True, right_index=True)\n",
    "all_ren.shape"
   ]
  },
  {
   "cell_type": "code",
   "execution_count": 22,
   "id": "4404ae41-ce96-47b7-972f-9a3ddd59fd0e",
   "metadata": {},
   "outputs": [
    {
     "data": {
      "text/plain": [
       "(5608, 1779)"
      ]
     },
     "execution_count": 22,
     "metadata": {},
     "output_type": "execute_result"
    }
   ],
   "source": [
    "all_ren=all_ren.merge(phen_prediab_bin,left_index=True, right_index=True)\n",
    "all_ren.shape"
   ]
  },
  {
   "cell_type": "code",
   "execution_count": 23,
   "id": "92301d8e-b32e-4893-890d-f32266e55a43",
   "metadata": {},
   "outputs": [
    {
     "data": {
      "text/plain": [
       "(5608, 1779)"
      ]
     },
     "execution_count": 23,
     "metadata": {},
     "output_type": "execute_result"
    }
   ],
   "source": [
    "all_ren.shape"
   ]
  },
  {
   "cell_type": "code",
   "execution_count": 25,
   "id": "90a1e761-d023-4da9-8c1b-f1bb8fa836c2",
   "metadata": {},
   "outputs": [],
   "source": [
    "i_o_fast=all_ren.loc[all_ren['class'] == 1]"
   ]
  },
  {
   "cell_type": "code",
   "execution_count": 26,
   "id": "90853513-0842-433e-87f5-e2144c68b23a",
   "metadata": {},
   "outputs": [],
   "source": [
    "i_o_slow=all_ren.loc[all_ren['class'] == 0]"
   ]
  },
  {
   "cell_type": "code",
   "execution_count": 27,
   "id": "d8c4715a-dcdb-4548-a53e-cbeedf4d645b",
   "metadata": {
    "collapsed": true,
    "jupyter": {
     "outputs_hidden": true
    },
    "tags": []
   },
   "outputs": [
    {
     "name": "stdout",
     "output_type": "stream",
     "text": [
      "\n",
      "--Median Slow---\n",
      "\n",
      "age_at_diab       58.651444\n",
      "duration_diab     10.268793\n",
      "GLUCOSE          163.000000\n",
      "CREATININE         0.890000\n",
      "bmi               33.780800\n",
      "EGFR              60.000000\n",
      "dtype: float64\n",
      "\n",
      "---Median Fast---\n",
      "\n",
      "age_at_diab       61.983477\n",
      "duration_diab      5.666371\n",
      "GLUCOSE          155.000000\n",
      "CREATININE         0.920000\n",
      "bmi               32.870000\n",
      "EGFR              60.000000\n",
      "dtype: float64\n"
     ]
    }
   ],
   "source": [
    "print(\"\\n--Median Slow---\\n\")\n",
    "print(i_o_slow[['age_at_diab','duration_diab','GLUCOSE','CREATININE','bmi','EGFR']].median())\n",
    "print(\"\\n---Median Fast---\\n\")\n",
    "print(i_o_fast[['age_at_diab','duration_diab','GLUCOSE','CREATININE','bmi','EGFR']].median())"
   ]
  },
  {
   "cell_type": "code",
   "execution_count": 28,
   "id": "1563511c-4ad7-4dbe-8db7-9a9e47d2d58a",
   "metadata": {
    "collapsed": true,
    "jupyter": {
     "outputs_hidden": true
    },
    "tags": []
   },
   "outputs": [
    {
     "name": "stdout",
     "output_type": "stream",
     "text": [
      "\n",
      "--IQR Slow---\n",
      "\n",
      "       age_at_diab  duration_diab      GLUCOSE   CREATININE          bmi  \\\n",
      "count  2803.000000    2803.000000  2803.000000  2803.000000  2803.000000   \n",
      "mean     57.777390      10.080484   179.562966     0.948972    34.079326   \n",
      "std      15.035098       2.975822    81.319398     0.247649     6.550840   \n",
      "min      14.196048       3.099311    29.000000     0.200000    15.850000   \n",
      "25%      48.277514       7.996878   118.000000     0.800000    29.937600   \n",
      "50%      58.651444      10.268793   163.000000     0.890000    33.780800   \n",
      "75%      68.343635      12.346865   204.970000     1.070000    37.470800   \n",
      "max      97.513296      16.960238   508.000000     1.990000    60.840000   \n",
      "\n",
      "              EGFR  \n",
      "count  2803.000000  \n",
      "mean     61.813218  \n",
      "std      11.124996  \n",
      "min      17.200000  \n",
      "25%      60.000000  \n",
      "50%      60.000000  \n",
      "75%      65.860000  \n",
      "max     100.000000  \n",
      "\n",
      "--IQR Fast---\n",
      "\n",
      "       age_at_diab  duration_diab      GLUCOSE   CREATININE          bmi  \\\n",
      "count  2805.000000    2805.000000  2805.000000  2805.000000  2805.000000   \n",
      "mean     60.716717       6.103384   173.078052     0.998928    33.497318   \n",
      "std      15.399078       3.771009    77.882348     0.287068     7.043253   \n",
      "min      16.150913       0.090351    28.000000     0.310000    14.060000   \n",
      "25%      51.442535       2.899444   116.000000     0.820000    28.880000   \n",
      "50%      61.983477       5.666371   155.000000     0.920000    32.870000   \n",
      "75%      71.289623       8.804013   204.970000     1.130000    37.550000   \n",
      "max      99.741952      17.086182   508.000000     2.000000    59.510000   \n",
      "\n",
      "              EGFR  \n",
      "count  2805.000000  \n",
      "mean     58.292902  \n",
      "std      10.399895  \n",
      "min      17.000000  \n",
      "25%      57.000000  \n",
      "50%      60.000000  \n",
      "75%      60.000000  \n",
      "max     100.000000  \n"
     ]
    }
   ],
   "source": [
    "print(\"\\n--IQR Slow---\\n\")\n",
    "print(i_o_slow[['age_at_diab','duration_diab','GLUCOSE','CREATININE','bmi','EGFR']].describe())\n",
    "print(\"\\n--IQR Fast---\\n\")\n",
    "print(i_o_fast[['age_at_diab','duration_diab','GLUCOSE','CREATININE','bmi','EGFR']].describe())"
   ]
  },
  {
   "cell_type": "code",
   "execution_count": 29,
   "id": "0368fad9-863a-4324-a77b-d51bd985bc56",
   "metadata": {},
   "outputs": [],
   "source": [
    "cat_variables=['sex', 'race', 'Essential hypertension','Hyperlipidemia','cigarettes_yn','smokeless_tob_use_name']"
   ]
  },
  {
   "cell_type": "code",
   "execution_count": 30,
   "id": "2830e4dc-0ac6-4fa9-ae14-ba522ae133e6",
   "metadata": {
    "collapsed": true,
    "jupyter": {
     "outputs_hidden": true
    },
    "tags": []
   },
   "outputs": [
    {
     "name": "stdout",
     "output_type": "stream",
     "text": [
      "sex\n",
      "Slow counts: Female    1446\n",
      "Male      1357\n",
      "Name: sex, dtype: int64\n",
      "Slow percents: Female    51.587585\n",
      "Male      48.412415\n",
      "Name: sex, dtype: float64\n",
      "++++++++++++++++++++++++++++++++++++++\n",
      "sex\n",
      "Fast counts: Male      1431\n",
      "Female    1374\n",
      "Name: sex, dtype: int64\n",
      "Fast percents: Male      51.016043\n",
      "Female    48.983957\n",
      "Name: sex, dtype: float64\n",
      "++++++++++++++++++++++++++++++++++++++\n",
      "race\n",
      "Slow counts: White or Caucasian                           1811\n",
      "Black or African American                     855\n",
      "Other                                          83\n",
      "Asian                                          36\n",
      "American Indian or Alaska Native               12\n",
      "Multiracial                                     3\n",
      "Native Hawaiian or Other Pacific Islander       3\n",
      "Name: race, dtype: int64\n",
      "Slow percents: White or Caucasian                           64.609347\n",
      "Black or African American                    30.503032\n",
      "Other                                         2.961113\n",
      "Asian                                         1.284338\n",
      "American Indian or Alaska Native              0.428113\n",
      "Multiracial                                   0.107028\n",
      "Native Hawaiian or Other Pacific Islander     0.107028\n",
      "Name: race, dtype: float64\n",
      "++++++++++++++++++++++++++++++++++++++\n",
      "race\n",
      "Fast counts: White or Caucasian                           1883\n",
      "Black or African American                     741\n",
      "Other                                          87\n",
      "Asian                                          67\n",
      "American Indian or Alaska Native               14\n",
      "Unknown                                         6\n",
      "Multiracial                                     5\n",
      "Native Hawaiian or Other Pacific Islander       2\n",
      "Name: race, dtype: int64\n",
      "Fast percents: White or Caucasian                           67.130125\n",
      "Black or African American                    26.417112\n",
      "Other                                         3.101604\n",
      "Asian                                         2.388592\n",
      "American Indian or Alaska Native              0.499109\n",
      "Unknown                                       0.213904\n",
      "Multiracial                                   0.178253\n",
      "Native Hawaiian or Other Pacific Islander     0.071301\n",
      "Name: race, dtype: float64\n",
      "++++++++++++++++++++++++++++++++++++++\n",
      "Essential hypertension\n",
      "Slow counts: 1    1807\n",
      "0     996\n",
      "Name: Essential hypertension, dtype: int64\n",
      "Slow percents: 1    64.466643\n",
      "0    35.533357\n",
      "Name: Essential hypertension, dtype: float64\n",
      "++++++++++++++++++++++++++++++++++++++\n",
      "Essential hypertension\n",
      "Fast counts: 1    1921\n",
      "0     884\n",
      "Name: Essential hypertension, dtype: int64\n",
      "Fast percents: 1    68.484848\n",
      "0    31.515152\n",
      "Name: Essential hypertension, dtype: float64\n",
      "++++++++++++++++++++++++++++++++++++++\n",
      "Hyperlipidemia\n",
      "Slow counts: 0    2080\n",
      "1     723\n",
      "Name: Hyperlipidemia, dtype: int64\n",
      "Slow percents: 0    74.206208\n",
      "1    25.793792\n",
      "Name: Hyperlipidemia, dtype: float64\n",
      "++++++++++++++++++++++++++++++++++++++\n",
      "Hyperlipidemia\n",
      "Fast counts: 0    1932\n",
      "1     873\n",
      "Name: Hyperlipidemia, dtype: int64\n",
      "Fast percents: 0    68.877005\n",
      "1    31.122995\n",
      "Name: Hyperlipidemia, dtype: float64\n",
      "++++++++++++++++++++++++++++++++++++++\n",
      "cigarettes_yn\n",
      "Slow counts: N    2215\n",
      "Y     588\n",
      "Name: cigarettes_yn, dtype: int64\n",
      "Slow percents: N    79.022476\n",
      "Y    20.977524\n",
      "Name: cigarettes_yn, dtype: float64\n",
      "++++++++++++++++++++++++++++++++++++++\n",
      "cigarettes_yn\n",
      "Fast counts: N    2141\n",
      "Y     664\n",
      "Name: cigarettes_yn, dtype: int64\n",
      "Fast percents: N    76.327986\n",
      "Y    23.672014\n",
      "Name: cigarettes_yn, dtype: float64\n",
      "++++++++++++++++++++++++++++++++++++++\n",
      "smokeless_tob_use_name\n",
      "Slow counts: Unknown         2422\n",
      "Never Used       346\n",
      "Former User       23\n",
      "Current User      12\n",
      "Name: smokeless_tob_use_name, dtype: int64\n",
      "Slow percents: Unknown         86.407421\n",
      "Never Used      12.343917\n",
      "Former User      0.820549\n",
      "Current User     0.428113\n",
      "Name: smokeless_tob_use_name, dtype: float64\n",
      "++++++++++++++++++++++++++++++++++++++\n",
      "smokeless_tob_use_name\n",
      "Fast counts: Unknown         1672\n",
      "Never Used      1062\n",
      "Former User       46\n",
      "Current User      25\n",
      "Name: smokeless_tob_use_name, dtype: int64\n",
      "Fast percents: Unknown         59.607843\n",
      "Never Used      37.860963\n",
      "Former User      1.639929\n",
      "Current User     0.891266\n",
      "Name: smokeless_tob_use_name, dtype: float64\n",
      "++++++++++++++++++++++++++++++++++++++\n"
     ]
    }
   ],
   "source": [
    "for i in cat_variables:\n",
    "    print(i)\n",
    "    print('Slow counts:', i_o_slow[i].value_counts())\n",
    "    print('Slow percents:', i_o_slow[i].value_counts(normalize=True)*100)\n",
    "    print('++++++++++++++++++++++++++++++++++++++')\n",
    "    print(i)\n",
    "    print('Fast counts:', i_o_fast[i].value_counts())\n",
    "    print('Fast percents:', i_o_fast[i].value_counts(normalize=True)*100)\n",
    "    print('++++++++++++++++++++++++++++++++++++++')"
   ]
  },
  {
   "cell_type": "code",
   "execution_count": 34,
   "id": "447c33d8-7150-4321-9788-b97adc678059",
   "metadata": {
    "collapsed": true,
    "jupyter": {
     "outputs_hidden": true
    },
    "tags": []
   },
   "outputs": [
    {
     "name": "stdout",
     "output_type": "stream",
     "text": [
      "sex\n",
      "chi-square: (3.698281881920189, 0.054468528161382986, 1, array([[1409.49714693, 1410.50285307],\n",
      "       [1393.50285307, 1394.49714693]]))\n",
      "+++++++++++++++++++++++++++++++++++++++\n",
      "race\n",
      "chi-square: (25.823564843612633, 0.0005415620799847323, 7, array([[  12.99536377,   13.00463623],\n",
      "       [  51.48163338,   51.51836662],\n",
      "       [ 797.71540656,  798.28459344],\n",
      "       [   3.99857347,    4.00142653],\n",
      "       [   2.49910842,    2.50089158],\n",
      "       [  84.96968616,   85.03031384],\n",
      "       [   2.9989301 ,    3.0010699 ],\n",
      "       [1846.34129815, 1847.65870185]]))\n",
      "+++++++++++++++++++++++++++++++++++++++\n",
      "Essential hypertension\n",
      "chi-square: (9.978172350797049, 0.0015840683886232615, 1, array([[ 939.66476462,  940.33523538],\n",
      "       [1863.33523538, 1864.66476462]]))\n",
      "+++++++++++++++++++++++++++++++++++++++\n",
      "Hyperlipidemia\n",
      "chi-square: (19.295781914749732, 1.1195340082568469e-05, 1, array([[2005.28459344, 2006.71540656],\n",
      "       [ 797.71540656,  798.28459344]]))\n",
      "+++++++++++++++++++++++++++++++++++++++\n",
      "cigarettes_yn\n",
      "chi-square: (5.715469026050276, 0.016816071495981445, 1, array([[2177.2232525, 2178.7767475],\n",
      "       [ 625.7767475,  626.2232525]]))\n",
      "+++++++++++++++++++++++++++++++++++++++\n",
      "smokeless_tob_use_name\n",
      "chi-square: (513.7320485806491, 5.042598270933876e-111, 3, array([[  18.49340228,   18.50659772],\n",
      "       [  34.48769615,   34.51230385],\n",
      "       [ 703.7489301 ,  704.2510699 ],\n",
      "       [2046.26997147, 2047.73002853]]))\n",
      "+++++++++++++++++++++++++++++++++++++++\n"
     ]
    }
   ],
   "source": [
    "for i in cat_variables:\n",
    "    print(i)\n",
    "    crosstab = pd.crosstab(all_ren[i], all_ren['class'])\n",
    "    print('chi-square:',stats.chi2_contingency(crosstab))\n",
    "    print('+++++++++++++++++++++++++++++++++++++++')"
   ]
  },
  {
   "cell_type": "code",
   "execution_count": 33,
   "id": "fcd85b79-9067-489e-b79a-b555b2728c86",
   "metadata": {
    "collapsed": true,
    "jupyter": {
     "outputs_hidden": true
    },
    "tags": []
   },
   "outputs": [
    {
     "name": "stdout",
     "output_type": "stream",
     "text": [
      "age_at_diab\n",
      "fast var normality: ShapiroResult(statistic=0.9867033362388611, pvalue=1.4974387366274212e-15)\n",
      "slow var normality: ShapiroResult(statistic=0.9898792505264282, pvalue=3.320844575889492e-13)\n",
      "ranksum:  RanksumsResult(statistic=7.381217826302277, pvalue=1.568481442828319e-13)\n",
      "+++++++++++++++++++++++++++++++++++++++\n",
      "duration_diab\n",
      "fast var normality: ShapiroResult(statistic=0.9628965258598328, pvalue=3.0387559937110956e-26)\n",
      "slow var normality: ShapiroResult(statistic=0.9869039058685303, pvalue=2.078077174992284e-15)\n",
      "ranksum:  RanksumsResult(statistic=-37.48521081467898, pvalue=1.6042564826851313e-307)\n",
      "+++++++++++++++++++++++++++++++++++++++\n",
      "GLUCOSE\n",
      "fast var normality: ShapiroResult(statistic=0.8948784470558167, pvalue=3.627205022966216e-40)\n",
      "slow var normality: ShapiroResult(statistic=0.8974983096122742, pvalue=8.812149470814472e-40)\n",
      "ranksum:  RanksumsResult(statistic=-2.9744907027826, pvalue=0.0029347534900183944)\n",
      "+++++++++++++++++++++++++++++++++++++++\n",
      "CREATININE\n",
      "fast var normality: ShapiroResult(statistic=0.9361458420753479, pvalue=4.086682517766486e-33)\n",
      "slow var normality: ShapiroResult(statistic=0.9241840243339539, pvalue=1.8766717088340859e-35)\n",
      "ranksum:  RanksumsResult(statistic=6.264469314172248, pvalue=3.740972160075939e-10)\n",
      "+++++++++++++++++++++++++++++++++++++++\n",
      "bmi\n",
      "fast var normality: ShapiroResult(statistic=0.981980562210083, pvalue=2.092868486179351e-18)\n",
      "slow var normality: ShapiroResult(statistic=0.9790266752243042, pvalue=6.371259148022248e-20)\n",
      "ranksum:  RanksumsResult(statistic=-4.011375435690071, pvalue=6.036602488515386e-05)\n",
      "+++++++++++++++++++++++++++++++++++++++\n",
      "EGFR\n",
      "fast var normality: ShapiroResult(statistic=0.8374413251876831, pvalue=0.0)\n",
      "slow var normality: ShapiroResult(statistic=0.8626521229743958, pvalue=3.0828566215145976e-44)\n",
      "ranksum:  RanksumsResult(statistic=-10.575010194451869, pvalue=3.8913517774462765e-26)\n",
      "+++++++++++++++++++++++++++++++++++++++\n"
     ]
    }
   ],
   "source": [
    "listofname=['age_at_diab','duration_diab','GLUCOSE','CREATININE','bmi','EGFR']\n",
    "\n",
    "for x in listofname:\n",
    "    print(x)\n",
    "    print('fast var normality:', stats.shapiro(i_o_fast[x]))\n",
    "    print('slow var normality:',stats.shapiro(i_o_slow[x]))\n",
    "    \n",
    "    #print('t-test: ',ttest_ind(i_o_fast[x],i_o_slow[x], equal_var=True))\n",
    "    print('ranksum: ',ranksums(i_o_fast[x],i_o_slow[x]))\n",
    "    #print('z-test: ', ztest(i_o_fast[x],i_o_slow[x]))\n",
    "    print('+++++++++++++++++++++++++++++++++++++++')"
   ]
  },
  {
   "cell_type": "markdown",
   "id": "5a33c82e-b628-45e9-9b39-fabf6c754bae",
   "metadata": {
    "jp-MarkdownHeadingCollapsed": true,
    "tags": []
   },
   "source": [
    "### 7. Random Search on MCW Cluster"
   ]
  },
  {
   "cell_type": "code",
   "execution_count": null,
   "id": "a3e1bdff-734b-4851-b8d6-54aed90b02f9",
   "metadata": {},
   "outputs": [],
   "source": [
    "#inputs\n",
    "input_dict = {\n",
    "    'Codes': renal_phen,\n",
    "    'Demos': renal_demos,\n",
    "    'Vitals': renal_vitals,\n",
    "    'Social': renal_social,\n",
    "    'Labs': renal_labs,\n",
    "    'All': renal_all}\n",
    "    \n",
    "#parameters\n",
    "Dummy_params = {'strategy':['most_frequent']}\n",
    "\n",
    "GB_params = {\n",
    "    'learning_rate': np.linspace(0.1, 1, 19),\n",
    "    'max_depth': np.linspace(5, 100, 20),\n",
    "    'max_features': ['auto','sqrt','log2'],\n",
    "    'min_samples_leaf': [2, 10, 20, 40, 80, 100, 150, 200, 250, 300, 350, 400, 450, 500],\n",
    "    'min_samples_split': [2, 10, 20, 40, 80, 100, 150, 200, 250, 300, 350, 400, 450, 500],\n",
    "    'subsample':[0.8, 1],\n",
    "    'n_estimators':[10, 50, 100, 250, 500, 1000, 2000, 3000]}\n",
    "\n",
    "SVC_params = {\n",
    "    'C': [0.1,1,10,100],\n",
    "    'kernel':['poly', 'rbf', 'sigmoid'],\n",
    "    'gamma':[1,0.1,0.01,0.001]}\n",
    "\n",
    "ET_params = {\n",
    "    'bootstrap': [True, False],\n",
    "    'max_depth': np.linspace(5, 100, 20),\n",
    "    'max_features':['auto','sqrt','log2'],\n",
    "    'min_samples_leaf': [2, 10, 20, 40, 80, 100, 150, 200, 250, 300, 350, 400, 450, 500],\n",
    "    'min_samples_split': [2, 10, 20, 40, 80, 100, 150, 200, 250, 300, 350, 400, 450, 500],\n",
    "    'n_estimators':[10, 50, 100, 250, 500, 1000, 2000, 3000]}\n",
    "\n",
    "RF_params = {\n",
    "    'bootstrap': [True, False],\n",
    "    'max_depth': np.linspace(5, 100, 20),\n",
    "    'max_features':['auto','sqrt','log2'],\n",
    "    'min_samples_leaf': [2, 10, 20, 40, 80, 100, 150, 200, 250, 300, 350, 400, 450, 500],\n",
    "    'min_samples_split': [2, 10, 20, 40, 80, 100, 150, 200, 250, 300, 350, 400, 450, 500],\n",
    "    'n_estimators':[10, 50, 100, 250, 500, 1000, 2000, 3000]}\n",
    "\n",
    "ada_params = {\n",
    "    'learning_rate': np.linspace(0.1, 1, 19),\n",
    "    'n_estimators':[10, 50, 100, 250, 500, 1000, 2000, 3000]}\n",
    "\n",
    "LR_params = {\n",
    "            'C':[0.01,0.1,1,10,100],\n",
    "            'penalty':['l2','none'],\n",
    "            'solver':['newton-cg','lbfgs', 'sag', 'saga'],\n",
    "            'max_iter':[100,200,300]}\n",
    "            \n",
    "models_dict = {\n",
    "    'Dummy': DummyClassifier(),\n",
    "    'SVC': SVC(probability=True),\n",
    "    'GB': GradientBoostingClassifier(),\n",
    "    'ET': ExtraTreesClassifier(),\n",
    "    'RF': RandomForestClassifier(),\n",
    "    'AdaBoost': AdaBoostClassifier(),\n",
    "    'LR': LogisticRegression()}\n",
    "\n",
    "params_dict = {\n",
    "    'Dummy': Dummy_params,\n",
    "    'SVC': SVC_params,\n",
    "    'GB': GB_params,\n",
    "    'ET': ET_params,\n",
    "    'RF': RF_params,\n",
    "    'AdaBoost': ada_params,\n",
    "    'LR': LR_params}\n",
    "#run randomsearch\n",
    "renal_all_score_dict = {}\n",
    "renal_all_model_dict = {}\n",
    "\n",
    "for i in input_dict.keys():\n",
    "    print('Input:', i)\n",
    "    temp_1 = {}\n",
    "    temp_2 = {}\n",
    "    Xtrain, Xtest, ytrain, ytest = train_test_split(input_dict[i], renal_final_clf, random_state=42, test_size=0.2) \n",
    "    for x in models_dict.keys():\n",
    "        print(x)\n",
    "        clf = RandomizedSearchCV(models_dict[x], param_distributions= params_dict[x],scoring='roc_auc',refit=True,cv=5, n_jobs=47,verbose=3, n_iter=1000)\n",
    "        clf.fit(Xtrain, ytrain)\n",
    "        print(clf.best_estimator_)\n",
    "        print(clf.best_score_)\n",
    "        temp_1[x] = clf.best_estimator_\n",
    "        temp_2[x] = clf.best_score_\n",
    "    renal_all_model_dict[i] = temp_1\n",
    "    renal_all_score_dict[i] = temp_2\n",
    "\n",
    "# save\n",
    "with open('renal_phenbin_all_score_dict.pkl', 'wb') as tmpfile:\n",
    "    pickle.dump(renal_all_score_dict, tmpfile)\n",
    "with open('renal_phenbin_all_model_dict.pkl', 'wb') as tmpfile:\n",
    "    pickle.dump(renal_all_model_dict, tmpfile)\n",
    "\n",
    "renal_score_df=pd.DataFrame.from_dict(renal_all_score_dict)\n",
    "renal_score_df.to_csv('renal_phenbin_score_df.csv')"
   ]
  },
  {
   "cell_type": "code",
   "execution_count": 28,
   "id": "d19f400f-131a-41e0-84ea-5d307da8cbfc",
   "metadata": {},
   "outputs": [],
   "source": [
    "with open(r'./pickles/renal_phenbin_all_model_dict.pkl', 'rb') as handle:\n",
    "    renal_all_model_dict = pickle.load(handle)\n",
    "with open(r'./pickles/renal_phenbin_all_score_dict.pkl', 'rb') as handle:\n",
    "    renal_all_score_dict = pickle.load(handle)"
   ]
  },
  {
   "cell_type": "markdown",
   "id": "1bf6d97f-251e-4704-9c1e-a36d9119cbe7",
   "metadata": {
    "jp-MarkdownHeadingCollapsed": true,
    "tags": []
   },
   "source": [
    "### 8. Evaluate test set"
   ]
  },
  {
   "cell_type": "code",
   "execution_count": 21,
   "id": "dbca32db-1245-44b4-8860-e414435a1b05",
   "metadata": {},
   "outputs": [],
   "source": [
    "with open(r'./pickles/renal_demos_norm.pkl', 'rb') as handle:\n",
    "    renal_demos = pickle.load(handle)\n",
    "with open(r'./pickles/renal_social_norm.pkl', 'rb') as handle:\n",
    "    renal_social = pickle.load(handle)\n",
    "with open(r'./pickles/renal_vitals_norm.pkl', 'rb') as handle:\n",
    "    renal_vitals = pickle.load(handle)\n",
    "with open(r'./pickles/renal_labs_norm.pkl', 'rb') as handle:\n",
    "    renal_labs = pickle.load(handle)"
   ]
  },
  {
   "cell_type": "code",
   "execution_count": 24,
   "id": "5599b4a5-593e-426a-895f-db804e5d30dd",
   "metadata": {},
   "outputs": [],
   "source": [
    "renal_score_df = pd.read_csv(r'/Users/amomenzadeh/Desktop/DM_csv/renal_phenbin_score_df.csv')"
   ]
  },
  {
   "cell_type": "code",
   "execution_count": 25,
   "id": "73a4e84b-249a-4d48-be10-443f5bb28cf9",
   "metadata": {
    "tags": []
   },
   "outputs": [
    {
     "data": {
      "text/html": [
       "<div>\n",
       "<style scoped>\n",
       "    .dataframe tbody tr th:only-of-type {\n",
       "        vertical-align: middle;\n",
       "    }\n",
       "\n",
       "    .dataframe tbody tr th {\n",
       "        vertical-align: top;\n",
       "    }\n",
       "\n",
       "    .dataframe thead th {\n",
       "        text-align: right;\n",
       "    }\n",
       "</style>\n",
       "<table border=\"1\" class=\"dataframe\">\n",
       "  <thead>\n",
       "    <tr style=\"text-align: right;\">\n",
       "      <th></th>\n",
       "      <th>Unnamed: 0</th>\n",
       "      <th>Codes</th>\n",
       "      <th>Demos</th>\n",
       "      <th>Vitals</th>\n",
       "      <th>Social</th>\n",
       "      <th>Labs</th>\n",
       "      <th>All</th>\n",
       "    </tr>\n",
       "  </thead>\n",
       "  <tbody>\n",
       "    <tr>\n",
       "      <th>0</th>\n",
       "      <td>Dummy</td>\n",
       "      <td>0.500000</td>\n",
       "      <td>0.500000</td>\n",
       "      <td>0.500000</td>\n",
       "      <td>0.500000</td>\n",
       "      <td>0.500000</td>\n",
       "      <td>0.500000</td>\n",
       "    </tr>\n",
       "    <tr>\n",
       "      <th>1</th>\n",
       "      <td>SVC</td>\n",
       "      <td>0.634895</td>\n",
       "      <td>0.601667</td>\n",
       "      <td>0.552810</td>\n",
       "      <td>0.659044</td>\n",
       "      <td>0.652461</td>\n",
       "      <td>0.724668</td>\n",
       "    </tr>\n",
       "    <tr>\n",
       "      <th>2</th>\n",
       "      <td>GB</td>\n",
       "      <td>0.633770</td>\n",
       "      <td>0.610500</td>\n",
       "      <td>0.558884</td>\n",
       "      <td>0.655004</td>\n",
       "      <td>0.660075</td>\n",
       "      <td>0.727496</td>\n",
       "    </tr>\n",
       "    <tr>\n",
       "      <th>3</th>\n",
       "      <td>ET</td>\n",
       "      <td>0.640656</td>\n",
       "      <td>0.586835</td>\n",
       "      <td>0.555095</td>\n",
       "      <td>0.657117</td>\n",
       "      <td>0.663596</td>\n",
       "      <td>0.727544</td>\n",
       "    </tr>\n",
       "    <tr>\n",
       "      <th>4</th>\n",
       "      <td>RF</td>\n",
       "      <td>0.642371</td>\n",
       "      <td>0.605949</td>\n",
       "      <td>0.553434</td>\n",
       "      <td>0.657912</td>\n",
       "      <td>0.666002</td>\n",
       "      <td>0.735046</td>\n",
       "    </tr>\n",
       "    <tr>\n",
       "      <th>5</th>\n",
       "      <td>AdaBoost</td>\n",
       "      <td>0.609313</td>\n",
       "      <td>0.608328</td>\n",
       "      <td>0.534690</td>\n",
       "      <td>0.655089</td>\n",
       "      <td>0.651479</td>\n",
       "      <td>0.716384</td>\n",
       "    </tr>\n",
       "    <tr>\n",
       "      <th>6</th>\n",
       "      <td>LR</td>\n",
       "      <td>0.632432</td>\n",
       "      <td>0.601137</td>\n",
       "      <td>0.535782</td>\n",
       "      <td>0.655253</td>\n",
       "      <td>0.653113</td>\n",
       "      <td>0.722910</td>\n",
       "    </tr>\n",
       "  </tbody>\n",
       "</table>\n",
       "</div>"
      ],
      "text/plain": [
       "  Unnamed: 0     Codes     Demos    Vitals    Social      Labs       All\n",
       "0      Dummy  0.500000  0.500000  0.500000  0.500000  0.500000  0.500000\n",
       "1        SVC  0.634895  0.601667  0.552810  0.659044  0.652461  0.724668\n",
       "2         GB  0.633770  0.610500  0.558884  0.655004  0.660075  0.727496\n",
       "3         ET  0.640656  0.586835  0.555095  0.657117  0.663596  0.727544\n",
       "4         RF  0.642371  0.605949  0.553434  0.657912  0.666002  0.735046\n",
       "5   AdaBoost  0.609313  0.608328  0.534690  0.655089  0.651479  0.716384\n",
       "6         LR  0.632432  0.601137  0.535782  0.655253  0.653113  0.722910"
      ]
     },
     "execution_count": 25,
     "metadata": {},
     "output_type": "execute_result"
    }
   ],
   "source": [
    "#train data (80%)\n",
    "renal_score_df"
   ]
  },
  {
   "cell_type": "code",
   "execution_count": 26,
   "id": "c7c5cbc3-1a90-4e73-99e0-f7077a7d55a7",
   "metadata": {
    "tags": []
   },
   "outputs": [],
   "source": [
    "input_dict = {\n",
    "    'Codes': renal_phen,\n",
    "    'Demos': renal_demos,\n",
    "    'Vitals': renal_vitals,\n",
    "    'Social': renal_social,\n",
    "    'Labs': renal_labs,\n",
    "    'All': renal_all}"
   ]
  },
  {
   "cell_type": "code",
   "execution_count": 29,
   "id": "882faf47-37f0-463f-b817-b0da551c2506",
   "metadata": {},
   "outputs": [],
   "source": [
    "auroc = {}\n",
    "fpr = {}\n",
    "tpr = {}\n",
    "threshold = {}\n",
    "\n",
    "for x in renal_all_model_dict.keys():\n",
    "    temp1 = {}\n",
    "    temp2 = {}\n",
    "    temp3 = {}\n",
    "    temp4 = {} \n",
    "    Xtrain, Xtest, ytrain, ytest = train_test_split(input_dict[x], renal_final_clf, random_state=42, test_size=0.2) \n",
    "    for y in renal_all_model_dict[x].keys():\n",
    "        model= renal_all_model_dict[x][y]\n",
    "        ypred = model.predict(Xtest)\n",
    "        probs = model.predict_proba(Xtest)\n",
    "        pos_probs = probs[:, 1]\n",
    "        temp1[y] = roc_auc_score(ytest, pos_probs)\n",
    "        temp2[y], temp3[y], temp4[y] = metrics.roc_curve(ytest, pos_probs)\n",
    "    auroc[x] = temp1\n",
    "    fpr[x] = temp2\n",
    "    tpr[x] = temp3\n",
    "    threshold [x] = temp4"
   ]
  },
  {
   "cell_type": "code",
   "execution_count": 30,
   "id": "43366b48-6ab5-4a31-ac33-a7774e569192",
   "metadata": {},
   "outputs": [
    {
     "data": {
      "text/html": [
       "<div>\n",
       "<style scoped>\n",
       "    .dataframe tbody tr th:only-of-type {\n",
       "        vertical-align: middle;\n",
       "    }\n",
       "\n",
       "    .dataframe tbody tr th {\n",
       "        vertical-align: top;\n",
       "    }\n",
       "\n",
       "    .dataframe thead th {\n",
       "        text-align: right;\n",
       "    }\n",
       "</style>\n",
       "<table border=\"1\" class=\"dataframe\">\n",
       "  <thead>\n",
       "    <tr style=\"text-align: right;\">\n",
       "      <th></th>\n",
       "      <th>Codes</th>\n",
       "      <th>Demos</th>\n",
       "      <th>Vitals</th>\n",
       "      <th>Social</th>\n",
       "      <th>Labs</th>\n",
       "      <th>All</th>\n",
       "    </tr>\n",
       "  </thead>\n",
       "  <tbody>\n",
       "    <tr>\n",
       "      <th>Dummy</th>\n",
       "      <td>0.500000</td>\n",
       "      <td>0.500000</td>\n",
       "      <td>0.500000</td>\n",
       "      <td>0.500000</td>\n",
       "      <td>0.500000</td>\n",
       "      <td>0.500000</td>\n",
       "    </tr>\n",
       "    <tr>\n",
       "      <th>SVC</th>\n",
       "      <td>0.617895</td>\n",
       "      <td>0.576559</td>\n",
       "      <td>0.579263</td>\n",
       "      <td>0.673827</td>\n",
       "      <td>0.682013</td>\n",
       "      <td>0.729780</td>\n",
       "    </tr>\n",
       "    <tr>\n",
       "      <th>GB</th>\n",
       "      <td>0.615378</td>\n",
       "      <td>0.580761</td>\n",
       "      <td>0.585166</td>\n",
       "      <td>0.676716</td>\n",
       "      <td>0.660587</td>\n",
       "      <td>0.736124</td>\n",
       "    </tr>\n",
       "    <tr>\n",
       "      <th>ET</th>\n",
       "      <td>0.632587</td>\n",
       "      <td>0.558654</td>\n",
       "      <td>0.575381</td>\n",
       "      <td>0.683511</td>\n",
       "      <td>0.674148</td>\n",
       "      <td>0.738947</td>\n",
       "    </tr>\n",
       "    <tr>\n",
       "      <th>RF</th>\n",
       "      <td>0.624785</td>\n",
       "      <td>0.577491</td>\n",
       "      <td>0.593462</td>\n",
       "      <td>0.669969</td>\n",
       "      <td>0.683754</td>\n",
       "      <td>0.746506</td>\n",
       "    </tr>\n",
       "    <tr>\n",
       "      <th>AdaBoost</th>\n",
       "      <td>0.588973</td>\n",
       "      <td>0.593399</td>\n",
       "      <td>0.564306</td>\n",
       "      <td>0.672559</td>\n",
       "      <td>0.665374</td>\n",
       "      <td>0.736876</td>\n",
       "    </tr>\n",
       "    <tr>\n",
       "      <th>LR</th>\n",
       "      <td>0.612043</td>\n",
       "      <td>0.580171</td>\n",
       "      <td>0.566630</td>\n",
       "      <td>0.670915</td>\n",
       "      <td>0.672422</td>\n",
       "      <td>0.728191</td>\n",
       "    </tr>\n",
       "  </tbody>\n",
       "</table>\n",
       "</div>"
      ],
      "text/plain": [
       "             Codes     Demos    Vitals    Social      Labs       All\n",
       "Dummy     0.500000  0.500000  0.500000  0.500000  0.500000  0.500000\n",
       "SVC       0.617895  0.576559  0.579263  0.673827  0.682013  0.729780\n",
       "GB        0.615378  0.580761  0.585166  0.676716  0.660587  0.736124\n",
       "ET        0.632587  0.558654  0.575381  0.683511  0.674148  0.738947\n",
       "RF        0.624785  0.577491  0.593462  0.669969  0.683754  0.746506\n",
       "AdaBoost  0.588973  0.593399  0.564306  0.672559  0.665374  0.736876\n",
       "LR        0.612043  0.580171  0.566630  0.670915  0.672422  0.728191"
      ]
     },
     "execution_count": 30,
     "metadata": {},
     "output_type": "execute_result"
    }
   ],
   "source": [
    "pd.DataFrame.from_dict(auroc)"
   ]
  },
  {
   "cell_type": "markdown",
   "id": "f5428ab8-3c4b-4d25-9a05-2b2f2373b73d",
   "metadata": {
    "jp-MarkdownHeadingCollapsed": true,
    "tags": []
   },
   "source": [
    "### 9. Make overlayed AUROC plot"
   ]
  },
  {
   "cell_type": "code",
   "execution_count": 72,
   "id": "1d84e330-233d-4e0a-9ef2-0ed6f69500c9",
   "metadata": {
    "tags": []
   },
   "outputs": [],
   "source": [
    "# Set the global font to be DejaVu Sans, size 10 \n",
    "rc('font',**{'family':'sans-serif','sans-serif':['DejaVu Sans'],'size':10})\n",
    "# Set the font used for MathJax\n",
    "rc('mathtext',**{'default':'regular'})\n",
    "%matplotlib inline\n",
    "# The following %config line changes the inline figures to have a higher DPI.\n",
    "%config InlineBackend.figure_format = 'retina'"
   ]
  },
  {
   "cell_type": "code",
   "execution_count": 78,
   "id": "2de35068-90e3-499d-9e52-15557d1a4db9",
   "metadata": {
    "tags": []
   },
   "outputs": [
    {
     "data": {
      "text/plain": [
       "<Figure size 504x504 with 0 Axes>"
      ]
     },
     "execution_count": 78,
     "metadata": {},
     "output_type": "execute_result"
    },
    {
     "data": {
      "image/png": "[encoded data removed]",
      "text/plain": [
       "<Figure size 504x504 with 1 Axes>"
      ]
     },
     "metadata": {
      "image/png": {
       "height": 464,
       "width": 474
      },
      "needs_background": "light"
     },
     "output_type": "display_data"
    },
    {
     "data": {
      "text/plain": [
       "<Figure size 504x504 with 0 Axes>"
      ]
     },
     "metadata": {},
     "output_type": "display_data"
    }
   ],
   "source": [
    "plt.rcParams['figure.figsize']=7,7\n",
    "plt.rcParams['axes.facecolor']='white'\n",
    "plt.rcParams[\"axes.edgecolor\"] = \"black\"\n",
    "plt.rcParams[\"axes.linewidth\"] = 0.75\n",
    "plt.rcParams[\"axes.prop_cycle\"] = plt.cycler(color=['#bcbd22', '#ff7f0e', '#2ca02c', '#d62728', '#9467bd', '#17becf'])\n",
    "\n",
    "plt.plot(fpr['Vitals']['RF'], tpr['Vitals']['RF'],\n",
    "         label='Vitals (AUROC = {0:0.2f})'\n",
    "               ''.format(auroc['Vitals']['RF']),\n",
    "         linewidth=2.5)\n",
    "\n",
    "plt.plot(fpr['Demos']['AdaBoost'], tpr['Demos']['AdaBoost'],\n",
    "         label='Demographics (AUROC = {0:0.2f})'\n",
    "               ''.format(auroc['Demos']['AdaBoost']),\n",
    "         linewidth=2.5)\n",
    "\n",
    "plt.plot(fpr['Codes']['ET'], tpr['Codes']['ET'],\n",
    "         label='Phenotypes (AUROC = {0:0.2f})'\n",
    "               ''.format(auroc['Codes']['ET']),\n",
    "         linewidth=2.5)\n",
    "\n",
    "plt.plot(fpr['Labs']['RF'], tpr['Labs']['RF'],\n",
    "         label='Labs (AUROC = {0:0.2f})'\n",
    "               ''.format(auroc['Labs']['RF']),\n",
    "         linewidth=2.5)\n",
    "\n",
    "plt.plot(fpr['Social']['ET'], tpr['Social']['ET'],\n",
    "         label='Social (AUROC = {0:0.2f})'\n",
    "               ''.format(auroc['Social']['ET']),\n",
    "         linewidth=2.5)\n",
    "\n",
    "plt.plot(fpr['All']['RF'], tpr['All']['RF'],\n",
    "         label='All (AUROC = {0:0.2f})'\n",
    "               ''.format(auroc['All']['RF']),\n",
    "         linewidth=2.5)\n",
    "\n",
    "plt.xticks(fontsize=15)\n",
    "plt.yticks(fontsize=15)\n",
    "plt.plot([0, 1], [0, 1], 'k--')\n",
    "plt.xlim([0, 1.0])\n",
    "plt.ylim([0.0, 1.05])\n",
    "plt.xlabel('False Positive Rate', fontsize=20, fontweight=100)\n",
    "plt.ylabel('True Positive Rate', fontsize=20, fontweight=100)\n",
    "plt.title('Nephropathy ROC Curves', fontsize=20, fontweight=100)\n",
    "plt.legend(loc=\"lower right\",fontsize=12)\n",
    "plt.grid(False)\n",
    "plt.savefig(r'./figures/renalphen_AUROC.svg', format='svg')\n",
    "plt.figure()"
   ]
  },
  {
   "cell_type": "markdown",
   "id": "c3e423b1-4b19-41d4-8f8c-ca9c33109a04",
   "metadata": {
    "jp-MarkdownHeadingCollapsed": true,
    "tags": []
   },
   "source": [
    "### 10. Make calibration plot"
   ]
  },
  {
   "cell_type": "code",
   "execution_count": 31,
   "id": "08098cdb-210a-46f4-a7ed-f61685cb2da2",
   "metadata": {},
   "outputs": [],
   "source": [
    "Xtrain, Xtest, ytrain, ytest = train_test_split(input_dict['All'], renal_final_clf, random_state=42, test_size=0.2) "
   ]
  },
  {
   "cell_type": "code",
   "execution_count": 33,
   "id": "b1d877de-1410-4eaa-9fc7-c3fd99f2e4bf",
   "metadata": {},
   "outputs": [
    {
     "name": "stdout",
     "output_type": "stream",
     "text": [
      "RandomForestClassifier(bootstrap=False, max_depth=95.0, max_features='sqrt',\n",
      "                       min_samples_leaf=2, n_estimators=2000)\n"
     ]
    }
   ],
   "source": [
    "model=renal_all_model_dict['All']['RF']\n",
    "print(model)"
   ]
  },
  {
   "cell_type": "code",
   "execution_count": 34,
   "id": "2b1ddd2d-790c-4896-83b8-be02d08e2d26",
   "metadata": {
    "tags": []
   },
   "outputs": [
    {
     "name": "stdout",
     "output_type": "stream",
     "text": [
      "AUROC: 0.74650551994302\n",
      "Brier Score: 0.20903597041032276\n"
     ]
    },
    {
     "data": {
      "text/plain": [
       "<Figure size 504x504 with 0 Axes>"
      ]
     },
     "execution_count": 34,
     "metadata": {},
     "output_type": "execute_result"
    },
    {
     "data": {
      "image/png": "[encoded data removed]",
      "text/plain": [
       "<Figure size 504x504 with 1 Axes>"
      ]
     },
     "metadata": {},
     "output_type": "display_data"
    },
    {
     "data": {
      "text/plain": [
       "<Figure size 504x504 with 0 Axes>"
      ]
     },
     "metadata": {},
     "output_type": "display_data"
    }
   ],
   "source": [
    "plt.rcParams['figure.figsize']=7,7\n",
    "plt.rcParams['axes.facecolor']='white'\n",
    "plt.rcParams[\"axes.edgecolor\"] = \"black\"\n",
    "plt.rcParams[\"axes.linewidth\"] = 0.75\n",
    "\n",
    "probs = model.predict_proba(Xtest)[:, 1]\n",
    "# reliability diagram\n",
    "fop, mpv = calibration_curve(ytest, probs, n_bins=10, normalize=True)\n",
    "# plot perfectly calibrated\n",
    "plt.plot([0, 1], [0, 1], linestyle='--', color=\"black\")\n",
    "# plot model reliability\n",
    "plt.plot(mpv, fop, marker='.', color=\"blue\")\n",
    "\n",
    "ypred = model.predict(Xtest)\n",
    "probs = model.predict_proba(Xtest)\n",
    "pos_probs = probs[:, 1]\n",
    "rocauc = roc_auc_score(ytest, pos_probs)\n",
    "print('AUROC:', rocauc)\n",
    "bs=brier_score_loss(ytest, pos_probs)\n",
    "print('Brier Score:', bs)\n",
    "\n",
    "plt.xticks(fontsize=15)\n",
    "plt.yticks(fontsize=15)\n",
    "plt.xlabel('Observed Probability', fontsize=20, fontweight=100)\n",
    "plt.ylabel('Predicted Probability', fontsize=20, fontweight=100)\n",
    "plt.title('Nephropathy (uncalibrated)', fontsize=20, fontweight=100)\n",
    "plt.grid(False)\n",
    "plt.figure()"
   ]
  },
  {
   "cell_type": "code",
   "execution_count": 44,
   "id": "a9b47014-4f0c-45f6-a40f-df38aa622eb4",
   "metadata": {},
   "outputs": [
    {
     "name": "stdout",
     "output_type": "stream",
     "text": [
      "AUCROC: 0.7475166615791615\n",
      "Brier Score: 0.20403856881000923\n"
     ]
    },
    {
     "data": {
      "text/plain": [
       "<Figure size 504x504 with 0 Axes>"
      ]
     },
     "execution_count": 44,
     "metadata": {},
     "output_type": "execute_result"
    },
    {
     "data": {
      "image/png": "[encoded data removed]",
      "text/plain": [
       "<Figure size 504x504 with 1 Axes>"
      ]
     },
     "metadata": {},
     "output_type": "display_data"
    },
    {
     "data": {
      "text/plain": [
       "<Figure size 504x504 with 0 Axes>"
      ]
     },
     "metadata": {},
     "output_type": "display_data"
    }
   ],
   "source": [
    "plt.rcParams['figure.figsize']=7,7\n",
    "plt.rcParams['axes.facecolor']='white'\n",
    "plt.rcParams[\"axes.edgecolor\"] = \"black\"\n",
    "plt.rcParams[\"axes.linewidth\"] = 0.75\n",
    "\n",
    "from sklearn.calibration import CalibratedClassifierCV\n",
    "calibrated = CalibratedClassifierCV(model, method='sigmoid', cv=5)\n",
    "calibrated.fit(Xtrain, ytrain)\n",
    "# predict probabilities\n",
    "probs = calibrated.predict_proba(Xtest)[:, 1]\n",
    "# reliability diagram\n",
    "fop, mpv = calibration_curve(ytest, probs, n_bins=10, normalize=True)\n",
    "# plot perfectly calibrated\n",
    "plt.plot([0, 1], [0, 1], linestyle='--',color=\"black\")\n",
    "# plot calibrated reliability\n",
    "plt.plot(mpv, fop, marker='.',color=\"blue\")\n",
    "\n",
    "ypred = calibrated.predict(Xtest)\n",
    "probs = calibrated.predict_proba(Xtest)\n",
    "pos_probs = probs[:, 1]\n",
    "rocauc = roc_auc_score(ytest, pos_probs)\n",
    "print('AUCROC:', rocauc)\n",
    "bs=brier_score_loss(ytest, pos_probs)\n",
    "print('Brier Score:', bs)\n",
    "\n",
    "plt.xticks(fontsize=15)\n",
    "plt.yticks(fontsize=15)\n",
    "plt.xlabel('Observed Probability', fontsize=20, fontweight=100)\n",
    "plt.ylabel('Predicted Probability', fontsize=20, fontweight=100)\n",
    "plt.title('Nephropathy', fontsize=20, fontweight=100)\n",
    "plt.grid(False)\n",
    "matplotlib.pyplot.text(1,0,'Brier Score=0.204', horizontalalignment='right',\n",
    "     verticalalignment='bottom',fontsize=20)\n",
    "plt.savefig(r'./figures/renal_calib_plot.svg', format='svg')\n",
    "plt.figure()"
   ]
  },
  {
   "cell_type": "markdown",
   "id": "7d357cef-4eff-4c87-a2d2-0ce1535b6914",
   "metadata": {
    "tags": []
   },
   "source": [
    "### 11. encounters between T2DM dx and comp"
   ]
  },
  {
   "cell_type": "code",
   "execution_count": 29,
   "id": "58c3d620-cd8c-494b-af1f-a90066a676b7",
   "metadata": {},
   "outputs": [],
   "source": [
    "renal_final_clf.to_excel('renal_out.xlsx')"
   ]
  },
  {
   "cell_type": "code",
   "execution_count": 4,
   "id": "f704e008-3d78-41b6-b758-efd97592870f",
   "metadata": {},
   "outputs": [],
   "source": [
    "with open(r'/Users/amomenzadeh/Desktop/DM_pickles/init_comps_dict.pkl', 'rb') as handle:\n",
    "    init_comps_dict = pickle.load(handle)"
   ]
  },
  {
   "cell_type": "code",
   "execution_count": 5,
   "id": "7eecc622-8a2a-44a9-8da1-b17048eeea06",
   "metadata": {
    "tags": []
   },
   "outputs": [],
   "source": [
    "# creating new dataframe from the above dictionary for time of first complication with the patient number as the index\n",
    "comps_time_df = pd.DataFrame.from_dict(init_comps_dict, orient='index')\n",
    "comps_time_df = comps_time_df.apply(pd.to_datetime, errors='coerce')\n",
    "\n",
    "# sort table by patient number (index)\n",
    "comps_time_df.sort_index(inplace=True)"
   ]
  },
  {
   "cell_type": "code",
   "execution_count": 6,
   "id": "cb07b54d-7af5-4927-a3ab-2b162ce6e65f",
   "metadata": {},
   "outputs": [],
   "source": [
    "comps_time_df.drop(['initial_OPTH','initial_CVD','initial_NEUROPATH'],axis=1,inplace=True)"
   ]
  },
  {
   "cell_type": "code",
   "execution_count": 21,
   "id": "00944032-cde9-4e15-b8d9-af14c164bc32",
   "metadata": {},
   "outputs": [],
   "source": [
    "time_to_renal=renal_final.to_frame('time_to_renal(yr)')"
   ]
  },
  {
   "cell_type": "code",
   "execution_count": 22,
   "id": "46a61ecd-a755-4348-a970-f3f46d3f648d",
   "metadata": {},
   "outputs": [],
   "source": [
    "merge = comps_time_df.merge(time_to_renal, left_index=True, right_index=True)"
   ]
  },
  {
   "cell_type": "code",
   "execution_count": 23,
   "id": "62046fea-75d6-44be-a1b8-a6191f5ed06d",
   "metadata": {},
   "outputs": [],
   "source": [
    "encounters = pd.read_csv(r'/Users/amomenzadeh/Desktop/DM_csv/renal_encounters.csv',low_memory=False)"
   ]
  },
  {
   "cell_type": "code",
   "execution_count": 24,
   "id": "302af0b5-50c9-4d74-947a-86c4e9a1dd9b",
   "metadata": {},
   "outputs": [],
   "source": [
    "encounters.drop(['department_name', 'department_id', 'department_external_name',\n",
    "       'department_specialty', 'payor_type_primary_c','age_at_visit_years',\n",
    "       'payor_type_primary_name', 'payer_type_secondary_c','visit_type_id',\n",
    "       'payer_type_secondary_name', 'appt_status_c', 'appt_status_name','discharge_status_c', 'discharge_status_name',\n",
    "       'length_of_stay_days', 'hosp_serv_c', 'hosp_serv_name','visit_type_name',\n",
    "       'adm_for_surg_yn', 'surgical_svc_c', 'surgical_svc_name', 'drg','visit_date_shifted',\n",
    "       'drg_type', 'drg_name', 'visit_provider_id', 'visit_provider_name','admit_date_shifted',\n",
    "       'visit_provider_title', 'visit_provider_npi', 'admission_provider_id',\n",
    "       'admission_provider_name', 'admission_provider_title','admit_source_c','admit_source_name','discharge_date_shifted',\n",
    "       'admission_provider_npi', 'sourcesystem_cd','encounter_num','enc_type','src_enc_type_c'],inplace=True, axis=1)"
   ]
  },
  {
   "cell_type": "code",
   "execution_count": 25,
   "id": "d57520c5-bb53-4a9c-9b5e-f6e6e78f69e1",
   "metadata": {
    "ExecuteTime": {
     "end_time": "2021-08-13T19:54:31.000060Z",
     "start_time": "2021-08-13T19:54:17.666513Z"
    },
    "tags": []
   },
   "outputs": [],
   "source": [
    "encounters.i2b2_date_shifted = pd.to_datetime(encounters.i2b2_date_shifted, format = '%Y-%m-%d') # converted dx date column to datetime"
   ]
  },
  {
   "cell_type": "code",
   "execution_count": 31,
   "id": "d0e13f08-6765-4171-aca7-c29829c0de26",
   "metadata": {},
   "outputs": [],
   "source": [
    "encounters=encounters.sort_values(by='i2b2_date_shifted')"
   ]
  },
  {
   "cell_type": "code",
   "execution_count": 26,
   "id": "61d53ddd-6a1c-4887-8891-1682c835a5e9",
   "metadata": {},
   "outputs": [],
   "source": [
    "with open(r'/Users/amomenzadeh/Desktop/DM_pickles/renal_enc.pkl', 'wb') as handle:\n",
    "    pickle.dump(encounters, handle)"
   ]
  },
  {
   "cell_type": "code",
   "execution_count": 27,
   "id": "7be5ad79-3c25-4933-8b73-c2498f2e331d",
   "metadata": {},
   "outputs": [],
   "source": [
    "visits=[]\n",
    "for x in merge.index:\n",
    "    enc=encounters[(encounters.patient_num==x)]\n",
    "    after_DM=enc[(enc.i2b2_date_shifted.values >= merge.loc[[x]].initial_DIAB.values)]\n",
    "    before_comp=after_DM[(after_DM.i2b2_date_shifted.values <= merge.loc[[x]].initial_KIDNEY.values)]\n",
    "    visits.append(len(before_comp.i2b2_date_shifted.unique()))"
   ]
  },
  {
   "cell_type": "code",
   "execution_count": 28,
   "id": "70f9dad0-2ac0-48e0-9d17-1aa4ff990f2b",
   "metadata": {},
   "outputs": [],
   "source": [
    "merge['visits_bw']=visits"
   ]
  },
  {
   "cell_type": "code",
   "execution_count": 29,
   "id": "13cea409-53a4-429c-9159-d76671030821",
   "metadata": {},
   "outputs": [],
   "source": [
    "merge['visits_bw/yr']=merge['visits_bw']/merge['time_to_renal(yr)']"
   ]
  },
  {
   "cell_type": "code",
   "execution_count": 30,
   "id": "2f5800bc-67af-41a3-a481-e87a513bb664",
   "metadata": {},
   "outputs": [],
   "source": [
    "merge['output_class']=renal_final_clf"
   ]
  },
  {
   "cell_type": "code",
   "execution_count": 31,
   "id": "f1d39704-5767-4f4a-8e4c-4cb71b09d19c",
   "metadata": {},
   "outputs": [],
   "source": [
    "with open(r'/Users/amomenzadeh/Desktop/DM_pickles/renal_merge.pkl', 'wb') as handle:\n",
    "    pickle.dump(merge, handle)"
   ]
  },
  {
   "cell_type": "code",
   "execution_count": 32,
   "id": "c0a403ca-89e1-4043-bab1-6335a15fd61c",
   "metadata": {},
   "outputs": [],
   "source": [
    "fast=merge[merge['output_class']==1]"
   ]
  },
  {
   "cell_type": "code",
   "execution_count": 33,
   "id": "aab819da-64ab-42a0-bb76-5e76dbdc4990",
   "metadata": {},
   "outputs": [],
   "source": [
    "slow=merge[merge['output_class']==0]"
   ]
  },
  {
   "cell_type": "code",
   "execution_count": 34,
   "id": "711183f7-e500-4e0b-aabe-4b2653a0d1c1",
   "metadata": {},
   "outputs": [
    {
     "data": {
      "text/html": [
       "<div>\n",
       "<style scoped>\n",
       "    .dataframe tbody tr th:only-of-type {\n",
       "        vertical-align: middle;\n",
       "    }\n",
       "\n",
       "    .dataframe tbody tr th {\n",
       "        vertical-align: top;\n",
       "    }\n",
       "\n",
       "    .dataframe thead th {\n",
       "        text-align: right;\n",
       "    }\n",
       "</style>\n",
       "<table border=\"1\" class=\"dataframe\">\n",
       "  <thead>\n",
       "    <tr style=\"text-align: right;\">\n",
       "      <th></th>\n",
       "      <th>time_to_renal(yr)</th>\n",
       "      <th>visits_bw</th>\n",
       "      <th>visits_bw/yr</th>\n",
       "      <th>output_class</th>\n",
       "    </tr>\n",
       "  </thead>\n",
       "  <tbody>\n",
       "    <tr>\n",
       "      <th>count</th>\n",
       "      <td>2805.000000</td>\n",
       "      <td>2805.000000</td>\n",
       "      <td>2805.000000</td>\n",
       "      <td>2805.0</td>\n",
       "    </tr>\n",
       "    <tr>\n",
       "      <th>mean</th>\n",
       "      <td>1.271791</td>\n",
       "      <td>38.228164</td>\n",
       "      <td>43.025790</td>\n",
       "      <td>1.0</td>\n",
       "    </tr>\n",
       "    <tr>\n",
       "      <th>std</th>\n",
       "      <td>0.891887</td>\n",
       "      <td>43.427083</td>\n",
       "      <td>46.135914</td>\n",
       "      <td>0.0</td>\n",
       "    </tr>\n",
       "    <tr>\n",
       "      <th>min</th>\n",
       "      <td>0.084875</td>\n",
       "      <td>2.000000</td>\n",
       "      <td>0.653386</td>\n",
       "      <td>1.0</td>\n",
       "    </tr>\n",
       "    <tr>\n",
       "      <th>25%</th>\n",
       "      <td>0.451755</td>\n",
       "      <td>9.000000</td>\n",
       "      <td>12.137968</td>\n",
       "      <td>1.0</td>\n",
       "    </tr>\n",
       "    <tr>\n",
       "      <th>50%</th>\n",
       "      <td>1.138969</td>\n",
       "      <td>23.000000</td>\n",
       "      <td>28.363518</td>\n",
       "      <td>1.0</td>\n",
       "    </tr>\n",
       "    <tr>\n",
       "      <th>75%</th>\n",
       "      <td>2.015100</td>\n",
       "      <td>50.000000</td>\n",
       "      <td>56.191154</td>\n",
       "      <td>1.0</td>\n",
       "    </tr>\n",
       "    <tr>\n",
       "      <th>max</th>\n",
       "      <td>3.066456</td>\n",
       "      <td>335.000000</td>\n",
       "      <td>375.984926</td>\n",
       "      <td>1.0</td>\n",
       "    </tr>\n",
       "  </tbody>\n",
       "</table>\n",
       "</div>"
      ],
      "text/plain": [
       "       time_to_renal(yr)    visits_bw  visits_bw/yr  output_class\n",
       "count        2805.000000  2805.000000   2805.000000        2805.0\n",
       "mean            1.271791    38.228164     43.025790           1.0\n",
       "std             0.891887    43.427083     46.135914           0.0\n",
       "min             0.084875     2.000000      0.653386           1.0\n",
       "25%             0.451755     9.000000     12.137968           1.0\n",
       "50%             1.138969    23.000000     28.363518           1.0\n",
       "75%             2.015100    50.000000     56.191154           1.0\n",
       "max             3.066456   335.000000    375.984926           1.0"
      ]
     },
     "execution_count": 34,
     "metadata": {},
     "output_type": "execute_result"
    }
   ],
   "source": [
    "fast.describe()"
   ]
  },
  {
   "cell_type": "code",
   "execution_count": 35,
   "id": "15c272e1-12de-4aea-8252-8d3e359b7fef",
   "metadata": {},
   "outputs": [
    {
     "data": {
      "text/html": [
       "<div>\n",
       "<style scoped>\n",
       "    .dataframe tbody tr th:only-of-type {\n",
       "        vertical-align: middle;\n",
       "    }\n",
       "\n",
       "    .dataframe tbody tr th {\n",
       "        vertical-align: top;\n",
       "    }\n",
       "\n",
       "    .dataframe thead th {\n",
       "        text-align: right;\n",
       "    }\n",
       "</style>\n",
       "<table border=\"1\" class=\"dataframe\">\n",
       "  <thead>\n",
       "    <tr style=\"text-align: right;\">\n",
       "      <th></th>\n",
       "      <th>time_to_renal(yr)</th>\n",
       "      <th>visits_bw</th>\n",
       "      <th>visits_bw/yr</th>\n",
       "      <th>output_class</th>\n",
       "    </tr>\n",
       "  </thead>\n",
       "  <tbody>\n",
       "    <tr>\n",
       "      <th>count</th>\n",
       "      <td>2803.000000</td>\n",
       "      <td>2803.000000</td>\n",
       "      <td>2803.000000</td>\n",
       "      <td>2803.0</td>\n",
       "    </tr>\n",
       "    <tr>\n",
       "      <th>mean</th>\n",
       "      <td>6.358120</td>\n",
       "      <td>106.970746</td>\n",
       "      <td>17.552275</td>\n",
       "      <td>0.0</td>\n",
       "    </tr>\n",
       "    <tr>\n",
       "      <th>std</th>\n",
       "      <td>2.530855</td>\n",
       "      <td>115.485228</td>\n",
       "      <td>17.687748</td>\n",
       "      <td>0.0</td>\n",
       "    </tr>\n",
       "    <tr>\n",
       "      <th>min</th>\n",
       "      <td>3.069194</td>\n",
       "      <td>0.000000</td>\n",
       "      <td>0.000000</td>\n",
       "      <td>0.0</td>\n",
       "    </tr>\n",
       "    <tr>\n",
       "      <th>25%</th>\n",
       "      <td>4.283456</td>\n",
       "      <td>21.000000</td>\n",
       "      <td>3.630643</td>\n",
       "      <td>0.0</td>\n",
       "    </tr>\n",
       "    <tr>\n",
       "      <th>50%</th>\n",
       "      <td>5.796149</td>\n",
       "      <td>71.000000</td>\n",
       "      <td>12.729631</td>\n",
       "      <td>0.0</td>\n",
       "    </tr>\n",
       "    <tr>\n",
       "      <th>75%</th>\n",
       "      <td>7.844104</td>\n",
       "      <td>149.000000</td>\n",
       "      <td>25.670751</td>\n",
       "      <td>0.0</td>\n",
       "    </tr>\n",
       "    <tr>\n",
       "      <th>max</th>\n",
       "      <td>15.480126</td>\n",
       "      <td>902.000000</td>\n",
       "      <td>154.065927</td>\n",
       "      <td>0.0</td>\n",
       "    </tr>\n",
       "  </tbody>\n",
       "</table>\n",
       "</div>"
      ],
      "text/plain": [
       "       time_to_renal(yr)    visits_bw  visits_bw/yr  output_class\n",
       "count        2803.000000  2803.000000   2803.000000        2803.0\n",
       "mean            6.358120   106.970746     17.552275           0.0\n",
       "std             2.530855   115.485228     17.687748           0.0\n",
       "min             3.069194     0.000000      0.000000           0.0\n",
       "25%             4.283456    21.000000      3.630643           0.0\n",
       "50%             5.796149    71.000000     12.729631           0.0\n",
       "75%             7.844104   149.000000     25.670751           0.0\n",
       "max            15.480126   902.000000    154.065927           0.0"
      ]
     },
     "execution_count": 35,
     "metadata": {},
     "output_type": "execute_result"
    }
   ],
   "source": [
    "slow.describe()"
   ]
  },
  {
   "cell_type": "code",
   "execution_count": 36,
   "id": "fc838053-ee94-42b9-b554-b0b7c7eacd20",
   "metadata": {},
   "outputs": [],
   "source": [
    "fast=merge[merge['output_class']==1]"
   ]
  },
  {
   "cell_type": "code",
   "execution_count": 37,
   "id": "678f7299-bed2-4805-b089-cac9fe100aca",
   "metadata": {},
   "outputs": [],
   "source": [
    "merge.loc[merge['output_class']==1 ,'output_class']='Fast'\n",
    "merge.loc[merge['output_class']==0 ,'output_class']='Slow'"
   ]
  },
  {
   "cell_type": "code",
   "execution_count": 39,
   "id": "f9daa95a-1aea-4534-9b1b-c6bfa2391f1f",
   "metadata": {},
   "outputs": [
    {
     "name": "stdout",
     "output_type": "stream",
     "text": [
      "Slow v.s. Fast: Mann-Whitney-Wilcoxon test two-sided with Bonferroni correction, P_val=1.461e-153 U_stat=2.331e+06\n"
     ]
    },
    {
     "data": {
      "image/png": "[encoded data removed]",
      "text/plain": [
       "<Figure size 468x432 with 1 Axes>"
      ]
     },
     "metadata": {},
     "output_type": "display_data"
    }
   ],
   "source": [
    "sns.set(style=\"whitegrid\")\n",
    "\n",
    "x = \"output_class\"\n",
    "y = \"visits_bw/yr\"\n",
    "order = ['Slow','Fast']\n",
    "ax = sns.boxplot(data=merge, x=x, y=y, order=order)\n",
    "add_stat_annotation(ax, data=merge, x=x, y=y, order=order,\n",
    "                    box_pairs=[('Slow','Fast')], \n",
    "                    test='Mann-Whitney', text_format='simple', loc='inside', verbose=2,fontsize=20)\n",
    "_ = ax.set(xlabel=\"Nephropathy Diagnosis\", ylabel=\"Visits between T2DM and Nephropathy Diagnoses\")\n",
    "\n",
    "ax.tick_params(labelsize=24)\n",
    "ax.set_xlabel(\"Nephropathy Diagnosis\",fontsize=24)\n",
    "ax.set_ylabel(\"Visits/yr between T2DM+Nephropathy\",fontsize=20)\n",
    "sns.set(rc={'figure.figsize':(6.5,6)})\n",
    "ax.grid(False)\n",
    "plt.savefig(r'/Users/amomenzadeh/Desktop/DM_figures/renal_visits.svg', format='svg',bbox_inches='tight')\n",
    "plt.show()"
   ]
  },
  {
   "cell_type": "code",
   "execution_count": null,
   "id": "41d2a847-2895-4ef4-837f-395664878207",
   "metadata": {},
   "outputs": [],
   "source": []
  }
 ],
 "metadata": {
  "kernelspec": {
   "display_name": "Python 3 (ipykernel)",
   "language": "python",
   "name": "python3"
  },
  "language_info": {
   "codemirror_mode": {
    "name": "ipython",
    "version": 3
   },
   "file_extension": ".py",
   "mimetype": "text/x-python",
   "name": "python",
   "nbconvert_exporter": "python",
   "pygments_lexer": "ipython3",
   "version": "3.7.11"
  },
  "varInspector": {
   "cols": {
    "lenName": "24",
    "lenType": 16,
    "lenVar": "0"
   },
   "kernels_config": {
    "python": {
     "delete_cmd_postfix": "",
     "delete_cmd_prefix": "del ",
     "library": "var_list.py",
     "varRefreshCmd": "print(var_dic_list())"
    },
    "r": {
     "delete_cmd_postfix": ") ",
     "delete_cmd_prefix": "rm(",
     "library": "var_list.r",
     "varRefreshCmd": "cat(var_dic_list()) "
    }
   },
   "oldHeight": 589.043,
   "position": {
    "height": "40px",
    "left": "1370.37px",
    "right": "20px",
    "top": "184.672px",
    "width": "522.598px"
   },
   "types_to_exclude": [
    "module",
    "function",
    "builtin_function_or_method",
    "instance",
    "_Feature"
   ],
   "varInspector_section_display": "none",
   "window_display": false
  }
 },
 "nbformat": 4,
 "nbformat_minor": 5
}
