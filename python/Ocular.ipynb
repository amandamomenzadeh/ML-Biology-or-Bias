{
 "cells": [
  {
   "cell_type": "markdown",
   "id": "dfef385c-6bf2-46cf-8cb5-0e02fee14270",
   "metadata": {
    "tags": []
   },
   "source": [
    "## Ocular Disease\n",
    "----------------------------------"
   ]
  },
  {
   "cell_type": "markdown",
   "id": "775ead9f-e6d8-4449-b316-0a62f962ac7f",
   "metadata": {
    "tags": []
   },
   "source": [
    "### 1. Import packages"
   ]
  },
  {
   "cell_type": "code",
   "execution_count": null,
   "id": "0b2ba98f-365a-44fb-a8fd-77379cc91fcd",
   "metadata": {},
   "outputs": [],
   "source": [
    "#!conda install -c https://conda.anaconda.org/plotly plotly -y\n",
    "#!pip install pydot\n",
    "#!pip install graphviz\n",
    "#!conda install -c anaconda py-xgboost -y\n",
    "#!pip install shap\n",
    "#!pip install dill\n",
    "#pip install matplotlib\n",
    "#pip install seaborn\n",
    "#pip install missingpy\n",
    "#!pip3 install pickle5\n",
    "#pip install statannot"
   ]
  },
  {
   "cell_type": "code",
   "execution_count": 1,
   "id": "12b50529",
   "metadata": {
    "ExecuteTime": {
     "end_time": "2021-09-24T21:11:10.209823Z",
     "start_time": "2021-09-24T21:10:59.833304Z"
    },
    "run_control": {
     "marked": false
    },
    "tags": []
   },
   "outputs": [
    {
     "name": "stdout",
     "output_type": "stream",
     "text": [
      "Requirement already satisfied: pickle5 in /opt/anaconda3/envs/Python37/lib/python3.7/site-packages (0.0.11)\n"
     ]
    }
   ],
   "source": [
    "import pandas as pd\n",
    "import sqlite3 as sql\n",
    "import numpy as np\n",
    "from IPython.display import HTML\n",
    "from datetime import datetime\n",
    "\n",
    "%matplotlib inline\n",
    "import matplotlib\n",
    "import matplotlib.pyplot as plt\n",
    "import seaborn as sns\n",
    "sns.set()  # set plot style\n",
    "from collections import Counter\n",
    "import scipy as sp\n",
    "import sklearn as sk\n",
    "import sys\n",
    "import plotly.express as px\n",
    "import pydot\n",
    "import pickle\n",
    "import time\n",
    "import xgboost as xgb\n",
    "import shap\n",
    "import dill\n",
    "import gc\n",
    "import subprocess\n",
    "!pip3 install pickle5\n",
    "import pickle5 as pickle\n",
    "import sklearn.metrics as metrics\n",
    "from scipy.stats import ranksums, ttest_ind\n",
    "from statsmodels.stats.weightstats import ztest\n",
    "import pylab \n",
    "import scipy.stats as stats\n",
    "from scipy.stats import chi2_contingency\n",
    "from matplotlib import rc\n",
    "from cycler import cycler\n",
    "from sklearn.calibration import calibration_curve\n",
    "from sklearn.metrics import brier_score_loss\n",
    "from statannot import add_stat_annotation"
   ]
  },
  {
   "cell_type": "code",
   "execution_count": 2,
   "id": "b9c1ee78",
   "metadata": {
    "ExecuteTime": {
     "end_time": "2021-09-24T21:11:10.240882Z",
     "start_time": "2021-09-24T21:11:10.225260Z"
    },
    "tags": []
   },
   "outputs": [],
   "source": [
    "import os\n",
    "from pandas.plotting import scatter_matrix\n",
    "from matplotlib import pyplot\n",
    "\n",
    "from collections import defaultdict\n",
    "\n",
    "from sklearn.linear_model import Lasso\n",
    "from sklearn.linear_model import ElasticNet\n",
    "from sklearn.linear_model import LinearRegression\n",
    "from sklearn.linear_model import RidgeCV\n",
    "\n",
    "from sklearn.model_selection import train_test_split\n",
    "from sklearn.model_selection import cross_val_score\n",
    "from sklearn.model_selection import StratifiedKFold\n",
    "\n",
    "from sklearn.metrics import classification_report\n",
    "from sklearn.metrics import confusion_matrix\n",
    "from sklearn.metrics import accuracy_score\n",
    "from sklearn.metrics import recall_score\n",
    "from sklearn.metrics import precision_score\n",
    "from sklearn.metrics import f1_score\n",
    "from sklearn.metrics import explained_variance_score\n",
    "from sklearn.metrics import mean_absolute_error\n",
    "from sklearn.metrics import mean_squared_error\n",
    "from sklearn.metrics import r2_score\n",
    "from sklearn.metrics import plot_confusion_matrix\n",
    "from sklearn.tree import export_graphviz\n",
    "from sklearn.metrics import roc_curve\n",
    "from sklearn.metrics import roc_auc_score\n",
    "\n",
    "from sklearn.neighbors import KNeighborsRegressor\n",
    "from sklearn.ensemble import RandomForestRegressor\n",
    "from sklearn.ensemble import ExtraTreesRegressor, AdaBoostRegressor, GradientBoostingRegressor\n",
    "from sklearn.dummy import DummyRegressor\n",
    "from sklearn.linear_model import Lasso, Ridge, ElasticNet\n",
    "from sklearn.svm import SVR\n",
    "from sklearn.multioutput import MultiOutputRegressor\n",
    "\n",
    "from sklearn.model_selection import KFold\n",
    "from sklearn.model_selection import ParameterGrid\n",
    "from sklearn.model_selection import GridSearchCV"
   ]
  },
  {
   "cell_type": "code",
   "execution_count": 3,
   "id": "3e4acfe8",
   "metadata": {
    "ExecuteTime": {
     "end_time": "2021-09-24T21:11:10.271596Z",
     "start_time": "2021-09-24T21:11:10.257604Z"
    },
    "tags": []
   },
   "outputs": [],
   "source": [
    "from sklearn.linear_model import LogisticRegression\n",
    "from sklearn.dummy import DummyClassifier\n",
    "from sklearn.ensemble import RandomForestClassifier\n",
    "from sklearn.ensemble import ExtraTreesClassifier\n",
    "from sklearn.ensemble import AdaBoostClassifier\n",
    "from sklearn.ensemble import GradientBoostingClassifier\n",
    "from sklearn.svm import SVC\n",
    "from sklearn.neighbors import KNeighborsClassifier\n",
    "from sklearn.discriminant_analysis import LinearDiscriminantAnalysis\n",
    "from sklearn.naive_bayes import GaussianNB\n",
    "from sklearn.tree import DecisionTreeClassifier\n",
    "import time"
   ]
  },
  {
   "cell_type": "markdown",
   "id": "4b6552b9-1943-45f9-92d5-f66c2774ebc8",
   "metadata": {
    "jp-MarkdownHeadingCollapsed": true,
    "tags": []
   },
   "source": [
    "### 2. Removing pts w/ comp diff=NaN from Output"
   ]
  },
  {
   "cell_type": "code",
   "execution_count": 4,
   "id": "76b6934d-56d4-44f9-b777-b2e87fab73f2",
   "metadata": {},
   "outputs": [],
   "source": [
    "with open(r'/Users/amomenzadeh/Desktop/DM_pickles/comps_over1mo_df.pkl', 'rb') as handle:\n",
    "    comps_over1mo_df = pickle.load(handle) "
   ]
  },
  {
   "cell_type": "code",
   "execution_count": 5,
   "id": "ec6831d1-64c6-4782-99f0-1d866bb028b6",
   "metadata": {},
   "outputs": [
    {
     "name": "stdout",
     "output_type": "stream",
     "text": [
      "Total Length:  (30854,)\n",
      "Number to be dropped:  (23127,)\n",
      "Output dataset size: (7727,)\n"
     ]
    }
   ],
   "source": [
    "#1mo\n",
    "opthal_time = comps_over1mo_df.OPTH_diff.copy()\n",
    "opthal_time_drop=opthal_time.replace(np.nan, 'Drop', inplace=False)\n",
    "opth_index = opthal_time_drop [opthal_time_drop == 'Drop'].index\n",
    "print(\"Total Length: \", opthal_time_drop.shape)\n",
    "print(\"Number to be dropped: \", opthal_time_drop[opthal_time_drop == 'Drop'].shape)\n",
    "# dropping the NaNs from our OUTput data\n",
    "opthal_time_drop.drop(opth_index, inplace=True)\n",
    "opthal_time_final = opthal_time_drop.astype('float64')\n",
    "print('Output dataset size:', opthal_time_final.shape)"
   ]
  },
  {
   "cell_type": "markdown",
   "id": "bc68b5e8-b93a-4ca0-a596-87de942fb5e6",
   "metadata": {
    "jp-MarkdownHeadingCollapsed": true,
    "tags": []
   },
   "source": [
    "### 3. Two way drop from input and output"
   ]
  },
  {
   "cell_type": "code",
   "execution_count": 6,
   "id": "8f8ef127-5da0-4f0d-9a6d-f49d5c56411c",
   "metadata": {},
   "outputs": [],
   "source": [
    "with open(r'/Users/amomenzadeh/Desktop/DM_pickles/phen_demos_vit_soc_lab.pkl', 'rb') as handle:\n",
    "    phen_demos_vit_soc_lab = pickle.load(handle)"
   ]
  },
  {
   "cell_type": "code",
   "execution_count": 7,
   "id": "8c8afd19-e260-4821-9b2f-608ba371ab95",
   "metadata": {
    "tags": []
   },
   "outputs": [],
   "source": [
    "def drop_opth_list(output_df,input_df):\n",
    "    extra_list=list(set(input_df.index.tolist())-set(output_df.index.tolist()))\n",
    "    input_df_new=input_df.drop(extra_list)\n",
    "    extra_list_rev=list(set(output_df.index.tolist())-set(input_df_new.index.tolist()))\n",
    "    output_df_new=output_df.drop(extra_list_rev)\n",
    "    print('length of input_df:', len(input_df))\n",
    "    print('length of opth_df:', len(output_df))\n",
    "    print('length of # to drop from  input:',len(extra_list))\n",
    "    print('length of # to drop from  opth:',len(extra_list_rev))\n",
    "    print('length of input_df after dropping',len(input_df_new))\n",
    "    print('length of opth_df after dropping',len(output_df_new))\n",
    "    print('Indexes equal?', np.all(input_df_new.index == output_df_new.index))\n",
    "    return output_df_new, input_df_new"
   ]
  },
  {
   "cell_type": "code",
   "execution_count": 8,
   "id": "eb00fc75-c00b-4279-8d64-0f615a8e9d63",
   "metadata": {},
   "outputs": [
    {
     "data": {
      "text/plain": [
       "(15987, 1824)"
      ]
     },
     "execution_count": 8,
     "metadata": {},
     "output_type": "execute_result"
    }
   ],
   "source": [
    "phen_demos_vit_soc_lab.shape"
   ]
  },
  {
   "cell_type": "code",
   "execution_count": 9,
   "id": "7a276257-d815-4d62-a140-4aaeac24f119",
   "metadata": {},
   "outputs": [
    {
     "data": {
      "text/plain": [
       "(7727,)"
      ]
     },
     "execution_count": 9,
     "metadata": {},
     "output_type": "execute_result"
    }
   ],
   "source": [
    "opthal_time_final.shape"
   ]
  },
  {
   "cell_type": "code",
   "execution_count": 10,
   "id": "82c2754b-d9e0-4412-8f4d-d18bd366ccbe",
   "metadata": {
    "tags": []
   },
   "outputs": [
    {
     "name": "stdout",
     "output_type": "stream",
     "text": [
      "length of input_df: 15987\n",
      "length of opth_df: 7727\n",
      "length of # to drop from  input: 12913\n",
      "length of # to drop from  opth: 4653\n",
      "length of input_df after dropping 3074\n",
      "length of opth_df after dropping 3074\n",
      "Indexes equal? True\n"
     ]
    }
   ],
   "source": [
    "opthal_final, all_inputs=drop_opth_list(opthal_time_final, phen_demos_vit_soc_lab)"
   ]
  },
  {
   "cell_type": "markdown",
   "id": "a3a3db94-cc30-4112-89d3-29f9a9dddc1d",
   "metadata": {
    "jp-MarkdownHeadingCollapsed": true,
    "tags": []
   },
   "source": [
    "### 4. Make output diff times categorical using median as cut-off"
   ]
  },
  {
   "cell_type": "code",
   "execution_count": 11,
   "id": "59008050-e7f7-4468-8d3b-afbf6984b6bf",
   "metadata": {},
   "outputs": [
    {
     "data": {
      "text/plain": [
       "2.993901312141933"
      ]
     },
     "execution_count": 11,
     "metadata": {},
     "output_type": "execute_result"
    }
   ],
   "source": [
    "opthal_final.median()"
   ]
  },
  {
   "cell_type": "code",
   "execution_count": 12,
   "id": "57f31883-20ec-432a-b923-98684deefe3d",
   "metadata": {},
   "outputs": [
    {
     "data": {
      "text/plain": [
       "16.23578855144185"
      ]
     },
     "execution_count": 12,
     "metadata": {},
     "output_type": "execute_result"
    }
   ],
   "source": [
    "opthal_final.max()"
   ]
  },
  {
   "cell_type": "code",
   "execution_count": 13,
   "id": "20043686-96dd-4e78-84ec-98d149ef7303",
   "metadata": {},
   "outputs": [
    {
     "data": {
      "text/plain": [
       "<Figure size 864x576 with 0 Axes>"
      ]
     },
     "metadata": {},
     "output_type": "display_data"
    },
    {
     "data": {
      "image/png": "[encoded data removed]",
      "text/plain": [
       "<Figure size 864x576 with 1 Axes>"
      ]
     },
     "metadata": {},
     "output_type": "display_data"
    }
   ],
   "source": [
    "plt.figure(figsize=(12,8))\n",
    "plt.rcParams['axes.facecolor']='white'\n",
    "plt.rcParams[\"axes.edgecolor\"] = \"black\"\n",
    "plt.figure(figsize=(12,8))\n",
    "h = plt.hist(opthal_final, edgecolor='#007066', \n",
    "             bins=60, alpha=0.4,\n",
    "             color='#007066')\n",
    "h = plt.axvline(opthal_final.median(), color='maroon', linestyle='solid', linewidth=1.25)\n",
    "min_ylim, max_ylim = plt.ylim()\n",
    "plt.text(opthal_final.median()*1.08, max_ylim*0.6, \n",
    "         'Median: {:.2f} years'.format(opthal_final.median()),\n",
    "         fontsize=24, fontweight=600, color='maroon')\n",
    "plt.xlim(left=0.0)\n",
    "plt.xlabel('Time to Complication (years)', fontsize=26, fontweight=600)\n",
    "plt.ylabel('Counts', fontsize=30, fontweight=600)\n",
    "plt.xticks(fontsize=30)\n",
    "plt.yticks(fontsize=30)\n",
    "plt.title(\"Ocular Disease\", fontsize=32, fontweight=600)\n",
    "plt.savefig(r'/Users/amomenzadeh/Desktop/DM_figures/opth_hist.svg', format='svg')\n",
    "plt.show()"
   ]
  },
  {
   "cell_type": "code",
   "execution_count": 14,
   "id": "48eef47c-ef48-4618-9252-73674e27c7bf",
   "metadata": {},
   "outputs": [],
   "source": [
    "#assign 0 if opth complication occurred > OPTH diff median = slow\n",
    "#assign 1 if opth complication occurred < OPTH diff median = fast\n",
    "opthal_final_clf = opthal_final.copy()\n",
    "opthal_final_clf = pd.Series(np.where((opthal_final_clf > opthal_final.median()), 0, opthal_final_clf), \n",
    "                            index=opthal_final_clf.index)\n",
    "opthal_final_clf = pd.Series(np.where((opthal_final_clf > 0), 1, opthal_final_clf), \n",
    "                            index=opthal_final_clf.index)"
   ]
  },
  {
   "cell_type": "code",
   "execution_count": 15,
   "id": "18480797-661d-48c7-8eec-fc3c12a4b856",
   "metadata": {},
   "outputs": [
    {
     "name": "stdout",
     "output_type": "stream",
     "text": [
      "50.0% negative\n",
      "50.0% positive\n"
     ]
    }
   ],
   "source": [
    "num_negs = opthal_final_clf.value_counts()[0]\n",
    "num_pos = opthal_final_clf.value_counts()[1]\n",
    "neg_prop = num_negs/(num_negs + num_pos)\n",
    "print(str(round(neg_prop*100,2)), '% negative', sep='')\n",
    "print(str(100-round(neg_prop*100,2)), '% positive', sep='')"
   ]
  },
  {
   "cell_type": "code",
   "execution_count": 16,
   "id": "68495c27-368f-48ca-916d-6e001991e26a",
   "metadata": {},
   "outputs": [
    {
     "data": {
      "text/plain": [
       "(3074,)"
      ]
     },
     "execution_count": 16,
     "metadata": {},
     "output_type": "execute_result"
    }
   ],
   "source": [
    "opthal_final_clf.shape"
   ]
  },
  {
   "cell_type": "code",
   "execution_count": 33,
   "id": "b962848e-3626-4fb9-a35e-2e81ac74ab4f",
   "metadata": {},
   "outputs": [],
   "source": [
    "with open(r'./pickles/opthal_final_clf.pkl', 'wb') as handle:\n",
    "    pickle.dump(opthal_final_clf, handle, protocol=pickle.HIGHEST_PROTOCOL)"
   ]
  },
  {
   "cell_type": "markdown",
   "id": "4324ec60-804a-49a7-abad-c51847343b10",
   "metadata": {
    "jp-MarkdownHeadingCollapsed": true,
    "tags": []
   },
   "source": [
    "### 5. Final Inputs"
   ]
  },
  {
   "cell_type": "code",
   "execution_count": 29,
   "id": "58e0eeb2-582f-4a9c-9170-854986383f5f",
   "metadata": {},
   "outputs": [
    {
     "name": "stdout",
     "output_type": "stream",
     "text": [
      "(3074, 1721)\n",
      "Index(['ASCVD', 'Abdominal aortic aneurysm', 'Abdominal hernia',\n",
      "       'Abdominal pain',\n",
      "       'Abnormal Papanicolaou smear of cervix and cervical HPV',\n",
      "       'Abnormal arterial blood gases', 'Abnormal chest sounds',\n",
      "       'Abnormal coagulation profile',\n",
      "       'Abnormal electrocardiogram [ECG] [EKG]',\n",
      "       'Abnormal findings examination of lungs',\n",
      "       ...\n",
      "       'Vitamin B-complex deficiencies', 'Vitamin D deficiency',\n",
      "       'Vitamin deficiency', 'Vitiligo', 'Voice disturbance',\n",
      "       'Von willebrand's disease', 'Wegener's granulomatosis', 'Wheezing',\n",
      "       'severe protein-calorie malnutrition', 'stress incontinence, female'],\n",
      "      dtype='object', length=1721)\n"
     ]
    }
   ],
   "source": [
    "opth_phen=all_inputs.iloc[:,:-103]\n",
    "print(opth_phen.shape)\n",
    "print(opth_phen.columns)"
   ]
  },
  {
   "cell_type": "code",
   "execution_count": 20,
   "id": "fdd11985-23eb-41c7-be8c-4457c2622cde",
   "metadata": {},
   "outputs": [
    {
     "data": {
      "text/plain": [
       "(3074, 1821)"
      ]
     },
     "execution_count": 20,
     "metadata": {},
     "output_type": "execute_result"
    }
   ],
   "source": [
    "opth_all=all_inputs.drop(['duration_diab','vital_status_Alive','vital_status_Deceased'],axis=1)\n",
    "opth_all.shape"
   ]
  },
  {
   "cell_type": "code",
   "execution_count": 40,
   "id": "f63d7215-53ee-4375-8700-3134ce169af7",
   "metadata": {
    "tags": []
   },
   "outputs": [
    {
     "data": {
      "text/plain": [
       "Index(['age_at_diab', 'sex_Female', 'sex_Male', 'marital_status_Divorced',\n",
       "       'marital_status_Legally Separated', 'marital_status_Married',\n",
       "       'marital_status_Patient Refused', 'marital_status_Significant Other',\n",
       "       'marital_status_Single', 'marital_status_Unknown',\n",
       "       'marital_status_Widowed', 'employment_status_Disabled',\n",
       "       'employment_status_Full Time', 'employment_status_Not Employed',\n",
       "       'employment_status_On Active Military Duty',\n",
       "       'employment_status_Part Time', 'employment_status_Patient Refused',\n",
       "       'employment_status_Retired', 'employment_status_Self Employed',\n",
       "       'employment_status_Student - Full Time',\n",
       "       'employment_status_Student - Part Time', 'employment_status_Unknown',\n",
       "       'race_American Indian or Alaska Native', 'race_Asian',\n",
       "       'race_Black or African American', 'race_Multiracial',\n",
       "       'race_Native Hawaiian or Other Pacific Islander', 'race_Other',\n",
       "       'race_Unknown', 'race_White or Caucasian'],\n",
       "      dtype='object')"
      ]
     },
     "execution_count": 40,
     "metadata": {},
     "output_type": "execute_result"
    }
   ],
   "source": [
    "opth_demos_norm=opth_all.iloc[:,-100:-70]\n",
    "opth_demos_norm.columns"
   ]
  },
  {
   "cell_type": "code",
   "execution_count": 41,
   "id": "8532b718-32fe-4b0a-9474-fee585d18cb7",
   "metadata": {
    "tags": []
   },
   "outputs": [
    {
     "data": {
      "text/plain": [
       "Index(['bmi', 'bp_diastolic', 'bp_systolic', 'pulse', 'temperature',\n",
       "       'respiration'],\n",
       "      dtype='object')"
      ]
     },
     "execution_count": 41,
     "metadata": {},
     "output_type": "execute_result"
    }
   ],
   "source": [
    "opth_vitals_norm=opth_all.iloc[:,-70:-64]\n",
    "opth_vitals_norm.columns"
   ]
  },
  {
   "cell_type": "code",
   "execution_count": 42,
   "id": "67f1b235-5673-4cee-a51a-94a44f467198",
   "metadata": {},
   "outputs": [
    {
     "data": {
      "text/plain": [
       "Index(['alcohol_use_name_Never', 'alcohol_use_name_No',\n",
       "       'alcohol_use_name_Not Asked', 'alcohol_use_name_Not Currently',\n",
       "       'alcohol_use_name_Yes', 'ill_drug_user_name_Never',\n",
       "       'ill_drug_user_name_No', 'ill_drug_user_name_Not Asked',\n",
       "       'ill_drug_user_name_Not Currently', 'ill_drug_user_name_Yes',\n",
       "       'tobacco_user_name_Never', 'tobacco_user_name_Not Asked',\n",
       "       'tobacco_user_name_Passive', 'tobacco_user_name_Quit',\n",
       "       'tobacco_user_name_Yes', 'cigarettes_yn_N', 'cigarettes_yn_Y',\n",
       "       'pipes_yn_N', 'pipes_yn_Y', 'cigars_yn_N', 'cigars_yn_Y', 'snuff_yn_N',\n",
       "       'snuff_yn_Y', 'chew_yn_N', 'chew_yn_Y',\n",
       "       'smokeless_tob_use_name_Current User',\n",
       "       'smokeless_tob_use_name_Former User',\n",
       "       'smokeless_tob_use_name_Never Used', 'smokeless_tob_use_name_Unknown'],\n",
       "      dtype='object')"
      ]
     },
     "execution_count": 42,
     "metadata": {},
     "output_type": "execute_result"
    }
   ],
   "source": [
    "opth_social_norm=opth_all.iloc[:,-64:-35]\n",
    "opth_social_norm.columns"
   ]
  },
  {
   "cell_type": "code",
   "execution_count": 46,
   "id": "572dd580-c9e7-431d-9059-18f482b3c727",
   "metadata": {},
   "outputs": [
    {
     "data": {
      "text/plain": [
       "Index(['PLATELET COUNT', 'AST/SGOT', 'CALCIUM', 'GLUCOSE', 'BICARBONATE',\n",
       "       'CHLORIDE', 'POTASSIUM', 'HEMATOCRIT', 'WHITE BLOOD CELL COUNT',\n",
       "       'CREATININE', 'TOTAL PROTEIN', 'ALBUMIN', 'BLOOD UREA NITROGEN',\n",
       "       'ANION GAP', 'EGFR', 'EGFR FOR AFRICAN AMERICANS', 'SODIUM',\n",
       "       'BILIRUBIN TOTAL', 'ALKALINE PHOSPHATASE', 'ALT/SGPT', 'HEMOGLOBIN',\n",
       "       'RED BLOOD CELL COUNT', 'MEAN CORPUSCULAR HGB',\n",
       "       'MEAN CORPUSCULAR VOLUME', 'MEAN PLATELET VOLUME',\n",
       "       'RED CELL DISTRIBUTION WIDTH', 'MEAN CORPUSCULAR HGB CONCENTRN',\n",
       "       'MONOCYTE PERCENT', 'NEUTROPHIL PERCENT', 'EOSINOPHIL PERCENT',\n",
       "       'LYMPH PERCENT', 'NEUTROPHIL ABSOLUTE', 'LYMPHOCYTE ABSOLUTE',\n",
       "       'MONOCYTE ABSOLUTE', 'EOSINOPHIL ABSOLUTE'],\n",
       "      dtype='object')"
      ]
     },
     "execution_count": 46,
     "metadata": {},
     "output_type": "execute_result"
    }
   ],
   "source": [
    "opth_labs_norm=opth_all.iloc[:,-35:]\n",
    "opth_labs_norm.columns"
   ]
  },
  {
   "cell_type": "code",
   "execution_count": 1175,
   "id": "14fd4411",
   "metadata": {
    "tags": []
   },
   "outputs": [],
   "source": [
    "with open(r'./pickles/opth_all.pkl', 'wb') as handle:\n",
    "    pickle.dump(opth_all, handle, protocol=pickle.HIGHEST_PROTOCOL)\n",
    "with open(r'./pickles/opth_phen.pkl', 'wb') as handle:\n",
    "    pickle.dump(opth_phen, handle, protocol=pickle.HIGHEST_PROTOCOL)\n",
    "with open(r'./pickles/opth_demos_norm.pkl', 'wb') as handle:\n",
    "    pickle.dump(opth_demos_norm, handle, protocol=pickle.HIGHEST_PROTOCOL)\n",
    "with open(r'./pickles/opth_vitals_norm.pkl', 'wb') as handle:\n",
    "    pickle.dump(opth_vitals_norm, handle, protocol=pickle.HIGHEST_PROTOCOL)\n",
    "with open(r'./pickles/opth_social_norm.pkl', 'wb') as handle:\n",
    "    pickle.dump(opth_social_norm, handle, protocol=pickle.HIGHEST_PROTOCOL)\n",
    "with open(r'./pickles/opth_labs_norm.pkl', 'wb') as handle:\n",
    "    pickle.dump(opth_labs_norm, handle, protocol=pickle.HIGHEST_PROTOCOL)"
   ]
  },
  {
   "cell_type": "markdown",
   "id": "4886b4c1-7551-4f28-b665-c859d915cd0f",
   "metadata": {
    "jp-MarkdownHeadingCollapsed": true,
    "tags": []
   },
   "source": [
    "### 6. Make Table 1"
   ]
  },
  {
   "cell_type": "code",
   "execution_count": 8,
   "id": "e2771a13-19f6-49eb-8463-7f52886f46cb",
   "metadata": {},
   "outputs": [],
   "source": [
    "with open(r'./pickles/phen_prediab_bin.pkl', 'rb') as handle:\n",
    "    phen_prediab_bin = pickle.load(handle)\n",
    "with open(r'./pickles/social_df.pkl', 'rb') as handle:\n",
    "    social_df = pickle.load(handle)\n",
    "with open(r'./pickles/vitals_df.pkl', 'rb') as handle:\n",
    "    vitals_df = pickle.load(handle)\n",
    "with open(r'./pickles/imp_labs.pkl', 'rb') as handle:\n",
    "    imp_labs = pickle.load(handle)\n",
    "with open(r'./pickles/opthal_final_clf.pkl', 'rb') as handle:\n",
    "    opthal_final_clf = pickle.load(handle)"
   ]
  },
  {
   "cell_type": "code",
   "execution_count": 12,
   "id": "70ad349d-3bdc-4e9b-b625-bb0e6c40497e",
   "metadata": {},
   "outputs": [],
   "source": [
    "demos_all = pd.read_csv(r'/Users/amomenzadeh/Desktop/DM_csv/demos_all.csv',low_memory=False)"
   ]
  },
  {
   "cell_type": "code",
   "execution_count": 13,
   "id": "7578a8a2-2dcf-409e-bb10-a5c64ddc839c",
   "metadata": {},
   "outputs": [],
   "source": [
    "demos_R = pd.read_csv(r'/Users/amomenzadeh/Desktop/DM_csv/demos_from_R.csv',low_memory=False)"
   ]
  },
  {
   "cell_type": "code",
   "execution_count": 14,
   "id": "52437d57-08df-41e0-812e-2e6d85ae9b8a",
   "metadata": {},
   "outputs": [],
   "source": [
    "demos_R['patient_num'] = demos_all['patient_num'].values"
   ]
  },
  {
   "cell_type": "code",
   "execution_count": 15,
   "id": "60641564-a823-4e82-af67-f5c59948b312",
   "metadata": {},
   "outputs": [],
   "source": [
    "demos_R=demos_R.set_index('patient_num')"
   ]
  },
  {
   "cell_type": "code",
   "execution_count": 18,
   "id": "afbbb454-2f6c-488e-bbc0-82e298f4eacc",
   "metadata": {},
   "outputs": [
    {
     "data": {
      "text/plain": [
       "(3074, 1)"
      ]
     },
     "execution_count": 18,
     "metadata": {},
     "output_type": "execute_result"
    }
   ],
   "source": [
    "opth_df=opthal_final_clf.to_frame(name='class')\n",
    "opth_df.shape"
   ]
  },
  {
   "cell_type": "code",
   "execution_count": 19,
   "id": "df712aff-abd5-469f-8a71-3cb0eff9f2ac",
   "metadata": {},
   "outputs": [
    {
     "data": {
      "text/plain": [
       "(3074, 8)"
      ]
     },
     "execution_count": 19,
     "metadata": {},
     "output_type": "execute_result"
    }
   ],
   "source": [
    "all_opth=demos_R.merge(opth_df,left_index=True, right_index=True)\n",
    "all_opth.shape"
   ]
  },
  {
   "cell_type": "code",
   "execution_count": 20,
   "id": "8d0ae14e-a964-4b1a-97f1-9d2da4433b82",
   "metadata": {},
   "outputs": [
    {
     "data": {
      "text/plain": [
       "(3074, 43)"
      ]
     },
     "execution_count": 20,
     "metadata": {},
     "output_type": "execute_result"
    }
   ],
   "source": [
    "all_opth=all_opth.merge(imp_labs,left_index=True, right_index=True)\n",
    "all_opth.shape"
   ]
  },
  {
   "cell_type": "code",
   "execution_count": 21,
   "id": "2aa5983e-c384-4fed-9d10-451bea01a6da",
   "metadata": {},
   "outputs": [
    {
     "data": {
      "text/plain": [
       "(3074, 49)"
      ]
     },
     "execution_count": 21,
     "metadata": {},
     "output_type": "execute_result"
    }
   ],
   "source": [
    "all_opth=all_opth.merge(vitals_df,left_index=True, right_index=True)\n",
    "all_opth.shape"
   ]
  },
  {
   "cell_type": "code",
   "execution_count": 22,
   "id": "02398b47-5d62-4703-8a11-63f47c690721",
   "metadata": {},
   "outputs": [
    {
     "data": {
      "text/plain": [
       "(3074, 58)"
      ]
     },
     "execution_count": 22,
     "metadata": {},
     "output_type": "execute_result"
    }
   ],
   "source": [
    "all_opth=all_opth.merge(social_df,left_index=True, right_index=True)\n",
    "all_opth.shape"
   ]
  },
  {
   "cell_type": "code",
   "execution_count": 23,
   "id": "0dac108f-2392-4be8-9388-af9aea5432cd",
   "metadata": {},
   "outputs": [
    {
     "data": {
      "text/plain": [
       "Index(['alcohol_use_name', 'ill_drug_user_name', 'tobacco_user_name',\n",
       "       'cigarettes_yn', 'pipes_yn', 'cigars_yn', 'snuff_yn', 'chew_yn',\n",
       "       'smokeless_tob_use_name'],\n",
       "      dtype='object')"
      ]
     },
     "execution_count": 23,
     "metadata": {},
     "output_type": "execute_result"
    }
   ],
   "source": [
    "social_df.columns"
   ]
  },
  {
   "cell_type": "code",
   "execution_count": 24,
   "id": "4404ae41-ce96-47b7-972f-9a3ddd59fd0e",
   "metadata": {},
   "outputs": [
    {
     "data": {
      "text/plain": [
       "(3074, 1779)"
      ]
     },
     "execution_count": 24,
     "metadata": {},
     "output_type": "execute_result"
    }
   ],
   "source": [
    "all_opth=all_opth.merge(phen_prediab_bin,left_index=True, right_index=True)\n",
    "all_opth.shape"
   ]
  },
  {
   "cell_type": "code",
   "execution_count": 25,
   "id": "92301d8e-b32e-4893-890d-f32266e55a43",
   "metadata": {},
   "outputs": [
    {
     "data": {
      "text/plain": [
       "(3074, 1779)"
      ]
     },
     "execution_count": 25,
     "metadata": {},
     "output_type": "execute_result"
    }
   ],
   "source": [
    "all_opth.shape"
   ]
  },
  {
   "cell_type": "code",
   "execution_count": 26,
   "id": "90a1e761-d023-4da9-8c1b-f1bb8fa836c2",
   "metadata": {},
   "outputs": [],
   "source": [
    "i_o_fast=all_opth.loc[all_opth['class'] == 1]"
   ]
  },
  {
   "cell_type": "code",
   "execution_count": 27,
   "id": "90853513-0842-433e-87f5-e2144c68b23a",
   "metadata": {},
   "outputs": [],
   "source": [
    "i_o_slow=all_opth.loc[all_opth['class'] == 0]"
   ]
  },
  {
   "cell_type": "code",
   "execution_count": 246,
   "id": "d8c4715a-dcdb-4548-a53e-cbeedf4d645b",
   "metadata": {},
   "outputs": [
    {
     "name": "stdout",
     "output_type": "stream",
     "text": [
      "\n",
      "--Median Slow---\n",
      "\n",
      "age_at_diab       57.578184\n",
      "duration_diab     10.750665\n",
      "GLUCOSE          167.920000\n",
      "CREATININE         0.861500\n",
      "bmi               33.183800\n",
      "EGFR              60.000000\n",
      "dtype: float64\n",
      "\n",
      "---Median Fast---\n",
      "\n",
      "age_at_diab       61.583742\n",
      "duration_diab      7.862173\n",
      "GLUCOSE          161.000000\n",
      "CREATININE         0.870000\n",
      "bmi               32.998000\n",
      "EGFR              60.000000\n",
      "dtype: float64\n"
     ]
    }
   ],
   "source": [
    "print(\"\\n--Median Slow---\\n\")\n",
    "print(i_o_slow[['age_at_diab','duration_diab','GLUCOSE','CREATININE','bmi','EGFR']].median())\n",
    "print(\"\\n---Median Fast---\\n\")\n",
    "print(i_o_fast[['age_at_diab','duration_diab','GLUCOSE','CREATININE','bmi','EGFR']].median())"
   ]
  },
  {
   "cell_type": "code",
   "execution_count": 249,
   "id": "1563511c-4ad7-4dbe-8db7-9a9e47d2d58a",
   "metadata": {},
   "outputs": [
    {
     "name": "stdout",
     "output_type": "stream",
     "text": [
      "\n",
      "--IQR Slow---\n",
      "\n",
      "       age_at_diab  duration_diab      GLUCOSE   CREATININE          bmi  \\\n",
      "count  1537.000000    1537.000000  1537.000000  1537.000000  1537.000000   \n",
      "mean     56.336204      10.461175   185.175556     0.915937    33.565164   \n",
      "std      14.943301       2.901301    83.273510     0.253403     6.422481   \n",
      "min      14.738153       3.162283    42.000000     0.200000    14.150000   \n",
      "25%      46.987960       8.341307   124.000000     0.777600    29.470000   \n",
      "50%      57.578184      10.750665   167.920000     0.861500    33.183800   \n",
      "75%      67.128004      12.650772   210.000000     1.000000    37.150000   \n",
      "max      93.201092      16.798701   508.000000     2.000000    60.840000   \n",
      "\n",
      "              EGFR  \n",
      "count  1537.000000  \n",
      "mean     62.837383  \n",
      "std      11.436419  \n",
      "min      17.350000  \n",
      "25%      60.000000  \n",
      "50%      60.000000  \n",
      "75%      65.860000  \n",
      "max     100.000000  \n",
      "\n",
      "--IQR Fast---\n",
      "\n",
      "       age_at_diab  duration_diab      GLUCOSE   CREATININE          bmi  \\\n",
      "count  1537.000000    1537.000000  1537.000000  1537.000000  1537.000000   \n",
      "mean     60.701808       7.476597   178.769798     0.941594    33.382236   \n",
      "std      14.737067       3.747384    79.824087     0.258743     6.745941   \n",
      "min      14.749105       0.156061     8.000000     0.320000    15.190000   \n",
      "25%      52.244742       4.289204   121.000000     0.790000    28.880000   \n",
      "50%      61.583742       7.862173   161.000000     0.870000    32.998000   \n",
      "75%      70.361472      10.074402   204.970000     1.050000    36.940000   \n",
      "max      97.513296      17.086182   507.000000     2.000000    60.340000   \n",
      "\n",
      "              EGFR  \n",
      "count  1537.000000  \n",
      "mean     60.864033  \n",
      "std      10.368334  \n",
      "min      17.790000  \n",
      "25%      60.000000  \n",
      "50%      60.000000  \n",
      "75%      65.860000  \n",
      "max      98.000000  \n"
     ]
    }
   ],
   "source": [
    "print(\"\\n--IQR Slow---\\n\")\n",
    "print(i_o_slow[['age_at_diab','duration_diab','GLUCOSE','CREATININE','bmi','EGFR']].describe())\n",
    "print(\"\\n--IQR Fast---\\n\")\n",
    "print(i_o_fast[['age_at_diab','duration_diab','GLUCOSE','CREATININE','bmi','EGFR']].describe())"
   ]
  },
  {
   "cell_type": "code",
   "execution_count": 62,
   "id": "0368fad9-863a-4324-a77b-d51bd985bc56",
   "metadata": {},
   "outputs": [],
   "source": [
    "cat_variables=['sex', 'race', 'Essential hypertension','Hyperlipidemia','cigarettes_yn','smokeless_tob_use_name']"
   ]
  },
  {
   "cell_type": "code",
   "execution_count": 63,
   "id": "2830e4dc-0ac6-4fa9-ae14-ba522ae133e6",
   "metadata": {
    "collapsed": true,
    "jupyter": {
     "outputs_hidden": true
    },
    "tags": []
   },
   "outputs": [
    {
     "name": "stdout",
     "output_type": "stream",
     "text": [
      "sex\n",
      "Slow counts: Female    868\n",
      "Male      669\n",
      "Name: sex, dtype: int64\n",
      "Slow percents: Female    56.47365\n",
      "Male      43.52635\n",
      "Name: sex, dtype: float64\n",
      "++++++++++++++++++++++++++++++++++++++\n",
      "sex\n",
      "Fast counts: Female    804\n",
      "Male      733\n",
      "Name: sex, dtype: int64\n",
      "Fast percents: Female    52.309694\n",
      "Male      47.690306\n",
      "Name: sex, dtype: float64\n",
      "++++++++++++++++++++++++++++++++++++++\n",
      "race\n",
      "Slow counts: White or Caucasian                           1015\n",
      "Black or African American                     424\n",
      "Other                                          49\n",
      "Asian                                          41\n",
      "American Indian or Alaska Native                4\n",
      "Native Hawaiian or Other Pacific Islander       3\n",
      "Multiracial                                     1\n",
      "Name: race, dtype: int64\n",
      "Slow percents: White or Caucasian                           66.037736\n",
      "Black or African American                    27.586207\n",
      "Other                                         3.188029\n",
      "Asian                                         2.667534\n",
      "American Indian or Alaska Native              0.260247\n",
      "Native Hawaiian or Other Pacific Islander     0.195185\n",
      "Multiracial                                   0.065062\n",
      "Name: race, dtype: float64\n",
      "++++++++++++++++++++++++++++++++++++++\n",
      "race\n",
      "Fast counts: White or Caucasian                           1066\n",
      "Black or African American                     341\n",
      "Other                                          68\n",
      "Asian                                          49\n",
      "American Indian or Alaska Native                7\n",
      "Unknown                                         3\n",
      "Multiracial                                     2\n",
      "Native Hawaiian or Other Pacific Islander       1\n",
      "Name: race, dtype: int64\n",
      "Fast percents: White or Caucasian                           69.355888\n",
      "Black or African American                    22.186077\n",
      "Other                                         4.424203\n",
      "Asian                                         3.188029\n",
      "American Indian or Alaska Native              0.455433\n",
      "Unknown                                       0.195185\n",
      "Multiracial                                   0.130124\n",
      "Native Hawaiian or Other Pacific Islander     0.065062\n",
      "Name: race, dtype: float64\n",
      "++++++++++++++++++++++++++++++++++++++\n",
      "Essential hypertension\n",
      "Slow counts: 1    927\n",
      "0    610\n",
      "Name: Essential hypertension, dtype: int64\n",
      "Slow percents: 1    60.312297\n",
      "0    39.687703\n",
      "Name: Essential hypertension, dtype: float64\n",
      "++++++++++++++++++++++++++++++++++++++\n",
      "Essential hypertension\n",
      "Fast counts: 1    971\n",
      "0    566\n",
      "Name: Essential hypertension, dtype: int64\n",
      "Fast percents: 1    63.175016\n",
      "0    36.824984\n",
      "Name: Essential hypertension, dtype: float64\n",
      "++++++++++++++++++++++++++++++++++++++\n",
      "Hyperlipidemia\n",
      "Slow counts: 0    1116\n",
      "1     421\n",
      "Name: Hyperlipidemia, dtype: int64\n",
      "Slow percents: 0    72.608979\n",
      "1    27.391021\n",
      "Name: Hyperlipidemia, dtype: float64\n",
      "++++++++++++++++++++++++++++++++++++++\n",
      "Hyperlipidemia\n",
      "Fast counts: 0    983\n",
      "1    554\n",
      "Name: Hyperlipidemia, dtype: int64\n",
      "Fast percents: 0    63.955758\n",
      "1    36.044242\n",
      "Name: Hyperlipidemia, dtype: float64\n",
      "++++++++++++++++++++++++++++++++++++++\n",
      "cigarettes_yn\n",
      "Slow counts: N    1270\n",
      "Y     267\n",
      "Name: cigarettes_yn, dtype: int64\n",
      "Slow percents: N    82.628497\n",
      "Y    17.371503\n",
      "Name: cigarettes_yn, dtype: float64\n",
      "++++++++++++++++++++++++++++++++++++++\n",
      "cigarettes_yn\n",
      "Fast counts: N    1247\n",
      "Y     290\n",
      "Name: cigarettes_yn, dtype: int64\n",
      "Fast percents: N    81.132075\n",
      "Y    18.867925\n",
      "Name: cigarettes_yn, dtype: float64\n",
      "++++++++++++++++++++++++++++++++++++++\n",
      "smokeless_tob_use_name\n",
      "Slow counts: Unknown         1335\n",
      "Never Used       191\n",
      "Former User        7\n",
      "Current User       4\n",
      "Name: smokeless_tob_use_name, dtype: int64\n",
      "Slow percents: Unknown         86.857515\n",
      "Never Used      12.426805\n",
      "Former User      0.455433\n",
      "Current User     0.260247\n",
      "Name: smokeless_tob_use_name, dtype: float64\n",
      "++++++++++++++++++++++++++++++++++++++\n",
      "smokeless_tob_use_name\n",
      "Fast counts: Unknown         983\n",
      "Never Used      527\n",
      "Former User      21\n",
      "Current User      6\n",
      "Name: smokeless_tob_use_name, dtype: int64\n",
      "Fast percents: Unknown         63.955758\n",
      "Never Used      34.287573\n",
      "Former User      1.366298\n",
      "Current User     0.390371\n",
      "Name: smokeless_tob_use_name, dtype: float64\n",
      "++++++++++++++++++++++++++++++++++++++\n"
     ]
    }
   ],
   "source": [
    "for i in cat_variables:\n",
    "    print(i)\n",
    "    print('Slow counts:', i_o_slow[i].value_counts())\n",
    "    print('Slow percents:', i_o_slow[i].value_counts(normalize=True)*100)\n",
    "    print('++++++++++++++++++++++++++++++++++++++')\n",
    "    print(i)\n",
    "    print('Fast counts:', i_o_fast[i].value_counts())\n",
    "    print('Fast percents:', i_o_fast[i].value_counts(normalize=True)*100)\n",
    "    print('++++++++++++++++++++++++++++++++++++++')"
   ]
  },
  {
   "cell_type": "code",
   "execution_count": 60,
   "id": "02736878-d3cc-4d11-9e62-807ea5219c73",
   "metadata": {},
   "outputs": [
    {
     "data": {
      "text/plain": [
       "(218.08974550628366,\n",
       " 5.19575908803682e-47,\n",
       " 3,\n",
       " array([[   5.,    5.],\n",
       "        [  14.,   14.],\n",
       "        [ 359.,  359.],\n",
       "        [1159., 1159.]]))"
      ]
     },
     "execution_count": 60,
     "metadata": {},
     "output_type": "execute_result"
    }
   ],
   "source": [
    "crosstab = pd.crosstab(all_opth['smokeless_tob_use_name'], all_opth['class'])\n",
    "stats.chi2_contingency(crosstab)"
   ]
  },
  {
   "cell_type": "code",
   "execution_count": 61,
   "id": "093d5019-5c9e-4125-9e2d-4fb05817c9d6",
   "metadata": {},
   "outputs": [
    {
     "data": {
      "text/html": [
       "<div>\n",
       "<style scoped>\n",
       "    .dataframe tbody tr th:only-of-type {\n",
       "        vertical-align: middle;\n",
       "    }\n",
       "\n",
       "    .dataframe tbody tr th {\n",
       "        vertical-align: top;\n",
       "    }\n",
       "\n",
       "    .dataframe thead th {\n",
       "        text-align: right;\n",
       "    }\n",
       "</style>\n",
       "<table border=\"1\" class=\"dataframe\">\n",
       "  <thead>\n",
       "    <tr style=\"text-align: right;\">\n",
       "      <th>class</th>\n",
       "      <th>0.0</th>\n",
       "      <th>1.0</th>\n",
       "    </tr>\n",
       "    <tr>\n",
       "      <th>smokeless_tob_use_name</th>\n",
       "      <th></th>\n",
       "      <th></th>\n",
       "    </tr>\n",
       "  </thead>\n",
       "  <tbody>\n",
       "    <tr>\n",
       "      <th>Current User</th>\n",
       "      <td>4</td>\n",
       "      <td>6</td>\n",
       "    </tr>\n",
       "    <tr>\n",
       "      <th>Former User</th>\n",
       "      <td>7</td>\n",
       "      <td>21</td>\n",
       "    </tr>\n",
       "    <tr>\n",
       "      <th>Never Used</th>\n",
       "      <td>191</td>\n",
       "      <td>527</td>\n",
       "    </tr>\n",
       "    <tr>\n",
       "      <th>Unknown</th>\n",
       "      <td>1335</td>\n",
       "      <td>983</td>\n",
       "    </tr>\n",
       "  </tbody>\n",
       "</table>\n",
       "</div>"
      ],
      "text/plain": [
       "class                    0.0  1.0\n",
       "smokeless_tob_use_name           \n",
       "Current User               4    6\n",
       "Former User                7   21\n",
       "Never Used               191  527\n",
       "Unknown                 1335  983"
      ]
     },
     "execution_count": 61,
     "metadata": {},
     "output_type": "execute_result"
    }
   ],
   "source": [
    "crosstab"
   ]
  },
  {
   "cell_type": "code",
   "execution_count": 43,
   "id": "447c33d8-7150-4321-9788-b97adc678059",
   "metadata": {},
   "outputs": [
    {
     "name": "stdout",
     "output_type": "stream",
     "text": [
      "sex\n",
      "chi-square: (5.204759605211967, 0.022525129527199737, 1, array([[836., 836.],\n",
      "       [701., 701.]]))\n",
      "+++++++++++++++++++++++++++++++++++++++\n",
      "race\n",
      "chi-square: (19.203204971715586, 0.007574053560637107, 7, array([[   5.5,    5.5],\n",
      "       [  45. ,   45. ],\n",
      "       [ 382.5,  382.5],\n",
      "       [   1.5,    1.5],\n",
      "       [   2. ,    2. ],\n",
      "       [  58.5,   58.5],\n",
      "       [   1.5,    1.5],\n",
      "       [1040.5, 1040.5]]))\n",
      "+++++++++++++++++++++++++++++++++++++++\n",
      "Essential hypertension\n",
      "chi-square: (2.5464622624603055, 0.11054152729779251, 1, array([[588., 588.],\n",
      "       [949., 949.]]))\n",
      "+++++++++++++++++++++++++++++++++++++++\n",
      "Hyperlipidemia\n",
      "chi-square: (26.17186499065489, 3.123402984216219e-07, 1, array([[1049.5, 1049.5],\n",
      "       [ 487.5,  487.5]]))\n",
      "+++++++++++++++++++++++++++++++++++++++\n",
      "cigarettes_yn\n",
      "chi-square: (1.0612331656406098, 0.3029340969253571, 1, array([[1258.5, 1258.5],\n",
      "       [ 278.5,  278.5]]))\n",
      "+++++++++++++++++++++++++++++++++++++++\n",
      "smokeless_tob_use_name\n",
      "chi-square: (218.08974550628366, 5.19575908803682e-47, 3, array([[   5.,    5.],\n",
      "       [  14.,   14.],\n",
      "       [ 359.,  359.],\n",
      "       [1159., 1159.]]))\n",
      "+++++++++++++++++++++++++++++++++++++++\n",
      "alcohol_use_name\n",
      "chi-square: (75.78728007253527, 1.3579376306005976e-15, 4, array([[ 24.5,  24.5],\n",
      "       [843.5, 843.5],\n",
      "       [119.5, 119.5],\n",
      "       [  9.5,   9.5],\n",
      "       [540. , 540. ]]))\n",
      "+++++++++++++++++++++++++++++++++++++++\n",
      "ill_drug_user_name\n",
      "chi-square: (95.74358725259779, 7.917762443749766e-20, 4, array([[  38. ,   38. ],\n",
      "       [1211. , 1211. ],\n",
      "       [ 221. ,  221. ],\n",
      "       [   7.5,    7.5],\n",
      "       [  59.5,   59.5]]))\n",
      "+++++++++++++++++++++++++++++++++++++++\n"
     ]
    }
   ],
   "source": [
    "from scipy import stats\n",
    "for i in cat_variables:\n",
    "    print(i)\n",
    "    crosstab = pd.crosstab(all_opth[i], all_opth['class'])\n",
    "    print('chi-square:',stats.chi2_contingency(crosstab))\n",
    "    print('+++++++++++++++++++++++++++++++++++++++')\n"
   ]
  },
  {
   "cell_type": "code",
   "execution_count": 250,
   "id": "fcd85b79-9067-489e-b79a-b555b2728c86",
   "metadata": {
    "tags": []
   },
   "outputs": [
    {
     "name": "stdout",
     "output_type": "stream",
     "text": [
      "age_at_diab\n",
      "fast var normality: ShapiroResult(statistic=0.9873067140579224, pvalue=2.388175490697364e-10)\n",
      "slow var normality: ShapiroResult(statistic=0.9859337210655212, pvalue=4.4370764007428676e-11)\n",
      "ranksum:  RanksumsResult(statistic=7.824823678937728, pvalue=5.083689192764585e-15)\n",
      "+++++++++++++++++++++++++++++++++++++++\n",
      "duration_diab\n",
      "fast var normality: ShapiroResult(statistic=0.9807047843933105, pvalue=1.6551033276118038e-13)\n",
      "slow var normality: ShapiroResult(statistic=0.9838185906410217, pvalue=4.020124511061596e-12)\n",
      "ranksum:  RanksumsResult(statistic=-21.979429876810453, pvalue=4.5311616977578495e-107)\n",
      "+++++++++++++++++++++++++++++++++++++++\n",
      "GLUCOSE\n",
      "fast var normality: ShapiroResult(statistic=0.9016240239143372, pvalue=2.507483675162767e-30)\n",
      "slow var normality: ShapiroResult(statistic=0.9068310260772705, pvalue=1.1955502780857347e-29)\n",
      "ranksum:  RanksumsResult(statistic=-2.1263814671716714, pvalue=0.03347150962280172)\n",
      "+++++++++++++++++++++++++++++++++++++++\n",
      "CREATININE\n",
      "fast var normality: ShapiroResult(statistic=0.9159749150276184, pvalue=2.207080086563801e-28)\n",
      "slow var normality: ShapiroResult(statistic=0.8985535502433777, pvalue=1.0287001209243693e-30)\n",
      "ranksum:  RanksumsResult(statistic=3.148064730535324, pvalue=0.0016435529374638665)\n",
      "+++++++++++++++++++++++++++++++++++++++\n",
      "bmi\n",
      "fast var normality: ShapiroResult(statistic=0.9761223196983337, pvalue=2.6863607570522773e-15)\n",
      "slow var normality: ShapiroResult(statistic=0.9780480265617371, pvalue=1.4128435021302371e-14)\n",
      "ranksum:  RanksumsResult(statistic=-1.2129732595454936, pvalue=0.22514004430886836)\n",
      "+++++++++++++++++++++++++++++++++++++++\n",
      "EGFR\n",
      "fast var normality: ShapiroResult(statistic=0.842287540435791, pvalue=1.4862987628854633e-36)\n",
      "slow var normality: ShapiroResult(statistic=0.869012176990509, pvalue=4.94907504020413e-34)\n",
      "ranksum:  RanksumsResult(statistic=-5.018573219705767, pvalue=5.205665259991001e-07)\n",
      "+++++++++++++++++++++++++++++++++++++++\n"
     ]
    }
   ],
   "source": [
    "listofname=['age_at_diab','duration_diab','GLUCOSE','CREATININE','bmi','EGFR']\n",
    "\n",
    "for x in listofname:\n",
    "    print(x)\n",
    "    print('fast var normality:', stats.shapiro(i_o_fast[x]))\n",
    "    print('slow var normality:',stats.shapiro(i_o_slow[x]))\n",
    "    \n",
    "    #print('t-test: ',ttest_ind(i_o_fast[x],i_o_slow[x], equal_var=True))\n",
    "    print('ranksum: ',ranksums(i_o_fast[x],i_o_slow[x]))\n",
    "    #print('z-test: ', ztest(i_o_fast[x],i_o_slow[x]))\n",
    "    print('+++++++++++++++++++++++++++++++++++++++')"
   ]
  },
  {
   "cell_type": "markdown",
   "id": "5a33c82e-b628-45e9-9b39-fabf6c754bae",
   "metadata": {
    "jp-MarkdownHeadingCollapsed": true,
    "tags": []
   },
   "source": [
    "### 7. Random Search on MCW cluster"
   ]
  },
  {
   "cell_type": "code",
   "execution_count": null,
   "id": "8275c1ba-11aa-4a22-bd2f-9d2ddc75ed62",
   "metadata": {},
   "outputs": [],
   "source": [
    "#inputs\n",
    "input_dict = {\n",
    "    'Codes': opth_phen,\n",
    "    'Demos': opth_demos,\n",
    "    'Vitals': opth_vitals,\n",
    "    'Social':opth_social,\n",
    "    'Labs': opth_labs,\n",
    "    'All': opth_all}\n",
    "\n",
    "#parameters\n",
    "Dummy_params = {'strategy':['most_frequent']}\n",
    "\n",
    "GB_params = {\n",
    "    'learning_rate': np.linspace(0.1, 1, 19),\n",
    "    'max_depth': np.linspace(5, 100, 20),\n",
    "    'max_features': ['auto','sqrt','log2'],\n",
    "    'min_samples_leaf': [2, 10, 20, 40, 80, 100, 150, 200, 250, 300, 350, 400, 450, 500],\n",
    "    'min_samples_split': [2, 10, 20, 40, 80, 100, 150, 200, 250, 300, 350, 400, 450, 500],\n",
    "    'subsample':[0.8, 1],\n",
    "    'n_estimators':[10, 50, 100, 250, 500, 1000, 2000, 3000]}\n",
    "\n",
    "SVC_params = {\n",
    "    'C': [0.1,1,10,100],\n",
    "    'kernel':['poly', 'rbf', 'sigmoid'],\n",
    "    'gamma':[1,0.1,0.01,0.001]}\n",
    "\n",
    "ET_params = {\n",
    "    'bootstrap': [True, False],\n",
    "    'max_depth': np.linspace(5, 100, 20),\n",
    "    'max_features':['auto','sqrt','log2'],\n",
    "    'min_samples_leaf': [2, 10, 20, 40, 80, 100, 150, 200, 250, 300, 350, 400, 450, 500],\n",
    "    'min_samples_split': [2, 10, 20, 40, 80, 100, 150, 200, 250, 300, 350, 400, 450, 500],\n",
    "    'n_estimators':[10, 50, 100, 250, 500, 1000, 2000, 3000]}\n",
    "\n",
    "RF_params = {\n",
    "    'bootstrap': [True, False],\n",
    "    'max_depth': np.linspace(5, 100, 20),\n",
    "    'max_features':['auto','sqrt','log2'],\n",
    "    'min_samples_leaf': [2, 10, 20, 40, 80, 100, 150, 200, 250, 300, 350, 400, 450, 500],\n",
    "    'min_samples_split': [2, 10, 20, 40, 80, 100, 150, 200, 250, 300, 350, 400, 450, 500],\n",
    "    'n_estimators':[10, 50, 100, 250, 500, 1000, 2000, 3000]}\n",
    "\n",
    "ada_params = {\n",
    "    'learning_rate': np.linspace(0.1, 1, 19),\n",
    "    'n_estimators':[10, 50, 100, 250, 500, 1000, 2000, 3000]}\n",
    "\n",
    "LR_params = {\n",
    "            'C':[0.01,0.1,1,10,100],\n",
    "            'penalty':['l2','none'],\n",
    "            'solver':['newton-cg','lbfgs', 'sag', 'saga'],\n",
    "            'max_iter':[100,200,300]}\n",
    "            \n",
    "models_dict = {\n",
    "    'Dummy': DummyClassifier(),\n",
    "    'SVC': SVC(probability=True),\n",
    "    'GB': GradientBoostingClassifier(),\n",
    "    'ET': ExtraTreesClassifier(),\n",
    "    'RF': RandomForestClassifier(),\n",
    "    'AdaBoost': AdaBoostClassifier(),\n",
    "    'LR': LogisticRegression()}\n",
    "\n",
    "params_dict = {\n",
    "    'Dummy': Dummy_params,\n",
    "    'SVC': SVC_params,\n",
    "    'GB': GB_params,\n",
    "    'ET': ET_params,\n",
    "    'RF': RF_params,\n",
    "    'AdaBoost': ada_params,\n",
    "    'LR': LR_params}\n",
    "\n",
    "#run randomsearch\n",
    "opth_all_score_dict = {}\n",
    "opth_all_model_dict = {}\n",
    "\n",
    "for i in input_dict.keys():\n",
    "    print('Input:', i)\n",
    "    temp_1 = {}\n",
    "    temp_2 = {}\n",
    "    Xtrain, Xtest, ytrain, ytest = train_test_split(input_dict[i], opthal_final_clf, random_state=42, test_size=0.2) \n",
    "    for x in models_dict.keys():\n",
    "        print(x)\n",
    "        clf = RandomizedSearchCV(models_dict[x], param_distributions= params_dict[x],scoring='roc_auc',refit=True,cv=5, n_jobs=47,verbose=3, n_iter=1000)\n",
    "        clf.fit(Xtrain, ytrain)\n",
    "        print(clf.best_estimator_)\n",
    "        print(clf.best_score_)\n",
    "        temp_1[x] = clf.best_estimator_\n",
    "        temp_2[x] = clf.best_score_\n",
    "    opth_all_model_dict[i] = temp_1\n",
    "    opth_all_score_dict[i] = temp_2\n",
    "\n",
    "# save\n",
    "with open('opth_phenbin_all_score_dict.pkl', 'wb') as tmpfile:\n",
    "    pickle.dump(opth_all_score_dict, tmpfile)\n",
    "with open('opth_phenbin_all_model_dict.pkl', 'wb') as tmpfile:\n",
    "    pickle.dump(opth_all_model_dict, tmpfile)\n",
    "\n",
    "opth_score_df=pd.DataFrame.from_dict(opth_all_score_dict)\n",
    "opth_score_df.to_csv('opth_phenbin_score_df.csv')"
   ]
  },
  {
   "cell_type": "code",
   "execution_count": 11,
   "id": "d19f400f-131a-41e0-84ea-5d307da8cbfc",
   "metadata": {},
   "outputs": [],
   "source": [
    "with open(r'./pickles/opth_phenbin_all_model_dict.pkl', 'rb') as handle:\n",
    "    opth_all_model_dict = pickle.load(handle)\n",
    "with open(r'./pickles/opth_phenbin_all_score_dict.pkl', 'rb') as handle:\n",
    "    opth_all_score_dict = pickle.load(handle)"
   ]
  },
  {
   "cell_type": "markdown",
   "id": "8236ed77-f7cb-4507-85fa-4b146558ae95",
   "metadata": {
    "jp-MarkdownHeadingCollapsed": true,
    "tags": []
   },
   "source": [
    "### 8. Evaluate test set"
   ]
  },
  {
   "cell_type": "code",
   "execution_count": null,
   "id": "d6339f35-10d5-427d-b7d8-ff89cc06aad0",
   "metadata": {},
   "outputs": [],
   "source": [
    "with open(r'./pickles/opth_demos_norm.pkl', 'rb') as handle:\n",
    "    opth_demos_norm = pickle.load(handle) \n",
    "with open(r'./pickles/opth_vitals_norm.pkl', 'rb') as handle:\n",
    "    opth_vitals_norm = pickle.load(handle) \n",
    "with open(r'./pickles/opth_social_norm.pkl', 'rb') as handle:\n",
    "    opth_social_norm = pickle.load(handle) \n",
    "with open(r'./pickles/opth_labs_norm.pkl', 'rb') as handle:\n",
    "    opth_labs_norm = pickle.load(handle) \n",
    "with open(r'./pickles/opthal_final_clf.pkl', 'rb') as handle:\n",
    "    opthal_final_clf = pickle.load(handle)\n",
    "with open(r'./pickles/opth_all.pkl', 'rb') as handle:\n",
    "    opthal_all = pickle.load(handle) \n",
    "with open(r'./pickles/opth_phen.pkl', 'rb') as handle:\n",
    "    opth_phen = pickle.load(handle) "
   ]
  },
  {
   "cell_type": "code",
   "execution_count": 37,
   "id": "5599b4a5-593e-426a-895f-db804e5d30dd",
   "metadata": {},
   "outputs": [],
   "source": [
    "opth_score_df = pd.read_csv(r'/Users/amomenzadeh/Desktop/DM_csv/opth_phenbin_score_df.csv',low_memory=False)"
   ]
  },
  {
   "cell_type": "code",
   "execution_count": 38,
   "id": "73a4e84b-249a-4d48-be10-443f5bb28cf9",
   "metadata": {
    "tags": []
   },
   "outputs": [
    {
     "data": {
      "text/html": [
       "<div>\n",
       "<style scoped>\n",
       "    .dataframe tbody tr th:only-of-type {\n",
       "        vertical-align: middle;\n",
       "    }\n",
       "\n",
       "    .dataframe tbody tr th {\n",
       "        vertical-align: top;\n",
       "    }\n",
       "\n",
       "    .dataframe thead th {\n",
       "        text-align: right;\n",
       "    }\n",
       "</style>\n",
       "<table border=\"1\" class=\"dataframe\">\n",
       "  <thead>\n",
       "    <tr style=\"text-align: right;\">\n",
       "      <th></th>\n",
       "      <th>Unnamed: 0</th>\n",
       "      <th>Codes</th>\n",
       "      <th>Demos</th>\n",
       "      <th>Vitals</th>\n",
       "      <th>Social</th>\n",
       "      <th>Labs</th>\n",
       "      <th>All</th>\n",
       "    </tr>\n",
       "  </thead>\n",
       "  <tbody>\n",
       "    <tr>\n",
       "      <th>0</th>\n",
       "      <td>Dummy</td>\n",
       "      <td>0.500000</td>\n",
       "      <td>0.500000</td>\n",
       "      <td>0.500000</td>\n",
       "      <td>0.500000</td>\n",
       "      <td>0.500000</td>\n",
       "      <td>0.500000</td>\n",
       "    </tr>\n",
       "    <tr>\n",
       "      <th>1</th>\n",
       "      <td>SVC</td>\n",
       "      <td>0.590974</td>\n",
       "      <td>0.591141</td>\n",
       "      <td>0.540029</td>\n",
       "      <td>0.623225</td>\n",
       "      <td>0.600365</td>\n",
       "      <td>0.671203</td>\n",
       "    </tr>\n",
       "    <tr>\n",
       "      <th>2</th>\n",
       "      <td>GB</td>\n",
       "      <td>0.588964</td>\n",
       "      <td>0.587798</td>\n",
       "      <td>0.538546</td>\n",
       "      <td>0.633493</td>\n",
       "      <td>0.605950</td>\n",
       "      <td>0.671200</td>\n",
       "    </tr>\n",
       "    <tr>\n",
       "      <th>3</th>\n",
       "      <td>ET</td>\n",
       "      <td>0.594023</td>\n",
       "      <td>0.561059</td>\n",
       "      <td>0.548418</td>\n",
       "      <td>0.631640</td>\n",
       "      <td>0.604121</td>\n",
       "      <td>0.672770</td>\n",
       "    </tr>\n",
       "    <tr>\n",
       "      <th>4</th>\n",
       "      <td>RF</td>\n",
       "      <td>0.602673</td>\n",
       "      <td>0.577007</td>\n",
       "      <td>0.542257</td>\n",
       "      <td>0.632781</td>\n",
       "      <td>0.611866</td>\n",
       "      <td>0.676957</td>\n",
       "    </tr>\n",
       "    <tr>\n",
       "      <th>5</th>\n",
       "      <td>AdaBoost</td>\n",
       "      <td>0.563924</td>\n",
       "      <td>0.586706</td>\n",
       "      <td>0.538658</td>\n",
       "      <td>0.626261</td>\n",
       "      <td>0.600706</td>\n",
       "      <td>0.661525</td>\n",
       "    </tr>\n",
       "    <tr>\n",
       "      <th>6</th>\n",
       "      <td>LR</td>\n",
       "      <td>0.590187</td>\n",
       "      <td>0.589620</td>\n",
       "      <td>0.537250</td>\n",
       "      <td>0.619993</td>\n",
       "      <td>0.598118</td>\n",
       "      <td>0.665023</td>\n",
       "    </tr>\n",
       "  </tbody>\n",
       "</table>\n",
       "</div>"
      ],
      "text/plain": [
       "  Unnamed: 0     Codes     Demos    Vitals    Social      Labs       All\n",
       "0      Dummy  0.500000  0.500000  0.500000  0.500000  0.500000  0.500000\n",
       "1        SVC  0.590974  0.591141  0.540029  0.623225  0.600365  0.671203\n",
       "2         GB  0.588964  0.587798  0.538546  0.633493  0.605950  0.671200\n",
       "3         ET  0.594023  0.561059  0.548418  0.631640  0.604121  0.672770\n",
       "4         RF  0.602673  0.577007  0.542257  0.632781  0.611866  0.676957\n",
       "5   AdaBoost  0.563924  0.586706  0.538658  0.626261  0.600706  0.661525\n",
       "6         LR  0.590187  0.589620  0.537250  0.619993  0.598118  0.665023"
      ]
     },
     "execution_count": 38,
     "metadata": {},
     "output_type": "execute_result"
    }
   ],
   "source": [
    "#train data (80%)\n",
    "opth_score_df"
   ]
  },
  {
   "cell_type": "code",
   "execution_count": 47,
   "id": "c7c5cbc3-1a90-4e73-99e0-f7077a7d55a7",
   "metadata": {
    "tags": []
   },
   "outputs": [],
   "source": [
    "input_dict = {\n",
    "    'Codes': opth_phen,\n",
    "    'Demos': opth_demos_norm,\n",
    "    'Vitals': opth_vitals_norm,\n",
    "    'Social': opth_social_norm,\n",
    "    'Labs': opth_labs_norm,\n",
    "    'All': opth_all}"
   ]
  },
  {
   "cell_type": "code",
   "execution_count": 48,
   "id": "882faf47-37f0-463f-b817-b0da551c2506",
   "metadata": {},
   "outputs": [],
   "source": [
    "auroc = {}\n",
    "fpr = {}\n",
    "tpr = {}\n",
    "threshold = {}\n",
    "\n",
    "for x in opth_all_model_dict.keys():\n",
    "    temp1 = {}\n",
    "    temp2 = {}\n",
    "    temp3 = {}\n",
    "    temp4 = {} \n",
    "    Xtrain, Xtest, ytrain, ytest = train_test_split(input_dict[x], opthal_final_clf, random_state=42, test_size=0.2) \n",
    "    for y in opth_all_model_dict[x].keys():\n",
    "        model= opth_all_model_dict[x][y]\n",
    "        ypred = model.predict(Xtest)\n",
    "        probs = model.predict_proba(Xtest)\n",
    "        pos_probs = probs[:, 1]\n",
    "        temp1[y] = roc_auc_score(ytest, pos_probs)\n",
    "        temp2[y], temp3[y], temp4[y] = metrics.roc_curve(ytest, pos_probs)\n",
    "    auroc[x] = temp1\n",
    "    fpr[x] = temp2\n",
    "    tpr[x] = temp3\n",
    "    threshold [x] = temp4"
   ]
  },
  {
   "cell_type": "code",
   "execution_count": 49,
   "id": "43366b48-6ab5-4a31-ac33-a7774e569192",
   "metadata": {},
   "outputs": [
    {
     "data": {
      "text/html": [
       "<div>\n",
       "<style scoped>\n",
       "    .dataframe tbody tr th:only-of-type {\n",
       "        vertical-align: middle;\n",
       "    }\n",
       "\n",
       "    .dataframe tbody tr th {\n",
       "        vertical-align: top;\n",
       "    }\n",
       "\n",
       "    .dataframe thead th {\n",
       "        text-align: right;\n",
       "    }\n",
       "</style>\n",
       "<table border=\"1\" class=\"dataframe\">\n",
       "  <thead>\n",
       "    <tr style=\"text-align: right;\">\n",
       "      <th></th>\n",
       "      <th>Codes</th>\n",
       "      <th>Demos</th>\n",
       "      <th>Vitals</th>\n",
       "      <th>Social</th>\n",
       "      <th>Labs</th>\n",
       "      <th>All</th>\n",
       "    </tr>\n",
       "  </thead>\n",
       "  <tbody>\n",
       "    <tr>\n",
       "      <th>Dummy</th>\n",
       "      <td>0.500000</td>\n",
       "      <td>0.500000</td>\n",
       "      <td>0.500000</td>\n",
       "      <td>0.500000</td>\n",
       "      <td>0.500000</td>\n",
       "      <td>0.500000</td>\n",
       "    </tr>\n",
       "    <tr>\n",
       "      <th>SVC</th>\n",
       "      <td>0.567048</td>\n",
       "      <td>0.607701</td>\n",
       "      <td>0.507260</td>\n",
       "      <td>0.632816</td>\n",
       "      <td>0.662408</td>\n",
       "      <td>0.648533</td>\n",
       "    </tr>\n",
       "    <tr>\n",
       "      <th>GB</th>\n",
       "      <td>0.538890</td>\n",
       "      <td>0.608558</td>\n",
       "      <td>0.504562</td>\n",
       "      <td>0.609992</td>\n",
       "      <td>0.644559</td>\n",
       "      <td>0.690794</td>\n",
       "    </tr>\n",
       "    <tr>\n",
       "      <th>ET</th>\n",
       "      <td>0.530233</td>\n",
       "      <td>0.600869</td>\n",
       "      <td>0.520453</td>\n",
       "      <td>0.632075</td>\n",
       "      <td>0.656201</td>\n",
       "      <td>0.681607</td>\n",
       "    </tr>\n",
       "    <tr>\n",
       "      <th>RF</th>\n",
       "      <td>0.550030</td>\n",
       "      <td>0.597593</td>\n",
       "      <td>0.526576</td>\n",
       "      <td>0.630599</td>\n",
       "      <td>0.623857</td>\n",
       "      <td>0.695525</td>\n",
       "    </tr>\n",
       "    <tr>\n",
       "      <th>AdaBoost</th>\n",
       "      <td>0.502350</td>\n",
       "      <td>0.612183</td>\n",
       "      <td>0.508229</td>\n",
       "      <td>0.598906</td>\n",
       "      <td>0.585597</td>\n",
       "      <td>0.707474</td>\n",
       "    </tr>\n",
       "    <tr>\n",
       "      <th>LR</th>\n",
       "      <td>0.566022</td>\n",
       "      <td>0.618602</td>\n",
       "      <td>0.473212</td>\n",
       "      <td>0.619957</td>\n",
       "      <td>0.667928</td>\n",
       "      <td>0.670632</td>\n",
       "    </tr>\n",
       "  </tbody>\n",
       "</table>\n",
       "</div>"
      ],
      "text/plain": [
       "             Codes     Demos    Vitals    Social      Labs       All\n",
       "Dummy     0.500000  0.500000  0.500000  0.500000  0.500000  0.500000\n",
       "SVC       0.567048  0.607701  0.507260  0.632816  0.662408  0.648533\n",
       "GB        0.538890  0.608558  0.504562  0.609992  0.644559  0.690794\n",
       "ET        0.530233  0.600869  0.520453  0.632075  0.656201  0.681607\n",
       "RF        0.550030  0.597593  0.526576  0.630599  0.623857  0.695525\n",
       "AdaBoost  0.502350  0.612183  0.508229  0.598906  0.585597  0.707474\n",
       "LR        0.566022  0.618602  0.473212  0.619957  0.667928  0.670632"
      ]
     },
     "execution_count": 49,
     "metadata": {},
     "output_type": "execute_result"
    }
   ],
   "source": [
    "#test data (20%)\n",
    "pd.DataFrame.from_dict(auroc)"
   ]
  },
  {
   "cell_type": "markdown",
   "id": "c09feb9d-5431-4950-9997-40943d7ec42d",
   "metadata": {
    "jp-MarkdownHeadingCollapsed": true,
    "tags": []
   },
   "source": [
    "### 9. Make overlayed AUROC plot"
   ]
  },
  {
   "cell_type": "code",
   "execution_count": 123,
   "id": "1d84e330-233d-4e0a-9ef2-0ed6f69500c9",
   "metadata": {
    "tags": []
   },
   "outputs": [],
   "source": [
    "# Set the global font to be DejaVu Sans, size 10 \n",
    "rc('font',**{'family':'sans-serif','sans-serif':['DejaVu Sans'],'size':10})\n",
    "# Set the font used for MathJax\n",
    "rc('mathtext',**{'default':'regular'})\n",
    "%matplotlib inline\n",
    "# The following %config line changes the inline figures to have a higher DPI.\n",
    "%config InlineBackend.figure_format = 'retina'"
   ]
  },
  {
   "cell_type": "code",
   "execution_count": 141,
   "id": "2de35068-90e3-499d-9e52-15557d1a4db9",
   "metadata": {
    "tags": []
   },
   "outputs": [
    {
     "data": {
      "text/plain": [
       "<Figure size 504x504 with 0 Axes>"
      ]
     },
     "execution_count": 141,
     "metadata": {},
     "output_type": "execute_result"
    },
    {
     "data": {
      "image/png": "[encoded data removed]",
      "text/plain": [
       "<Figure size 504x504 with 1 Axes>"
      ]
     },
     "metadata": {
      "image/png": {
       "height": 464,
       "width": 474
      },
      "needs_background": "light"
     },
     "output_type": "display_data"
    },
    {
     "data": {
      "text/plain": [
       "<Figure size 504x504 with 0 Axes>"
      ]
     },
     "metadata": {},
     "output_type": "display_data"
    }
   ],
   "source": [
    "plt.rcParams['figure.figsize']=7,7\n",
    "plt.rcParams['axes.facecolor']='white'\n",
    "plt.rcParams[\"axes.edgecolor\"] = \"black\"\n",
    "plt.rcParams[\"axes.linewidth\"] = 0.75\n",
    "plt.rcParams[\"axes.prop_cycle\"] = plt.cycler(color=['#bcbd22', '#ff7f0e', '#2ca02c', '#d62728', '#9467bd', '#17becf'])\n",
    "\n",
    "plt.plot(fpr['Vitals']['RF'], tpr['Vitals']['RF'],\n",
    "         label='Vitals (AUROC = {0:0.2f})'\n",
    "               ''.format(auroc['Vitals']['RF']),\n",
    "         linewidth=2.5)\n",
    "\n",
    "plt.plot(fpr['Demos']['LR'], tpr['Demos']['LR'],\n",
    "         label='Demographics (AUROC = {0:0.2f})'\n",
    "               ''.format(auroc['Demos']['LR']),\n",
    "         linewidth=2.5)\n",
    "\n",
    "\n",
    "plt.plot(fpr['Codes']['SVC'], tpr['Codes']['SVC'],\n",
    "         label='Phenotypes (AUROC = {0:0.2f})'\n",
    "               ''.format(auroc['Codes']['SVC']),\n",
    "         linewidth=2.5)\n",
    "\n",
    "plt.plot(fpr['Labs']['LR'], tpr['Labs']['LR'],\n",
    "         label='Labs (AUROC = {0:0.2f})'\n",
    "               ''.format(auroc['Labs']['LR']),\n",
    "         linewidth=2.5)\n",
    "\n",
    "plt.plot(fpr['Social']['SVC'], tpr['Social']['SVC'],\n",
    "         label='Social (AUROC = {0:0.2f})'\n",
    "               ''.format(auroc['Social']['SVC']),\n",
    "         linewidth=2.5)\n",
    "\n",
    "plt.plot(fpr['All']['AdaBoost'], tpr['All']['AdaBoost'],\n",
    "         label='All (AUROC = {0:0.2f})'\n",
    "               ''.format(auroc['All']['AdaBoost']),\n",
    "         linewidth=2.5)\n",
    "\n",
    "plt.xticks(fontsize=15)\n",
    "plt.yticks(fontsize=15)\n",
    "plt.plot([0, 1], [0, 1], 'k--')\n",
    "plt.xlim([0, 1.0])\n",
    "plt.ylim([0.0, 1.05])\n",
    "plt.xlabel('False Positive Rate', fontsize=20, fontweight=100)\n",
    "plt.ylabel('True Positive Rate', fontsize=20, fontweight=100)\n",
    "plt.title('Ocular Disease ROC Curves', fontsize=20, fontweight=100)\n",
    "plt.legend(loc=\"lower right\",fontsize=12)\n",
    "plt.grid(False)\n",
    "plt.savefig(r'./figures/Opth_AUROC.svg', format='svg')\n",
    "plt.figure()"
   ]
  },
  {
   "cell_type": "markdown",
   "id": "775708ef-1857-4e4a-af2c-0b88e3f77313",
   "metadata": {
    "jp-MarkdownHeadingCollapsed": true,
    "tags": []
   },
   "source": [
    "### 10. Make calibration plot"
   ]
  },
  {
   "cell_type": "code",
   "execution_count": 52,
   "id": "de93e32c-e76f-4ac3-9eeb-c287a3aa8029",
   "metadata": {},
   "outputs": [],
   "source": [
    "Xtrain, Xtest, ytrain, ytest = train_test_split(input_dict['All'], opthal_final_clf, random_state=42, test_size=0.2) "
   ]
  },
  {
   "cell_type": "code",
   "execution_count": 53,
   "id": "658c6367-d1fa-4643-906e-332a151fc6bb",
   "metadata": {},
   "outputs": [
    {
     "name": "stdout",
     "output_type": "stream",
     "text": [
      "AdaBoostClassifier(learning_rate=0.15000000000000002)\n"
     ]
    }
   ],
   "source": [
    "model=opth_all_model_dict['All']['AdaBoost']\n",
    "print(model)"
   ]
  },
  {
   "cell_type": "code",
   "execution_count": 54,
   "id": "15cbb8ad-52c1-42d5-8006-7df0c0dc5fad",
   "metadata": {
    "tags": []
   },
   "outputs": [
    {
     "name": "stdout",
     "output_type": "stream",
     "text": [
      "AUROC: 0.7074742813598071\n",
      "Brier Score: 0.24202951697421313\n"
     ]
    },
    {
     "data": {
      "text/plain": [
       "<Figure size 504x504 with 0 Axes>"
      ]
     },
     "execution_count": 54,
     "metadata": {},
     "output_type": "execute_result"
    },
    {
     "data": {
      "image/png": "[encoded data removed]",
      "text/plain": [
       "<Figure size 504x504 with 1 Axes>"
      ]
     },
     "metadata": {},
     "output_type": "display_data"
    },
    {
     "data": {
      "text/plain": [
       "<Figure size 504x504 with 0 Axes>"
      ]
     },
     "metadata": {},
     "output_type": "display_data"
    }
   ],
   "source": [
    "plt.rcParams['figure.figsize']=7,7\n",
    "plt.rcParams['axes.facecolor']='white'\n",
    "plt.rcParams[\"axes.edgecolor\"] = \"black\"\n",
    "plt.rcParams[\"axes.linewidth\"] = 0.75\n",
    "\n",
    "probs = model.predict_proba(Xtest)[:, 1]\n",
    "# reliability diagram\n",
    "fop, mpv = calibration_curve(ytest, probs, n_bins=10, normalize=True)\n",
    "# plot perfectly calibrated\n",
    "plt.plot([0, 1], [0, 1], linestyle='--', color=\"black\")\n",
    "# plot model reliability\n",
    "plt.plot(mpv, fop, marker='.', color=\"blue\")\n",
    "\n",
    "ypred = model.predict(Xtest)\n",
    "probs = model.predict_proba(Xtest)\n",
    "pos_probs = probs[:, 1]\n",
    "rocauc = roc_auc_score(ytest, pos_probs)\n",
    "print('AUROC:', rocauc)\n",
    "bs=brier_score_loss(ytest, pos_probs)\n",
    "print('Brier Score:', bs)\n",
    "\n",
    "plt.xticks(fontsize=15)\n",
    "plt.yticks(fontsize=15)\n",
    "plt.xlabel('Observed Probability', fontsize=20, fontweight=100)\n",
    "plt.ylabel('Predicted Probability', fontsize=20, fontweight=100)\n",
    "plt.title('Ocular (uncalibrated)', fontsize=20, fontweight=100)\n",
    "plt.grid(False)\n",
    "plt.figure()"
   ]
  },
  {
   "cell_type": "code",
   "execution_count": 64,
   "id": "d6103811-d507-4725-8cff-c282da2e82d4",
   "metadata": {},
   "outputs": [
    {
     "name": "stdout",
     "output_type": "stream",
     "text": [
      "AUCROC: 0.7115807967486559\n",
      "Brier Score: 0.22291275284752826\n"
     ]
    },
    {
     "data": {
      "text/plain": [
       "<Figure size 504x504 with 0 Axes>"
      ]
     },
     "execution_count": 64,
     "metadata": {},
     "output_type": "execute_result"
    },
    {
     "data": {
      "image/png": "[encoded data removed]",
      "text/plain": [
       "<Figure size 504x504 with 1 Axes>"
      ]
     },
     "metadata": {},
     "output_type": "display_data"
    },
    {
     "data": {
      "text/plain": [
       "<Figure size 504x504 with 0 Axes>"
      ]
     },
     "metadata": {},
     "output_type": "display_data"
    }
   ],
   "source": [
    "plt.rcParams['figure.figsize']=7,7\n",
    "plt.rcParams['axes.facecolor']='white'\n",
    "plt.rcParams[\"axes.edgecolor\"] = \"black\"\n",
    "plt.rcParams[\"axes.linewidth\"] = 0.75\n",
    "\n",
    "from sklearn.calibration import CalibratedClassifierCV\n",
    "calibrated = CalibratedClassifierCV(model, method='sigmoid', cv=5)\n",
    "calibrated.fit(Xtrain, ytrain)\n",
    "# predict probabilities\n",
    "probs = calibrated.predict_proba(Xtest)[:, 1]\n",
    "# reliability diagram\n",
    "fop, mpv = calibration_curve(ytest, probs, n_bins=10, normalize=True)\n",
    "# plot perfectly calibrated\n",
    "plt.plot([0, 1], [0, 1], linestyle='--',color=\"black\")\n",
    "# plot calibrated reliability\n",
    "plt.plot(mpv, fop, marker='.',color=\"blue\")\n",
    "\n",
    "ypred = calibrated.predict(Xtest)\n",
    "probs = calibrated.predict_proba(Xtest)\n",
    "pos_probs = probs[:, 1]\n",
    "rocauc = roc_auc_score(ytest, pos_probs)\n",
    "print('AUCROC:', rocauc)\n",
    "bs=brier_score_loss(ytest, pos_probs)\n",
    "print('Brier Score:', bs)\n",
    "\n",
    "plt.xticks(fontsize=15)\n",
    "plt.yticks(fontsize=15)\n",
    "plt.xlabel('Observed Probability', fontsize=20, fontweight=100)\n",
    "plt.ylabel('Predicted Probability', fontsize=20, fontweight=100)\n",
    "plt.title('Ocular Disease', fontsize=20, fontweight=100)\n",
    "plt.grid(False)\n",
    "matplotlib.pyplot.text(1,0,'Brier Score=0.223', horizontalalignment='right',\n",
    "     verticalalignment='bottom',fontsize=20)\n",
    "plt.savefig(r'./figures/opth_calib_plot.svg', format='svg')\n",
    "plt.figure()"
   ]
  },
  {
   "cell_type": "markdown",
   "id": "b109b22b-6acd-4a3d-bb21-06c1b353bb3c",
   "metadata": {
    "tags": []
   },
   "source": [
    "### 11. encounters between T2DM dx and comp"
   ]
  },
  {
   "cell_type": "code",
   "execution_count": 202,
   "id": "58c3d620-cd8c-494b-af1f-a90066a676b7",
   "metadata": {},
   "outputs": [],
   "source": [
    "opthal_final_clf.to_excel('opth_out.xlsx')"
   ]
  },
  {
   "cell_type": "code",
   "execution_count": 17,
   "id": "f704e008-3d78-41b6-b758-efd97592870f",
   "metadata": {},
   "outputs": [],
   "source": [
    "with open(r'/Users/amomenzadeh/Desktop/DM_pickles/init_comps_dict.pkl', 'rb') as handle:\n",
    "    init_comps_dict = pickle.load(handle)"
   ]
  },
  {
   "cell_type": "code",
   "execution_count": 18,
   "id": "7eecc622-8a2a-44a9-8da1-b17048eeea06",
   "metadata": {
    "tags": []
   },
   "outputs": [],
   "source": [
    "# creating new dataframe from the above dictionary for time of first complication with the patient number as the index\n",
    "comps_time_df = pd.DataFrame.from_dict(init_comps_dict, orient='index')\n",
    "comps_time_df = comps_time_df.apply(pd.to_datetime, errors='coerce')\n",
    "\n",
    "# sort table by patient number (index)\n",
    "comps_time_df.sort_index(inplace=True)"
   ]
  },
  {
   "cell_type": "code",
   "execution_count": 19,
   "id": "cb07b54d-7af5-4927-a3ab-2b162ce6e65f",
   "metadata": {},
   "outputs": [],
   "source": [
    "comps_time_df.drop(['initial_KIDNEY','initial_CVD','initial_NEUROPATH'],axis=1,inplace=True)"
   ]
  },
  {
   "cell_type": "code",
   "execution_count": 20,
   "id": "00944032-cde9-4e15-b8d9-af14c164bc32",
   "metadata": {},
   "outputs": [],
   "source": [
    "time_to_opth=opthal_final.to_frame('time_to_opth(yr)')"
   ]
  },
  {
   "cell_type": "code",
   "execution_count": 21,
   "id": "46a61ecd-a755-4348-a970-f3f46d3f648d",
   "metadata": {},
   "outputs": [],
   "source": [
    "merge = comps_time_df.merge(time_to_opth, left_index=True, right_index=True)"
   ]
  },
  {
   "cell_type": "code",
   "execution_count": 22,
   "id": "62046fea-75d6-44be-a1b8-a6191f5ed06d",
   "metadata": {},
   "outputs": [],
   "source": [
    "encounters = pd.read_csv(r'/Users/amomenzadeh/Desktop/DM_csv/opth_encounters.csv',low_memory=False)"
   ]
  },
  {
   "cell_type": "code",
   "execution_count": 23,
   "id": "302af0b5-50c9-4d74-947a-86c4e9a1dd9b",
   "metadata": {},
   "outputs": [],
   "source": [
    "encounters.drop(['department_name', 'department_id', 'department_external_name',\n",
    "       'department_specialty', 'payor_type_primary_c','age_at_visit_years',\n",
    "       'payor_type_primary_name', 'payer_type_secondary_c','visit_type_id',\n",
    "       'payer_type_secondary_name', 'appt_status_c', 'appt_status_name','discharge_status_c', 'discharge_status_name',\n",
    "       'length_of_stay_days', 'hosp_serv_c', 'hosp_serv_name','visit_type_name',\n",
    "       'adm_for_surg_yn', 'surgical_svc_c', 'surgical_svc_name', 'drg','visit_date_shifted',\n",
    "       'drg_type', 'drg_name', 'visit_provider_id', 'visit_provider_name','admit_date_shifted',\n",
    "       'visit_provider_title', 'visit_provider_npi', 'admission_provider_id',\n",
    "       'admission_provider_name', 'admission_provider_title','admit_source_c','admit_source_name','discharge_date_shifted',\n",
    "       'admission_provider_npi', 'sourcesystem_cd','encounter_num','enc_type','src_enc_type_c'],inplace=True, axis=1)"
   ]
  },
  {
   "cell_type": "code",
   "execution_count": 24,
   "id": "d57520c5-bb53-4a9c-9b5e-f6e6e78f69e1",
   "metadata": {
    "ExecuteTime": {
     "end_time": "2021-08-13T19:54:31.000060Z",
     "start_time": "2021-08-13T19:54:17.666513Z"
    },
    "tags": []
   },
   "outputs": [],
   "source": [
    "encounters.i2b2_date_shifted = pd.to_datetime(encounters.i2b2_date_shifted, format = '%Y-%m-%d') # converted dx date column to datetime"
   ]
  },
  {
   "cell_type": "code",
   "execution_count": 25,
   "id": "d0e13f08-6765-4171-aca7-c29829c0de26",
   "metadata": {},
   "outputs": [],
   "source": [
    "encounters=encounters.sort_values(by='i2b2_date_shifted')"
   ]
  },
  {
   "cell_type": "code",
   "execution_count": 26,
   "id": "04e70e7e-1ee0-4397-8da6-b0a0764ff0d3",
   "metadata": {},
   "outputs": [],
   "source": [
    "with open(r'/Users/amomenzadeh/Desktop/DM_pickles/opth_enc.pkl', 'wb') as handle:\n",
    "    pickle.dump(encounters, handle)"
   ]
  },
  {
   "cell_type": "code",
   "execution_count": 27,
   "id": "7be5ad79-3c25-4933-8b73-c2498f2e331d",
   "metadata": {},
   "outputs": [],
   "source": [
    "visits=[]\n",
    "for x in merge.index:\n",
    "    enc=encounters[(encounters.patient_num==x)]\n",
    "    after_DM=enc[(enc.i2b2_date_shifted.values >= merge.loc[[x]].initial_DIAB.values)]\n",
    "    before_comp=after_DM[(after_DM.i2b2_date_shifted.values <= merge.loc[[x]].initial_OPTH.values)]\n",
    "    visits.append(len(before_comp.i2b2_date_shifted.unique()))"
   ]
  },
  {
   "cell_type": "code",
   "execution_count": 28,
   "id": "70f9dad0-2ac0-48e0-9d17-1aa4ff990f2b",
   "metadata": {},
   "outputs": [],
   "source": [
    "merge['visits_bw']=visits"
   ]
  },
  {
   "cell_type": "code",
   "execution_count": 29,
   "id": "13cea409-53a4-429c-9159-d76671030821",
   "metadata": {},
   "outputs": [],
   "source": [
    "merge['visits_bw/yr']=merge['visits_bw']/merge['time_to_opth(yr)']"
   ]
  },
  {
   "cell_type": "code",
   "execution_count": 30,
   "id": "2f5800bc-67af-41a3-a481-e87a513bb664",
   "metadata": {},
   "outputs": [],
   "source": [
    "merge['output_class']=opthal_final_clf"
   ]
  },
  {
   "cell_type": "code",
   "execution_count": 31,
   "id": "853980a7-6e21-4b6c-9b9e-ee7b50fc1039",
   "metadata": {},
   "outputs": [],
   "source": [
    "with open(r'/Users/amomenzadeh/Desktop/DM_pickles/opth_merge.pkl', 'wb') as handle:\n",
    "    pickle.dump(merge, handle)"
   ]
  },
  {
   "cell_type": "code",
   "execution_count": 32,
   "id": "8d3799de-06b1-4fed-944e-afacc867738a",
   "metadata": {},
   "outputs": [],
   "source": [
    "fast=merge[merge['output_class']==1]"
   ]
  },
  {
   "cell_type": "code",
   "execution_count": 33,
   "id": "b73d91ea-a83d-4f0a-9046-6d394a10032d",
   "metadata": {},
   "outputs": [],
   "source": [
    "slow=merge[merge['output_class']==0]"
   ]
  },
  {
   "cell_type": "code",
   "execution_count": 34,
   "id": "f1cdbfa0-95b7-46f1-b695-4b546fba3cdd",
   "metadata": {},
   "outputs": [
    {
     "data": {
      "text/html": [
       "<div>\n",
       "<style scoped>\n",
       "    .dataframe tbody tr th:only-of-type {\n",
       "        vertical-align: middle;\n",
       "    }\n",
       "\n",
       "    .dataframe tbody tr th {\n",
       "        vertical-align: top;\n",
       "    }\n",
       "\n",
       "    .dataframe thead th {\n",
       "        text-align: right;\n",
       "    }\n",
       "</style>\n",
       "<table border=\"1\" class=\"dataframe\">\n",
       "  <thead>\n",
       "    <tr style=\"text-align: right;\">\n",
       "      <th></th>\n",
       "      <th>time_to_opth(yr)</th>\n",
       "      <th>visits_bw</th>\n",
       "      <th>visits_bw/yr</th>\n",
       "      <th>output_class</th>\n",
       "    </tr>\n",
       "  </thead>\n",
       "  <tbody>\n",
       "    <tr>\n",
       "      <th>count</th>\n",
       "      <td>1537.000000</td>\n",
       "      <td>1537.000000</td>\n",
       "      <td>1537.000000</td>\n",
       "      <td>1537.0</td>\n",
       "    </tr>\n",
       "    <tr>\n",
       "      <th>mean</th>\n",
       "      <td>1.266294</td>\n",
       "      <td>34.417046</td>\n",
       "      <td>36.234322</td>\n",
       "      <td>1.0</td>\n",
       "    </tr>\n",
       "    <tr>\n",
       "      <th>std</th>\n",
       "      <td>0.874745</td>\n",
       "      <td>39.050445</td>\n",
       "      <td>37.776929</td>\n",
       "      <td>0.0</td>\n",
       "    </tr>\n",
       "    <tr>\n",
       "      <th>min</th>\n",
       "      <td>0.084875</td>\n",
       "      <td>2.000000</td>\n",
       "      <td>0.785468</td>\n",
       "      <td>1.0</td>\n",
       "    </tr>\n",
       "    <tr>\n",
       "      <th>25%</th>\n",
       "      <td>0.443541</td>\n",
       "      <td>9.000000</td>\n",
       "      <td>12.682031</td>\n",
       "      <td>1.0</td>\n",
       "    </tr>\n",
       "    <tr>\n",
       "      <th>50%</th>\n",
       "      <td>1.152659</td>\n",
       "      <td>21.000000</td>\n",
       "      <td>25.346010</td>\n",
       "      <td>1.0</td>\n",
       "    </tr>\n",
       "    <tr>\n",
       "      <th>75%</th>\n",
       "      <td>1.990458</td>\n",
       "      <td>45.000000</td>\n",
       "      <td>47.128065</td>\n",
       "      <td>1.0</td>\n",
       "    </tr>\n",
       "    <tr>\n",
       "      <th>max</th>\n",
       "      <td>2.989794</td>\n",
       "      <td>345.000000</td>\n",
       "      <td>373.543466</td>\n",
       "      <td>1.0</td>\n",
       "    </tr>\n",
       "  </tbody>\n",
       "</table>\n",
       "</div>"
      ],
      "text/plain": [
       "       time_to_opth(yr)    visits_bw  visits_bw/yr  output_class\n",
       "count       1537.000000  1537.000000   1537.000000        1537.0\n",
       "mean           1.266294    34.417046     36.234322           1.0\n",
       "std            0.874745    39.050445     37.776929           0.0\n",
       "min            0.084875     2.000000      0.785468           1.0\n",
       "25%            0.443541     9.000000     12.682031           1.0\n",
       "50%            1.152659    21.000000     25.346010           1.0\n",
       "75%            1.990458    45.000000     47.128065           1.0\n",
       "max            2.989794   345.000000    373.543466           1.0"
      ]
     },
     "execution_count": 34,
     "metadata": {},
     "output_type": "execute_result"
    }
   ],
   "source": [
    "fast.describe()"
   ]
  },
  {
   "cell_type": "code",
   "execution_count": 35,
   "id": "952285e5-7940-4a21-a10f-55599d17bdce",
   "metadata": {},
   "outputs": [
    {
     "data": {
      "text/html": [
       "<div>\n",
       "<style scoped>\n",
       "    .dataframe tbody tr th:only-of-type {\n",
       "        vertical-align: middle;\n",
       "    }\n",
       "\n",
       "    .dataframe tbody tr th {\n",
       "        vertical-align: top;\n",
       "    }\n",
       "\n",
       "    .dataframe thead th {\n",
       "        text-align: right;\n",
       "    }\n",
       "</style>\n",
       "<table border=\"1\" class=\"dataframe\">\n",
       "  <thead>\n",
       "    <tr style=\"text-align: right;\">\n",
       "      <th></th>\n",
       "      <th>time_to_opth(yr)</th>\n",
       "      <th>visits_bw</th>\n",
       "      <th>visits_bw/yr</th>\n",
       "      <th>output_class</th>\n",
       "    </tr>\n",
       "  </thead>\n",
       "  <tbody>\n",
       "    <tr>\n",
       "      <th>count</th>\n",
       "      <td>1537.000000</td>\n",
       "      <td>1537.000000</td>\n",
       "      <td>1537.000000</td>\n",
       "      <td>1537.0</td>\n",
       "    </tr>\n",
       "    <tr>\n",
       "      <th>mean</th>\n",
       "      <td>6.352728</td>\n",
       "      <td>124.178269</td>\n",
       "      <td>20.051985</td>\n",
       "      <td>0.0</td>\n",
       "    </tr>\n",
       "    <tr>\n",
       "      <th>std</th>\n",
       "      <td>2.690300</td>\n",
       "      <td>141.842643</td>\n",
       "      <td>19.588284</td>\n",
       "      <td>0.0</td>\n",
       "    </tr>\n",
       "    <tr>\n",
       "      <th>min</th>\n",
       "      <td>2.998008</td>\n",
       "      <td>2.000000</td>\n",
       "      <td>0.154961</td>\n",
       "      <td>0.0</td>\n",
       "    </tr>\n",
       "    <tr>\n",
       "      <th>25%</th>\n",
       "      <td>4.180784</td>\n",
       "      <td>32.000000</td>\n",
       "      <td>5.821962</td>\n",
       "      <td>0.0</td>\n",
       "    </tr>\n",
       "    <tr>\n",
       "      <th>50%</th>\n",
       "      <td>5.672943</td>\n",
       "      <td>80.000000</td>\n",
       "      <td>15.084261</td>\n",
       "      <td>0.0</td>\n",
       "    </tr>\n",
       "    <tr>\n",
       "      <th>75%</th>\n",
       "      <td>7.926241</td>\n",
       "      <td>164.000000</td>\n",
       "      <td>28.262812</td>\n",
       "      <td>0.0</td>\n",
       "    </tr>\n",
       "    <tr>\n",
       "      <th>max</th>\n",
       "      <td>16.235789</td>\n",
       "      <td>1758.000000</td>\n",
       "      <td>200.861131</td>\n",
       "      <td>0.0</td>\n",
       "    </tr>\n",
       "  </tbody>\n",
       "</table>\n",
       "</div>"
      ],
      "text/plain": [
       "       time_to_opth(yr)    visits_bw  visits_bw/yr  output_class\n",
       "count       1537.000000  1537.000000   1537.000000        1537.0\n",
       "mean           6.352728   124.178269     20.051985           0.0\n",
       "std            2.690300   141.842643     19.588284           0.0\n",
       "min            2.998008     2.000000      0.154961           0.0\n",
       "25%            4.180784    32.000000      5.821962           0.0\n",
       "50%            5.672943    80.000000     15.084261           0.0\n",
       "75%            7.926241   164.000000     28.262812           0.0\n",
       "max           16.235789  1758.000000    200.861131           0.0"
      ]
     },
     "execution_count": 35,
     "metadata": {},
     "output_type": "execute_result"
    }
   ],
   "source": [
    "slow.describe()"
   ]
  },
  {
   "cell_type": "code",
   "execution_count": 36,
   "id": "fc838053-ee94-42b9-b554-b0b7c7eacd20",
   "metadata": {},
   "outputs": [],
   "source": [
    "fast=merge[merge['output_class']==1]"
   ]
  },
  {
   "cell_type": "code",
   "execution_count": 37,
   "id": "678f7299-bed2-4805-b089-cac9fe100aca",
   "metadata": {},
   "outputs": [],
   "source": [
    "merge.loc[merge['output_class']==1 ,'output_class']='Fast'\n",
    "merge.loc[merge['output_class']==0 ,'output_class']='Slow'"
   ]
  },
  {
   "cell_type": "code",
   "execution_count": 38,
   "id": "f9daa95a-1aea-4534-9b1b-c6bfa2391f1f",
   "metadata": {},
   "outputs": [
    {
     "name": "stdout",
     "output_type": "stream",
     "text": [
      "Slow v.s. Fast: Mann-Whitney-Wilcoxon test two-sided with Bonferroni correction, P_val=1.142e-50 U_stat=8.128e+05\n"
     ]
    },
    {
     "data": {
      "image/png": "[encoded data removed]",
      "text/plain": [
       "<Figure size 432x288 with 1 Axes>"
      ]
     },
     "metadata": {},
     "output_type": "display_data"
    }
   ],
   "source": [
    "sns.set(style=\"whitegrid\")\n",
    "\n",
    "x = \"output_class\"\n",
    "y = \"visits_bw/yr\"\n",
    "order = ['Slow', 'Fast']\n",
    "ax = sns.boxplot(data=merge, x=x, y=y, order=order)\n",
    "add_stat_annotation(ax, data=merge, x=x, y=y, order=order,\n",
    "                    box_pairs=[('Slow','Fast')], \n",
    "                    test='Mann-Whitney', text_format='simple', loc='inside', verbose=2,fontsize=20)\n",
    "_ = ax.set(xlabel=\"Diagnosis of Diabetic Complication\", ylabel=\"Visits between T2DM and Ocular Disease Diagnoses\")\n",
    "\n",
    "ax.tick_params(labelsize=24)\n",
    "ax.set_xlabel(\"Ocular Diagnosis\",fontsize=24)\n",
    "ax.set_ylabel(\"Visits/yr between T2DM+Ocular Disease\",fontsize=19)\n",
    "sns.set(rc={'figure.figsize':(6.5,6)})\n",
    "ax.grid(False)\n",
    "plt.savefig(r'/Users/amomenzadeh/Desktop/DM_figures/opth_visits.svg', format='svg',bbox_inches='tight')\n",
    "plt.show()"
   ]
  }
 ],
 "metadata": {
  "kernelspec": {
   "display_name": "Python 3 (ipykernel)",
   "language": "python",
   "name": "python3"
  },
  "language_info": {
   "codemirror_mode": {
    "name": "ipython",
    "version": 3
   },
   "file_extension": ".py",
   "mimetype": "text/x-python",
   "name": "python",
   "nbconvert_exporter": "python",
   "pygments_lexer": "ipython3",
   "version": "3.7.11"
  },
  "varInspector": {
   "cols": {
    "lenName": "24",
    "lenType": 16,
    "lenVar": "0"
   },
   "kernels_config": {
    "python": {
     "delete_cmd_postfix": "",
     "delete_cmd_prefix": "del ",
     "library": "var_list.py",
     "varRefreshCmd": "print(var_dic_list())"
    },
    "r": {
     "delete_cmd_postfix": ") ",
     "delete_cmd_prefix": "rm(",
     "library": "var_list.r",
     "varRefreshCmd": "cat(var_dic_list()) "
    }
   },
   "oldHeight": 589.043,
   "position": {
    "height": "40px",
    "left": "1370.37px",
    "right": "20px",
    "top": "184.672px",
    "width": "522.598px"
   },
   "types_to_exclude": [
    "module",
    "function",
    "builtin_function_or_method",
    "instance",
    "_Feature"
   ],
   "varInspector_section_display": "none",
   "window_display": false
  }
 },
 "nbformat": 4,
 "nbformat_minor": 5
}
