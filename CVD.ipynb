{
 "cells": [
  {
   "cell_type": "markdown",
   "id": "dfef385c-6bf2-46cf-8cb5-0e02fee14270",
   "metadata": {
    "tags": []
   },
   "source": [
    "## CVD\n",
    "----------------------------------"
   ]
  },
  {
   "cell_type": "markdown",
   "id": "775ead9f-e6d8-4449-b316-0a62f962ac7f",
   "metadata": {
    "jp-MarkdownHeadingCollapsed": true,
    "tags": []
   },
   "source": [
    "### 1. Import packages"
   ]
  },
  {
   "cell_type": "code",
   "execution_count": null,
   "id": "ebe11d79-624e-43d0-b44a-a588c94daeea",
   "metadata": {},
   "outputs": [],
   "source": [
    "#!conda install -c https://conda.anaconda.org/plotly plotly -y\n",
    "#!pip install pydot\n",
    "#!pip install graphviz\n",
    "#!conda install -c anaconda py-xgboost -y\n",
    "#!pip install shap\n",
    "#!pip install dill\n",
    "#pip install matplotlib\n",
    "#pip install seaborn\n",
    "#pip install missingpy\n",
    "#!pip3 install pickle5"
   ]
  },
  {
   "cell_type": "code",
   "execution_count": 57,
   "id": "12b50529",
   "metadata": {
    "ExecuteTime": {
     "end_time": "2021-09-24T21:11:10.209823Z",
     "start_time": "2021-09-24T21:10:59.833304Z"
    },
    "run_control": {
     "marked": false
    },
    "tags": []
   },
   "outputs": [],
   "source": [
    "import pandas as pd\n",
    "import sqlite3 as sql\n",
    "import numpy as np\n",
    "from IPython.display import HTML\n",
    "from datetime import datetime\n",
    "\n",
    "%matplotlib inline\n",
    "import matplotlib\n",
    "import matplotlib.pyplot as plt\n",
    "import seaborn as sns\n",
    "sns.set()  # set plot style\n",
    "from collections import Counter\n",
    "import scipy as sp\n",
    "import sklearn as sk\n",
    "import sys\n",
    "import plotly.express as px\n",
    "import pydot\n",
    "import pickle\n",
    "import time\n",
    "import xgboost as xgb\n",
    "import shap\n",
    "import dill\n",
    "import gc\n",
    "import subprocess\n",
    "import pickle5 as pickle\n",
    "import sklearn.metrics as metrics\n",
    "from scipy.stats import ranksums, ttest_ind\n",
    "from statsmodels.stats.weightstats import ztest\n",
    "import pylab \n",
    "import scipy.stats as stats\n",
    "from scipy.stats import chi2_contingency\n",
    "from matplotlib import rc\n",
    "from cycler import cycler\n",
    "from sklearn.calibration import calibration_curve\n",
    "from sklearn.metrics import brier_score_loss\n",
    "from statannot import add_stat_annotation"
   ]
  },
  {
   "cell_type": "code",
   "execution_count": 2,
   "id": "b9c1ee78",
   "metadata": {
    "ExecuteTime": {
     "end_time": "2021-09-24T21:11:10.240882Z",
     "start_time": "2021-09-24T21:11:10.225260Z"
    },
    "tags": []
   },
   "outputs": [],
   "source": [
    "import os\n",
    "from pandas.plotting import scatter_matrix\n",
    "from matplotlib import pyplot\n",
    "\n",
    "from collections import defaultdict\n",
    "\n",
    "from sklearn.linear_model import Lasso\n",
    "from sklearn.linear_model import ElasticNet\n",
    "from sklearn.linear_model import LinearRegression\n",
    "from sklearn.linear_model import RidgeCV\n",
    "\n",
    "from sklearn.model_selection import train_test_split\n",
    "from sklearn.model_selection import cross_val_score\n",
    "from sklearn.model_selection import StratifiedKFold\n",
    "\n",
    "from sklearn.metrics import classification_report\n",
    "from sklearn.metrics import confusion_matrix\n",
    "from sklearn.metrics import accuracy_score\n",
    "from sklearn.metrics import recall_score\n",
    "from sklearn.metrics import precision_score\n",
    "from sklearn.metrics import f1_score\n",
    "from sklearn.metrics import explained_variance_score\n",
    "from sklearn.metrics import mean_absolute_error\n",
    "from sklearn.metrics import mean_squared_error\n",
    "from sklearn.metrics import r2_score\n",
    "from sklearn.metrics import plot_confusion_matrix\n",
    "from sklearn.tree import export_graphviz\n",
    "from sklearn.metrics import roc_curve\n",
    "from sklearn.metrics import roc_auc_score\n",
    "\n",
    "from sklearn.neighbors import KNeighborsRegressor\n",
    "from sklearn.ensemble import RandomForestRegressor\n",
    "from sklearn.ensemble import ExtraTreesRegressor, AdaBoostRegressor, GradientBoostingRegressor\n",
    "from sklearn.dummy import DummyRegressor\n",
    "from sklearn.linear_model import Lasso, Ridge, ElasticNet\n",
    "from sklearn.svm import SVR\n",
    "from sklearn.multioutput import MultiOutputRegressor\n",
    "\n",
    "from sklearn.model_selection import KFold\n",
    "from sklearn.model_selection import ParameterGrid\n",
    "from sklearn.model_selection import GridSearchCV"
   ]
  },
  {
   "cell_type": "code",
   "execution_count": 3,
   "id": "3e4acfe8",
   "metadata": {
    "ExecuteTime": {
     "end_time": "2021-09-24T21:11:10.271596Z",
     "start_time": "2021-09-24T21:11:10.257604Z"
    },
    "tags": []
   },
   "outputs": [],
   "source": [
    "from sklearn.linear_model import LogisticRegression\n",
    "from sklearn.dummy import DummyClassifier\n",
    "from sklearn.ensemble import RandomForestClassifier\n",
    "from sklearn.ensemble import ExtraTreesClassifier\n",
    "from sklearn.ensemble import AdaBoostClassifier\n",
    "from sklearn.ensemble import GradientBoostingClassifier\n",
    "from sklearn.svm import SVC\n",
    "from sklearn.neighbors import KNeighborsClassifier\n",
    "from sklearn.discriminant_analysis import LinearDiscriminantAnalysis\n",
    "from sklearn.naive_bayes import GaussianNB\n",
    "from sklearn.tree import DecisionTreeClassifier\n",
    "import time"
   ]
  },
  {
   "cell_type": "markdown",
   "id": "4b6552b9-1943-45f9-92d5-f66c2774ebc8",
   "metadata": {
    "jp-MarkdownHeadingCollapsed": true,
    "tags": []
   },
   "source": [
    "### 2. Removing pts w/ comp diff=NaN from Output"
   ]
  },
  {
   "cell_type": "code",
   "execution_count": 4,
   "id": "fd40fdd3-2eb5-4ea2-a7be-1c0fc836c850",
   "metadata": {},
   "outputs": [],
   "source": [
    "with open(r'.\\pickles\\comps_over1mo_df.pkl', 'rb') as handle:\n",
    "    comps_over1mo_df = pickle.load(handle) "
   ]
  },
  {
   "cell_type": "code",
   "execution_count": 5,
   "id": "ec6831d1-64c6-4782-99f0-1d866bb028b6",
   "metadata": {},
   "outputs": [
    {
     "name": "stdout",
     "output_type": "stream",
     "text": [
      "Total Length:  (30854,)\n",
      "Number to be dropped:  (20214,)\n",
      "Output dataset size: (10640,)\n"
     ]
    }
   ],
   "source": [
    "#1mo\n",
    "CV_time = comps_over1mo_df.CVD_diff.copy()\n",
    "CV_time_drop=CV_time.replace(np.nan, 'Drop', inplace=False)\n",
    "CV_index = CV_time_drop [CV_time_drop == 'Drop'].index\n",
    "print(\"Total Length: \", CV_time_drop.shape)\n",
    "print(\"Number to be dropped: \", CV_time_drop[CV_time_drop == 'Drop'].shape)\n",
    "# dropping the NaNs from our OUTput data\n",
    "CV_time_drop.drop(CV_index, inplace=True)\n",
    "CV_time_final = CV_time_drop.astype('float64')\n",
    "print('Output dataset size:', CV_time_final.shape)"
   ]
  },
  {
   "cell_type": "markdown",
   "id": "bc68b5e8-b93a-4ca0-a596-87de942fb5e6",
   "metadata": {
    "jp-MarkdownHeadingCollapsed": true,
    "tags": []
   },
   "source": [
    "### 3. Two way drop from input and output"
   ]
  },
  {
   "cell_type": "code",
   "execution_count": 6,
   "id": "4c44db88-75bd-4ece-98af-64d9f0070929",
   "metadata": {},
   "outputs": [],
   "source": [
    "with open(r'/Users/amomenzadeh/Desktop/DM_pickles/phen_demos_vit_soc_lab.pkl', 'rb') as handle:\n",
    "    phen_demos_vit_soc_lab = pickle.load(handle)"
   ]
  },
  {
   "cell_type": "code",
   "execution_count": 7,
   "id": "8c8afd19-e260-4821-9b2f-608ba371ab95",
   "metadata": {
    "tags": []
   },
   "outputs": [],
   "source": [
    "def drop_opth_list(output_df,input_df):\n",
    "    extra_list=list(set(input_df.index.tolist())-set(output_df.index.tolist()))\n",
    "    input_df_new=input_df.drop(extra_list)\n",
    "    extra_list_rev=list(set(output_df.index.tolist())-set(input_df_new.index.tolist()))\n",
    "    output_df_new=output_df.drop(extra_list_rev)\n",
    "    print('length of input_df:', len(input_df))\n",
    "    print('length of opth_df:', len(output_df))\n",
    "    print('length of # to drop from  input:',len(extra_list))\n",
    "    print('length of # to drop from  opth:',len(extra_list_rev))\n",
    "    print('length of input_df after dropping',len(input_df_new))\n",
    "    print('length of opth_df after dropping',len(output_df_new))\n",
    "    print('Indexes equal?', np.all(input_df_new.index == output_df_new.index))\n",
    "    return output_df_new, input_df_new"
   ]
  },
  {
   "cell_type": "code",
   "execution_count": 8,
   "id": "eb00fc75-c00b-4279-8d64-0f615a8e9d63",
   "metadata": {},
   "outputs": [
    {
     "data": {
      "text/plain": [
       "(15987, 1824)"
      ]
     },
     "execution_count": 8,
     "metadata": {},
     "output_type": "execute_result"
    }
   ],
   "source": [
    "phen_demos_vit_soc_lab.shape"
   ]
  },
  {
   "cell_type": "code",
   "execution_count": 9,
   "id": "7a276257-d815-4d62-a140-4aaeac24f119",
   "metadata": {},
   "outputs": [
    {
     "data": {
      "text/plain": [
       "(10640,)"
      ]
     },
     "execution_count": 9,
     "metadata": {},
     "output_type": "execute_result"
    }
   ],
   "source": [
    "CV_time_final.shape"
   ]
  },
  {
   "cell_type": "code",
   "execution_count": 10,
   "id": "82c2754b-d9e0-4412-8f4d-d18bd366ccbe",
   "metadata": {
    "tags": []
   },
   "outputs": [
    {
     "name": "stdout",
     "output_type": "stream",
     "text": [
      "length of input_df: 15987\n",
      "length of opth_df: 10640\n",
      "length of # to drop from  input: 11341\n",
      "length of # to drop from  opth: 5994\n",
      "length of input_df after dropping 4646\n",
      "length of opth_df after dropping 4646\n",
      "Indexes equal? True\n"
     ]
    }
   ],
   "source": [
    "CV_final, all_inputs=drop_opth_list(CV_time_final, phen_demos_vit_soc_lab)"
   ]
  },
  {
   "cell_type": "markdown",
   "id": "a3a3db94-cc30-4112-89d3-29f9a9dddc1d",
   "metadata": {
    "jp-MarkdownHeadingCollapsed": true,
    "tags": []
   },
   "source": [
    "### 4. Make output diff times categorical using median as cut-off"
   ]
  },
  {
   "cell_type": "code",
   "execution_count": 11,
   "id": "59008050-e7f7-4468-8d3b-afbf6984b6bf",
   "metadata": {},
   "outputs": [
    {
     "data": {
      "text/plain": [
       "2.9487258465266226"
      ]
     },
     "execution_count": 11,
     "metadata": {},
     "output_type": "execute_result"
    }
   ],
   "source": [
    "CV_final.median()"
   ]
  },
  {
   "cell_type": "code",
   "execution_count": 12,
   "id": "57f31883-20ec-432a-b923-98684deefe3d",
   "metadata": {},
   "outputs": [
    {
     "data": {
      "text/plain": [
       "15.480126217513023"
      ]
     },
     "execution_count": 12,
     "metadata": {},
     "output_type": "execute_result"
    }
   ],
   "source": [
    "CV_final.max()"
   ]
  },
  {
   "cell_type": "code",
   "execution_count": 13,
   "id": "991da2a4-76b5-493a-b266-4055866aae90",
   "metadata": {},
   "outputs": [
    {
     "data": {
      "image/png": "[encoded data removed]",
      "text/plain": [
       "<Figure size 864x576 with 1 Axes>"
      ]
     },
     "metadata": {},
     "output_type": "display_data"
    }
   ],
   "source": [
    "plt.figure(figsize=(12,8))\n",
    "plt.rcParams['axes.facecolor']='white'\n",
    "plt.rcParams[\"axes.edgecolor\"] = \"black\"\n",
    "h = plt.hist(CV_final, edgecolor='#007066', \n",
    "             bins=60, alpha=0.4,\n",
    "             color='#007066')\n",
    "h = plt.axvline(CV_final.median(), color='maroon', linestyle='solid', linewidth=1.25)\n",
    "min_ylim, max_ylim = plt.ylim()\n",
    "plt.text(CV_final.median()*1.08, max_ylim*0.6, \n",
    "         'Median: {:.2f} years'.format(CV_final.median()),\n",
    "         fontsize=24, fontweight=600, color='maroon')\n",
    "plt.xlim(left=0.0)\n",
    "plt.xlabel('Time to Complication (years)', fontsize=26, fontweight=600)\n",
    "plt.ylabel('Counts', fontsize=30, fontweight=600)\n",
    "plt.xticks(fontsize=30)\n",
    "plt.yticks(fontsize=30)\n",
    "plt.title(\"Cardiovascular Disease\", fontsize=32, fontweight=600)\n",
    "plt.savefig(r'/Users/amomenzadeh/Desktop/DM_figures/CV_hist.svg', format='svg')\n",
    "plt.show()"
   ]
  },
  {
   "cell_type": "code",
   "execution_count": 14,
   "id": "48eef47c-ef48-4618-9252-73674e27c7bf",
   "metadata": {},
   "outputs": [],
   "source": [
    "#1mo\n",
    "#assign 0 if opth complication occurred > CV diff median \n",
    "#assign 1 if opth complication occurred < CV diff median \n",
    "CV_final_clf = CV_final.copy()\n",
    "CV_final_clf = pd.Series(np.where((CV_final_clf > CV_final.median()), 0, CV_final_clf), \n",
    "                            index=CV_final_clf.index)\n",
    "CV_final_clf = pd.Series(np.where((CV_final_clf > 0), 1, CV_final_clf), \n",
    "                            index=CV_final_clf.index)"
   ]
  },
  {
   "cell_type": "code",
   "execution_count": 15,
   "id": "18480797-661d-48c7-8eec-fc3c12a4b856",
   "metadata": {},
   "outputs": [
    {
     "name": "stdout",
     "output_type": "stream",
     "text": [
      "49.96% negative\n",
      "50.04% positive\n"
     ]
    }
   ],
   "source": [
    "num_negs = CV_final_clf.value_counts()[0]\n",
    "num_pos = CV_final_clf.value_counts()[1]\n",
    "neg_prop = num_negs/(num_negs + num_pos)\n",
    "print(str(round(neg_prop*100,2)), '% negative', sep='')\n",
    "print(str(100-round(neg_prop*100,2)), '% positive', sep='')"
   ]
  },
  {
   "cell_type": "code",
   "execution_count": 16,
   "id": "68495c27-368f-48ca-916d-6e001991e26a",
   "metadata": {},
   "outputs": [
    {
     "data": {
      "text/plain": [
       "(4646,)"
      ]
     },
     "execution_count": 16,
     "metadata": {},
     "output_type": "execute_result"
    }
   ],
   "source": [
    "CV_final_clf.shape"
   ]
  },
  {
   "cell_type": "code",
   "execution_count": 18,
   "id": "b962848e-3626-4fb9-a35e-2e81ac74ab4f",
   "metadata": {},
   "outputs": [],
   "source": [
    "with open(r'./pickles/CV_final_clf.pkl', 'wb') as handle:\n",
    "    pickle.dump(CV_final_clf, handle, protocol=pickle.HIGHEST_PROTOCOL)"
   ]
  },
  {
   "cell_type": "markdown",
   "id": "4324ec60-804a-49a7-abad-c51847343b10",
   "metadata": {
    "jp-MarkdownHeadingCollapsed": true,
    "tags": []
   },
   "source": [
    "### 5. Final Inputs"
   ]
  },
  {
   "cell_type": "code",
   "execution_count": 19,
   "id": "f7c497e3-cfb9-4a79-93b5-98b5186deba0",
   "metadata": {},
   "outputs": [
    {
     "data": {
      "text/plain": [
       "Index(['ASCVD', 'Abdominal aortic aneurysm', 'Abdominal hernia',\n",
       "       'Abdominal pain',\n",
       "       'Abnormal Papanicolaou smear of cervix and cervical HPV',\n",
       "       'Abnormal arterial blood gases', 'Abnormal chest sounds',\n",
       "       'Abnormal coagulation profile',\n",
       "       'Abnormal electrocardiogram [ECG] [EKG]',\n",
       "       'Abnormal findings examination of lungs',\n",
       "       ...\n",
       "       'Vitamin B-complex deficiencies', 'Vitamin D deficiency',\n",
       "       'Vitamin deficiency', 'Vitiligo', 'Voice disturbance',\n",
       "       'Von willebrand's disease', 'Wegener's granulomatosis', 'Wheezing',\n",
       "       'severe protein-calorie malnutrition', 'stress incontinence, female'],\n",
       "      dtype='object', length=1721)"
      ]
     },
     "execution_count": 19,
     "metadata": {},
     "output_type": "execute_result"
    }
   ],
   "source": [
    "CVD_phen=all_inputs.iloc[:,:-103]\n",
    "CVD_phen.columns"
   ]
  },
  {
   "cell_type": "code",
   "execution_count": 20,
   "id": "29cf49c3-5be6-4bd0-86fb-179e3a7fa34c",
   "metadata": {
    "tags": []
   },
   "outputs": [],
   "source": [
    "CVD_all=all_inputs.drop(['duration_diab','vital_status_Alive','vital_status_Deceased'],axis=1)"
   ]
  },
  {
   "cell_type": "code",
   "execution_count": 24,
   "id": "5106c826-6659-4c82-84fd-48d08ef86c22",
   "metadata": {
    "tags": []
   },
   "outputs": [
    {
     "data": {
      "text/plain": [
       "Index(['age_at_diab', 'sex_Female', 'sex_Male', 'marital_status_Divorced',\n",
       "       'marital_status_Legally Separated', 'marital_status_Married',\n",
       "       'marital_status_Patient Refused', 'marital_status_Significant Other',\n",
       "       'marital_status_Single', 'marital_status_Unknown',\n",
       "       'marital_status_Widowed', 'employment_status_Disabled',\n",
       "       'employment_status_Full Time', 'employment_status_Not Employed',\n",
       "       'employment_status_On Active Military Duty',\n",
       "       'employment_status_Part Time', 'employment_status_Patient Refused',\n",
       "       'employment_status_Retired', 'employment_status_Self Employed',\n",
       "       'employment_status_Student - Full Time',\n",
       "       'employment_status_Student - Part Time', 'employment_status_Unknown',\n",
       "       'race_American Indian or Alaska Native', 'race_Asian',\n",
       "       'race_Black or African American', 'race_Multiracial',\n",
       "       'race_Native Hawaiian or Other Pacific Islander', 'race_Other',\n",
       "       'race_Unknown', 'race_White or Caucasian'],\n",
       "      dtype='object')"
      ]
     },
     "execution_count": 24,
     "metadata": {},
     "output_type": "execute_result"
    }
   ],
   "source": [
    "CV_demos_norm=CVD_all.iloc[:,-100:-70]\n",
    "CV_demos_norm.columns"
   ]
  },
  {
   "cell_type": "code",
   "execution_count": 26,
   "id": "66b1f203-6d6d-4ef0-9464-3f31c0e545c1",
   "metadata": {
    "tags": []
   },
   "outputs": [
    {
     "data": {
      "text/plain": [
       "Index(['bmi', 'bp_diastolic', 'bp_systolic', 'pulse', 'temperature',\n",
       "       'respiration'],\n",
       "      dtype='object')"
      ]
     },
     "execution_count": 26,
     "metadata": {},
     "output_type": "execute_result"
    }
   ],
   "source": [
    "CV_vitals_norm=CVD_all.iloc[:,-70:-64]\n",
    "CV_vitals_norm.columns"
   ]
  },
  {
   "cell_type": "code",
   "execution_count": 27,
   "id": "d0b8c32d-ecdb-4d66-acce-33966b6510e7",
   "metadata": {},
   "outputs": [
    {
     "data": {
      "text/plain": [
       "Index(['alcohol_use_name_Never', 'alcohol_use_name_No',\n",
       "       'alcohol_use_name_Not Asked', 'alcohol_use_name_Not Currently',\n",
       "       'alcohol_use_name_Yes', 'ill_drug_user_name_Never',\n",
       "       'ill_drug_user_name_No', 'ill_drug_user_name_Not Asked',\n",
       "       'ill_drug_user_name_Not Currently', 'ill_drug_user_name_Yes',\n",
       "       'tobacco_user_name_Never', 'tobacco_user_name_Not Asked',\n",
       "       'tobacco_user_name_Passive', 'tobacco_user_name_Quit',\n",
       "       'tobacco_user_name_Yes', 'cigarettes_yn_N', 'cigarettes_yn_Y',\n",
       "       'pipes_yn_N', 'pipes_yn_Y', 'cigars_yn_N', 'cigars_yn_Y', 'snuff_yn_N',\n",
       "       'snuff_yn_Y', 'chew_yn_N', 'chew_yn_Y',\n",
       "       'smokeless_tob_use_name_Current User',\n",
       "       'smokeless_tob_use_name_Former User',\n",
       "       'smokeless_tob_use_name_Never Used', 'smokeless_tob_use_name_Unknown'],\n",
       "      dtype='object')"
      ]
     },
     "execution_count": 27,
     "metadata": {},
     "output_type": "execute_result"
    }
   ],
   "source": [
    "CV_social_norm=CVD_all.iloc[:,-64:-35]\n",
    "CV_social_norm.columns"
   ]
  },
  {
   "cell_type": "code",
   "execution_count": 28,
   "id": "5840e0f4-2f17-43e5-9f20-722e21369300",
   "metadata": {},
   "outputs": [
    {
     "data": {
      "text/plain": [
       "Index(['PLATELET COUNT', 'AST/SGOT', 'CALCIUM', 'GLUCOSE', 'BICARBONATE',\n",
       "       'CHLORIDE', 'POTASSIUM', 'HEMATOCRIT', 'WHITE BLOOD CELL COUNT',\n",
       "       'CREATININE', 'TOTAL PROTEIN', 'ALBUMIN', 'BLOOD UREA NITROGEN',\n",
       "       'ANION GAP', 'EGFR', 'EGFR FOR AFRICAN AMERICANS', 'SODIUM',\n",
       "       'BILIRUBIN TOTAL', 'ALKALINE PHOSPHATASE', 'ALT/SGPT', 'HEMOGLOBIN',\n",
       "       'RED BLOOD CELL COUNT', 'MEAN CORPUSCULAR HGB',\n",
       "       'MEAN CORPUSCULAR VOLUME', 'MEAN PLATELET VOLUME',\n",
       "       'RED CELL DISTRIBUTION WIDTH', 'MEAN CORPUSCULAR HGB CONCENTRN',\n",
       "       'MONOCYTE PERCENT', 'NEUTROPHIL PERCENT', 'EOSINOPHIL PERCENT',\n",
       "       'LYMPH PERCENT', 'NEUTROPHIL ABSOLUTE', 'LYMPHOCYTE ABSOLUTE',\n",
       "       'MONOCYTE ABSOLUTE', 'EOSINOPHIL ABSOLUTE'],\n",
       "      dtype='object')"
      ]
     },
     "execution_count": 28,
     "metadata": {},
     "output_type": "execute_result"
    }
   ],
   "source": [
    "CV_labs_norm=CVD_all.iloc[:,-35:]\n",
    "CV_labs_norm.columns"
   ]
  },
  {
   "cell_type": "code",
   "execution_count": 228,
   "id": "08e09111-593a-4a07-9b4c-42e30c4c5dc4",
   "metadata": {
    "tags": []
   },
   "outputs": [],
   "source": [
    "with open(r'./pickles/CVD_all.pkl', 'wb') as handle:\n",
    "    pickle.dump(CVD_all, handle, protocol=pickle.HIGHEST_PROTOCOL)\n",
    "with open(r'./pickles/CVD_phen.pkl', 'wb') as handle:\n",
    "    pickle.dump(CVD_phen, handle, protocol=pickle.HIGHEST_PROTOCOL)\n",
    "with open(r'./pickles/CV_demos_norm.pkl', 'wb') as handle:\n",
    "    pickle.dump(CV_demos_norm, handle, protocol=pickle.HIGHEST_PROTOCOL)\n",
    "with open(r'./pickles/CV_vitals_norm.pkl', 'wb') as handle:\n",
    "    pickle.dump(CV_vitals_norm, handle, protocol=pickle.HIGHEST_PROTOCOL)\n",
    "with open(r'./pickles/CV_social_norm.pkl', 'wb') as handle:\n",
    "    pickle.dump(CV_social_norm, handle, protocol=pickle.HIGHEST_PROTOCOL)\n",
    "with open(r'./pickles/CV_labs_norm.pkl', 'wb') as handle:\n",
    "    pickle.dump(CV_labs_norm, handle, protocol=pickle.HIGHEST_PROTOCOL)"
   ]
  },
  {
   "cell_type": "markdown",
   "id": "4886b4c1-7551-4f28-b665-c859d915cd0f",
   "metadata": {
    "jp-MarkdownHeadingCollapsed": true,
    "tags": []
   },
   "source": [
    "### 6. Make Table 1"
   ]
  },
  {
   "cell_type": "code",
   "execution_count": 9,
   "id": "8cee4afd-06c5-4449-bb8c-56191cc40a16",
   "metadata": {},
   "outputs": [],
   "source": [
    "with open(r'./pickles/phen_prediab_bin.pkl', 'rb') as handle:\n",
    "    phen_prediab_bin = pickle.load(handle)\n",
    "with open(r'./pickles/social_df.pkl', 'rb') as handle:\n",
    "    social_df = pickle.load(handle)\n",
    "with open(r'./pickles/vitals_df.pkl', 'rb') as handle:\n",
    "    vitals_df = pickle.load(handle)\n",
    "with open(r'./pickles/imp_labs.pkl', 'rb') as handle:\n",
    "    imp_labs = pickle.load(handle)\n",
    "with open(r'./pickles/CV_final_clf.pkl', 'rb') as handle:\n",
    "    CV_final_clf = pickle.load(handle)"
   ]
  },
  {
   "cell_type": "code",
   "execution_count": 15,
   "id": "490d4889-1c6a-4964-a423-615d256a9cfc",
   "metadata": {},
   "outputs": [],
   "source": [
    "demos_all = pd.read_csv(r'/Users/amomenzadeh/Desktop/DM_csv/demos_all.csv',low_memory=False)"
   ]
  },
  {
   "cell_type": "code",
   "execution_count": 16,
   "id": "dfefdb97-bd9e-44d8-aacc-449674589f0d",
   "metadata": {},
   "outputs": [],
   "source": [
    "demos_R = pd.read_csv(r'/Users/amomenzadeh/Desktop/DM_csv/demos_from_R.csv',low_memory=False)"
   ]
  },
  {
   "cell_type": "code",
   "execution_count": 17,
   "id": "1b1fb5eb-6330-45d2-812f-79adfe09cfef",
   "metadata": {},
   "outputs": [],
   "source": [
    "demos_R['patient_num'] = demos_all['patient_num'].values"
   ]
  },
  {
   "cell_type": "code",
   "execution_count": 18,
   "id": "31c9f6e0-bcd8-447f-9c60-4ab249b28c7f",
   "metadata": {},
   "outputs": [],
   "source": [
    "demos_R=demos_R.set_index('patient_num')"
   ]
  },
  {
   "cell_type": "code",
   "execution_count": 19,
   "id": "f98f6dd2-3b10-4e4e-ac18-9f9edeb12dc9",
   "metadata": {},
   "outputs": [
    {
     "data": {
      "text/plain": [
       "(4646, 1)"
      ]
     },
     "execution_count": 19,
     "metadata": {},
     "output_type": "execute_result"
    }
   ],
   "source": [
    "CV_df=CV_final_clf.to_frame(name='class')\n",
    "CV_df.shape"
   ]
  },
  {
   "cell_type": "code",
   "execution_count": 20,
   "id": "6777621c-e958-4042-8f33-b0c45ac90c65",
   "metadata": {},
   "outputs": [
    {
     "data": {
      "text/plain": [
       "(4646, 8)"
      ]
     },
     "execution_count": 20,
     "metadata": {},
     "output_type": "execute_result"
    }
   ],
   "source": [
    "all_cv=demos_R.merge(CV_df,left_index=True, right_index=True)\n",
    "all_cv.shape"
   ]
  },
  {
   "cell_type": "code",
   "execution_count": 22,
   "id": "20a17034-b592-48c3-8998-768c7996f63c",
   "metadata": {},
   "outputs": [
    {
     "data": {
      "text/plain": [
       "(4646, 43)"
      ]
     },
     "execution_count": 22,
     "metadata": {},
     "output_type": "execute_result"
    }
   ],
   "source": [
    "all_cv=all_cv.merge(imp_labs,left_index=True, right_index=True)\n",
    "all_cv.shape"
   ]
  },
  {
   "cell_type": "code",
   "execution_count": 23,
   "id": "f4cb93cf-aee8-4e51-a342-1e19c3d45bea",
   "metadata": {},
   "outputs": [
    {
     "data": {
      "text/plain": [
       "(4646, 49)"
      ]
     },
     "execution_count": 23,
     "metadata": {},
     "output_type": "execute_result"
    }
   ],
   "source": [
    "all_cv=all_cv.merge(vitals_df,left_index=True, right_index=True)\n",
    "all_cv.shape"
   ]
  },
  {
   "cell_type": "code",
   "execution_count": 24,
   "id": "77e8f30d-1e77-48fa-b4fa-b2d773521f40",
   "metadata": {},
   "outputs": [
    {
     "data": {
      "text/plain": [
       "(4646, 58)"
      ]
     },
     "execution_count": 24,
     "metadata": {},
     "output_type": "execute_result"
    }
   ],
   "source": [
    "all_cv=all_cv.merge(social_df,left_index=True, right_index=True)\n",
    "all_cv.shape"
   ]
  },
  {
   "cell_type": "code",
   "execution_count": 25,
   "id": "a7434d1b-cfcd-4c8a-bec7-9cde1d7d8ba5",
   "metadata": {},
   "outputs": [
    {
     "data": {
      "text/plain": [
       "(4646, 1779)"
      ]
     },
     "execution_count": 25,
     "metadata": {},
     "output_type": "execute_result"
    }
   ],
   "source": [
    "all_cv=all_cv.merge(phen_prediab_bin,left_index=True, right_index=True)\n",
    "all_cv.shape"
   ]
  },
  {
   "cell_type": "code",
   "execution_count": 30,
   "id": "4bcfb0be-01a0-462a-9e45-271ba5161936",
   "metadata": {},
   "outputs": [],
   "source": [
    "i_o_fast=all_cv.loc[all_cv['class'] == 1]"
   ]
  },
  {
   "cell_type": "code",
   "execution_count": 31,
   "id": "b917cdc4-0144-4a64-946b-05ea96313690",
   "metadata": {},
   "outputs": [],
   "source": [
    "i_o_slow=all_cv.loc[all_cv['class'] == 0]"
   ]
  },
  {
   "cell_type": "code",
   "execution_count": 32,
   "id": "82532200-1d10-4509-a088-cd060488ad01",
   "metadata": {
    "collapsed": true,
    "jupyter": {
     "outputs_hidden": true
    },
    "tags": []
   },
   "outputs": [
    {
     "name": "stdout",
     "output_type": "stream",
     "text": [
      "\n",
      "--Median Slow---\n",
      "\n",
      "age_at_diab       59.429009\n",
      "duration_diab     10.167491\n",
      "GLUCOSE          160.000000\n",
      "CREATININE         0.861500\n",
      "bmi               33.800000\n",
      "EGFR              60.000000\n",
      "dtype: float64\n",
      "\n",
      "---Median Fast---\n",
      "\n",
      "age_at_diab       64.661150\n",
      "duration_diab      5.910045\n",
      "GLUCOSE          157.000000\n",
      "CREATININE         0.885700\n",
      "bmi               33.010000\n",
      "EGFR              60.000000\n",
      "dtype: float64\n"
     ]
    }
   ],
   "source": [
    "print(\"\\n--Median Slow---\\n\")\n",
    "print(i_o_slow[['age_at_diab','duration_diab','GLUCOSE','CREATININE','bmi','EGFR']].median())\n",
    "print(\"\\n---Median Fast---\\n\")\n",
    "print(i_o_fast[['age_at_diab','duration_diab','GLUCOSE','CREATININE','bmi','EGFR']].median())"
   ]
  },
  {
   "cell_type": "code",
   "execution_count": 33,
   "id": "b6d0b57c-0ca4-487e-860f-1733a16ac2d8",
   "metadata": {
    "collapsed": true,
    "jupyter": {
     "outputs_hidden": true
    },
    "tags": []
   },
   "outputs": [
    {
     "name": "stdout",
     "output_type": "stream",
     "text": [
      "\n",
      "--IQR Slow---\n",
      "\n",
      "       age_at_diab  duration_diab      GLUCOSE   CREATININE          bmi  \\\n",
      "count  2321.000000    2321.000000  2321.000000  2321.000000  2321.000000   \n",
      "mean     58.906906      10.046557   176.113081     0.935025    34.159983   \n",
      "std      13.724287       2.999894    77.996473     0.254689     6.640254   \n",
      "min      16.813487       3.022649     4.000000     0.320000    15.850000   \n",
      "25%      50.199525       7.840270   118.000000     0.790000    30.140000   \n",
      "50%      59.429009      10.167491   160.000000     0.861500    33.800000   \n",
      "75%      68.302566      12.371506   204.970000     1.040000    37.620000   \n",
      "max      93.617254      17.094395   508.000000     2.000000    60.840000   \n",
      "\n",
      "              EGFR  \n",
      "count  2321.000000  \n",
      "mean     62.092131  \n",
      "std      11.612874  \n",
      "min      17.000000  \n",
      "25%      60.000000  \n",
      "50%      60.000000  \n",
      "75%      65.860000  \n",
      "max     100.000000  \n",
      "\n",
      "--IQR Fast---\n",
      "\n",
      "       age_at_diab  duration_diab      GLUCOSE   CREATININE          bmi  \\\n",
      "count  2325.000000    2325.000000  2325.000000  2325.000000  2325.000000   \n",
      "mean     63.962959       6.410748   173.446482     0.963839    33.504499   \n",
      "std      13.496587       3.927649    76.677122     0.273194     6.713728   \n",
      "min      18.215295       0.000000    25.000000     0.200000    14.150000   \n",
      "25%      55.313935       3.040719   117.000000     0.800000    29.050000   \n",
      "50%      64.661150       5.910045   157.000000     0.885700    33.010000   \n",
      "75%      73.436142       9.398139   204.970000     1.090000    37.210000   \n",
      "max      97.513296      16.286713   508.000000     2.000000    59.580000   \n",
      "\n",
      "              EGFR  \n",
      "count  2325.000000  \n",
      "mean     59.401184  \n",
      "std      10.168287  \n",
      "min      17.000000  \n",
      "25%      59.260000  \n",
      "50%      60.000000  \n",
      "75%      61.020000  \n",
      "max     100.000000  \n"
     ]
    }
   ],
   "source": [
    "print(\"\\n--IQR Slow---\\n\")\n",
    "print(i_o_slow[['age_at_diab','duration_diab','GLUCOSE','CREATININE','bmi','EGFR']].describe())\n",
    "print(\"\\n--IQR Fast---\\n\")\n",
    "print(i_o_fast[['age_at_diab','duration_diab','GLUCOSE','CREATININE','bmi','EGFR']].describe())"
   ]
  },
  {
   "cell_type": "code",
   "execution_count": 34,
   "id": "f7045894-fad6-40a8-992f-01479e2d2ded",
   "metadata": {},
   "outputs": [],
   "source": [
    "cat_variables=['sex', 'race', 'Essential hypertension','Hyperlipidemia','cigarettes_yn','smokeless_tob_use_name']"
   ]
  },
  {
   "cell_type": "code",
   "execution_count": 35,
   "id": "245b4a45-0588-42d4-82fd-3fe34133ed79",
   "metadata": {
    "collapsed": true,
    "jupyter": {
     "outputs_hidden": true
    },
    "tags": []
   },
   "outputs": [
    {
     "name": "stdout",
     "output_type": "stream",
     "text": [
      "sex\n",
      "Slow counts: Female    1202\n",
      "Male      1119\n",
      "Name: sex, dtype: int64\n",
      "Slow percents: Female    51.788022\n",
      "Male      48.211978\n",
      "Name: sex, dtype: float64\n",
      "++++++++++++++++++++++++++++++++++++++\n",
      "sex\n",
      "Fast counts: Male      1202\n",
      "Female    1123\n",
      "Name: sex, dtype: int64\n",
      "Fast percents: Male      51.698925\n",
      "Female    48.301075\n",
      "Name: sex, dtype: float64\n",
      "++++++++++++++++++++++++++++++++++++++\n",
      "race\n",
      "Slow counts: White or Caucasian                           1565\n",
      "Black or African American                     656\n",
      "Other                                          63\n",
      "Asian                                          26\n",
      "American Indian or Alaska Native                7\n",
      "Native Hawaiian or Other Pacific Islander       2\n",
      "Multiracial                                     1\n",
      "Unknown                                         1\n",
      "Name: race, dtype: int64\n",
      "Slow percents: White or Caucasian                           67.427833\n",
      "Black or African American                    28.263679\n",
      "Other                                         2.714347\n",
      "Asian                                         1.120207\n",
      "American Indian or Alaska Native              0.301594\n",
      "Native Hawaiian or Other Pacific Islander     0.086170\n",
      "Multiracial                                   0.043085\n",
      "Unknown                                       0.043085\n",
      "Name: race, dtype: float64\n",
      "++++++++++++++++++++++++++++++++++++++\n",
      "race\n",
      "Fast counts: White or Caucasian                           1657\n",
      "Black or African American                     537\n",
      "Other                                          69\n",
      "Asian                                          40\n",
      "American Indian or Alaska Native               13\n",
      "Multiracial                                     5\n",
      "Native Hawaiian or Other Pacific Islander       3\n",
      "Unknown                                         1\n",
      "Name: race, dtype: int64\n",
      "Fast percents: White or Caucasian                           71.268817\n",
      "Black or African American                    23.096774\n",
      "Other                                         2.967742\n",
      "Asian                                         1.720430\n",
      "American Indian or Alaska Native              0.559140\n",
      "Multiracial                                   0.215054\n",
      "Native Hawaiian or Other Pacific Islander     0.129032\n",
      "Unknown                                       0.043011\n",
      "Name: race, dtype: float64\n",
      "++++++++++++++++++++++++++++++++++++++\n",
      "Essential hypertension\n",
      "Slow counts: 1    1536\n",
      "0     785\n",
      "Name: Essential hypertension, dtype: int64\n",
      "Slow percents: 1    66.178371\n",
      "0    33.821629\n",
      "Name: Essential hypertension, dtype: float64\n",
      "++++++++++++++++++++++++++++++++++++++\n",
      "Essential hypertension\n",
      "Fast counts: 1    1589\n",
      "0     736\n",
      "Name: Essential hypertension, dtype: int64\n",
      "Fast percents: 1    68.344086\n",
      "0    31.655914\n",
      "Name: Essential hypertension, dtype: float64\n",
      "++++++++++++++++++++++++++++++++++++++\n",
      "Hyperlipidemia\n",
      "Slow counts: 0    1675\n",
      "1     646\n",
      "Name: Hyperlipidemia, dtype: int64\n",
      "Slow percents: 0    72.167169\n",
      "1    27.832831\n",
      "Name: Hyperlipidemia, dtype: float64\n",
      "++++++++++++++++++++++++++++++++++++++\n",
      "Hyperlipidemia\n",
      "Fast counts: 0    1628\n",
      "1     697\n",
      "Name: Hyperlipidemia, dtype: int64\n",
      "Fast percents: 0    70.021505\n",
      "1    29.978495\n",
      "Name: Hyperlipidemia, dtype: float64\n",
      "++++++++++++++++++++++++++++++++++++++\n",
      "cigarettes_yn\n",
      "Slow counts: N    1796\n",
      "Y     525\n",
      "Name: cigarettes_yn, dtype: int64\n",
      "Slow percents: N    77.380439\n",
      "Y    22.619561\n",
      "Name: cigarettes_yn, dtype: float64\n",
      "++++++++++++++++++++++++++++++++++++++\n",
      "cigarettes_yn\n",
      "Fast counts: N    1755\n",
      "Y     570\n",
      "Name: cigarettes_yn, dtype: int64\n",
      "Fast percents: N    75.483871\n",
      "Y    24.516129\n",
      "Name: cigarettes_yn, dtype: float64\n",
      "++++++++++++++++++++++++++++++++++++++\n",
      "smokeless_tob_use_name\n",
      "Slow counts: Unknown         1922\n",
      "Never Used       376\n",
      "Former User       18\n",
      "Current User       5\n",
      "Name: smokeless_tob_use_name, dtype: int64\n",
      "Slow percents: Unknown         82.809134\n",
      "Never Used      16.199914\n",
      "Former User      0.775528\n",
      "Current User     0.215424\n",
      "Name: smokeless_tob_use_name, dtype: float64\n",
      "++++++++++++++++++++++++++++++++++++++\n",
      "smokeless_tob_use_name\n",
      "Fast counts: Unknown         1501\n",
      "Never Used       778\n",
      "Former User       36\n",
      "Current User      10\n",
      "Name: smokeless_tob_use_name, dtype: int64\n",
      "Fast percents: Unknown         64.559140\n",
      "Never Used      33.462366\n",
      "Former User      1.548387\n",
      "Current User     0.430108\n",
      "Name: smokeless_tob_use_name, dtype: float64\n",
      "++++++++++++++++++++++++++++++++++++++\n"
     ]
    }
   ],
   "source": [
    "for i in cat_variables:\n",
    "    print(i)\n",
    "    print('Slow counts:', i_o_slow[i].value_counts())\n",
    "    print('Slow percents:', i_o_slow[i].value_counts(normalize=True)*100)\n",
    "    print('++++++++++++++++++++++++++++++++++++++')\n",
    "    print(i)\n",
    "    print('Fast counts:', i_o_fast[i].value_counts())\n",
    "    print('Fast percents:', i_o_fast[i].value_counts(normalize=True)*100)\n",
    "    print('++++++++++++++++++++++++++++++++++++++')"
   ]
  },
  {
   "cell_type": "code",
   "execution_count": 36,
   "id": "6c8e0355-876e-48ac-b8ab-64c4352d08b3",
   "metadata": {
    "collapsed": true,
    "jupyter": {
     "outputs_hidden": true
    },
    "tags": []
   },
   "outputs": [
    {
     "name": "stdout",
     "output_type": "stream",
     "text": [
      "sex\n",
      "chi-square: (5.510361598903939, 0.01890413819418847, 1, array([[1161.49913904, 1163.50086096],\n",
      "       [1159.50086096, 1161.49913904]]))\n",
      "+++++++++++++++++++++++++++++++++++++++\n",
      "race\n",
      "chi-square: (22.402678921331685, 0.002164410893718958, 7, array([[9.99139044e+00, 1.00086096e+01],\n",
      "       [3.29715885e+01, 3.30284115e+01],\n",
      "       [5.95986440e+02, 5.97013560e+02],\n",
      "       [2.99741713e+00, 3.00258287e+00],\n",
      "       [2.49784761e+00, 2.50215239e+00],\n",
      "       [6.59431769e+01, 6.60568231e+01],\n",
      "       [9.99139044e-01, 1.00086096e+00],\n",
      "       [1.60961300e+03, 1.61238700e+03]]))\n",
      "+++++++++++++++++++++++++++++++++++++++\n",
      "Essential hypertension\n",
      "chi-square: (2.376630838430046, 0.12316291744469665, 1, array([[ 759.84524322,  761.15475678],\n",
      "       [1561.15475678, 1563.84524322]]))\n",
      "+++++++++++++++++++++++++++++++++++++++\n",
      "Hyperlipidemia\n",
      "chi-square: (2.498691855355827, 0.11394090573043163, 1, array([[1650.07813173, 1652.92186827],\n",
      "       [ 670.92186827,  672.07813173]]))\n",
      "+++++++++++++++++++++++++++++++++++++++\n",
      "cigarettes_yn\n",
      "chi-square: (2.215171651189764, 0.1366598613035181, 1, array([[1773.97137322, 1777.02862678],\n",
      "       [ 547.02862678,  547.97137322]]))\n",
      "+++++++++++++++++++++++++++++++++++++++\n",
      "smokeless_tob_use_name\n",
      "chi-square: (199.48093220345487, 5.461572326363789e-43, 3, array([[   7.49354283,    7.50645717],\n",
      "       [  26.9767542 ,   27.0232458 ],\n",
      "       [ 576.50322858,  577.49677142],\n",
      "       [1710.02647439, 1712.97352561]]))\n",
      "+++++++++++++++++++++++++++++++++++++++\n"
     ]
    }
   ],
   "source": [
    "for i in cat_variables:\n",
    "    print(i)\n",
    "    crosstab = pd.crosstab(all_cv[i], all_cv['class'])\n",
    "    print('chi-square:',stats.chi2_contingency(crosstab))\n",
    "    print('+++++++++++++++++++++++++++++++++++++++')"
   ]
  },
  {
   "cell_type": "code",
   "execution_count": 37,
   "id": "075dcc5b-f6a2-40ea-ada2-c709abdb3def",
   "metadata": {
    "jupyter": {
     "source_hidden": true
    },
    "tags": []
   },
   "outputs": [
    {
     "name": "stdout",
     "output_type": "stream",
     "text": [
      "age_at_diab\n",
      "fast var normality: ShapiroResult(statistic=0.9935258030891418, pvalue=1.3222077654972964e-08)\n",
      "slow var normality: ShapiroResult(statistic=0.9938756227493286, pvalue=3.0290696173551623e-08)\n",
      "ranksum:  RanksumsResult(statistic=12.251930573298983, pvalue=1.6404368467409162e-34)\n",
      "+++++++++++++++++++++++++++++++++++++++\n",
      "duration_diab\n",
      "fast var normality: ShapiroResult(statistic=0.9592053890228271, pvalue=4.74024890921689e-25)\n",
      "slow var normality: ShapiroResult(statistic=0.988038957118988, pvalue=5.054959814447535e-13)\n",
      "ranksum:  RanksumsResult(statistic=-30.711837163375346, pvalue=3.955655632873525e-207)\n",
      "+++++++++++++++++++++++++++++++++++++++\n",
      "GLUCOSE\n",
      "fast var normality: ShapiroResult(statistic=0.8886808753013611, pvalue=4.962797162818228e-38)\n",
      "slow var normality: ShapiroResult(statistic=0.8993257284164429, pvalue=1.4115165085189193e-36)\n",
      "ranksum:  RanksumsResult(statistic=-1.2357172937301457, pvalue=0.21656366697882778)\n",
      "+++++++++++++++++++++++++++++++++++++++\n",
      "CREATININE\n",
      "fast var normality: ShapiroResult(statistic=0.9140375256538391, pvalue=2.0410211728260556e-34)\n",
      "slow var normality: ShapiroResult(statistic=0.902441143989563, pvalue=3.8918050149157584e-36)\n",
      "ranksum:  RanksumsResult(statistic=3.472079246900148, pvalue=0.0005164438614948235)\n",
      "+++++++++++++++++++++++++++++++++++++++\n",
      "bmi\n",
      "fast var normality: ShapiroResult(statistic=0.9799023270606995, pvalue=1.3285166665660028e-17)\n",
      "slow var normality: ShapiroResult(statistic=0.9754303693771362, pvalue=1.4820937539584982e-19)\n",
      "ranksum:  RanksumsResult(statistic=-3.7818124898664798, pvalue=0.00015569062171627104)\n",
      "+++++++++++++++++++++++++++++++++++++++\n",
      "EGFR\n",
      "fast var normality: ShapiroResult(statistic=0.8150678873062134, pvalue=1.401298464324817e-45)\n",
      "slow var normality: ShapiroResult(statistic=0.8622242212295532, pvalue=3.986554001157672e-41)\n",
      "ranksum:  RanksumsResult(statistic=-6.884909077275519, pvalue=5.782445558143319e-12)\n",
      "+++++++++++++++++++++++++++++++++++++++\n"
     ]
    }
   ],
   "source": [
    "listofname=['age_at_diab','duration_diab','GLUCOSE','CREATININE','bmi','EGFR']\n",
    "\n",
    "for x in listofname:\n",
    "    print(x)\n",
    "    print('fast var normality:', stats.shapiro(i_o_fast[x]))\n",
    "    print('slow var normality:',stats.shapiro(i_o_slow[x]))\n",
    "    \n",
    "    #print('t-test: ',ttest_ind(i_o_fast[x],i_o_slow[x], equal_var=True))\n",
    "    print('ranksum: ',ranksums(i_o_fast[x],i_o_slow[x]))\n",
    "    #print('z-test: ', ztest(i_o_fast[x],i_o_slow[x]))\n",
    "    print('+++++++++++++++++++++++++++++++++++++++')"
   ]
  },
  {
   "cell_type": "markdown",
   "id": "5a33c82e-b628-45e9-9b39-fabf6c754bae",
   "metadata": {
    "jp-MarkdownHeadingCollapsed": true,
    "tags": []
   },
   "source": [
    "### 7. Random Search of MCW Cluster"
   ]
  },
  {
   "cell_type": "code",
   "execution_count": null,
   "id": "2369debf-2548-4a8e-919f-dea7e2ec6070",
   "metadata": {},
   "outputs": [],
   "source": [
    "#inputs\n",
    "input_dict = {\n",
    "    'Codes': CVD_phen,\n",
    "    'Demos': CVD_demos,\n",
    "    'Vitals': CVD_vitals,\n",
    "    'Social':CVD_social,\n",
    "    'Labs': CVD_labs,\n",
    "    'All': CVD_all}\n",
    "\n",
    "#parameters\n",
    "Dummy_params = {'strategy':['most_frequent']}\n",
    "\n",
    "GB_params = {\n",
    "    'learning_rate': np.linspace(0.1, 1, 19),\n",
    "    'max_depth': np.linspace(5, 100, 20),\n",
    "    'max_features': ['auto','sqrt','log2'],\n",
    "    'min_samples_leaf': [2, 10, 20, 40, 80, 100, 150, 200, 250, 300, 350, 400, 450, 500],\n",
    "    'min_samples_split': [2, 10, 20, 40, 80, 100, 150, 200, 250, 300, 350, 400, 450, 500],\n",
    "    'subsample':[0.8, 1],\n",
    "    'n_estimators':[10, 50, 100, 250, 500, 1000, 2000, 3000]}\n",
    "\n",
    "SVC_params = {\n",
    "    'C': [0.1,1,10,100],\n",
    "    'kernel':['poly', 'rbf', 'sigmoid'],\n",
    "    'gamma':[1,0.1,0.01,0.001]}\n",
    "\n",
    "ET_params = {\n",
    "    'bootstrap': [True, False],\n",
    "    'max_depth': np.linspace(5, 100, 20),\n",
    "    'max_features':['auto','sqrt','log2'],\n",
    "    'min_samples_leaf': [2, 10, 20, 40, 80, 100, 150, 200, 250, 300, 350, 400, 450, 500],\n",
    "    'min_samples_split': [2, 10, 20, 40, 80, 100, 150, 200, 250, 300, 350, 400, 450, 500],\n",
    "    'n_estimators':[10, 50, 100, 250, 500, 1000, 2000, 3000]}\n",
    "\n",
    "RF_params = {\n",
    "    'bootstrap': [True, False],\n",
    "    'max_depth': np.linspace(5, 100, 20),\n",
    "    'max_features':['auto','sqrt','log2'],\n",
    "    'min_samples_leaf': [2, 10, 20, 40, 80, 100, 150, 200, 250, 300, 350, 400, 450, 500],\n",
    "    'min_samples_split': [2, 10, 20, 40, 80, 100, 150, 200, 250, 300, 350, 400, 450, 500],\n",
    "    'n_estimators':[10, 50, 100, 250, 500, 1000, 2000, 3000]}\n",
    "\n",
    "ada_params = {\n",
    "    'learning_rate': np.linspace(0.1, 1, 19),\n",
    "    'n_estimators':[10, 50, 100, 250, 500, 1000, 2000, 3000]}\n",
    "\n",
    "LR_params = {\n",
    "            'C':[0.01,0.1,1,10,100],\n",
    "            'penalty':['l2','none'],\n",
    "            'solver':['newton-cg','lbfgs', 'sag', 'saga'],\n",
    "            'max_iter':[100,200,300]}\n",
    "            \n",
    "models_dict = {\n",
    "    'Dummy': DummyClassifier(),\n",
    "    'SVC': SVC(probability=True),\n",
    "    'GB': GradientBoostingClassifier(),\n",
    "    'ET': ExtraTreesClassifier(),\n",
    "    'RF': RandomForestClassifier(),\n",
    "    'AdaBoost': AdaBoostClassifier(),\n",
    "    'LR': LogisticRegression()}\n",
    "\n",
    "params_dict = {\n",
    "    'Dummy': Dummy_params,\n",
    "    'SVC': SVC_params,\n",
    "    'GB': GB_params,\n",
    "    'ET': ET_params,\n",
    "    'RF': RF_params,\n",
    "    'AdaBoost': ada_params,\n",
    "    'LR': LR_params}\n",
    "\n",
    "#run randomsearch\n",
    "CVD_all_score_dict = {}\n",
    "CVD_all_model_dict = {}\n",
    "\n",
    "for i in input_dict.keys():\n",
    "    print('Input:', i)\n",
    "    temp_1 = {}\n",
    "    temp_2 = {}\n",
    "    Xtrain, Xtest, ytrain, ytest = train_test_split(input_dict[i], CV_final_clf, random_state=42, test_size=0.2) \n",
    "    for x in models_dict.keys():\n",
    "        print(x)\n",
    "        clf = RandomizedSearchCV(models_dict[x], param_distributions= params_dict[x],scoring='roc_auc',refit=True,cv=5, n_jobs=47,verbose=3, n_iter=1000)\n",
    "        clf.fit(Xtrain, ytrain)\n",
    "        print(clf.best_estimator_)\n",
    "        print(clf.best_score_)\n",
    "        temp_1[x] = clf.best_estimator_\n",
    "        temp_2[x] = clf.best_score_\n",
    "    CVD_all_model_dict[i] = temp_1\n",
    "    CVD_all_score_dict[i] = temp_2\n",
    "\n",
    "# save\n",
    "with open('CVD_phenbin_all_score_dict.pkl', 'wb') as tmpfile:\n",
    "    pickle.dump(CVD_all_score_dict, tmpfile)\n",
    "with open('CVD_phenbin_all_model_dict.pkl', 'wb') as tmpfile:\n",
    "    pickle.dump(CVD_all_model_dict, tmpfile)\n",
    "\n",
    "CVD_score_df=pd.DataFrame.from_dict(CVD_all_score_dict)\n",
    "CVD_score_df.to_csv('CVD_phenbin_score_df.csv')"
   ]
  },
  {
   "cell_type": "code",
   "execution_count": 23,
   "id": "d19f400f-131a-41e0-84ea-5d307da8cbfc",
   "metadata": {},
   "outputs": [],
   "source": [
    "with open(r'./pickles/CVD_phenbin_all_model_dict.pkl', 'rb') as handle:\n",
    "    CV_all_model_dict = pickle.load(handle)\n",
    "with open(r'./pickles/CVD_phenbin_all_score_dict.pkl', 'rb') as handle:\n",
    "    CV_all_score_dict = pickle.load(handle)"
   ]
  },
  {
   "cell_type": "markdown",
   "id": "0b01407f-f551-4ec5-b861-537995992b3f",
   "metadata": {
    "jp-MarkdownHeadingCollapsed": true,
    "tags": []
   },
   "source": [
    "### 8. Evaluate test set"
   ]
  },
  {
   "cell_type": "code",
   "execution_count": 25,
   "id": "5599b4a5-593e-426a-895f-db804e5d30dd",
   "metadata": {},
   "outputs": [],
   "source": [
    "CV_score_df = pd.read_csv(r'/Users/amomenzadeh/Desktop/DM_csv/CVD_phenbin_score_df.csv')"
   ]
  },
  {
   "cell_type": "code",
   "execution_count": 26,
   "id": "6b2331c4-d004-4b2c-8301-b92a3dbc102d",
   "metadata": {},
   "outputs": [],
   "source": [
    "with open(r'./pickles/CV_vitals_norm.pkl', 'rb') as handle:\n",
    "    CV_vitals = pickle.load(handle)\n",
    "with open(r'./pickles/CV_social_norm.pkl', 'rb') as handle:\n",
    "    CV_social = pickle.load(handle)\n",
    "with open(r'./pickles/CV_labs_norm.pkl', 'rb') as handle:\n",
    "    CV_labs = pickle.load(handle)\n",
    "with open(r'./pickles/CV_demos_norm.pkl', 'rb') as handle:\n",
    "    CV_demos = pickle.load(handle)"
   ]
  },
  {
   "cell_type": "code",
   "execution_count": 27,
   "id": "73a4e84b-249a-4d48-be10-443f5bb28cf9",
   "metadata": {
    "tags": []
   },
   "outputs": [
    {
     "data": {
      "text/html": [
       "<div>\n",
       "<style scoped>\n",
       "    .dataframe tbody tr th:only-of-type {\n",
       "        vertical-align: middle;\n",
       "    }\n",
       "\n",
       "    .dataframe tbody tr th {\n",
       "        vertical-align: top;\n",
       "    }\n",
       "\n",
       "    .dataframe thead th {\n",
       "        text-align: right;\n",
       "    }\n",
       "</style>\n",
       "<table border=\"1\" class=\"dataframe\">\n",
       "  <thead>\n",
       "    <tr style=\"text-align: right;\">\n",
       "      <th></th>\n",
       "      <th>Unnamed: 0</th>\n",
       "      <th>Codes</th>\n",
       "      <th>Demos</th>\n",
       "      <th>Vitals</th>\n",
       "      <th>Social</th>\n",
       "      <th>Labs</th>\n",
       "      <th>All</th>\n",
       "    </tr>\n",
       "  </thead>\n",
       "  <tbody>\n",
       "    <tr>\n",
       "      <th>0</th>\n",
       "      <td>Dummy</td>\n",
       "      <td>0.500000</td>\n",
       "      <td>0.500000</td>\n",
       "      <td>0.500000</td>\n",
       "      <td>0.500000</td>\n",
       "      <td>0.500000</td>\n",
       "      <td>0.500000</td>\n",
       "    </tr>\n",
       "    <tr>\n",
       "      <th>1</th>\n",
       "      <td>SVC</td>\n",
       "      <td>0.617208</td>\n",
       "      <td>0.638515</td>\n",
       "      <td>0.558417</td>\n",
       "      <td>0.616175</td>\n",
       "      <td>0.621579</td>\n",
       "      <td>0.681148</td>\n",
       "    </tr>\n",
       "    <tr>\n",
       "      <th>2</th>\n",
       "      <td>GB</td>\n",
       "      <td>0.611613</td>\n",
       "      <td>0.640129</td>\n",
       "      <td>0.569956</td>\n",
       "      <td>0.619115</td>\n",
       "      <td>0.619961</td>\n",
       "      <td>0.677643</td>\n",
       "    </tr>\n",
       "    <tr>\n",
       "      <th>3</th>\n",
       "      <td>ET</td>\n",
       "      <td>0.627105</td>\n",
       "      <td>0.622119</td>\n",
       "      <td>0.568494</td>\n",
       "      <td>0.615268</td>\n",
       "      <td>0.628701</td>\n",
       "      <td>0.686466</td>\n",
       "    </tr>\n",
       "    <tr>\n",
       "      <th>4</th>\n",
       "      <td>RF</td>\n",
       "      <td>0.627413</td>\n",
       "      <td>0.632952</td>\n",
       "      <td>0.572585</td>\n",
       "      <td>0.617546</td>\n",
       "      <td>0.626442</td>\n",
       "      <td>0.690015</td>\n",
       "    </tr>\n",
       "    <tr>\n",
       "      <th>5</th>\n",
       "      <td>AdaBoost</td>\n",
       "      <td>0.590725</td>\n",
       "      <td>0.641926</td>\n",
       "      <td>0.563410</td>\n",
       "      <td>0.618679</td>\n",
       "      <td>0.622686</td>\n",
       "      <td>0.678659</td>\n",
       "    </tr>\n",
       "    <tr>\n",
       "      <th>6</th>\n",
       "      <td>LR</td>\n",
       "      <td>0.613726</td>\n",
       "      <td>0.640919</td>\n",
       "      <td>0.555060</td>\n",
       "      <td>0.614712</td>\n",
       "      <td>0.620804</td>\n",
       "      <td>0.678349</td>\n",
       "    </tr>\n",
       "  </tbody>\n",
       "</table>\n",
       "</div>"
      ],
      "text/plain": [
       "  Unnamed: 0     Codes     Demos    Vitals    Social      Labs       All\n",
       "0      Dummy  0.500000  0.500000  0.500000  0.500000  0.500000  0.500000\n",
       "1        SVC  0.617208  0.638515  0.558417  0.616175  0.621579  0.681148\n",
       "2         GB  0.611613  0.640129  0.569956  0.619115  0.619961  0.677643\n",
       "3         ET  0.627105  0.622119  0.568494  0.615268  0.628701  0.686466\n",
       "4         RF  0.627413  0.632952  0.572585  0.617546  0.626442  0.690015\n",
       "5   AdaBoost  0.590725  0.641926  0.563410  0.618679  0.622686  0.678659\n",
       "6         LR  0.613726  0.640919  0.555060  0.614712  0.620804  0.678349"
      ]
     },
     "execution_count": 27,
     "metadata": {},
     "output_type": "execute_result"
    }
   ],
   "source": [
    "#train data (80%)\n",
    "CV_score_df"
   ]
  },
  {
   "cell_type": "code",
   "execution_count": 28,
   "id": "c7c5cbc3-1a90-4e73-99e0-f7077a7d55a7",
   "metadata": {
    "tags": []
   },
   "outputs": [],
   "source": [
    "input_dict = {\n",
    "    'Codes': CVD_phen,\n",
    "    'Demos': CV_demos,\n",
    "    'Vitals': CV_vitals,\n",
    "    'Social': CV_social,\n",
    "    'Labs': CV_labs,\n",
    "    'All': CVD_all}"
   ]
  },
  {
   "cell_type": "code",
   "execution_count": 29,
   "id": "882faf47-37f0-463f-b817-b0da551c2506",
   "metadata": {},
   "outputs": [],
   "source": [
    "auroc = {}\n",
    "fpr = {}\n",
    "tpr = {}\n",
    "threshold = {}\n",
    "\n",
    "for x in CV_all_model_dict.keys():\n",
    "    temp1 = {}\n",
    "    temp2 = {}\n",
    "    temp3 = {}\n",
    "    temp4 = {} \n",
    "    Xtrain, Xtest, ytrain, ytest = train_test_split(input_dict[x], CV_final_clf, random_state=42, test_size=0.2) \n",
    "    for y in CV_all_model_dict[x].keys():\n",
    "        model= CV_all_model_dict[x][y]\n",
    "        ypred = model.predict(Xtest)\n",
    "        probs = model.predict_proba(Xtest)\n",
    "        pos_probs = probs[:, 1]\n",
    "        temp1[y] = roc_auc_score(ytest, pos_probs)\n",
    "        temp2[y], temp3[y], temp4[y] = metrics.roc_curve(ytest, pos_probs)\n",
    "    auroc[x] = temp1\n",
    "    fpr[x] = temp2\n",
    "    tpr[x] = temp3\n",
    "    threshold [x] = temp4"
   ]
  },
  {
   "cell_type": "code",
   "execution_count": 30,
   "id": "43366b48-6ab5-4a31-ac33-a7774e569192",
   "metadata": {},
   "outputs": [
    {
     "data": {
      "text/html": [
       "<div>\n",
       "<style scoped>\n",
       "    .dataframe tbody tr th:only-of-type {\n",
       "        vertical-align: middle;\n",
       "    }\n",
       "\n",
       "    .dataframe tbody tr th {\n",
       "        vertical-align: top;\n",
       "    }\n",
       "\n",
       "    .dataframe thead th {\n",
       "        text-align: right;\n",
       "    }\n",
       "</style>\n",
       "<table border=\"1\" class=\"dataframe\">\n",
       "  <thead>\n",
       "    <tr style=\"text-align: right;\">\n",
       "      <th></th>\n",
       "      <th>Codes</th>\n",
       "      <th>Demos</th>\n",
       "      <th>Vitals</th>\n",
       "      <th>Social</th>\n",
       "      <th>Labs</th>\n",
       "      <th>All</th>\n",
       "    </tr>\n",
       "  </thead>\n",
       "  <tbody>\n",
       "    <tr>\n",
       "      <th>Dummy</th>\n",
       "      <td>0.500000</td>\n",
       "      <td>0.500000</td>\n",
       "      <td>0.500000</td>\n",
       "      <td>0.500000</td>\n",
       "      <td>0.500000</td>\n",
       "      <td>0.500000</td>\n",
       "    </tr>\n",
       "    <tr>\n",
       "      <th>SVC</th>\n",
       "      <td>0.608985</td>\n",
       "      <td>0.634387</td>\n",
       "      <td>0.537747</td>\n",
       "      <td>0.633075</td>\n",
       "      <td>0.647538</td>\n",
       "      <td>0.672359</td>\n",
       "    </tr>\n",
       "    <tr>\n",
       "      <th>GB</th>\n",
       "      <td>0.603465</td>\n",
       "      <td>0.636746</td>\n",
       "      <td>0.515621</td>\n",
       "      <td>0.606150</td>\n",
       "      <td>0.634051</td>\n",
       "      <td>0.693840</td>\n",
       "    </tr>\n",
       "    <tr>\n",
       "      <th>ET</th>\n",
       "      <td>0.609351</td>\n",
       "      <td>0.616454</td>\n",
       "      <td>0.558967</td>\n",
       "      <td>0.642171</td>\n",
       "      <td>0.623486</td>\n",
       "      <td>0.698726</td>\n",
       "    </tr>\n",
       "    <tr>\n",
       "      <th>RF</th>\n",
       "      <td>0.613355</td>\n",
       "      <td>0.623032</td>\n",
       "      <td>0.541835</td>\n",
       "      <td>0.599239</td>\n",
       "      <td>0.625564</td>\n",
       "      <td>0.693171</td>\n",
       "    </tr>\n",
       "    <tr>\n",
       "      <th>AdaBoost</th>\n",
       "      <td>0.597151</td>\n",
       "      <td>0.632728</td>\n",
       "      <td>0.530739</td>\n",
       "      <td>0.625675</td>\n",
       "      <td>0.617843</td>\n",
       "      <td>0.688269</td>\n",
       "    </tr>\n",
       "    <tr>\n",
       "      <th>LR</th>\n",
       "      <td>0.602755</td>\n",
       "      <td>0.632098</td>\n",
       "      <td>0.538747</td>\n",
       "      <td>0.618766</td>\n",
       "      <td>0.646946</td>\n",
       "      <td>0.679052</td>\n",
       "    </tr>\n",
       "  </tbody>\n",
       "</table>\n",
       "</div>"
      ],
      "text/plain": [
       "             Codes     Demos    Vitals    Social      Labs       All\n",
       "Dummy     0.500000  0.500000  0.500000  0.500000  0.500000  0.500000\n",
       "SVC       0.608985  0.634387  0.537747  0.633075  0.647538  0.672359\n",
       "GB        0.603465  0.636746  0.515621  0.606150  0.634051  0.693840\n",
       "ET        0.609351  0.616454  0.558967  0.642171  0.623486  0.698726\n",
       "RF        0.613355  0.623032  0.541835  0.599239  0.625564  0.693171\n",
       "AdaBoost  0.597151  0.632728  0.530739  0.625675  0.617843  0.688269\n",
       "LR        0.602755  0.632098  0.538747  0.618766  0.646946  0.679052"
      ]
     },
     "execution_count": 30,
     "metadata": {},
     "output_type": "execute_result"
    }
   ],
   "source": [
    "pd.DataFrame.from_dict(auroc)"
   ]
  },
  {
   "cell_type": "markdown",
   "id": "6a4a0dbc-7ce5-4db1-b959-8ed062b7b30b",
   "metadata": {
    "jp-MarkdownHeadingCollapsed": true,
    "tags": []
   },
   "source": [
    "### 9. Make overlayed AUROC plot"
   ]
  },
  {
   "cell_type": "code",
   "execution_count": 81,
   "id": "1d84e330-233d-4e0a-9ef2-0ed6f69500c9",
   "metadata": {
    "tags": []
   },
   "outputs": [],
   "source": [
    "# Set the global font to be DejaVu Sans, size 10 \n",
    "rc('font',**{'family':'sans-serif','sans-serif':['DejaVu Sans'],'size':10})\n",
    "# Set the font used for MathJax\n",
    "rc('mathtext',**{'default':'regular'})\n",
    "%matplotlib inline\n",
    "# The following %config line changes the inline figures to have a higher DPI.\n",
    "%config InlineBackend.figure_format = 'retina'"
   ]
  },
  {
   "cell_type": "code",
   "execution_count": 108,
   "id": "2de35068-90e3-499d-9e52-15557d1a4db9",
   "metadata": {
    "tags": []
   },
   "outputs": [
    {
     "data": {
      "text/plain": [
       "<Figure size 504x504 with 0 Axes>"
      ]
     },
     "execution_count": 108,
     "metadata": {},
     "output_type": "execute_result"
    },
    {
     "data": {
      "image/png": "[encoded data removed]",
      "text/plain": [
       "<Figure size 504x504 with 1 Axes>"
      ]
     },
     "metadata": {
      "image/png": {
       "height": 460,
       "width": 467
      }
     },
     "output_type": "display_data"
    },
    {
     "data": {
      "text/plain": [
       "<Figure size 504x504 with 0 Axes>"
      ]
     },
     "metadata": {},
     "output_type": "display_data"
    }
   ],
   "source": [
    "plt.rcParams['figure.figsize']=7,7\n",
    "plt.rcParams['axes.facecolor']='white'\n",
    "plt.rcParams[\"axes.edgecolor\"] = \"black\"\n",
    "plt.rcParams[\"axes.linewidth\"] = 0.75\n",
    "plt.rcParams[\"axes.prop_cycle\"] = plt.cycler(color=['#bcbd22', '#ff7f0e', '#2ca02c', '#d62728', '#9467bd', '#17becf'])\n",
    "\n",
    "plt.plot(fpr['Vitals']['ET'], tpr['Vitals']['ET'],\n",
    "         label='Vitals (AUROC = {0:0.2f})'\n",
    "               ''.format(auroc['Vitals']['ET']),\n",
    "         linewidth=2.5)\n",
    "\n",
    "plt.plot(fpr['Demos']['GB'], tpr['Demos']['GB'],\n",
    "         label='Demographics (AUROC = {0:0.2f})'\n",
    "               ''.format(auroc['Demos']['GB']),\n",
    "         linewidth=2.5)\n",
    "\n",
    "plt.plot(fpr['Codes']['RF'], tpr['Codes']['RF'],\n",
    "         label='Phenotypes (AUROC = {0:0.2f})'\n",
    "               ''.format(auroc['Codes']['RF']),\n",
    "         linewidth=2.5)\n",
    "\n",
    "plt.plot(fpr['Labs']['SVC'], tpr['Labs']['SVC'],\n",
    "         label='Labs (AUROC = {0:0.2f})'\n",
    "               ''.format(auroc['Labs']['SVC']),\n",
    "         linewidth=2.5)\n",
    "\n",
    "plt.plot(fpr['Social']['ET'], tpr['Social']['ET'],\n",
    "         label='Social (AUROC = {0:0.2f})'\n",
    "               ''.format(auroc['Social']['ET']),\n",
    "         linewidth=2.5)\n",
    "\n",
    "plt.plot(fpr['All']['ET'], tpr['All']['ET'],\n",
    "         label='All (AUROC = {0:0.2f})'\n",
    "               ''.format(auroc['All']['ET']),\n",
    "         linewidth=2.5)\n",
    "\n",
    "plt.xticks(fontsize=15)\n",
    "plt.yticks(fontsize=15)\n",
    "plt.plot([0, 1], [0, 1], 'k--')\n",
    "plt.xlim([0, 1.0])\n",
    "plt.ylim([0.0, 1.05])\n",
    "plt.xlabel('False Positive Rate', fontsize=20, fontweight=100)\n",
    "plt.ylabel('True Positive Rate', fontsize=20, fontweight=100)\n",
    "plt.title('CVD ROC Curves', fontsize=20, fontweight=100)\n",
    "plt.legend(loc=\"lower right\",fontsize=12)\n",
    "plt.grid(False)\n",
    "plt.savefig(r'./figures/CVDphen_AUROC.svg', format='svg')\n",
    "plt.figure()"
   ]
  },
  {
   "cell_type": "markdown",
   "id": "e32cbd96-5515-4912-abd9-80c34c517549",
   "metadata": {
    "tags": []
   },
   "source": [
    "### 10. Make calibration plot"
   ]
  },
  {
   "cell_type": "code",
   "execution_count": 43,
   "id": "de93e32c-e76f-4ac3-9eeb-c287a3aa8029",
   "metadata": {},
   "outputs": [],
   "source": [
    "Xtrain, Xtest, ytrain, ytest = train_test_split(input_dict['All'], CV_final_clf, random_state=42, test_size=0.2) "
   ]
  },
  {
   "cell_type": "code",
   "execution_count": 31,
   "id": "658c6367-d1fa-4643-906e-332a151fc6bb",
   "metadata": {},
   "outputs": [
    {
     "name": "stdout",
     "output_type": "stream",
     "text": [
      "ExtraTreesClassifier(bootstrap=True, max_depth=95.0, min_samples_leaf=2,\n",
      "                     min_samples_split=10, n_estimators=500)\n"
     ]
    }
   ],
   "source": [
    "model=CV_all_model_dict['All']['ET']\n",
    "print(model)"
   ]
  },
  {
   "cell_type": "code",
   "execution_count": 32,
   "id": "15cbb8ad-52c1-42d5-8006-7df0c0dc5fad",
   "metadata": {
    "tags": []
   },
   "outputs": [
    {
     "name": "stdout",
     "output_type": "stream",
     "text": [
      "AUROC: 0.6987256340583905\n",
      "Brier Score: 0.22267826020970477\n"
     ]
    },
    {
     "data": {
      "text/plain": [
       "<Figure size 504x504 with 0 Axes>"
      ]
     },
     "execution_count": 32,
     "metadata": {},
     "output_type": "execute_result"
    },
    {
     "data": {
      "image/png": "[encoded data removed]",
      "text/plain": [
       "<Figure size 504x504 with 1 Axes>"
      ]
     },
     "metadata": {},
     "output_type": "display_data"
    },
    {
     "data": {
      "text/plain": [
       "<Figure size 504x504 with 0 Axes>"
      ]
     },
     "metadata": {},
     "output_type": "display_data"
    }
   ],
   "source": [
    "plt.rcParams['figure.figsize']=7,7\n",
    "plt.rcParams['axes.facecolor']='white'\n",
    "plt.rcParams[\"axes.edgecolor\"] = \"black\"\n",
    "plt.rcParams[\"axes.linewidth\"] = 0.75\n",
    "\n",
    "probs = model.predict_proba(Xtest)[:, 1]\n",
    "# reliability diagram\n",
    "fop, mpv = calibration_curve(ytest, probs, n_bins=10, normalize=True)\n",
    "# plot perfectly calibrated\n",
    "plt.plot([0, 1], [0, 1], linestyle='--', color=\"black\")\n",
    "# plot model reliability\n",
    "plt.plot(mpv, fop, marker='.', color=\"blue\")\n",
    "\n",
    "ypred = model.predict(Xtest)\n",
    "probs = model.predict_proba(Xtest)\n",
    "pos_probs = probs[:, 1]\n",
    "rocauc = roc_auc_score(ytest, pos_probs)\n",
    "print('AUROC:', rocauc)\n",
    "bs=brier_score_loss(ytest, pos_probs)\n",
    "print('Brier Score:', bs)\n",
    "\n",
    "plt.xticks(fontsize=15)\n",
    "plt.yticks(fontsize=15)\n",
    "plt.xlabel('Observed Probability', fontsize=20, fontweight=100)\n",
    "plt.ylabel('Predicted Probability', fontsize=20, fontweight=100)\n",
    "plt.title('CVD (uncalibrated)', fontsize=20, fontweight=100)\n",
    "plt.grid(False)\n",
    "plt.figure()"
   ]
  },
  {
   "cell_type": "code",
   "execution_count": 59,
   "id": "d6103811-d507-4725-8cff-c282da2e82d4",
   "metadata": {},
   "outputs": [
    {
     "name": "stdout",
     "output_type": "stream",
     "text": [
      "AUCROC: 0.7028732253540034\n",
      "Brier Score: 0.21925872315668016\n"
     ]
    },
    {
     "data": {
      "text/plain": [
       "<Figure size 504x504 with 0 Axes>"
      ]
     },
     "execution_count": 59,
     "metadata": {},
     "output_type": "execute_result"
    },
    {
     "data": {
      "image/png": "[encoded data removed]",
      "text/plain": [
       "<Figure size 504x504 with 1 Axes>"
      ]
     },
     "metadata": {},
     "output_type": "display_data"
    },
    {
     "data": {
      "text/plain": [
       "<Figure size 504x504 with 0 Axes>"
      ]
     },
     "metadata": {},
     "output_type": "display_data"
    }
   ],
   "source": [
    "plt.rcParams['figure.figsize']=7,7\n",
    "plt.rcParams['axes.facecolor']='white'\n",
    "plt.rcParams[\"axes.edgecolor\"] = \"black\"\n",
    "plt.rcParams[\"axes.linewidth\"] = 0.75\n",
    "\n",
    "from sklearn.calibration import CalibratedClassifierCV\n",
    "calibrated = CalibratedClassifierCV(model, method='sigmoid', cv=5)\n",
    "calibrated.fit(Xtrain, ytrain)\n",
    "# predict probabilities\n",
    "probs = calibrated.predict_proba(Xtest)[:, 1]\n",
    "# reliability diagram\n",
    "fop, mpv = calibration_curve(ytest, probs, n_bins=10, normalize=True)\n",
    "# plot perfectly calibrated\n",
    "plt.plot([0, 1], [0, 1], linestyle='--',color=\"black\")\n",
    "# plot calibrated reliability\n",
    "plt.plot(mpv, fop, marker='.',color=\"blue\")\n",
    "\n",
    "ypred = calibrated.predict(Xtest)\n",
    "probs = calibrated.predict_proba(Xtest)\n",
    "pos_probs = probs[:, 1]\n",
    "rocauc = roc_auc_score(ytest, pos_probs)\n",
    "print('AUCROC:', rocauc)\n",
    "bs=brier_score_loss(ytest, pos_probs)\n",
    "print('Brier Score:', bs)\n",
    "\n",
    "plt.xticks(fontsize=15)\n",
    "plt.yticks(fontsize=15)\n",
    "plt.xlabel('Observed Probability', fontsize=20, fontweight=100)\n",
    "plt.ylabel('Predicted Probability', fontsize=20, fontweight=100)\n",
    "plt.title('CVD', fontsize=20, fontweight=100)\n",
    "plt.grid(False)\n",
    "matplotlib.pyplot.text(1,0,'Brier Score=0.219', horizontalalignment='right',\n",
    "     verticalalignment='bottom',fontsize=20)\n",
    "plt.savefig(r'./figures/cvd_calib_plot.svg', format='svg')\n",
    "plt.figure()"
   ]
  },
  {
   "cell_type": "markdown",
   "id": "1994afc5-c8ad-4f2b-96fa-746196e96d33",
   "metadata": {
    "tags": []
   },
   "source": [
    "### 11. encounters between T2DM dx and comp"
   ]
  },
  {
   "cell_type": "code",
   "execution_count": 17,
   "id": "c40ff618-1c5d-4f18-ade3-cc65a8b9e969",
   "metadata": {},
   "outputs": [],
   "source": [
    "CV_final_clf.to_excel('CVD_out.xlsx')"
   ]
  },
  {
   "cell_type": "code",
   "execution_count": 31,
   "id": "97274a91-ba21-4f9e-b2be-1f504631c21b",
   "metadata": {},
   "outputs": [],
   "source": [
    "with open(r'/Users/amomenzadeh/Desktop/DM_pickles/init_comps_dict.pkl', 'rb') as handle:\n",
    "    init_comps_dict = pickle.load(handle)"
   ]
  },
  {
   "cell_type": "code",
   "execution_count": 33,
   "id": "46da7127-ad82-4de6-a789-f839a3bf55b8",
   "metadata": {
    "tags": []
   },
   "outputs": [],
   "source": [
    "# creating new dataframe from the above dictionary for time of first complication with the patient number as the index\n",
    "comps_time_df = pd.DataFrame.from_dict(init_comps_dict, orient='index')\n",
    "comps_time_df = comps_time_df.apply(pd.to_datetime, errors='coerce')\n",
    "\n",
    "# sort table by patient number (index)\n",
    "comps_time_df.sort_index(inplace=True)"
   ]
  },
  {
   "cell_type": "code",
   "execution_count": 34,
   "id": "a68b7f52-dfda-457c-82b2-93ba07eb401f",
   "metadata": {},
   "outputs": [],
   "source": [
    "comps_time_df.drop(['initial_OPTH','initial_KIDNEY','initial_NEUROPATH'],axis=1,inplace=True)"
   ]
  },
  {
   "cell_type": "code",
   "execution_count": 35,
   "id": "47b74b24-9d35-4318-af7a-5fa882c7449c",
   "metadata": {},
   "outputs": [],
   "source": [
    "time_to_CV=CV_final.to_frame('time_to_CV(yr)')"
   ]
  },
  {
   "cell_type": "code",
   "execution_count": 37,
   "id": "1206dce0-2ee1-4224-8d5e-f3323e8fc778",
   "metadata": {},
   "outputs": [],
   "source": [
    "merge = comps_time_df.merge(time_to_CV, left_index=True, right_index=True)"
   ]
  },
  {
   "cell_type": "code",
   "execution_count": 38,
   "id": "05057a12-ac2b-4757-aaba-4f00e8b7a1a3",
   "metadata": {},
   "outputs": [],
   "source": [
    "encounters = pd.read_csv(r'/Users/amomenzadeh/Desktop/DM_csv/cvd_encounters.csv',low_memory=False)"
   ]
  },
  {
   "cell_type": "code",
   "execution_count": 39,
   "id": "09e725ac-00e9-42a9-86cc-da2b7509685d",
   "metadata": {},
   "outputs": [],
   "source": [
    "encounters.drop(['department_name', 'department_id', 'department_external_name',\n",
    "       'department_specialty', 'payor_type_primary_c','age_at_visit_years',\n",
    "       'payor_type_primary_name', 'payer_type_secondary_c','visit_type_id',\n",
    "       'payer_type_secondary_name', 'appt_status_c', 'appt_status_name','discharge_status_c', 'discharge_status_name',\n",
    "       'length_of_stay_days', 'hosp_serv_c', 'hosp_serv_name','visit_type_name',\n",
    "       'adm_for_surg_yn', 'surgical_svc_c', 'surgical_svc_name', 'drg','visit_date_shifted',\n",
    "       'drg_type', 'drg_name', 'visit_provider_id', 'visit_provider_name','admit_date_shifted',\n",
    "       'visit_provider_title', 'visit_provider_npi', 'admission_provider_id',\n",
    "       'admission_provider_name', 'admission_provider_title','admit_source_c','admit_source_name','discharge_date_shifted',\n",
    "       'admission_provider_npi', 'sourcesystem_cd','encounter_num','enc_type','src_enc_type_c'],inplace=True, axis=1)"
   ]
  },
  {
   "cell_type": "code",
   "execution_count": 40,
   "id": "34eda64b-f477-4508-97ab-4c7cc997ca3b",
   "metadata": {
    "ExecuteTime": {
     "end_time": "2021-08-13T19:54:31.000060Z",
     "start_time": "2021-08-13T19:54:17.666513Z"
    },
    "tags": []
   },
   "outputs": [],
   "source": [
    "encounters.i2b2_date_shifted = pd.to_datetime(encounters.i2b2_date_shifted, format = '%Y-%m-%d') # converted dx date column to datetime"
   ]
  },
  {
   "cell_type": "code",
   "execution_count": 41,
   "id": "f644a0a4-e93b-4345-b41f-4ddfe7e3829b",
   "metadata": {},
   "outputs": [],
   "source": [
    "encounters=encounters.sort_values(by='i2b2_date_shifted')"
   ]
  },
  {
   "cell_type": "code",
   "execution_count": 43,
   "id": "672888fe-3e7c-44a5-a87f-f11e30b3fca8",
   "metadata": {},
   "outputs": [],
   "source": [
    "with open(r'/Users/amomenzadeh/Desktop/DM_pickles/cv_enc.pkl', 'wb') as handle:\n",
    "    pickle.dump(encounters, handle, protocol=pickle.HIGHEST_PROTOCOL)"
   ]
  },
  {
   "cell_type": "code",
   "execution_count": 44,
   "id": "1f229e4e-3ed9-4441-92f5-4e9be7ae3dda",
   "metadata": {},
   "outputs": [],
   "source": [
    "visits=[]\n",
    "for x in merge.index:\n",
    "    enc=encounters[(encounters.patient_num==x)]\n",
    "    after_DM=enc[(enc.i2b2_date_shifted.values >= merge.loc[[x]].initial_DIAB.values)]\n",
    "    before_comp=after_DM[(after_DM.i2b2_date_shifted.values <= merge.loc[[x]].initial_CVD.values)]\n",
    "    visits.append(len(before_comp.i2b2_date_shifted.unique()))\n",
    "    #time=merge.loc[[x]].initial_NEUROPATH.values - merge.loc[[x]].initial_DIAB.values\n",
    "    #new_time=time/ np.timedelta64(1, 'D')\n",
    "    #visits_sc.append(len(before_comp.i2b2_date_shifted.unique())/new_time)"
   ]
  },
  {
   "cell_type": "code",
   "execution_count": 45,
   "id": "59837b25-f48f-47ef-9dcf-815bc9eaa80a",
   "metadata": {},
   "outputs": [],
   "source": [
    "merge['visits_bw']=visits"
   ]
  },
  {
   "cell_type": "code",
   "execution_count": 46,
   "id": "dc2a0a1a-8a4f-435c-8ef0-a3d748aa2814",
   "metadata": {},
   "outputs": [],
   "source": [
    "merge['visits_bw/yr']=merge['visits_bw']/merge['time_to_CV(yr)']"
   ]
  },
  {
   "cell_type": "code",
   "execution_count": 47,
   "id": "8249afda-fe6a-4822-ae54-a25e6872c604",
   "metadata": {},
   "outputs": [],
   "source": [
    "merge['output_class']=CV_final_clf"
   ]
  },
  {
   "cell_type": "code",
   "execution_count": 49,
   "id": "76e89630-e84f-42b5-a055-f07b8466106e",
   "metadata": {},
   "outputs": [],
   "source": [
    "with open(r'/Users/amomenzadeh/Desktop/DM_pickles/cv_merge.pkl', 'wb') as handle:\n",
    "    pickle.dump(merge, handle, protocol=pickle.HIGHEST_PROTOCOL)"
   ]
  },
  {
   "cell_type": "code",
   "execution_count": 50,
   "id": "293314a4-e5ab-48f8-8ad7-1a70822c3749",
   "metadata": {},
   "outputs": [],
   "source": [
    "fast=merge[merge['output_class']==1]"
   ]
  },
  {
   "cell_type": "code",
   "execution_count": 51,
   "id": "e0c3d693-dabe-4a95-a744-608db7741594",
   "metadata": {},
   "outputs": [],
   "source": [
    "slow=merge[merge['output_class']==0]"
   ]
  },
  {
   "cell_type": "code",
   "execution_count": 52,
   "id": "7dc67c0d-c118-442b-844d-796bc3854589",
   "metadata": {},
   "outputs": [
    {
     "data": {
      "text/html": [
       "<div>\n",
       "<style scoped>\n",
       "    .dataframe tbody tr th:only-of-type {\n",
       "        vertical-align: middle;\n",
       "    }\n",
       "\n",
       "    .dataframe tbody tr th {\n",
       "        vertical-align: top;\n",
       "    }\n",
       "\n",
       "    .dataframe thead th {\n",
       "        text-align: right;\n",
       "    }\n",
       "</style>\n",
       "<table border=\"1\" class=\"dataframe\">\n",
       "  <thead>\n",
       "    <tr style=\"text-align: right;\">\n",
       "      <th></th>\n",
       "      <th>time_to_CV(yr)</th>\n",
       "      <th>visits_bw</th>\n",
       "      <th>visits_bw/yr</th>\n",
       "      <th>output_class</th>\n",
       "    </tr>\n",
       "  </thead>\n",
       "  <tbody>\n",
       "    <tr>\n",
       "      <th>count</th>\n",
       "      <td>2325.000000</td>\n",
       "      <td>2325.000000</td>\n",
       "      <td>2325.000000</td>\n",
       "      <td>2325.0</td>\n",
       "    </tr>\n",
       "    <tr>\n",
       "      <th>mean</th>\n",
       "      <td>1.182856</td>\n",
       "      <td>33.289462</td>\n",
       "      <td>41.555818</td>\n",
       "      <td>1.0</td>\n",
       "    </tr>\n",
       "    <tr>\n",
       "      <th>std</th>\n",
       "      <td>0.864309</td>\n",
       "      <td>38.811463</td>\n",
       "      <td>46.670429</td>\n",
       "      <td>0.0</td>\n",
       "    </tr>\n",
       "    <tr>\n",
       "      <th>min</th>\n",
       "      <td>0.084875</td>\n",
       "      <td>2.000000</td>\n",
       "      <td>0.686546</td>\n",
       "      <td>1.0</td>\n",
       "    </tr>\n",
       "    <tr>\n",
       "      <th>25%</th>\n",
       "      <td>0.383307</td>\n",
       "      <td>8.000000</td>\n",
       "      <td>11.067955</td>\n",
       "      <td>1.0</td>\n",
       "    </tr>\n",
       "    <tr>\n",
       "      <th>50%</th>\n",
       "      <td>1.026715</td>\n",
       "      <td>20.000000</td>\n",
       "      <td>26.394478</td>\n",
       "      <td>1.0</td>\n",
       "    </tr>\n",
       "    <tr>\n",
       "      <th>75%</th>\n",
       "      <td>1.891894</td>\n",
       "      <td>44.000000</td>\n",
       "      <td>54.853269</td>\n",
       "      <td>1.0</td>\n",
       "    </tr>\n",
       "    <tr>\n",
       "      <th>max</th>\n",
       "      <td>2.948726</td>\n",
       "      <td>331.000000</td>\n",
       "      <td>377.024516</td>\n",
       "      <td>1.0</td>\n",
       "    </tr>\n",
       "  </tbody>\n",
       "</table>\n",
       "</div>"
      ],
      "text/plain": [
       "       time_to_CV(yr)    visits_bw  visits_bw/yr  output_class\n",
       "count     2325.000000  2325.000000   2325.000000        2325.0\n",
       "mean         1.182856    33.289462     41.555818           1.0\n",
       "std          0.864309    38.811463     46.670429           0.0\n",
       "min          0.084875     2.000000      0.686546           1.0\n",
       "25%          0.383307     8.000000     11.067955           1.0\n",
       "50%          1.026715    20.000000     26.394478           1.0\n",
       "75%          1.891894    44.000000     54.853269           1.0\n",
       "max          2.948726   331.000000    377.024516           1.0"
      ]
     },
     "execution_count": 52,
     "metadata": {},
     "output_type": "execute_result"
    }
   ],
   "source": [
    "fast.describe()"
   ]
  },
  {
   "cell_type": "code",
   "execution_count": 53,
   "id": "b148bcfe-fffc-4569-978e-dce738f6b44d",
   "metadata": {},
   "outputs": [
    {
     "data": {
      "text/html": [
       "<div>\n",
       "<style scoped>\n",
       "    .dataframe tbody tr th:only-of-type {\n",
       "        vertical-align: middle;\n",
       "    }\n",
       "\n",
       "    .dataframe tbody tr th {\n",
       "        vertical-align: top;\n",
       "    }\n",
       "\n",
       "    .dataframe thead th {\n",
       "        text-align: right;\n",
       "    }\n",
       "</style>\n",
       "<table border=\"1\" class=\"dataframe\">\n",
       "  <thead>\n",
       "    <tr style=\"text-align: right;\">\n",
       "      <th></th>\n",
       "      <th>time_to_CV(yr)</th>\n",
       "      <th>visits_bw</th>\n",
       "      <th>visits_bw/yr</th>\n",
       "      <th>output_class</th>\n",
       "    </tr>\n",
       "  </thead>\n",
       "  <tbody>\n",
       "    <tr>\n",
       "      <th>count</th>\n",
       "      <td>2321.000000</td>\n",
       "      <td>2321.000000</td>\n",
       "      <td>2321.000000</td>\n",
       "      <td>2321.0</td>\n",
       "    </tr>\n",
       "    <tr>\n",
       "      <th>mean</th>\n",
       "      <td>6.422335</td>\n",
       "      <td>116.513572</td>\n",
       "      <td>18.668293</td>\n",
       "      <td>0.0</td>\n",
       "    </tr>\n",
       "    <tr>\n",
       "      <th>std</th>\n",
       "      <td>2.631815</td>\n",
       "      <td>132.253248</td>\n",
       "      <td>19.108481</td>\n",
       "      <td>0.0</td>\n",
       "    </tr>\n",
       "    <tr>\n",
       "      <th>min</th>\n",
       "      <td>2.951464</td>\n",
       "      <td>2.000000</td>\n",
       "      <td>0.143711</td>\n",
       "      <td>0.0</td>\n",
       "    </tr>\n",
       "    <tr>\n",
       "      <th>25%</th>\n",
       "      <td>4.186260</td>\n",
       "      <td>22.000000</td>\n",
       "      <td>3.679183</td>\n",
       "      <td>0.0</td>\n",
       "    </tr>\n",
       "    <tr>\n",
       "      <th>50%</th>\n",
       "      <td>5.935782</td>\n",
       "      <td>73.000000</td>\n",
       "      <td>13.533766</td>\n",
       "      <td>0.0</td>\n",
       "    </tr>\n",
       "    <tr>\n",
       "      <th>75%</th>\n",
       "      <td>8.161701</td>\n",
       "      <td>163.000000</td>\n",
       "      <td>27.550183</td>\n",
       "      <td>0.0</td>\n",
       "    </tr>\n",
       "    <tr>\n",
       "      <th>max</th>\n",
       "      <td>15.480126</td>\n",
       "      <td>1390.000000</td>\n",
       "      <td>197.236626</td>\n",
       "      <td>0.0</td>\n",
       "    </tr>\n",
       "  </tbody>\n",
       "</table>\n",
       "</div>"
      ],
      "text/plain": [
       "       time_to_CV(yr)    visits_bw  visits_bw/yr  output_class\n",
       "count     2321.000000  2321.000000   2321.000000        2321.0\n",
       "mean         6.422335   116.513572     18.668293           0.0\n",
       "std          2.631815   132.253248     19.108481           0.0\n",
       "min          2.951464     2.000000      0.143711           0.0\n",
       "25%          4.186260    22.000000      3.679183           0.0\n",
       "50%          5.935782    73.000000     13.533766           0.0\n",
       "75%          8.161701   163.000000     27.550183           0.0\n",
       "max         15.480126  1390.000000    197.236626           0.0"
      ]
     },
     "execution_count": 53,
     "metadata": {},
     "output_type": "execute_result"
    }
   ],
   "source": [
    "slow.describe()"
   ]
  },
  {
   "cell_type": "code",
   "execution_count": 54,
   "id": "678f7299-bed2-4805-b089-cac9fe100aca",
   "metadata": {},
   "outputs": [],
   "source": [
    "merge.loc[merge['output_class']==1 ,'output_class']='Fast'\n",
    "merge.loc[merge['output_class']==0 ,'output_class']='Slow'"
   ]
  },
  {
   "cell_type": "code",
   "execution_count": 58,
   "id": "f9daa95a-1aea-4534-9b1b-c6bfa2391f1f",
   "metadata": {},
   "outputs": [
    {
     "name": "stdout",
     "output_type": "stream",
     "text": [
      "Slow v.s. Fast: Mann-Whitney-Wilcoxon test two-sided with Bonferroni correction, P_val=4.866e-98 U_stat=1.738e+06\n"
     ]
    },
    {
     "data": {
      "image/png": "[encoded data removed]",
      "text/plain": [
       "<Figure size 432x288 with 1 Axes>"
      ]
     },
     "metadata": {},
     "output_type": "display_data"
    }
   ],
   "source": [
    "sns.set(style=\"whitegrid\")\n",
    "\n",
    "x = \"output_class\"\n",
    "y = \"visits_bw/yr\"\n",
    "order = ['Slow', 'Fast']\n",
    "ax = sns.boxplot(data=merge, x=x, y=y, order=order)\n",
    "add_stat_annotation(ax, data=merge, x=x, y=y, order=order,\n",
    "                    box_pairs=[('Slow','Fast')], \n",
    "                    test='Mann-Whitney', text_format='simple', loc='inside', verbose=2,fontsize=20)\n",
    "_ = ax.set(xlabel=\"Diagnosis of Diabetic Complication\", ylabel=\"Visits between T2DM and CVD Diagnoses\")\n",
    "\n",
    "ax.tick_params(labelsize=24)\n",
    "ax.set_xlabel(\"CVD Diagnosis\",fontsize=24)\n",
    "ax.set_ylabel(\"Visits/yr between T2DM+CVD\",fontsize=20)\n",
    "sns.set(rc={'figure.figsize':(6.5,6)})\n",
    "ax.grid(False)\n",
    "plt.savefig(r'/Users/amomenzadeh/Desktop/DM_figures/CVD_visits.svg', format='svg',bbox_inches='tight')\n",
    "plt.show()"
   ]
  }
 ],
 "metadata": {
  "kernelspec": {
   "display_name": "Python 3 (ipykernel)",
   "language": "python",
   "name": "python3"
  },
  "language_info": {
   "codemirror_mode": {
    "name": "ipython",
    "version": 3
   },
   "file_extension": ".py",
   "mimetype": "text/x-python",
   "name": "python",
   "nbconvert_exporter": "python",
   "pygments_lexer": "ipython3",
   "version": "3.7.11"
  },
  "varInspector": {
   "cols": {
    "lenName": "24",
    "lenType": 16,
    "lenVar": "0"
   },
   "kernels_config": {
    "python": {
     "delete_cmd_postfix": "",
     "delete_cmd_prefix": "del ",
     "library": "var_list.py",
     "varRefreshCmd": "print(var_dic_list())"
    },
    "r": {
     "delete_cmd_postfix": ") ",
     "delete_cmd_prefix": "rm(",
     "library": "var_list.r",
     "varRefreshCmd": "cat(var_dic_list()) "
    }
   },
   "oldHeight": 589.043,
   "position": {
    "height": "40px",
    "left": "1370.37px",
    "right": "20px",
    "top": "184.672px",
    "width": "522.598px"
   },
   "types_to_exclude": [
    "module",
    "function",
    "builtin_function_or_method",
    "instance",
    "_Feature"
   ],
   "varInspector_section_display": "none",
   "window_display": false
  }
 },
 "nbformat": 4,
 "nbformat_minor": 5
}
