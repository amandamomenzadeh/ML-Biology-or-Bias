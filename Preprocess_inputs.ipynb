{
 "cells": [
  {
   "cell_type": "markdown",
   "id": "dfef385c-6bf2-46cf-8cb5-0e02fee14270",
   "metadata": {
    "tags": []
   },
   "source": [
    "## Model Input Data Pre-Processing\n",
    "----------------------------------"
   ]
  },
  {
   "cell_type": "markdown",
   "id": "775ead9f-e6d8-4449-b316-0a62f962ac7f",
   "metadata": {
    "jp-MarkdownHeadingCollapsed": true,
    "tags": []
   },
   "source": [
    "### 1. Import packages"
   ]
  },
  {
   "cell_type": "code",
   "execution_count": 22,
   "id": "5ec317d9-8f9c-47d9-890d-855271ca3d80",
   "metadata": {
    "tags": []
   },
   "outputs": [],
   "source": [
    "#!conda install -c https://conda.anaconda.org/plotly plotly -y\n",
    "#!pip install pydot\n",
    "#!pip install graphviz\n",
    "#!conda install -c anaconda py-xgboost -y\n",
    "#!pip install shap\n",
    "#!pip install dill\n",
    "#!pip install matplotlib\n",
    "#!pip install seaborn\n",
    "#!pip install missingpy\n",
    "#!pip3 install pickle5"
   ]
  },
  {
   "cell_type": "code",
   "execution_count": 1,
   "id": "12b50529",
   "metadata": {
    "ExecuteTime": {
     "end_time": "2021-09-24T21:11:10.209823Z",
     "start_time": "2021-09-24T21:10:59.833304Z"
    },
    "run_control": {
     "marked": false
    },
    "tags": []
   },
   "outputs": [],
   "source": [
    "import pandas as pd\n",
    "import sqlite3 as sql\n",
    "import numpy as np\n",
    "from IPython.display import HTML\n",
    "from datetime import datetime\n",
    "%matplotlib inline\n",
    "import matplotlib\n",
    "import matplotlib.pyplot as plt\n",
    "import seaborn as sns\n",
    "sns.set()  # set plot style\n",
    "from collections import Counter\n",
    "import scipy as sp\n",
    "import sklearn as sk\n",
    "import sys\n",
    "import plotly.express as px\n",
    "import pydot\n",
    "import pickle5 as pickle\n",
    "import time\n",
    "import xgboost as xgb\n",
    "import shap\n",
    "import dill\n",
    "import gc\n",
    "import subprocess"
   ]
  },
  {
   "cell_type": "code",
   "execution_count": 2,
   "id": "b9c1ee78",
   "metadata": {
    "ExecuteTime": {
     "end_time": "2021-09-24T21:11:10.240882Z",
     "start_time": "2021-09-24T21:11:10.225260Z"
    },
    "tags": []
   },
   "outputs": [],
   "source": [
    "import os\n",
    "from pandas.plotting import scatter_matrix\n",
    "from matplotlib import pyplot\n",
    "\n",
    "from collections import defaultdict\n",
    "\n",
    "from sklearn.linear_model import Lasso\n",
    "from sklearn.linear_model import ElasticNet\n",
    "from sklearn.linear_model import LinearRegression\n",
    "from sklearn.linear_model import RidgeCV\n",
    "\n",
    "from sklearn.model_selection import train_test_split\n",
    "from sklearn.model_selection import cross_val_score\n",
    "from sklearn.model_selection import StratifiedKFold\n",
    "\n",
    "from sklearn.metrics import classification_report\n",
    "from sklearn.metrics import confusion_matrix\n",
    "from sklearn.metrics import accuracy_score\n",
    "from sklearn.metrics import recall_score\n",
    "from sklearn.metrics import precision_score\n",
    "from sklearn.metrics import f1_score\n",
    "from sklearn.metrics import explained_variance_score\n",
    "from sklearn.metrics import mean_absolute_error\n",
    "from sklearn.metrics import mean_squared_error\n",
    "from sklearn.metrics import r2_score\n",
    "from sklearn.metrics import plot_confusion_matrix\n",
    "from sklearn.tree import export_graphviz\n",
    "from sklearn.metrics import roc_curve\n",
    "from sklearn.metrics import roc_auc_score\n",
    "\n",
    "from sklearn.neighbors import KNeighborsRegressor\n",
    "from sklearn.ensemble import RandomForestRegressor\n",
    "from sklearn.ensemble import ExtraTreesRegressor, AdaBoostRegressor, GradientBoostingRegressor\n",
    "from sklearn.dummy import DummyRegressor\n",
    "from sklearn.linear_model import Lasso, Ridge, ElasticNet\n",
    "from sklearn.svm import SVR\n",
    "from sklearn.multioutput import MultiOutputRegressor\n",
    "\n",
    "from sklearn.model_selection import KFold\n",
    "from sklearn.model_selection import ParameterGrid\n",
    "from sklearn.model_selection import GridSearchCV"
   ]
  },
  {
   "cell_type": "code",
   "execution_count": 3,
   "id": "3e4acfe8",
   "metadata": {
    "ExecuteTime": {
     "end_time": "2021-09-24T21:11:10.271596Z",
     "start_time": "2021-09-24T21:11:10.257604Z"
    },
    "tags": []
   },
   "outputs": [],
   "source": [
    "from sklearn.linear_model import LogisticRegression\n",
    "from sklearn.dummy import DummyClassifier\n",
    "from sklearn.ensemble import RandomForestClassifier\n",
    "from sklearn.ensemble import ExtraTreesClassifier\n",
    "from sklearn.ensemble import AdaBoostClassifier\n",
    "from sklearn.ensemble import GradientBoostingClassifier\n",
    "from sklearn.svm import SVC\n",
    "from sklearn.neighbors import KNeighborsClassifier\n",
    "from sklearn.discriminant_analysis import LinearDiscriminantAnalysis\n",
    "from sklearn.naive_bayes import GaussianNB\n",
    "from sklearn.tree import DecisionTreeClassifier"
   ]
  },
  {
   "cell_type": "markdown",
   "id": "220c9e06-8837-46c9-b869-aab0acdc19db",
   "metadata": {
    "jp-MarkdownHeadingCollapsed": true,
    "tags": []
   },
   "source": [
    "### 2. Read in csv files"
   ]
  },
  {
   "cell_type": "code",
   "execution_count": 25,
   "id": "9c745336",
   "metadata": {
    "ExecuteTime": {
     "end_time": "2021-08-13T19:53:25.736264Z",
     "start_time": "2021-08-13T19:52:24.282509Z"
    },
    "run_control": {
     "marked": false
    }
   },
   "outputs": [],
   "source": [
    "diags = pd.read_csv(r'/Users/amomenzadeh/Desktop/DM_csv/i2b2diagnosis_codes.csv')"
   ]
  },
  {
   "cell_type": "code",
   "execution_count": 5,
   "id": "e7a696da",
   "metadata": {
    "ExecuteTime": {
     "end_time": "2021-09-27T17:52:41.203903Z",
     "start_time": "2021-09-27T17:52:41.035123Z"
    }
   },
   "outputs": [],
   "source": [
    "demos = pd.read_csv(r'/Users/amomenzadeh/Desktop/DM_csv/i2b2demographics.csv')"
   ]
  },
  {
   "cell_type": "code",
   "execution_count": 6,
   "id": "859b86e7-4ad0-40cd-9798-c80d4d46f80e",
   "metadata": {},
   "outputs": [],
   "source": [
    "vitals = pd.read_csv(r'/Users/amomenzadeh/Desktop/DM_csv/i2b2vitals.csv')"
   ]
  },
  {
   "cell_type": "code",
   "execution_count": 31,
   "id": "be33fe79-ada2-4110-9e18-c2ac2d69bedf",
   "metadata": {},
   "outputs": [],
   "source": [
    "social = pd.read_csv(r'/Users/amomenzadeh/Desktop/DM_csv/i2b2social_history_lifestyle.csv',low_memory=False)"
   ]
  },
  {
   "cell_type": "code",
   "execution_count": 10,
   "id": "11da1dcf-ac12-4b22-a752-5da49172e0e8",
   "metadata": {},
   "outputs": [],
   "source": [
    "labs = pd.read_csv(r'/Users/amomenzadeh/Desktop/DM_csv/i2b2diagnostic_results.csv')"
   ]
  },
  {
   "cell_type": "code",
   "execution_count": 26,
   "id": "bc0c73eb-6ecc-4da4-a10e-43eb47b5b3c8",
   "metadata": {
    "tags": []
   },
   "outputs": [],
   "source": [
    "icd9map= pd.read_csv(r'/Users/amomenzadeh/Desktop/DM_csv/phecode_icd9_rolled.csv',index_col=0)"
   ]
  },
  {
   "cell_type": "code",
   "execution_count": 27,
   "id": "c0da6a2b-39a2-4093-93d1-5656163520f8",
   "metadata": {},
   "outputs": [],
   "source": [
    "icd10map=pd.read_csv(r'/Users/amomenzadeh/Desktop/DM_csv/phecode_icd10.csv',index_col=0)"
   ]
  },
  {
   "cell_type": "markdown",
   "id": "59dd3f5c-cf2c-40c7-8d20-1cc844984c5c",
   "metadata": {
    "jp-MarkdownHeadingCollapsed": true,
    "tags": []
   },
   "source": [
    "### 3. Clean Diagnosis input data"
   ]
  },
  {
   "cell_type": "markdown",
   "id": "f44f87d6",
   "metadata": {
    "heading_collapsed": true,
    "tags": []
   },
   "source": [
    "#### A. Complication Lists"
   ]
  },
  {
   "cell_type": "markdown",
   "id": "4cc87570",
   "metadata": {
    "hidden": true
   },
   "source": [
    "Compile all children codes for each complication"
   ]
  },
  {
   "cell_type": "code",
   "execution_count": 18,
   "id": "b5a2a7b4",
   "metadata": {
    "ExecuteTime": {
     "end_time": "2021-08-13T19:54:46.377606Z",
     "start_time": "2021-08-13T19:54:46.363645Z"
    },
    "hidden": true,
    "tags": []
   },
   "outputs": [],
   "source": [
    "## Ocular disease codes (H35, 362, E11.3, 250.50, 366.41, 365)\n",
    "opthal_comps_list = ['H35.0', 'H35.00', 'H35.01', 'H35.011', 'H35.012', 'H35.013', \\\n",
    "                     'H35.019', 'H35.02', 'H35.021', 'H35.022', 'H35.023', 'H35.029', \\\n",
    "                     'H35.03', 'H35.031', 'H35.032', 'H35.033', 'H35.039', 'H35.04', \\\n",
    "                      'H35.041', 'H35.042', 'H35.043', 'H35.049', 'H35.05', 'H35.051', \\\n",
    "                      'H35.052', 'H35.053', 'H35.059', 'H35.06', 'H35.061', 'H35.062', \\\n",
    "                      'H35.063', 'H35.069', 'H35.07', 'H35.071', 'H35.072', 'H35.073', \\\n",
    "                      'H35.079', 'H35.09', 'H35.1', 'H35.10', 'H35.101', 'H35.102', 'H35.103', \\\n",
    "                      'H35.109', 'H35.11', 'H35.111', 'H35.112', 'H35.113', 'H35.119', 'H35.12', \\\n",
    "                      'H35.121', 'H35.122', 'H35.123', 'H35.129', 'H35.13', 'H35.131', 'H35.132', \\\n",
    "                      'H35.133', 'H35.139', 'H35.14', 'H35.141', 'H35.142', 'H35.143', \\\n",
    "                      'H35.149', 'H35.15', 'H35.151', 'H35.152', 'H35.153', 'H35.159', 'H35.16', \\\n",
    "                      'H35.161', 'H35.162', 'H35.163', 'H35.169', 'H35.17', 'H35.171', 'H35.172', \\\n",
    "                      'H35.173', 'H35.179', 'H35.2', 'H35.20', 'H35.21', 'H35.22', 'H35.23', \\\n",
    "                      'H35.3', 'H35.30', 'H35.31', 'H35.311', 'H35.3110', 'H35.3111', 'H35.3112', \\\n",
    "                      'H35.3113', 'H35.3114', 'H35.312', 'H35.3120', 'H35.3121', 'H35.3122', \\\n",
    "                      'H35.3123', 'H35.3124', 'H35.313', 'H35.3130', 'H35.3131', 'H35.3132', \\\n",
    "                      'H35.3133', 'H35.3134', 'H35.319', 'H35.3190', 'H35.3191', 'H35.3192', \\\n",
    "                      'H35.3193', 'H35.3194', 'H35.32', 'H35.321', 'H35.3210', 'H35.3211', \\\n",
    "                      'H35.3212', 'H35.3213', 'H35.322', 'H35.3220', 'H35.3221', 'H35.3222', \\\n",
    "                      'H35.3223', 'H35.323', 'H35.3230', 'H35.3231', 'H35.3232', 'H35.3233', \\\n",
    "                      'H35.329', 'H35.3290', 'H35.3291', 'H35.3292', 'H35.3293', 'H35.33', 'H35.34', \\\n",
    "                      'H35.341', 'H35.342', 'H35.343', 'H35.349', 'H35.35', 'H35.351', 'H35.352', \\\n",
    "                      'H35.353', 'H35.359', 'H35.36', 'H35.361', 'H35.362', 'H35.363', 'H35.369', \\\n",
    "                      'H35.37', 'H35.371', 'H35.372', 'H35.373', 'H35.379', 'H35.38', 'H35.381', \\\n",
    "                      'H35.382', 'H35.383', 'H35.389', 'H35.4', 'H35.40', 'H35.41', 'H35.411', \\\n",
    "                      'H35.412', 'H35.413', 'H35.419', 'H35.42', 'H35.421', 'H35.422', 'H35.423', \\\n",
    "                      'H35.429', 'H35.43', 'H35.431', 'H35.432', 'H35.433', 'H35.439', 'H35.44', \\\n",
    "                      'H35.441', 'H35.442', 'H35.443', 'H35.449', 'H35.45', 'H35.451', 'H35.452', \\\n",
    "                      'H35.453', 'H35.459', 'H35.46', 'H35.461', 'H35.462', 'H35.463', 'H35.469', \\\n",
    "                      'H35.5', 'H35.50', 'H35.51', 'H35.52', 'H35.53', 'H35.54', 'H35.6', 'H35.60', \\\n",
    "                      'H35.61', 'H35.62', 'H35.63', 'H35.7', 'H35.70', 'H35.71', 'H35.711', \\\n",
    "                      'H35.712', 'H35.713', 'H35.719', 'H35.72', 'H35.721', 'H35.722', 'H35.723', \\\n",
    "                      'H35.729', 'H35.73', 'H35.731', 'H35.732', 'H35.733', 'H35.739', 'H35.8', \\\n",
    "                      'H35.81', 'H35.82', 'H35.89', 'H35.9', '362.0', '362.01', '362.02', '362.03', '362.04', '362.05', '362.06', '362.07', \\\n",
    "                      '362.1', '362.10', '362.11', '362.12', '362.13', '362.14', '362.15', '362.16', '362.17', \\\n",
    "                      '362.18', '362.2', '362.20', '362.21', '362.22', '362.23', '362.24', '362.25', '362.26', \\\n",
    "                      '362.27', '362.29', '362.3', '362.30', '362.31', '362.32', '362.33', '362.34', '362.35', \\\n",
    "                      '362.36', '362.37', '362.40', '362.4', '362.41', '362.42', '362.43', '362.50', '362.5', \\\n",
    "                      '362.51', '362.52', '362.53', '362.54', '362.55', '362.56', '362.57', '362.60', '362.6', \\\n",
    "                      '362.61', '362.62', '362.63', '362.64', '362.65', '362.66', '362.70', '362.7', '362.71', \\\n",
    "                      '362.72', '362.73', '362.74', '362.75', '362.76', '362.77', '362.80', '362.81', '362.82', \\\n",
    "                      '362.83', '362.84', '362.85', '362.89', '362.9', 'E11.30', 'E11.3', 'E11.31', 'E11.311', 'E11.319', \\\n",
    "                      'E11.32', 'E11.321', 'E11.3211', 'E11.3212', 'E11.3213', 'E11.3219', 'E11.329', 'E11.3291', \\\n",
    "                      'E11.3292', 'E11.3293', 'E11.3299', 'E11.33', 'E11.331', 'E11.3311', 'E11.3312', 'E11.3313', \\\n",
    "                      'E11.3319', 'E11.339', 'E11.3391', 'E11.3392', 'E11.3393', 'E11.3399', 'E11.34', 'E11.341', \\\n",
    "                      'E11.3411', 'E11.3412', 'E11.3413', 'E11.3419', 'E11.349', 'E11.3491', 'E11.3492', 'E11.3493', \\\n",
    "                      'E11.3499', 'E11.35', 'E11.351', 'E11.3511', 'E11.3512', 'E11.3513', 'E11.3519', 'E11.352', \\\n",
    "                      'E11.3521', 'E11.3522', 'E11.3523', 'E11.3529', 'E11.353', 'E11.3531', 'E11.3532', 'E11.3533', \\\n",
    "                      'E11.3539', 'E11.354', 'E11.3541', 'E11.3542', 'E11.3543', 'E11.3549', 'E11.355', 'E11.3551', \\\n",
    "                      'E11.3552', 'E11.3553', 'E11.3559', 'E11.359', 'E11.3591', 'E11.3592', 'E11.3593', 'E11.3599', \\\n",
    "                      'E11.36', 'E11.37', 'E11.37X1', 'E11.37X2', 'E11.37X3', 'E11.37X9', 'E11.39', '250.50', '366.41' \\\n",
    "                      '365', '365.0', '365.00', '365.01', '365.02', '365.03', '365.04', '365.05', '365.06', '365.1', '365.10', \\\n",
    "                      '365.11', '365.12', '365.13', '365.14', '365.15', '365.2', '365.20', '365.21', '365.22', '365.23', '365.24', '365.3',\\\n",
    "                      '365.30', '365.31', '365.32', '365.4', '365.40', '365.41', '365.42', '365.43', '365.44', '365.5','365.50', '365.51', '365.52', '365.59',\\\n",
    "                      '365.60', '365.6', '365.61', '365.62', '365.63', '365.64', '365.65', '365.7', '365.70', '365.71', '365.72', '365.73',\\\n",
    "                      '365.74', '365.8', '365.80', '365.81', '365.82', '365.83', '365.89', '365.9', '365.90'\n",
    "]"
   ]
  },
  {
   "cell_type": "code",
   "execution_count": 19,
   "id": "18f4bad9",
   "metadata": {
    "ExecuteTime": {
     "end_time": "2021-08-13T19:54:47.005340Z",
     "start_time": "2021-08-13T19:54:46.987177Z"
    },
    "hidden": true,
    "tags": []
   },
   "outputs": [],
   "source": [
    "## Kidney disease codes (250.40, 403, 404, 581, 583, 584, 585, 586, \n",
    "## 588, 593, E11.2, I12, I13, N04, N05, N08, N17, N18, N19, N25, N29)\n",
    "kidney_comps_list = ['250.40', '403', '403.0', '403.00', '403.01', '403.1', '403.10', '403.11', '403.9', '403.90', '403.91'\\\n",
    "                     '404', '404.0', '404.00', '404.01', '404.02', '404.03', '404.1', '404.10', '404.11', '404.12', '404.13', \n",
    "                     '404.9', '404.90', '404.91', '404.92', '404.93', '581', '581.0', '581.1', '581.2', '581.3', '581.8', \\\n",
    "                     '581.81', '581.89', '581.9', '583', '583.0', '583.1', '583.2', '583.4', '583.6', '583.7', '583.8', \\\n",
    "                     '583.81', '583.89', '583.9', '584', '584.5', '584.6', '584.7', '584.8', '584.9', \\\n",
    "                     '585', '585.1', '585.2', '585.3', '585.4', '585.5', '585.6', '585.9', '586', '588', '588.0', '588.1',\\\n",
    "                     '588.8', '588.81', '588.89', '588.9', '593', '593.0', '593.1', '593.2', '593.3', '593.4', '593.5', \\\n",
    "                     '593.6', '593.7', '593.70', '593.71', '593.72', '593.73', '593.8', '593.81', '593.82', '593.89', '593.9',\\\n",
    "                     'E11.2', 'E11.21', 'E11.22', 'E11.29', 'I12', 'I12.0', 'I12.9', 'I13', 'I13.0', 'I13.1', 'I13.10', 'I13.11',\\\n",
    "                     'I13.2', 'N04', 'N04.0', 'N04.1', 'N04.2', 'N04.3', 'N04.4', 'N04.5', 'N04.6', 'N04.7', 'N04.8', 'N04.9', \\\n",
    "                     'N04.A', 'N05.0', 'N05.1', 'N05.2', 'N05.3', 'N05.4', 'N05.5', 'N05.6', 'N05.7', 'N05.8', 'N05.9', 'N08', \\\n",
    "                     'N17.0', 'N17.1', 'N17.2', 'N17.8', 'N17.9', 'N18.1', 'N18.2', 'N18.3', 'N18.4', 'N18.5', 'N18.6', 'N18.9',\\\n",
    "                     'N19', 'N25.0', 'N25.1', 'N25.8', 'N25.81', 'N25.89', 'N25.9', 'N29'\n",
    "]"
   ]
  },
  {
   "cell_type": "code",
   "execution_count": 20,
   "id": "3577b2aa",
   "metadata": {
    "ExecuteTime": {
     "end_time": "2021-08-13T19:54:47.611669Z",
     "start_time": "2021-08-13T19:54:47.595074Z"
    },
    "hidden": true,
    "tags": []
   },
   "outputs": [],
   "source": [
    "## Cardiovascular Disease (250.70, 410, 412, 413, 414, 428, E11.5, I20, I21, I25, I50)\n",
    "cv_comps_list = ['250.70', '410', '410.0', '410.00', '410.01', '410.02', '410.1', '410.10', '410.11', '410.12', '410.2', '410.20', \\\n",
    "                 '410.21', '410.22', '410.3', '410.30', '410.31', '410.32', '410.4', '410.40', '410.41', '410.42', '410.5', '410.50', \\\n",
    "                 '410.51', '410.52', '410.6', '410.60', '410.61', '410.62', '410.7', '410.70', '410.71', '410.72', '410.8', '410.80', \\\n",
    "                 '410.81', '410.82', '410.9', '410.90', '410.91', '410.92', '412', '413', '413.0', '413.1', '413.9', '414', '414.0', \\\n",
    "                 '414.00', '414.01', '414.02', '414.03', '414.04', '414.05', '414.06', '414.07', '414.1', '414.10', '414.11', '414.12',\\\n",
    "                 '414.19', '414.2', '414.3', '414.4', '414.8', '414.9', '428', '428.0', '428.1', '428.2', '428.20', '428.21', '428.22', \\\n",
    "                 '428.23', '428.3', '428.30', '428.31', '428.32', '428.33', '428.4', '428.40', '428.41', '428.42', '428.43', '428.9', \\\n",
    "                 'E11.5', 'E11.51', 'E11.52', 'E11.59', 'I20', 'I20.0', 'I20.1', 'I20.8', 'I20.9', 'I21', 'I21.0', 'I21.01', 'I21.02', \\\n",
    "                 'I21.09', 'I21.1', 'I21.11', 'I21.19', 'I21.2', 'I21.21', 'I21.29', 'I21.3', 'I21.4', 'I21.9', 'I21.A', 'I21.A1', 'I21.A9',\\\n",
    "                 'I25', 'I25.1', 'I25.10', 'I25.11', 'I25.110', 'I25.111', 'I25.118', 'I25.119', 'I25.2', 'I25.3', 'I25.4', 'I25.41', \\\n",
    "                 'I25.42', 'I25.5', 'I25.6', 'I25.7', 'I25.70', 'I25.700', 'I25.701', 'I25.708', 'I25.709', 'I25.71', 'I25.710', 'I25.711',\\\n",
    "                 'I25.718', 'I25.719', 'I25.72', 'I25.720', 'I25.721', 'I25.728', 'I25.729', 'I25.73', 'I25.730', 'I25.731', 'I25.738', \\\n",
    "                 'I25.739', 'I25.75', 'I25.750', 'I25.751', 'I25.758', 'I25.759', 'I25.76', 'I25.760', 'I25.761', 'I25.768', 'I25.769', \\\n",
    "                 'I25.79', 'I25.790', 'I25.791', 'I25.798', 'I25.799', 'I25.8', 'I25.81', 'I25.82', 'I25.83', 'I25.84', 'I25.89', 'I25.9',\\\n",
    "                 'I50', 'I50.1', 'I50.2', 'I50.20', 'I50.21', 'I50.22', 'I50.23', 'I50.3', 'I50.30', 'I50.31', 'I50.32', 'I50.33', 'I50.4',\\\n",
    "                 'I50.40', 'I50.41', 'I50.42', 'I50.43', 'I50.8', 'I50.81', 'I50.810', 'I50.811', 'I50.812', 'I50.813', 'I50.814', 'I50.82',\\\n",
    "                 'I50.83', 'I50.84', 'I50.89', 'I50.9'\n",
    "]"
   ]
  },
  {
   "cell_type": "code",
   "execution_count": 24,
   "id": "4c096c6d",
   "metadata": {
    "ExecuteTime": {
     "end_time": "2021-08-13T19:54:48.841901Z",
     "start_time": "2021-08-13T19:54:48.827590Z"
    },
    "hidden": true,
    "tags": []
   },
   "outputs": [],
   "source": [
    "## Neuropathies (250.60, 337.1, 353.5, 354.8, 354.9, 355.7, 355.8, 357.2, E11.4, G62.9, G63)\n",
    "neurop_comps_list = ['250.60', '337.1', '353.5', '354.8', '354.9', '355.7', '355.71', '355.79', '355.8', '357.2', 'E11.4', 'E11.40',\\\n",
    "                     'E11.41', 'E11.42', 'E11.43', 'E11.44', 'E11.49', 'G62.9', 'G63', 'G63.2', 'G63.3'\n",
    "]"
   ]
  },
  {
   "cell_type": "code",
   "execution_count": 13,
   "id": "529a7e89",
   "metadata": {
    "ExecuteTime": {
     "end_time": "2021-08-18T17:18:37.634982Z",
     "start_time": "2021-08-18T17:18:37.620021Z"
    },
    "hidden": true,
    "tags": []
   },
   "outputs": [],
   "source": [
    "comp_names = ['OPTH', 'CVD', 'KIDNEY', 'NEUROPATH']"
   ]
  },
  {
   "cell_type": "markdown",
   "id": "2b3f5360",
   "metadata": {
    "tags": []
   },
   "source": [
    "#### B. Diagnoses"
   ]
  },
  {
   "cell_type": "code",
   "execution_count": 621,
   "id": "c48b5266-e88a-4bf2-a9c4-beaefc0b11e3",
   "metadata": {},
   "outputs": [
    {
     "data": {
      "text/plain": [
       "30854"
      ]
     },
     "execution_count": 621,
     "metadata": {},
     "output_type": "execute_result"
    }
   ],
   "source": [
    "len(diags.patient_num.unique())"
   ]
  },
  {
   "cell_type": "code",
   "execution_count": 28,
   "id": "3a5529d2",
   "metadata": {
    "ExecuteTime": {
     "end_time": "2021-08-13T19:54:06.473565Z",
     "start_time": "2021-08-13T19:53:53.035656Z"
    },
    "tags": []
   },
   "outputs": [],
   "source": [
    "# remove hours/minutes/seconds places from the date column (leaving only Y-m-d)\n",
    "temp1 = diags[\"dx_date_shifted\"].tolist()\n",
    "temp2 = []\n",
    "for value in temp1:\n",
    "    x = value.split(\" \")\n",
    "    temp2.append(x[0])\n",
    "diags[\"dx_date_shifted\"] = temp2"
   ]
  },
  {
   "cell_type": "code",
   "execution_count": 29,
   "id": "a5ab200e",
   "metadata": {
    "ExecuteTime": {
     "end_time": "2021-08-13T19:54:31.000060Z",
     "start_time": "2021-08-13T19:54:17.666513Z"
    },
    "tags": []
   },
   "outputs": [],
   "source": [
    "diags.dx_date_shifted = pd.to_datetime(diags.dx_date_shifted, format = '%Y-%m-%d') # convert dx date column to datetime"
   ]
  },
  {
   "cell_type": "code",
   "execution_count": 30,
   "id": "3e388051",
   "metadata": {
    "ExecuteTime": {
     "end_time": "2021-08-13T19:55:06.752554Z",
     "start_time": "2021-08-13T19:55:06.712520Z"
    },
    "tags": []
   },
   "outputs": [],
   "source": [
    "# list of columns to drop\n",
    "col_drop_list_diags = ['enc_type', 'provider_id', 'provider_name', 'provider_title', \\\n",
    "                       'dx_source', 'dx_origin', 'raw_pdx', 'sourcesystem_cd', 'encounter_num', \\\n",
    "                       'dx_name', 'pdx', 'dx_type']\n",
    "diags.drop(col_drop_list_diags, axis=1, inplace=True) # drop columns from df\n",
    "diags.rename({'dx_date_shifted':'dx_date'}, axis='columns', inplace=True) # rename the diagnosis date column\n",
    "diags.sort_values(by='dx_date', inplace=True) # sort df by date"
   ]
  },
  {
   "cell_type": "code",
   "execution_count": 31,
   "id": "d49a922e",
   "metadata": {
    "ExecuteTime": {
     "end_time": "2021-08-13T20:31:34.165863Z",
     "start_time": "2021-08-13T19:55:18.260394Z"
    }
   },
   "outputs": [],
   "source": [
    "# Grouping complication codes together\n",
    "diags.dx_code.replace(to_replace=opthal_comps_list, value='OPTH', inplace=True)\n",
    "diags.dx_code.replace(to_replace=cv_comps_list, value='CVD', inplace=True)\n",
    "diags.dx_code.replace(to_replace=kidney_comps_list, value='KIDNEY', inplace=True)\n",
    "diags.dx_code.replace(to_replace=neurop_comps_list, value='NEUROPATH', inplace=True)"
   ]
  },
  {
   "cell_type": "code",
   "execution_count": 33,
   "id": "4d3721fd",
   "metadata": {
    "ExecuteTime": {
     "end_time": "2021-08-13T21:39:59.544466Z",
     "start_time": "2021-08-13T21:39:58.907394Z"
    }
   },
   "outputs": [],
   "source": [
    "diags_grouped = diags.copy()"
   ]
  },
  {
   "cell_type": "code",
   "execution_count": 34,
   "id": "29f49fe0",
   "metadata": {
    "ExecuteTime": {
     "end_time": "2021-08-13T21:56:45.671125Z",
     "start_time": "2021-08-13T21:43:23.114361Z"
    },
    "run_control": {
     "marked": false
    }
   },
   "outputs": [],
   "source": [
    "diags_grouped['edited_code'] = ''\n",
    "diags_grouped['edited_code1'] = ''\n",
    "def edit_codes(df):\n",
    "    df.edited_code = (df.dx_code.str.split('.').str[0])\n",
    "    df.edited_code1 = df.dx_code.str.split('.').str[1].str[0]\n",
    "    df.edited_code1.fillna(value='', inplace=True)\n",
    "    df.dx_code = df.apply(lambda x: x.edited_code if x.edited_code1 == '' else '%s.%s' % (x.edited_code, x.edited_code1),axis=1)\n",
    "    df.drop(columns=['edited_code', 'edited_code1'], axis=1, inplace=True)\n",
    "edit_codes(diags_grouped)"
   ]
  },
  {
   "cell_type": "code",
   "execution_count": 623,
   "id": "29228c05-5018-4315-b972-47b270b0e2e6",
   "metadata": {},
   "outputs": [
    {
     "name": "stdout",
     "output_type": "stream",
     "text": [
      "\n",
      "----------- Minimum -----------\n",
      "\n",
      "dx_date   1997-05-18\n",
      "dtype: datetime64[ns]\n",
      "\n",
      "----------- Maximum -----------\n",
      "\n",
      "dx_date   2021-08-03\n",
      "dtype: datetime64[ns]\n"
     ]
    }
   ],
   "source": [
    "print(\"\\n----------- Minimum -----------\\n\")\n",
    "print(diags[['dx_date']].min())\n",
    " \n",
    "print(\"\\n----------- Maximum -----------\\n\")\n",
    "print(diags[['dx_date']].max())"
   ]
  },
  {
   "cell_type": "code",
   "execution_count": 36,
   "id": "ed1cfae6",
   "metadata": {
    "ExecuteTime": {
     "end_time": "2021-08-13T21:56:56.529112Z",
     "start_time": "2021-08-13T21:56:48.231410Z"
    }
   },
   "outputs": [],
   "source": [
    "codes = diags.dx_code.unique()\n",
    "codes_grouped = diags_grouped.dx_code.unique()"
   ]
  },
  {
   "cell_type": "code",
   "execution_count": 37,
   "id": "a16f27e3",
   "metadata": {
    "ExecuteTime": {
     "end_time": "2021-08-13T21:56:56.564914Z",
     "start_time": "2021-08-13T21:56:56.549403Z"
    }
   },
   "outputs": [
    {
     "name": "stdout",
     "output_type": "stream",
     "text": [
      "from 30408 to 12229\n"
     ]
    }
   ],
   "source": [
    "print('from', len(codes), 'to', len(codes_grouped))\n",
    "del codes, codes_grouped"
   ]
  },
  {
   "cell_type": "markdown",
   "id": "ee52d9be",
   "metadata": {},
   "source": [
    "Reduced total number of codes from 30408 to 12229"
   ]
  },
  {
   "cell_type": "code",
   "execution_count": 1453,
   "id": "899b2488",
   "metadata": {
    "ExecuteTime": {
     "end_time": "2021-08-13T21:57:12.375487Z",
     "start_time": "2021-08-13T21:56:56.597826Z"
    },
    "run_control": {
     "marked": false
    }
   },
   "outputs": [],
   "source": [
    "with open(r'./pickles/diags.pkl', 'wb') as handle:\n",
    "    pickle.dump(diags, handle, protocol=pickle.HIGHEST_PROTOCOL)\n",
    "with open(r'./pickles/diags_grouped.pkl', 'wb') as handle:\n",
    "    pickle.dump(diags_grouped, handle, protocol=pickle.HIGHEST_PROTOCOL)"
   ]
  },
  {
   "cell_type": "code",
   "execution_count": 11,
   "id": "1d559157-7028-43c8-a7a3-db4205e0621a",
   "metadata": {},
   "outputs": [],
   "source": [
    "with open(r'./pickles/diags.pkl', 'rb') as handle:\n",
    "    diags = pickle.load(handle)\n",
    "with open(r'./pickles/diags_grouped.pkl', 'rb') as handle:\n",
    "    diags_grouped = pickle.load(handle)"
   ]
  },
  {
   "cell_type": "markdown",
   "id": "7ba0ee95",
   "metadata": {
    "tags": []
   },
   "source": [
    "#### C. Complication time"
   ]
  },
  {
   "cell_type": "code",
   "execution_count": 12,
   "id": "d8be22c3",
   "metadata": {
    "ExecuteTime": {
     "end_time": "2021-09-27T17:56:32.460152Z",
     "start_time": "2021-09-27T17:56:26.442358Z"
    }
   },
   "outputs": [],
   "source": [
    "no_comps_df = diags[(diags.dx_code == \"E11.9\") | (diags.dx_code == '250.00')] # create df with entries of uncomplicated diabetes codes only\n",
    "patient_nums = pd.Series(no_comps_df.patient_num).unique() # list unique patient nums for patients that have e11.9 or 250.00 code\n",
    "no_comps_sorted = no_comps_df.sort_values(by=['patient_num', 'dx_date']) # sort no_comps_df by patient number and then by dx date"
   ]
  },
  {
   "cell_type": "code",
   "execution_count": 14,
   "id": "2aed0a65",
   "metadata": {
    "ExecuteTime": {
     "end_time": "2021-09-27T17:56:37.993738Z",
     "start_time": "2021-09-27T17:56:37.982768Z"
    },
    "run_control": {
     "marked": false
    }
   },
   "outputs": [],
   "source": [
    "# grab initial diabetes diagnosis date for each patient\n",
    "def init_diagnoses(patient_nums, df):\n",
    "    init_comps = {}\n",
    "    init_diab = {}\n",
    "    for pt in patient_nums:\n",
    "        pt_index = df.patient_num.searchsorted(pt, side='left')  # find the first instance on the sorted list where pt appears\n",
    "        # Get initial diabetes diagnosis time for both dictionaries\n",
    "        init_comps[pt] = {'initial_DIAB':df.iloc[pt_index].dx_date}\n",
    "        init_diab[pt] = df.iloc[pt_index].dx_date\n",
    "    return init_comps, init_diab\n",
    "\n",
    "# append the time that each patient first experienced a complication to dictionary created above\n",
    "def get_first_comp(init_comps_dict, comp_name, df):\n",
    "    temp_df = df[(df.dx_code == comp_name)] # get subset dataframe of specific comp codes\n",
    "    lst = list(temp_df.patient_num) # generate list of patient ids that have complication\n",
    "    comp = 'initial_%s' % comp_name\n",
    "    patient_ids = init_comps_dict.keys() # generate full list of patient numbers\n",
    "    for init in patient_ids: # loop through pt numbers\n",
    "        if init in lst:\n",
    "            temp_comp_time = temp_df[(temp_df.patient_num == init)].iloc[0].dx_date # take the first time a pt experienced a complication\n",
    "            init_comps_dict[init][comp] = temp_comp_time # ad initial diagnosis date to nested dict\n",
    "        else:\n",
    "            init_comps_dict[init][comp] = np.nan # fill with NaN if no complication occured"
   ]
  },
  {
   "cell_type": "code",
   "execution_count": 15,
   "id": "291e7920",
   "metadata": {
    "ExecuteTime": {
     "end_time": "2021-09-27T17:57:07.516323Z",
     "start_time": "2021-09-27T17:56:59.755982Z"
    }
   },
   "outputs": [],
   "source": [
    "init_comps_dict, init_diab_diag = init_diagnoses(patient_nums=patient_nums, df=no_comps_sorted)"
   ]
  },
  {
   "cell_type": "code",
   "execution_count": 19,
   "id": "90431ab0",
   "metadata": {
    "ExecuteTime": {
     "end_time": "2021-08-18T19:41:32.226540Z",
     "start_time": "2021-08-18T17:18:44.824689Z"
    },
    "run_control": {
     "marked": false
    }
   },
   "outputs": [],
   "source": [
    "for comp in comp_names:\n",
    "    get_first_comp(init_comps_dict, comp, diags)"
   ]
  },
  {
   "cell_type": "code",
   "execution_count": 18,
   "id": "5f2ede27-38d8-4b85-85ab-8d1d886020cd",
   "metadata": {},
   "outputs": [],
   "source": [
    "with open(r'/Users/amomenzadeh/Desktop/DM_pickles/init_diab_diag.pkl', 'wb') as handle:\n",
    "    pickle.dump(init_diab_diag, handle, protocol=pickle.HIGHEST_PROTOCOL)"
   ]
  },
  {
   "cell_type": "code",
   "execution_count": 20,
   "id": "5b97a7b2",
   "metadata": {
    "ExecuteTime": {
     "end_time": "2021-08-18T19:41:33.060460Z",
     "start_time": "2021-08-18T19:41:32.820059Z"
    }
   },
   "outputs": [],
   "source": [
    "with open(r'/Users/amomenzadeh/Desktop/DM_pickles/init_comps_dict.pkl', 'wb') as handle:\n",
    "    pickle.dump(init_comps_dict, handle, protocol=pickle.HIGHEST_PROTOCOL)"
   ]
  },
  {
   "cell_type": "code",
   "execution_count": 21,
   "id": "6b2035d7-1a69-4d31-892f-7f3fe2d03f6b",
   "metadata": {},
   "outputs": [],
   "source": [
    "with open(r'/Users/amomenzadeh/Desktop/DM_pickles/init_diab_diag.pkl', 'rb') as handle:\n",
    "    init_diab_diag = pickle.load(handle)\n",
    "with open(r'/Users/amomenzadeh/Desktop/DM_pickles/init_comps_dict.pkl', 'rb') as handle:\n",
    "    init_comps_dict = pickle.load(handle)"
   ]
  },
  {
   "cell_type": "code",
   "execution_count": 13,
   "id": "90403609",
   "metadata": {
    "ExecuteTime": {
     "end_time": "2021-08-18T20:05:07.965131Z",
     "start_time": "2021-08-18T20:05:07.768712Z"
    },
    "run_control": {
     "marked": false
    },
    "tags": []
   },
   "outputs": [],
   "source": [
    "# create new df from  above dictionary for time of first complication with the patient # as the index\n",
    "comps_time_df = pd.DataFrame.from_dict(init_comps_dict, orient='index')\n",
    "comps_time_df = comps_time_df.apply(pd.to_datetime, errors='coerce')\n",
    "\n",
    "# sort table by patient # (index)\n",
    "comps_time_df.sort_index(inplace=True)"
   ]
  },
  {
   "cell_type": "code",
   "execution_count": 14,
   "id": "6e53984e",
   "metadata": {
    "ExecuteTime": {
     "end_time": "2021-08-18T20:05:08.587863Z",
     "start_time": "2021-08-18T20:05:08.576892Z"
    }
   },
   "outputs": [],
   "source": [
    "# append columns to df for the time to complications from initial diabetes diagnosis\n",
    "def get_diffs(comp_names, diff_list, comps_time_df):\n",
    "    for name in comp_names:\n",
    "        new_col = '%s_diff' % name\n",
    "        diff_list.append(new_col)\n",
    "        temp_comp = 'initial_%s' % name\n",
    "        comps_time_df[new_col] = (comps_time_df[temp_comp] - comps_time_df['initial_DIAB'])/np.timedelta64(1,\"Y\")"
   ]
  },
  {
   "cell_type": "code",
   "execution_count": 17,
   "id": "5b403dab",
   "metadata": {
    "ExecuteTime": {
     "end_time": "2021-08-18T20:05:09.501796Z",
     "start_time": "2021-08-18T20:05:09.456037Z"
    },
    "tags": []
   },
   "outputs": [],
   "source": [
    "diff_list = []\n",
    "get_diffs(comp_names, diff_list, comps_time_df)"
   ]
  },
  {
   "cell_type": "code",
   "execution_count": 18,
   "id": "4931482d",
   "metadata": {
    "ExecuteTime": {
     "end_time": "2021-08-18T20:05:13.919650Z",
     "start_time": "2021-08-18T20:05:13.907681Z"
    },
    "run_control": {
     "marked": true
    },
    "tags": []
   },
   "outputs": [],
   "source": [
    "# get df of just the times to complications\n",
    "comps_diff_df = comps_time_df[[i for i in diff_list]]"
   ]
  },
  {
   "cell_type": "code",
   "execution_count": 53,
   "id": "766d230c",
   "metadata": {
    "ExecuteTime": {
     "end_time": "2021-08-25T01:29:31.433929Z",
     "start_time": "2021-08-25T01:29:31.414256Z"
    }
   },
   "outputs": [],
   "source": [
    "with open(r'.\\pickles\\comps_diff_df.pkl', 'wb') as handle:\n",
    "    pickle.dump(comps_diff_df, handle, protocol=pickle.HIGHEST_PROTOCOL)"
   ]
  },
  {
   "cell_type": "code",
   "execution_count": 22,
   "id": "4e8d1615-7341-45cb-ac6a-a0d5aba551cc",
   "metadata": {},
   "outputs": [],
   "source": [
    "with open(r'./pickles/comps_diff_df.pkl', 'rb') as handle:\n",
    "    comps_diff_df = pickle.load(handle)"
   ]
  },
  {
   "cell_type": "code",
   "execution_count": 23,
   "id": "6e1a1605-2d01-424e-83ca-42b826c70143",
   "metadata": {},
   "outputs": [],
   "source": [
    "# set comps that were diagnosed <1mo from 1st uncomplicated T2DM dx to NaN\n",
    "comps_over1mo_df=comps_diff_df.mask(comps_diff_df<=(1/12),inplace=False)"
   ]
  },
  {
   "cell_type": "code",
   "execution_count": 24,
   "id": "0e9b0832-c1c0-4644-9bbf-dcf9f8ed4355",
   "metadata": {},
   "outputs": [],
   "source": [
    "comps_over1mo_dropnas=comps_over1mo_df.dropna(axis = 0, how = 'all')"
   ]
  },
  {
   "cell_type": "code",
   "execution_count": 25,
   "id": "0288f07b-ccf2-4114-81bd-d06840dc88b1",
   "metadata": {},
   "outputs": [
    {
     "data": {
      "text/plain": [
       "(21850, 4)"
      ]
     },
     "execution_count": 25,
     "metadata": {},
     "output_type": "execute_result"
    }
   ],
   "source": [
    "comps_over1mo_dropnas.shape"
   ]
  },
  {
   "cell_type": "code",
   "execution_count": 26,
   "id": "1b31a92d-d0c3-49a0-9a98-eaa5dca1b119",
   "metadata": {},
   "outputs": [
    {
     "data": {
      "text/plain": [
       "21850"
      ]
     },
     "execution_count": 26,
     "metadata": {},
     "output_type": "execute_result"
    }
   ],
   "source": [
    "len(comps_over1mo_dropnas.index.unique())"
   ]
  },
  {
   "cell_type": "code",
   "execution_count": 27,
   "id": "4af5e7ff-d571-4470-a34b-3cd46b85bb98",
   "metadata": {},
   "outputs": [],
   "source": [
    "with open(r'/Users/amomenzadeh/Desktop/DM_pickles/comps_over1mo_df.pkl', 'wb') as handle:\n",
    "    pickle.dump(comps_over1mo_df, handle, protocol=pickle.HIGHEST_PROTOCOL)"
   ]
  },
  {
   "cell_type": "code",
   "execution_count": 28,
   "id": "c6170251-180a-423e-ad7c-2f0704443eba",
   "metadata": {},
   "outputs": [],
   "source": [
    "with open(r'.\\pickles\\comps_over1mo_df.pkl', 'rb') as handle:\n",
    "    comps_over1mo_df = pickle.load(handle)"
   ]
  },
  {
   "cell_type": "markdown",
   "id": "f72f8836",
   "metadata": {
    "heading_collapsed": true,
    "jp-MarkdownHeadingCollapsed": true,
    "tags": []
   },
   "source": [
    "#### D. Removing entries with codes after inital diab diagnosis"
   ]
  },
  {
   "cell_type": "markdown",
   "id": "4b727062",
   "metadata": {
    "heading_collapsed": true,
    "hidden": true,
    "tags": []
   },
   "source": [
    "##### Run on grouped codes only (did better than ungrouped in prelim analysis)"
   ]
  },
  {
   "cell_type": "code",
   "execution_count": 10,
   "id": "de55c5a3",
   "metadata": {
    "ExecuteTime": {
     "end_time": "2021-08-18T20:10:02.223126Z",
     "start_time": "2021-08-18T20:10:02.215147Z"
    },
    "hidden": true
   },
   "outputs": [],
   "source": [
    "#drop the complications prior to first DM code but KEEP DAY OF first DM code\n",
    "def drop_after_init(df, init_dict):\n",
    "    drop_list = []\n",
    "    patient_ids = init_dict.keys()\n",
    "    for pt in patient_ids:\n",
    "        drop_list.extend(list(df[(df.patient_num == pt) & \n",
    "                                 (df.dx_date > init_dict[pt])].index))\n",
    "    print('Number to be dropped:', len(drop_list))\n",
    "    print('Number to keep:', df.shape[0] - len(drop_list))\n",
    "    df.drop(drop_list, axis=0, inplace=True)\n",
    "    print('Final DF Shape:', df.shape)"
   ]
  },
  {
   "cell_type": "code",
   "execution_count": 73,
   "id": "12326823",
   "metadata": {
    "ExecuteTime": {
     "end_time": "2021-08-18T21:20:52.041353Z",
     "start_time": "2021-08-18T21:20:51.621607Z"
    },
    "hidden": true
   },
   "outputs": [],
   "source": [
    "diags_g_prediab = diags_grouped.copy()"
   ]
  },
  {
   "cell_type": "code",
   "execution_count": 14,
   "id": "3eabc667",
   "metadata": {},
   "outputs": [
    {
     "ename": "NameError",
     "evalue": "name 'diags_phen' is not defined",
     "output_type": "error",
     "traceback": [
      "\u001b[0;31m---------------------------------------------------------------------------\u001b[0m",
      "\u001b[0;31mNameError\u001b[0m                                 Traceback (most recent call last)",
      "\u001b[0;32m/var/folders/8j/c17yblj5701cxmbgc2jsmqmm0000gr/T/ipykernel_6052/381511057.py\u001b[0m in \u001b[0;36m<module>\u001b[0;34m\u001b[0m\n\u001b[0;32m----> 1\u001b[0;31m \u001b[0mdrop_after_init\u001b[0m\u001b[0;34m(\u001b[0m\u001b[0mdiags_phen\u001b[0m\u001b[0;34m,\u001b[0m \u001b[0minit_diab_diag\u001b[0m\u001b[0;34m)\u001b[0m\u001b[0;34m\u001b[0m\u001b[0;34m\u001b[0m\u001b[0m\n\u001b[0m",
      "\u001b[0;31mNameError\u001b[0m: name 'diags_phen' is not defined"
     ]
    }
   ],
   "source": []
  },
  {
   "cell_type": "code",
   "execution_count": 1451,
   "id": "a96a92b4-9b59-4f55-a982-264c1e2244ed",
   "metadata": {},
   "outputs": [
    {
     "data": {
      "text/plain": [
       "30854"
      ]
     },
     "execution_count": 1451,
     "metadata": {},
     "output_type": "execute_result"
    }
   ],
   "source": [
    "len(diags_g_prediab.patient_num.unique())"
   ]
  },
  {
   "cell_type": "code",
   "execution_count": null,
   "id": "e705d149",
   "metadata": {
    "ExecuteTime": {
     "end_time": "2021-08-24T02:02:37.145825Z",
     "start_time": "2021-08-24T02:02:36.751233Z"
    },
    "hidden": true,
    "tags": []
   },
   "outputs": [],
   "source": [
    "with open(r'./pickles/diags_phen.pickle', 'wb') as handle:\n",
    "    pickle.dump(diags_phen, handle, protocol=pickle.HIGHEST_PROTOCOL)"
   ]
  },
  {
   "cell_type": "code",
   "execution_count": 90,
   "id": "ba3631a2-4574-4ae3-bb1a-e0c76b82d665",
   "metadata": {},
   "outputs": [],
   "source": [
    "with open(r'./pickles/diags_phen.pickle', 'rb') as handle:\n",
    "    diags_phen = pickle.load(handle)"
   ]
  },
  {
   "cell_type": "markdown",
   "id": "06891fae",
   "metadata": {
    "jp-MarkdownHeadingCollapsed": true,
    "tags": []
   },
   "source": [
    "### 4. Clean Demos input data"
   ]
  },
  {
   "cell_type": "code",
   "execution_count": 51,
   "id": "ebbee852-0e8c-47b2-bc81-237afad455fb",
   "metadata": {},
   "outputs": [],
   "source": [
    "demos_c=demos.copy()"
   ]
  },
  {
   "cell_type": "code",
   "execution_count": 52,
   "id": "eb327e1d-77b0-40cd-9958-69b2a42b4611",
   "metadata": {},
   "outputs": [
    {
     "data": {
      "text/plain": [
       "30854"
      ]
     },
     "execution_count": 52,
     "metadata": {},
     "output_type": "execute_result"
    }
   ],
   "source": [
    "len(demos_c.patient_num.unique())"
   ]
  },
  {
   "cell_type": "code",
   "execution_count": 53,
   "id": "8e62abf3",
   "metadata": {
    "ExecuteTime": {
     "end_time": "2021-09-27T17:52:59.953757Z",
     "start_time": "2021-09-27T17:52:59.932499Z"
    },
    "run_control": {
     "marked": false
    },
    "tags": []
   },
   "outputs": [],
   "source": [
    "drop = ['sex_c', 'research_contact_pref', 'marital_status_c','language_code',\n",
    "                       'employment_status_c', 'race_c', 'hispanic_c','need_interpreter', 'ethnicity',\n",
    "                       'state_c', 'state_name', 'zip3', 'ped_gest_age','primary_care_provider_id', \n",
    "                       'primary_care_provider_name','primary_care_provider_title', 'death_date_precision',\n",
    "                       'vital_status_source', 'death_date_source']\n",
    "demos_c.drop(columns=drop, axis=1, inplace=True)"
   ]
  },
  {
   "cell_type": "code",
   "execution_count": 54,
   "id": "02240f71",
   "metadata": {
    "ExecuteTime": {
     "end_time": "2021-09-27T17:53:00.891076Z",
     "start_time": "2021-09-27T17:53:00.861496Z"
    },
    "tags": []
   },
   "outputs": [],
   "source": [
    "# convert birthdate/deathdate to a datetime variable\n",
    "demos_c.birth_date_shifted = pd.to_datetime(demos.birth_date_shifted, format = '%Y-%m-%d')\n",
    "demos_c.death_date_shifted = pd.to_datetime(demos.death_date_shifted, format = '%Y-%m-%d')"
   ]
  },
  {
   "cell_type": "code",
   "execution_count": 55,
   "id": "756c5816-5444-4fd2-8927-7217325a140a",
   "metadata": {},
   "outputs": [],
   "source": [
    "# add new column with patient initial age at diagnosis\n",
    "demos_c['init_diab']= demos_c['patient_num'].map(init_diab_diag)"
   ]
  },
  {
   "cell_type": "code",
   "execution_count": 56,
   "id": "19ad120f-f4e4-473b-a541-b9ae1aba1d56",
   "metadata": {},
   "outputs": [],
   "source": [
    "demos_c['age_at_diab'] = (demos_c.init_diab - demos_c.birth_date_shifted)/np.timedelta64(1,'Y')"
   ]
  },
  {
   "cell_type": "code",
   "execution_count": 58,
   "id": "c487a024-cab5-4efb-9bd8-878cde2f2034",
   "metadata": {},
   "outputs": [],
   "source": [
    "demos_alive=demos_c.drop(demos_c.loc[demos_c['vital_status']== 'Deceased'].index)"
   ]
  },
  {
   "cell_type": "code",
   "execution_count": 59,
   "id": "888e19b2-8b33-43fe-806a-98629256f57c",
   "metadata": {},
   "outputs": [],
   "source": [
    "demos_alive.drop(['vital_status','death_date_shifted','birth_date_shifted'],inplace=True, axis=1)"
   ]
  },
  {
   "cell_type": "code",
   "execution_count": 60,
   "id": "567385e4-2e58-4135-ba5f-eb6512235cf1",
   "metadata": {},
   "outputs": [],
   "source": [
    "demos_alive['vital_status']='Alive'"
   ]
  },
  {
   "cell_type": "code",
   "execution_count": 61,
   "id": "c2c867fa-f80c-40f7-8856-89a7b73ce1b1",
   "metadata": {},
   "outputs": [],
   "source": [
    "demos_alive['duration_diab'] = (datetime.now() - demos_alive.init_diab)/np.timedelta64(1,'Y')"
   ]
  },
  {
   "cell_type": "code",
   "execution_count": 62,
   "id": "e50e6979-1eee-43ba-902c-e23075de0031",
   "metadata": {},
   "outputs": [],
   "source": [
    "demos_alive.drop(['init_diab'],axis=1,inplace=True)"
   ]
  },
  {
   "cell_type": "code",
   "execution_count": 63,
   "id": "42f1770f-6395-4364-b107-f270f866b56a",
   "metadata": {},
   "outputs": [],
   "source": [
    "demo_dec=demos_c[(demos_c.vital_status=='Deceased')]"
   ]
  },
  {
   "cell_type": "code",
   "execution_count": 64,
   "id": "f4db0e74-c217-4d39-a764-83dbc2a51cab",
   "metadata": {},
   "outputs": [
    {
     "name": "stderr",
     "output_type": "stream",
     "text": [
      "\n",
      "A value is trying to be set on a copy of a slice from a DataFrame.\n",
      "Try using .loc[row_indexer,col_indexer] = value instead\n",
      "\n",
      "See the caveats in the documentation: https://pandas.pydata.org/pandas-docs/stable/user_guide/indexing.html#returning-a-view-versus-a-copy\n"
     ]
    }
   ],
   "source": [
    "demo_dec['duration_diab'] = (demo_dec.death_date_shifted - demo_dec.init_diab)/np.timedelta64(1,'Y')"
   ]
  },
  {
   "cell_type": "code",
   "execution_count": 67,
   "id": "49244a62-ec80-42ca-8f4c-2f5740443614",
   "metadata": {},
   "outputs": [
    {
     "name": "stderr",
     "output_type": "stream",
     "text": [
      "\n",
      "A value is trying to be set on a copy of a slice from a DataFrame\n",
      "\n",
      "See the caveats in the documentation: https://pandas.pydata.org/pandas-docs/stable/user_guide/indexing.html#returning-a-view-versus-a-copy\n"
     ]
    }
   ],
   "source": [
    "demo_dec.drop(['init_diab','birth_date_shifted','death_date_shifted'],axis=1,inplace=True)"
   ]
  },
  {
   "cell_type": "code",
   "execution_count": 68,
   "id": "c15620e2-2ee7-4a60-834a-6203d6656d3a",
   "metadata": {},
   "outputs": [],
   "source": [
    "all_dfs = [demos_alive, demo_dec]\n",
    "\n",
    "demos_all=pd.concat(all_dfs).reset_index(drop=True)"
   ]
  },
  {
   "cell_type": "code",
   "execution_count": 1960,
   "id": "ac3a5c87-a75b-4af8-bf19-5e0fa118f2f1",
   "metadata": {},
   "outputs": [],
   "source": [
    "with open(r'./pickles/demos_all.pkl', 'wb') as handle:\n",
    "    pickle.dump(demos_all, handle, protocol=pickle.HIGHEST_PROTOCOL)    "
   ]
  },
  {
   "cell_type": "code",
   "execution_count": 1970,
   "id": "85bf306d-ca18-4532-b749-c8eccfeaab4d",
   "metadata": {},
   "outputs": [
    {
     "data": {
      "text/plain": [
       "Index(['patient_num', 'sex', 'marital_status', 'employment_status', 'race',\n",
       "       'language', 'age_at_diab', 'vital_status', 'duration_diab'],\n",
       "      dtype='object')"
      ]
     },
     "execution_count": 1970,
     "metadata": {},
     "output_type": "execute_result"
    }
   ],
   "source": [
    "demos_all.columns"
   ]
  },
  {
   "cell_type": "code",
   "execution_count": 1968,
   "id": "2525a971-3fd3-4411-902c-8c9567166876",
   "metadata": {
    "tags": []
   },
   "outputs": [
    {
     "name": "stdout",
     "output_type": "stream",
     "text": [
      "patient_num\n",
      "0.0\n",
      "sex\n",
      "0.0\n",
      "marital_status\n",
      "0.042133921047514095\n",
      "employment_status\n",
      "9.40882867699488\n",
      "race\n",
      "1.4779283075128022\n",
      "language\n",
      "2.4340442082063913\n",
      "age_at_diab\n",
      "0.0\n",
      "vital_status\n",
      "0.0\n",
      "duration_diab\n",
      "0.22363388863680558\n"
     ]
    }
   ],
   "source": [
    "# % missingness in each column\n",
    "cols=demos_all.columns\n",
    "for x in cols:  \n",
    "    percent_missing = (demos_all[x].isna().sum().sum()) / len(demos_all) *100\n",
    "    print(x)\n",
    "    print(percent_missing)  "
   ]
  },
  {
   "cell_type": "code",
   "execution_count": 1969,
   "id": "403c8bd7-40f9-4609-9448-d8833800da48",
   "metadata": {},
   "outputs": [],
   "source": [
    "demos_all.to_csv('demos_all.csv')"
   ]
  },
  {
   "cell_type": "code",
   "execution_count": 28,
   "id": "aa8851a5-5e58-455c-9af3-cfa73798dbc8",
   "metadata": {},
   "outputs": [],
   "source": [
    "#Impute using missforest in R - missForest does not work on cat variables in python\n",
    "demos_R = pd.read_csv(r'/Users/amomenzadeh/Desktop/DM_csv/demos_from_R.csv',low_memory=False)"
   ]
  },
  {
   "cell_type": "code",
   "execution_count": 1973,
   "id": "a9b4c907-9257-4a0e-86c7-80a0b2a01402",
   "metadata": {},
   "outputs": [
    {
     "name": "stdout",
     "output_type": "stream",
     "text": [
      "sex\n",
      "0.0\n",
      "marital_status\n",
      "0.0\n",
      "employment_status\n",
      "0.0\n",
      "race\n",
      "0.0\n",
      "age_at_diab\n",
      "0.0\n",
      "vital_status\n",
      "0.0\n",
      "duration_diab\n",
      "0.0\n"
     ]
    }
   ],
   "source": [
    "# % missingness in each column\n",
    "cols=demos_R.columns\n",
    "for x in cols:  \n",
    "    percent_missing = (demos_R[x].isna().sum().sum()) / len(demos_R) *100\n",
    "    print(x)\n",
    "    print(percent_missing)  "
   ]
  },
  {
   "cell_type": "code",
   "execution_count": 1976,
   "id": "be2cb15c-950b-4f28-8fcc-3c3b187f3924",
   "metadata": {},
   "outputs": [],
   "source": [
    "demos_R['patient_num'] = demos_all['patient_num'].values"
   ]
  },
  {
   "cell_type": "code",
   "execution_count": 1986,
   "id": "88fc6555-3e96-4742-a77c-79e4490faaa1",
   "metadata": {},
   "outputs": [],
   "source": [
    "demos_R=demos_R.set_index('patient_num')"
   ]
  },
  {
   "cell_type": "code",
   "execution_count": 1990,
   "id": "ab26acae-f2b1-4415-8abf-eb1cc1c92f30",
   "metadata": {},
   "outputs": [],
   "source": [
    "def encode_and_bind(original_dataframe, feature_to_encode):\n",
    "    dummies = pd.get_dummies(original_dataframe[[feature_to_encode]])\n",
    "    res = pd.concat([original_dataframe, dummies], axis=1)\n",
    "    res = res.drop([feature_to_encode], axis=1)\n",
    "    return(res)"
   ]
  },
  {
   "cell_type": "code",
   "execution_count": 1996,
   "id": "71f88164-8239-46bb-a0c1-009ff7783beb",
   "metadata": {},
   "outputs": [],
   "source": [
    "# one-hot encode categorical variables\n",
    "features_to_encode = ['sex', 'marital_status', 'employment_status','race', 'vital_status']\n",
    "for feature in features_to_encode:\n",
    "    demos_R = encode_and_bind(demos_R, feature)"
   ]
  },
  {
   "cell_type": "code",
   "execution_count": 2002,
   "id": "be2f350a-75c2-40fd-9ee0-067a5df237ec",
   "metadata": {},
   "outputs": [],
   "source": [
    "from sklearn.preprocessing import MinMaxScaler\n",
    "scaler = MinMaxScaler()"
   ]
  },
  {
   "cell_type": "code",
   "execution_count": 2003,
   "id": "623a9339-92c8-4e6e-bc00-03486a5db4fe",
   "metadata": {},
   "outputs": [],
   "source": [
    "# normalize continuous variables\n",
    "features_to_norm = ['age_at_diab','duration_diab']\n",
    "x = demos_R[features_to_norm].values\n",
    "x_scaled = scaler.fit_transform(x)\n",
    "df_temp = pd.DataFrame(x_scaled, columns=features_to_norm, index = demos_R.index)\n",
    "demos_R[features_to_norm] = df_temp"
   ]
  },
  {
   "cell_type": "code",
   "execution_count": 2171,
   "id": "8aefa464-5307-46b7-938d-ab960b7e3be3",
   "metadata": {},
   "outputs": [
    {
     "data": {
      "text/plain": [
       "Index(['age_at_diab', 'duration_diab', 'sex_Female', 'sex_Male',\n",
       "       'marital_status_Divorced', 'marital_status_Legally Separated',\n",
       "       'marital_status_Married', 'marital_status_Patient Refused',\n",
       "       'marital_status_Significant Other', 'marital_status_Single',\n",
       "       'marital_status_Unknown', 'marital_status_Widowed',\n",
       "       'employment_status_Disabled', 'employment_status_Full Time',\n",
       "       'employment_status_Not Employed',\n",
       "       'employment_status_On Active Military Duty',\n",
       "       'employment_status_Part Time', 'employment_status_Patient Refused',\n",
       "       'employment_status_Retired', 'employment_status_Self Employed',\n",
       "       'employment_status_Student - Full Time',\n",
       "       'employment_status_Student - Part Time', 'employment_status_Unknown',\n",
       "       'race_American Indian or Alaska Native', 'race_Asian',\n",
       "       'race_Black or African American', 'race_Multiracial',\n",
       "       'race_Native Hawaiian or Other Pacific Islander', 'race_Other',\n",
       "       'race_Unknown', 'race_White or Caucasian', 'vital_status_Alive',\n",
       "       'vital_status_Deceased'],\n",
       "      dtype='object')"
      ]
     },
     "execution_count": 2171,
     "metadata": {},
     "output_type": "execute_result"
    }
   ],
   "source": [
    "demos_R.columns"
   ]
  },
  {
   "cell_type": "code",
   "execution_count": 2009,
   "id": "d60847f0-4beb-439e-8239-48df6b719b2b",
   "metadata": {},
   "outputs": [],
   "source": [
    "with open(r'./pickles/demos_R.pkl', 'wb') as handle:\n",
    "    pickle.dump(demos_R, handle, protocol=pickle.HIGHEST_PROTOCOL)   "
   ]
  },
  {
   "cell_type": "code",
   "execution_count": 21,
   "id": "df456fc3-d271-4527-8d0a-4a6d7508dd40",
   "metadata": {},
   "outputs": [],
   "source": [
    "with open(r'./pickles/demos_R.pkl', 'rb') as handle:\n",
    "    demos_R = pickle.load(handle)"
   ]
  },
  {
   "cell_type": "markdown",
   "id": "1d43da02-6bc7-4959-99e4-ffc441640e33",
   "metadata": {
    "jp-MarkdownHeadingCollapsed": true,
    "tags": []
   },
   "source": [
    "### 5. Clean Vitals input data"
   ]
  },
  {
   "cell_type": "code",
   "execution_count": 1092,
   "id": "b6f2049a-e25f-4898-b15a-db8b7f858105",
   "metadata": {
    "tags": []
   },
   "outputs": [],
   "source": [
    "vitals_c=vitals.copy()"
   ]
  },
  {
   "cell_type": "code",
   "execution_count": 1093,
   "id": "340f5dfe-dcc6-4477-a88c-751ddc91b6c5",
   "metadata": {},
   "outputs": [
    {
     "data": {
      "text/plain": [
       "29746"
      ]
     },
     "execution_count": 1093,
     "metadata": {},
     "output_type": "execute_result"
    }
   ],
   "source": [
    "len(vitals_c.patient_num.unique())"
   ]
  },
  {
   "cell_type": "code",
   "execution_count": 436,
   "id": "c1838277-40d9-48bb-a9d4-9443be683204",
   "metadata": {},
   "outputs": [],
   "source": [
    "vitals_c.drop(['height','weight', 'encounter_num'],axis=1,inplace=True)"
   ]
  },
  {
   "cell_type": "code",
   "execution_count": 437,
   "id": "d5fb43cf-b766-4cb7-969b-7458b2ae070b",
   "metadata": {
    "tags": []
   },
   "outputs": [],
   "source": [
    "# remove hours/minutes/seconds places from the date column (leaving only Y-m-d)\n",
    "temp1 = vitals_c[\"measure_date_shifted\"].tolist()\n",
    "temp2 = []\n",
    "for value in temp1:\n",
    "    x = value.split(\" \")\n",
    "    temp2.append(x[0])\n",
    "vitals_c[\"measure_date_shifted\"] = temp2"
   ]
  },
  {
   "cell_type": "code",
   "execution_count": 438,
   "id": "08f2bb86-0cd1-47c4-9fb2-12d63a424c5a",
   "metadata": {
    "tags": []
   },
   "outputs": [],
   "source": [
    "vitals_c.measure_date_shifted = pd.to_datetime(vitals_c.measure_date_shifted, format = '%Y-%m-%d')"
   ]
  },
  {
   "cell_type": "code",
   "execution_count": 439,
   "id": "3a322797-b136-45a4-91ae-c21067fb3846",
   "metadata": {
    "tags": []
   },
   "outputs": [],
   "source": [
    "vitals_c.rename({'measure_date_shifted':'measure_date'}, axis='columns', inplace=True)\n",
    "vitals_c.sort_values(by='measure_date', inplace=True) # sort df by date"
   ]
  },
  {
   "cell_type": "code",
   "execution_count": 440,
   "id": "303ddfec-8e8e-421b-8879-7e768401bd92",
   "metadata": {
    "tags": []
   },
   "outputs": [],
   "source": [
    "#include vitals on day of DM dx and before \n",
    "def drop_vitals_after_DM(df, init_dict):\n",
    "    drop_list = []\n",
    "    patient_ids = init_dict.keys()\n",
    "    for pt in patient_ids:\n",
    "        drop_list.extend(list(df[(df.patient_num == pt) & \n",
    "                                 (df.measure_date > init_dict[pt])].index))\n",
    "    print('Number to be dropped:', len(drop_list))\n",
    "    print('Number to keep:', df.shape[0] - len(drop_list))\n",
    "    df.drop(drop_list, axis=0, inplace=True)\n",
    "    print('Final DF Shape:', df.shape)"
   ]
  },
  {
   "cell_type": "code",
   "execution_count": 442,
   "id": "1b40859e-3d10-411e-a638-507df3cd2a0e",
   "metadata": {
    "tags": []
   },
   "outputs": [
    {
     "name": "stdout",
     "output_type": "stream",
     "text": [
      "Number to be dropped: 1136139\n",
      "Number to keep: 97199\n",
      "Final DF Shape: (97199, 8)\n"
     ]
    }
   ],
   "source": [
    "drop_vitals_after_DM(vitals_c,init_diab_diag)"
   ]
  },
  {
   "cell_type": "code",
   "execution_count": 443,
   "id": "d4b90e6c-a42e-416f-af85-a08513aa6601",
   "metadata": {
    "tags": []
   },
   "outputs": [
    {
     "data": {
      "text/plain": [
       "22475"
      ]
     },
     "execution_count": 443,
     "metadata": {},
     "output_type": "execute_result"
    }
   ],
   "source": [
    "#number of unique pt IDs with vitals on day of and before first DM dx\n",
    "len(vitals_c.patient_num.unique())"
   ]
  },
  {
   "cell_type": "code",
   "execution_count": 447,
   "id": "a6bf74a9-58a4-4710-9395-f21c31ac4f61",
   "metadata": {},
   "outputs": [],
   "source": [
    "vitals_ind=vitals_c.set_index('patient_num')"
   ]
  },
  {
   "cell_type": "code",
   "execution_count": 448,
   "id": "e041a280-3bae-4cc1-9be0-05de70943eb4",
   "metadata": {},
   "outputs": [],
   "source": [
    "cols = [\"bmi\",\"bp_diastolic\",\"bp_systolic\",\"pulse\",\"temperature\",\"respirations\"]\n",
    "vitals_ind[cols] = vitals_ind[cols].replace(['0', 0], np.nan)"
   ]
  },
  {
   "cell_type": "code",
   "execution_count": 449,
   "id": "d8c39d99-1970-4f92-bfa9-05c48b620595",
   "metadata": {},
   "outputs": [],
   "source": [
    "vitals_ind['bmi'].values[vitals_ind['bmi'].values <10] = np.nan"
   ]
  },
  {
   "cell_type": "code",
   "execution_count": 450,
   "id": "ab5ba9f3-3462-4325-9ba7-8e270807d525",
   "metadata": {},
   "outputs": [],
   "source": [
    "vitals_ind['bmi'].values[vitals_ind['bmi'].values >100] = np.nan"
   ]
  },
  {
   "cell_type": "code",
   "execution_count": 451,
   "id": "2e58a805-ef64-4ce3-9912-884a95d689f3",
   "metadata": {},
   "outputs": [
    {
     "name": "stdout",
     "output_type": "stream",
     "text": [
      "bmi\n",
      "4 SD range: 8.0 to 61.0\n",
      "bp_diastolic\n",
      "4 SD range: 45.0 to 110.0\n",
      "bp_systolic\n",
      "4 SD range: 77.0 to 187.0\n",
      "pulse\n",
      "4 SD range: 38.0 to 122.0\n",
      "temperature\n",
      "4 SD range: 95.0 to 101.0\n",
      "respirations\n",
      "4 SD range: 8.0 to 27.0\n"
     ]
    }
   ],
   "source": [
    "cols=vitals_ind.columns\n",
    "for x in cols[1:]:  \n",
    "    col_mean = vitals_ind[x].mean()\n",
    "    col_std = vitals_ind[x].std()\n",
    "    print(x)\n",
    "    print ('4 SD range: %s to %s' % (np.round(col_mean-3*col_std), \n",
    "                                    np.round(col_mean+3*col_std)) )\n",
    "    vitals_ind[x].values[vitals_ind[x].values < np.round(col_mean-3*col_std)] = np.nan\n",
    "    vitals_ind[x].values[vitals_ind[x].values > np.round(col_mean+3*col_std)] = np.nan"
   ]
  },
  {
   "cell_type": "code",
   "execution_count": 452,
   "id": "905cffbc-28d9-44c7-b6b2-688794837808",
   "metadata": {},
   "outputs": [
    {
     "name": "stdout",
     "output_type": "stream",
     "text": [
      "bmi\n",
      "Range: 10.73 to 61.0\n",
      "bp_diastolic\n",
      "Range: 45.0 to 110.0\n",
      "bp_systolic\n",
      "Range: 77.0 to 187.0\n",
      "pulse\n",
      "Range: 38.0 to 122.0\n",
      "temperature\n",
      "Range: 95.0 to 101.0\n",
      "respirations\n",
      "Range: 8.0 to 27.0\n"
     ]
    }
   ],
   "source": [
    "cols=vitals_ind.columns\n",
    "for x in cols[1:]:  \n",
    "    print(x)\n",
    "    print('Range: %s to %s' % (vitals_ind[x].min(),vitals_ind[x].max()))"
   ]
  },
  {
   "cell_type": "code",
   "execution_count": 453,
   "id": "6a7cc283-fce8-456e-b823-2359267d974d",
   "metadata": {},
   "outputs": [
    {
     "name": "stdout",
     "output_type": "stream",
     "text": [
      "measure_date\n",
      "0.0\n",
      "bmi\n",
      "41.29466352534491\n",
      "bp_diastolic\n",
      "7.2768238356361685\n",
      "bp_systolic\n",
      "7.614275867035669\n",
      "pulse\n",
      "14.027922097963971\n",
      "temperature\n",
      "42.11360199179004\n",
      "respirations\n",
      "49.18980647949053\n"
     ]
    }
   ],
   "source": [
    "cols=vitals_ind.columns\n",
    "for x in cols:  \n",
    "    percent_missing = (vitals_ind[x].isna().sum().sum()) / len(vitals_ind) *100\n",
    "    print(x)\n",
    "    print(percent_missing)  "
   ]
  },
  {
   "cell_type": "code",
   "execution_count": 454,
   "id": "99779bf6-456b-4f5b-9129-954c6c82d03d",
   "metadata": {},
   "outputs": [],
   "source": [
    "vitals_ind.drop(['measure_date'],axis=1,inplace=True)"
   ]
  },
  {
   "cell_type": "code",
   "execution_count": 455,
   "id": "7f7811d3-ef9a-4f73-9434-40c61600db0e",
   "metadata": {
    "collapsed": true,
    "jupyter": {
     "outputs_hidden": true
    },
    "tags": []
   },
   "outputs": [
    {
     "name": "stderr",
     "output_type": "stream",
     "text": [
      "Criterion 'mse' was deprecated in v1.0 and will be removed in version 1.2. Use `criterion='squared_error'` which is equivalent.\n",
      "Criterion 'mse' was deprecated in v1.0 and will be removed in version 1.2. Use `criterion='squared_error'` which is equivalent.\n",
      "Criterion 'mse' was deprecated in v1.0 and will be removed in version 1.2. Use `criterion='squared_error'` which is equivalent.\n",
      "Criterion 'mse' was deprecated in v1.0 and will be removed in version 1.2. Use `criterion='squared_error'` which is equivalent.\n",
      "Criterion 'mse' was deprecated in v1.0 and will be removed in version 1.2. Use `criterion='squared_error'` which is equivalent.\n",
      "Criterion 'mse' was deprecated in v1.0 and will be removed in version 1.2. Use `criterion='squared_error'` which is equivalent.\n"
     ]
    },
    {
     "name": "stdout",
     "output_type": "stream",
     "text": [
      "Iteration: 0\n"
     ]
    },
    {
     "name": "stderr",
     "output_type": "stream",
     "text": [
      "Criterion 'mse' was deprecated in v1.0 and will be removed in version 1.2. Use `criterion='squared_error'` which is equivalent.\n",
      "Criterion 'mse' was deprecated in v1.0 and will be removed in version 1.2. Use `criterion='squared_error'` which is equivalent.\n",
      "Criterion 'mse' was deprecated in v1.0 and will be removed in version 1.2. Use `criterion='squared_error'` which is equivalent.\n",
      "Criterion 'mse' was deprecated in v1.0 and will be removed in version 1.2. Use `criterion='squared_error'` which is equivalent.\n",
      "Criterion 'mse' was deprecated in v1.0 and will be removed in version 1.2. Use `criterion='squared_error'` which is equivalent.\n",
      "Criterion 'mse' was deprecated in v1.0 and will be removed in version 1.2. Use `criterion='squared_error'` which is equivalent.\n"
     ]
    },
    {
     "name": "stdout",
     "output_type": "stream",
     "text": [
      "Iteration: 1\n"
     ]
    },
    {
     "name": "stderr",
     "output_type": "stream",
     "text": [
      "Criterion 'mse' was deprecated in v1.0 and will be removed in version 1.2. Use `criterion='squared_error'` which is equivalent.\n",
      "Criterion 'mse' was deprecated in v1.0 and will be removed in version 1.2. Use `criterion='squared_error'` which is equivalent.\n",
      "Criterion 'mse' was deprecated in v1.0 and will be removed in version 1.2. Use `criterion='squared_error'` which is equivalent.\n",
      "Criterion 'mse' was deprecated in v1.0 and will be removed in version 1.2. Use `criterion='squared_error'` which is equivalent.\n",
      "Criterion 'mse' was deprecated in v1.0 and will be removed in version 1.2. Use `criterion='squared_error'` which is equivalent.\n",
      "Criterion 'mse' was deprecated in v1.0 and will be removed in version 1.2. Use `criterion='squared_error'` which is equivalent.\n"
     ]
    },
    {
     "name": "stdout",
     "output_type": "stream",
     "text": [
      "Iteration: 2\n"
     ]
    },
    {
     "name": "stderr",
     "output_type": "stream",
     "text": [
      "Criterion 'mse' was deprecated in v1.0 and will be removed in version 1.2. Use `criterion='squared_error'` which is equivalent.\n",
      "Criterion 'mse' was deprecated in v1.0 and will be removed in version 1.2. Use `criterion='squared_error'` which is equivalent.\n",
      "Criterion 'mse' was deprecated in v1.0 and will be removed in version 1.2. Use `criterion='squared_error'` which is equivalent.\n",
      "Criterion 'mse' was deprecated in v1.0 and will be removed in version 1.2. Use `criterion='squared_error'` which is equivalent.\n",
      "Criterion 'mse' was deprecated in v1.0 and will be removed in version 1.2. Use `criterion='squared_error'` which is equivalent.\n",
      "Criterion 'mse' was deprecated in v1.0 and will be removed in version 1.2. Use `criterion='squared_error'` which is equivalent.\n"
     ]
    },
    {
     "name": "stdout",
     "output_type": "stream",
     "text": [
      "Iteration: 3\n"
     ]
    },
    {
     "name": "stderr",
     "output_type": "stream",
     "text": [
      "Criterion 'mse' was deprecated in v1.0 and will be removed in version 1.2. Use `criterion='squared_error'` which is equivalent.\n",
      "Criterion 'mse' was deprecated in v1.0 and will be removed in version 1.2. Use `criterion='squared_error'` which is equivalent.\n",
      "Criterion 'mse' was deprecated in v1.0 and will be removed in version 1.2. Use `criterion='squared_error'` which is equivalent.\n",
      "Criterion 'mse' was deprecated in v1.0 and will be removed in version 1.2. Use `criterion='squared_error'` which is equivalent.\n",
      "Criterion 'mse' was deprecated in v1.0 and will be removed in version 1.2. Use `criterion='squared_error'` which is equivalent.\n",
      "Criterion 'mse' was deprecated in v1.0 and will be removed in version 1.2. Use `criterion='squared_error'` which is equivalent.\n"
     ]
    },
    {
     "name": "stdout",
     "output_type": "stream",
     "text": [
      "Iteration: 4\n"
     ]
    },
    {
     "name": "stderr",
     "output_type": "stream",
     "text": [
      "Criterion 'mse' was deprecated in v1.0 and will be removed in version 1.2. Use `criterion='squared_error'` which is equivalent.\n",
      "Criterion 'mse' was deprecated in v1.0 and will be removed in version 1.2. Use `criterion='squared_error'` which is equivalent.\n",
      "Criterion 'mse' was deprecated in v1.0 and will be removed in version 1.2. Use `criterion='squared_error'` which is equivalent.\n",
      "Criterion 'mse' was deprecated in v1.0 and will be removed in version 1.2. Use `criterion='squared_error'` which is equivalent.\n",
      "Criterion 'mse' was deprecated in v1.0 and will be removed in version 1.2. Use `criterion='squared_error'` which is equivalent.\n",
      "Criterion 'mse' was deprecated in v1.0 and will be removed in version 1.2. Use `criterion='squared_error'` which is equivalent.\n"
     ]
    },
    {
     "name": "stdout",
     "output_type": "stream",
     "text": [
      "Iteration: 5\n"
     ]
    },
    {
     "name": "stderr",
     "output_type": "stream",
     "text": [
      "Criterion 'mse' was deprecated in v1.0 and will be removed in version 1.2. Use `criterion='squared_error'` which is equivalent.\n",
      "Criterion 'mse' was deprecated in v1.0 and will be removed in version 1.2. Use `criterion='squared_error'` which is equivalent.\n",
      "Criterion 'mse' was deprecated in v1.0 and will be removed in version 1.2. Use `criterion='squared_error'` which is equivalent.\n",
      "Criterion 'mse' was deprecated in v1.0 and will be removed in version 1.2. Use `criterion='squared_error'` which is equivalent.\n",
      "Criterion 'mse' was deprecated in v1.0 and will be removed in version 1.2. Use `criterion='squared_error'` which is equivalent.\n",
      "Criterion 'mse' was deprecated in v1.0 and will be removed in version 1.2. Use `criterion='squared_error'` which is equivalent.\n"
     ]
    },
    {
     "name": "stdout",
     "output_type": "stream",
     "text": [
      "Iteration: 6\n"
     ]
    },
    {
     "name": "stderr",
     "output_type": "stream",
     "text": [
      "Criterion 'mse' was deprecated in v1.0 and will be removed in version 1.2. Use `criterion='squared_error'` which is equivalent.\n",
      "Criterion 'mse' was deprecated in v1.0 and will be removed in version 1.2. Use `criterion='squared_error'` which is equivalent.\n",
      "Criterion 'mse' was deprecated in v1.0 and will be removed in version 1.2. Use `criterion='squared_error'` which is equivalent.\n",
      "Criterion 'mse' was deprecated in v1.0 and will be removed in version 1.2. Use `criterion='squared_error'` which is equivalent.\n",
      "Criterion 'mse' was deprecated in v1.0 and will be removed in version 1.2. Use `criterion='squared_error'` which is equivalent.\n",
      "Criterion 'mse' was deprecated in v1.0 and will be removed in version 1.2. Use `criterion='squared_error'` which is equivalent.\n"
     ]
    },
    {
     "name": "stdout",
     "output_type": "stream",
     "text": [
      "Iteration: 7\n"
     ]
    }
   ],
   "source": [
    "imputer = MissForest()\n",
    "vitals_MFimputed = imputer.fit_transform(vitals_ind)"
   ]
  },
  {
   "cell_type": "code",
   "execution_count": 456,
   "id": "99502008-1590-4b0c-a881-3bff87925a46",
   "metadata": {},
   "outputs": [],
   "source": [
    "with open(r'./pickles/vitals_MFimputed.pkl', 'wb') as handle:\n",
    "    pickle.dump(vitals_MFimputed, handle, protocol=pickle.HIGHEST_PROTOCOL)"
   ]
  },
  {
   "cell_type": "code",
   "execution_count": 457,
   "id": "9b3a55a9-39a2-40a1-872e-3e484f6a9198",
   "metadata": {
    "tags": []
   },
   "outputs": [],
   "source": [
    "imputed_vitals_df = pd.DataFrame(vitals_MFimputed, columns=[\"bmi\",'bp_diastolic','bp_systolic','pulse','temperature','respiration'])"
   ]
  },
  {
   "cell_type": "code",
   "execution_count": 458,
   "id": "0b41d30e-2f6c-4799-9b46-7ce3d4a5fc35",
   "metadata": {
    "tags": []
   },
   "outputs": [],
   "source": [
    "imputed_vitals_df['patient_num'] = vitals_c['patient_num'].values"
   ]
  },
  {
   "cell_type": "code",
   "execution_count": 459,
   "id": "48d550a1-a6b0-495a-be28-e8fc314c268f",
   "metadata": {
    "tags": []
   },
   "outputs": [],
   "source": [
    "imputed_vitals_df['measure_date'] = vitals_c['measure_date'].values"
   ]
  },
  {
   "cell_type": "code",
   "execution_count": 463,
   "id": "2b272f5a-4d39-458a-aec6-741cd2716f1d",
   "metadata": {
    "tags": []
   },
   "outputs": [],
   "source": [
    "imputed_vitals_sorted=imputed_vitals_df.sort_values(by=['patient_num','measure_date'])"
   ]
  },
  {
   "cell_type": "code",
   "execution_count": 464,
   "id": "804b97a2-508c-428a-968e-8f95e9ddd6ab",
   "metadata": {
    "tags": []
   },
   "outputs": [],
   "source": [
    "imputed_vitals_sort_resetind=imputed_vitals_sorted.reset_index(drop=True)"
   ]
  },
  {
   "cell_type": "code",
   "execution_count": 465,
   "id": "d0df3d7b-0ffa-4570-b66a-f0db21508fac",
   "metadata": {
    "tags": []
   },
   "outputs": [],
   "source": [
    "patient_nums_uniq = pd.Series(imputed_vitals_df.patient_num).unique()"
   ]
  },
  {
   "cell_type": "code",
   "execution_count": 468,
   "id": "2b61f940-6d07-41c6-ad60-b829aa4a6b7b",
   "metadata": {
    "tags": []
   },
   "outputs": [],
   "source": [
    "# grab vitals before or on DM dx date for each patient\n",
    "def last_vitals(patient_nums, df):\n",
    "    last_vitals_df = pd.DataFrame()\n",
    "    for pt in patient_nums:\n",
    "        last_vitals_df=last_vitals_df.append(df[(df.patient_num==pt)].iloc[-1:])\n",
    "    return last_vitals_df"
   ]
  },
  {
   "cell_type": "code",
   "execution_count": 469,
   "id": "bcd29c53-a19f-4bbe-a6d4-5ac8a50797b1",
   "metadata": {
    "tags": []
   },
   "outputs": [],
   "source": [
    "last_vitals_df=last_vitals(patient_nums=patient_nums_uniq,df=imputed_vitals_sort_resetind)"
   ]
  },
  {
   "cell_type": "code",
   "execution_count": 472,
   "id": "80b54bfa-3dcb-4338-b66b-4a2da870595e",
   "metadata": {
    "tags": []
   },
   "outputs": [],
   "source": [
    "last_vitals_df=last_vitals_df.set_index('patient_num')"
   ]
  },
  {
   "cell_type": "code",
   "execution_count": 473,
   "id": "bdf8b977-6ca4-45c8-ac02-599bbc372e8c",
   "metadata": {
    "tags": []
   },
   "outputs": [
    {
     "data": {
      "text/plain": [
       "False"
      ]
     },
     "execution_count": 473,
     "metadata": {},
     "output_type": "execute_result"
    }
   ],
   "source": [
    "last_vitals_df.isnull().any().any()"
   ]
  },
  {
   "cell_type": "code",
   "execution_count": 474,
   "id": "684b7fde-11c6-409a-9500-ae41e5a3c94a",
   "metadata": {
    "tags": []
   },
   "outputs": [],
   "source": [
    "vitals_df=last_vitals_df.drop(['measure_date'],axis=1)"
   ]
  },
  {
   "cell_type": "code",
   "execution_count": 475,
   "id": "eb264c58-3c1a-457f-853e-fbb665689803",
   "metadata": {},
   "outputs": [],
   "source": [
    "with open(r'./pickles/vitals_df.pkl', 'wb') as handle:\n",
    "    pickle.dump(vitals_df, handle, protocol=pickle.HIGHEST_PROTOCOL)"
   ]
  },
  {
   "cell_type": "code",
   "execution_count": 476,
   "id": "020fdd68-c309-4f8e-9129-314ca569ca40",
   "metadata": {},
   "outputs": [],
   "source": [
    "from sklearn.preprocessing import MinMaxScaler\n",
    "scaler = MinMaxScaler()"
   ]
  },
  {
   "cell_type": "code",
   "execution_count": null,
   "id": "59b92771-0a3b-4290-a9a9-cc00fcce3072",
   "metadata": {},
   "outputs": [],
   "source": [
    "# normalize \n",
    "vitals_norm = pd.DataFrame(scaler.fit_transform(vitals_df), index=vitals_df.index, columns=vitals_df.columns)"
   ]
  },
  {
   "cell_type": "code",
   "execution_count": 652,
   "id": "291df5c0-d6cc-4e33-923f-aff55cb31ec2",
   "metadata": {},
   "outputs": [
    {
     "data": {
      "text/plain": [
       "(22475, 6)"
      ]
     },
     "execution_count": 652,
     "metadata": {},
     "output_type": "execute_result"
    }
   ],
   "source": [
    "vitals_norm.shape"
   ]
  },
  {
   "cell_type": "code",
   "execution_count": 479,
   "id": "781be895-6395-46fa-90f3-f4122f6395f3",
   "metadata": {},
   "outputs": [],
   "source": [
    "with open(r'./pickles/vitals_norm.pkl', 'wb') as handle:\n",
    "    pickle.dump(vitals_norm, handle, protocol=pickle.HIGHEST_PROTOCOL)"
   ]
  },
  {
   "cell_type": "code",
   "execution_count": 651,
   "id": "47e73f2d-42d6-4d66-8337-25a2ccdcdad8",
   "metadata": {},
   "outputs": [],
   "source": [
    "with open(r'./pickles/vitals_norm.pkl', 'rb') as handle:\n",
    "    vitals_norm = pickle.load(handle)"
   ]
  },
  {
   "cell_type": "markdown",
   "id": "20a2555f-0cc4-4226-9260-23230e325066",
   "metadata": {
    "jp-MarkdownHeadingCollapsed": true,
    "tags": []
   },
   "source": [
    "### 6. Clean Social input data"
   ]
  },
  {
   "cell_type": "code",
   "execution_count": 32,
   "id": "4f3ee292-3a62-40cc-ae36-56f303ae7d7c",
   "metadata": {
    "tags": []
   },
   "outputs": [],
   "source": [
    "social_c=social.copy()"
   ]
  },
  {
   "cell_type": "code",
   "execution_count": 33,
   "id": "bada513a-7212-436e-bda2-ff7c036c395b",
   "metadata": {},
   "outputs": [
    {
     "data": {
      "text/plain": [
       "29598"
      ]
     },
     "execution_count": 33,
     "metadata": {},
     "output_type": "execute_result"
    }
   ],
   "source": [
    "len(social_c.patient_num.unique())"
   ]
  },
  {
   "cell_type": "code",
   "execution_count": 34,
   "id": "9915d99f-1d9c-4885-bbab-5e0473caaa1e",
   "metadata": {},
   "outputs": [],
   "source": [
    "social_x=social_c.drop(['encounter_num', 'unknown_fam_hx_yn','edu_level_c','edu_level_name','sexually_active_c', 'sexually_active_name',\\\n",
    "                      'female_partner_yn','male_partner_yn','alcohol_oz_per_wk','alcohol_freq_c','alcohol_freq_name',\\\n",
    "                      'condom_yn', 'pill_yn', 'diaphragm_yn', 'iud_yn', 'surgical_yn', 'spermicide_yn', 'alcohol_drinks_per_day_c',\\\n",
    "                      'implant_yn', 'rhythm_yn', 'injection_yn', 'sponge_yn', 'inserts_yn', 'abstinence_yn','alcohol_drinks_per_day_name',\\\n",
    "                      'fin_resource_strain_c', 'fin_resource_strain_name', 'ipv_emotional_abuse_c', 'ipv_emotional_abuse_name','smoking_quit_date_shifted',\\\n",
    "                      'ipv_fear_c', 'ipv_fear_name', 'ipv_sexual_abuse_c', 'ipv_sexual_abuse_name', 'ipv_physical_abuse_c','ipv_physical_abuse_name',\\\n",
    "                      'living_w_spouse_c', 'living_w_spouse_name', 'daily_stress_c', 'daily_stress_name', 'phone_communication_c', 'phone_communication_name',\\\n",
    "                      'socialization_freq_c', 'socialization_freq_name', 'church_attendance_c', 'church_attendance_name', 'clubmtg_attendance_c',\\\n",
    "                      'clubmtg_attendance_name', 'club_member_c', 'club_member_name', 'phys_act_days_per_week_c', 'phys_act_days_per_week_name',\\\n",
    "                      'phys_act_min_per_sess_c', 'phys_act_min_per_sess_name', 'food_insecurity_scarce_c', 'food_insecurity_scarce_name',\\\n",
    "                      'food_insecurity_worry_c', 'food_insecurity_worry_name', 'med_transport_needs_c', 'med_transport_needs_name',\\\n",
    "                      'other_transport_needs_c', 'other_transport_needs_name','tobacco_pak_per_dy','tobacco_used_years', 'alcohol_use_c',\\\n",
    "                      'ill_drug_user_c','tobacco_user_c','smokeless_tob_use_c'],axis=1)"
   ]
  },
  {
   "cell_type": "code",
   "execution_count": 35,
   "id": "b88733d4-7da9-49b3-b334-891a62dd2b89",
   "metadata": {},
   "outputs": [
    {
     "data": {
      "text/plain": [
       "2.376480302308974"
      ]
     },
     "execution_count": 35,
     "metadata": {},
     "output_type": "execute_result"
    }
   ],
   "source": [
    "social_x.isna().any(axis=1).sum()/len(social_x) *100"
   ]
  },
  {
   "cell_type": "code",
   "execution_count": 36,
   "id": "3088e66f-a82c-4038-a90d-887a06acbb11",
   "metadata": {
    "tags": []
   },
   "outputs": [
    {
     "name": "stdout",
     "output_type": "stream",
     "text": [
      "patient_num\n",
      "0.0\n",
      "contact_date_shifted\n",
      "0.0\n",
      "alcohol_use_name\n",
      "1.7583239109735778\n",
      "ill_drug_user_name\n",
      "2.315482920733159\n",
      "tobacco_user_name\n",
      "1.0179867888597953\n",
      "cigarettes_yn\n",
      "0.0\n",
      "pipes_yn\n",
      "0.0\n",
      "cigars_yn\n",
      "0.0\n",
      "snuff_yn\n",
      "0.0\n",
      "chew_yn\n",
      "0.0\n",
      "smokeless_tob_use_name\n",
      "0.0\n"
     ]
    }
   ],
   "source": [
    "# % missingness in each column - <50% dont need to drop any cols\n",
    "cols=social_x.columns\n",
    "for x in cols:  \n",
    "    percent_missing = (social_x[x].isna().sum().sum()) / len(social_x) *100\n",
    "    print(x)\n",
    "    print(percent_missing)  "
   ]
  },
  {
   "cell_type": "code",
   "execution_count": 37,
   "id": "add3c81e-9511-4f68-a3a6-05edda35a69f",
   "metadata": {
    "tags": []
   },
   "outputs": [],
   "source": [
    "# remove hours/minutes/seconds places from the date column (leaving only Y-m-d)\n",
    "temp1 = social_x[\"contact_date_shifted\"].tolist()\n",
    "temp2 = []\n",
    "for value in temp1:\n",
    "    x = value.split(\" \")\n",
    "    temp2.append(x[0])\n",
    "social_x[\"contact_date_shifted\"] = temp2"
   ]
  },
  {
   "cell_type": "code",
   "execution_count": 38,
   "id": "94f9226d-e090-4969-9e95-07967287149b",
   "metadata": {
    "tags": []
   },
   "outputs": [],
   "source": [
    "social_x.contact_date_shifted = pd.to_datetime(social_x.contact_date_shifted, format = '%Y-%m-%d')"
   ]
  },
  {
   "cell_type": "code",
   "execution_count": 39,
   "id": "786bcf4e-067f-410a-9f44-24e651b625ba",
   "metadata": {
    "tags": []
   },
   "outputs": [],
   "source": [
    "social_x.rename({'contact_date_shifted':'measure_date'}, axis='columns', inplace=True) # renaming the diagnosis date column\n",
    "social_x.sort_values(by='measure_date', inplace=True) # sort df by date"
   ]
  },
  {
   "cell_type": "code",
   "execution_count": 40,
   "id": "d3dc25b1-c218-488f-916c-c4346f787a72",
   "metadata": {
    "tags": []
   },
   "outputs": [],
   "source": [
    "#include social hx before and day of DM dx\n",
    "def drop_social_after_DM(df, init_dict):\n",
    "    drop_list = []\n",
    "    patient_ids = init_dict.keys()\n",
    "    for pt in patient_ids:\n",
    "        drop_list.extend(list(df[(df.patient_num == pt) & \n",
    "                                 (df.measure_date > init_dict[pt])].index))\n",
    "    print('Number to be dropped:', len(drop_list))\n",
    "    print('Number to keep:', df.shape[0] - len(drop_list))\n",
    "    df.drop(drop_list, axis=0, inplace=True)\n",
    "    print('Final DF Shape:', df.shape)"
   ]
  },
  {
   "cell_type": "code",
   "execution_count": 41,
   "id": "4e196f5f-c279-458f-9ff0-ce28c4ea2820",
   "metadata": {
    "tags": []
   },
   "outputs": [
    {
     "name": "stdout",
     "output_type": "stream",
     "text": [
      "Number to be dropped: 1012767\n",
      "Number to keep: 62689\n",
      "Final DF Shape: (62689, 11)\n"
     ]
    }
   ],
   "source": [
    "drop_social_after_DM(social_x,init_diab_diag)"
   ]
  },
  {
   "cell_type": "code",
   "execution_count": 42,
   "id": "d72529d5-5315-4957-b9e4-6e9fe6f6e34f",
   "metadata": {
    "tags": []
   },
   "outputs": [
    {
     "data": {
      "text/plain": [
       "22184"
      ]
     },
     "execution_count": 42,
     "metadata": {},
     "output_type": "execute_result"
    }
   ],
   "source": [
    "#number of unique pt IDs with social hx on day of and before first DM dx\n",
    "len(social_x.patient_num.unique())"
   ]
  },
  {
   "cell_type": "code",
   "execution_count": 43,
   "id": "cdd32fd0-f592-485b-9ed1-28915b2fff99",
   "metadata": {},
   "outputs": [],
   "source": [
    "social_imp=social_x.drop(['patient_num','measure_date'],axis=1)"
   ]
  },
  {
   "cell_type": "code",
   "execution_count": 44,
   "id": "a7a2216e-3a02-4164-a033-ed4331feb639",
   "metadata": {},
   "outputs": [],
   "source": [
    "social_imp.to_csv('social_imp.csv')"
   ]
  },
  {
   "cell_type": "code",
   "execution_count": 45,
   "id": "54aafc0e-936e-4ae3-840e-e577ecb7abef",
   "metadata": {},
   "outputs": [
    {
     "data": {
      "text/plain": [
       "alcohol_use_name           8533\n",
       "ill_drug_user_name        10191\n",
       "tobacco_user_name          5698\n",
       "cigarettes_yn                 0\n",
       "pipes_yn                      0\n",
       "cigars_yn                     0\n",
       "snuff_yn                      0\n",
       "chew_yn                       0\n",
       "smokeless_tob_use_name        0\n",
       "dtype: int64"
      ]
     },
     "execution_count": 45,
     "metadata": {},
     "output_type": "execute_result"
    }
   ],
   "source": [
    "social_imp.isnull().sum()"
   ]
  },
  {
   "cell_type": "code",
   "execution_count": 29,
   "id": "b5fcdae0-df7d-474b-963e-97f3d0da1b3b",
   "metadata": {
    "tags": []
   },
   "outputs": [],
   "source": [
    "#Impute using missforest in R - missForest does not work on cat variables in python\n",
    "social_R = pd.read_csv(r'/Users/amomenzadeh/Desktop/DM_csv/social_imp_from_R.csv',low_memory=False)"
   ]
  },
  {
   "cell_type": "code",
   "execution_count": 46,
   "id": "5154d1b1-7b86-4dc9-a323-67b0c00ffc7a",
   "metadata": {},
   "outputs": [],
   "source": [
    "social_R['patient_num'] = social_x['patient_num'].values"
   ]
  },
  {
   "cell_type": "code",
   "execution_count": 47,
   "id": "d23b4cc3-2b0c-4bea-a40e-1acd8e6fdf6e",
   "metadata": {},
   "outputs": [],
   "source": [
    "social_R['measure_date'] = social_x['measure_date'].values"
   ]
  },
  {
   "cell_type": "code",
   "execution_count": 48,
   "id": "ff43cfc1-b6b2-43de-90c6-95bdb201206a",
   "metadata": {},
   "outputs": [],
   "source": [
    "imputed_socials_sorted=social_R.sort_values(by=['patient_num','measure_date'])"
   ]
  },
  {
   "cell_type": "code",
   "execution_count": 49,
   "id": "ad7f170d-c2e8-4e8d-8746-57bcb2ac3e6d",
   "metadata": {},
   "outputs": [],
   "source": [
    "imputed_socials_sort_resetind=imputed_socials_sorted.reset_index(drop=True)"
   ]
  },
  {
   "cell_type": "code",
   "execution_count": 50,
   "id": "d5ca6df3-945c-483f-92b4-fd33b58cf7a2",
   "metadata": {},
   "outputs": [],
   "source": [
    "patient_nums_uniq = pd.Series(social_R.patient_num).unique()"
   ]
  },
  {
   "cell_type": "code",
   "execution_count": 51,
   "id": "c99fa436-6763-492f-99ec-343d8fbe7103",
   "metadata": {},
   "outputs": [],
   "source": [
    "def last_social(patient_nums, df):\n",
    "    last_social_df = pd.DataFrame()\n",
    "    for pt in patient_nums:\n",
    "        last_social_df=last_social_df.append(df[(df.patient_num==pt)].iloc[-1:])\n",
    "    return last_social_df"
   ]
  },
  {
   "cell_type": "code",
   "execution_count": 52,
   "id": "4443e47a-03f7-432a-85df-a4c240bc9fa9",
   "metadata": {},
   "outputs": [],
   "source": [
    "last_social_df=last_social(patient_nums=patient_nums_uniq,df=imputed_socials_sort_resetind)"
   ]
  },
  {
   "cell_type": "code",
   "execution_count": 53,
   "id": "48412413-2bd7-4dce-ab96-41a5e262831e",
   "metadata": {},
   "outputs": [],
   "source": [
    "last_social_df=last_social_df.set_index('patient_num')"
   ]
  },
  {
   "cell_type": "code",
   "execution_count": 54,
   "id": "d0ffd456-6212-4c40-8c1b-eaa203e83cff",
   "metadata": {
    "tags": []
   },
   "outputs": [
    {
     "data": {
      "text/plain": [
       "False"
      ]
     },
     "execution_count": 54,
     "metadata": {},
     "output_type": "execute_result"
    }
   ],
   "source": [
    "last_social_df.isnull().any().any()"
   ]
  },
  {
   "cell_type": "code",
   "execution_count": 55,
   "id": "26480648-6939-4db8-b8ad-f0b5cf8ee782",
   "metadata": {
    "tags": []
   },
   "outputs": [],
   "source": [
    "social_df=last_social_df.drop(['measure_date'],axis=1)"
   ]
  },
  {
   "cell_type": "code",
   "execution_count": 56,
   "id": "293d578b-d941-4144-917a-ed719c4c404b",
   "metadata": {},
   "outputs": [],
   "source": [
    "social_df_onehot=social_df.copy()"
   ]
  },
  {
   "cell_type": "code",
   "execution_count": 57,
   "id": "bf482450-4396-48c4-87c6-7376a0f04585",
   "metadata": {},
   "outputs": [],
   "source": [
    "#one-hot encode\n",
    "def encode_and_bind(original_dataframe, feature_to_encode):\n",
    "    dummies = pd.get_dummies(original_dataframe[[feature_to_encode]])\n",
    "    res = pd.concat([original_dataframe, dummies], axis=1)\n",
    "    res = res.drop([feature_to_encode], axis=1)\n",
    "    return(res)"
   ]
  },
  {
   "cell_type": "code",
   "execution_count": 58,
   "id": "56245a9a-85db-4570-9119-da981cb70d58",
   "metadata": {},
   "outputs": [],
   "source": [
    "features_to_encode = ['alcohol_use_name', 'ill_drug_user_name', 'tobacco_user_name','cigarettes_yn', 'pipes_yn', \n",
    "                      'cigars_yn', 'snuff_yn', 'chew_yn','smokeless_tob_use_name']\n",
    "for feature in features_to_encode:\n",
    "    social_df_onehot = encode_and_bind(social_df_onehot, feature)"
   ]
  },
  {
   "cell_type": "code",
   "execution_count": 59,
   "id": "aacdcfac-a2be-430d-bf04-c5dfec6408d9",
   "metadata": {},
   "outputs": [
    {
     "data": {
      "text/plain": [
       "Index(['alcohol_use_name_Never', 'alcohol_use_name_No',\n",
       "       'alcohol_use_name_Not Asked', 'alcohol_use_name_Not Currently',\n",
       "       'alcohol_use_name_Yes', 'ill_drug_user_name_Never',\n",
       "       'ill_drug_user_name_No', 'ill_drug_user_name_Not Asked',\n",
       "       'ill_drug_user_name_Not Currently', 'ill_drug_user_name_Yes',\n",
       "       'tobacco_user_name_Never', 'tobacco_user_name_Not Asked',\n",
       "       'tobacco_user_name_Passive', 'tobacco_user_name_Quit',\n",
       "       'tobacco_user_name_Yes', 'cigarettes_yn_N', 'cigarettes_yn_Y',\n",
       "       'pipes_yn_N', 'pipes_yn_Y', 'cigars_yn_N', 'cigars_yn_Y', 'snuff_yn_N',\n",
       "       'snuff_yn_Y', 'chew_yn_N', 'chew_yn_Y',\n",
       "       'smokeless_tob_use_name_Current User',\n",
       "       'smokeless_tob_use_name_Former User',\n",
       "       'smokeless_tob_use_name_Never Used', 'smokeless_tob_use_name_Unknown'],\n",
       "      dtype='object')"
      ]
     },
     "execution_count": 59,
     "metadata": {},
     "output_type": "execute_result"
    }
   ],
   "source": [
    "social_df_onehot.columns"
   ]
  },
  {
   "cell_type": "code",
   "execution_count": 62,
   "id": "adb7fc59-8dde-4366-b0dd-ce9c90cfa5c5",
   "metadata": {},
   "outputs": [],
   "source": [
    "with open(r'./pickles/social_df.pkl', 'wb') as handle:\n",
    "    pickle.dump(social_df, handle, protocol=pickle.HIGHEST_PROTOCOL)"
   ]
  },
  {
   "cell_type": "code",
   "execution_count": 60,
   "id": "799ab0ec-aabd-4161-8f03-7a5d5bb41d03",
   "metadata": {},
   "outputs": [],
   "source": [
    "with open(r'/Users/amomenzadeh/Desktop/DM_pickles/social_df_onehot.pkl', 'wb') as handle:\n",
    "    pickle.dump(social_df_onehot, handle, protocol=pickle.HIGHEST_PROTOCOL)"
   ]
  },
  {
   "cell_type": "code",
   "execution_count": null,
   "id": "97d2f0b4-1511-4122-b746-41eb52936ce8",
   "metadata": {},
   "outputs": [],
   "source": [
    "with open(r'./pickles/social_df.pkl', 'rb') as handle:\n",
    "    social_df = pickle.load(handle)\n",
    "with open(r'./pickles/social_df_onehot.pkl', 'rb') as handle:\n",
    "    social_df_onehot = pickle.load(handle)"
   ]
  },
  {
   "cell_type": "markdown",
   "id": "39da64cc-a2d2-4344-aa7e-69b6c79b0e5d",
   "metadata": {
    "jp-MarkdownHeadingCollapsed": true,
    "tags": []
   },
   "source": [
    "### 7. Clean Labs"
   ]
  },
  {
   "cell_type": "code",
   "execution_count": 69,
   "id": "c3887e1b-960d-48d8-b734-c95dd81b4d80",
   "metadata": {
    "tags": []
   },
   "outputs": [],
   "source": [
    "labs_c=labs.copy()"
   ]
  },
  {
   "cell_type": "code",
   "execution_count": 70,
   "id": "d4789dc8-a12d-4956-8a2f-29362bec9d2d",
   "metadata": {},
   "outputs": [
    {
     "data": {
      "text/plain": [
       "Index(['patient_num', 'encounter_num', 'i2b2_date_shifted', 'loinc_code',\n",
       "       'component_id', 'component_name', 'res_quant_or_qual', 'abnormal_ind',\n",
       "       'result_num', 'result_unit', 'result_modifier', 'src_value', 'src_unit',\n",
       "       'order_proc_id', 'proc_id', 'px', 'px_type', 'procedure_name',\n",
       "       'provider_id', 'provider_name', 'provider_title',\n",
       "       'specimen_date_shifted', 'result_date_shifted', 'norm_range_low',\n",
       "       'norm_modifier_low', 'norm_range_high', 'norm_modifier_high'],\n",
       "      dtype='object')"
      ]
     },
     "execution_count": 70,
     "metadata": {},
     "output_type": "execute_result"
    }
   ],
   "source": [
    "labs_c.columns"
   ]
  },
  {
   "cell_type": "code",
   "execution_count": 71,
   "id": "28e5c8e3-eeac-4f0f-a2e2-c8286889c17c",
   "metadata": {},
   "outputs": [
    {
     "data": {
      "text/plain": [
       "29579"
      ]
     },
     "execution_count": 71,
     "metadata": {},
     "output_type": "execute_result"
    }
   ],
   "source": [
    "len(labs_c.patient_num.unique())"
   ]
  },
  {
   "cell_type": "code",
   "execution_count": 74,
   "id": "ea64794b-9fad-4b76-90ca-7ce9a8d36c09",
   "metadata": {
    "tags": []
   },
   "outputs": [],
   "source": [
    "labs_c.drop(['loinc_code','component_id','res_quant_or_qual','abnormal_ind','px','px_type','procedure_name',\n",
    "             'provider_id','provider_name','provider_title','specimen_date_shifted','result_date_shifted',\n",
    "             'norm_range_low', 'norm_modifier_low','norm_range_high','norm_modifier_high'],inplace=True, axis=1)"
   ]
  },
  {
   "cell_type": "code",
   "execution_count": 75,
   "id": "0b1aee85-e03f-4a09-bfcd-69a6cb6ff7dc",
   "metadata": {},
   "outputs": [
    {
     "data": {
      "text/plain": [
       "Index(['patient_num', 'encounter_num', 'i2b2_date_shifted', 'component_name',\n",
       "       'result_num', 'result_unit', 'result_modifier', 'src_value', 'src_unit',\n",
       "       'order_proc_id', 'proc_id'],\n",
       "      dtype='object')"
      ]
     },
     "execution_count": 75,
     "metadata": {},
     "output_type": "execute_result"
    }
   ],
   "source": [
    "labs_c.columns"
   ]
  },
  {
   "cell_type": "code",
   "execution_count": 1040,
   "id": "259509db-f986-436c-bf30-80b1f7b4cee8",
   "metadata": {
    "tags": []
   },
   "outputs": [],
   "source": [
    "# remove hours/minutes/seconds places from the date column (leaving only Y-m-d)\n",
    "temp1 = labs_c[\"i2b2_date_shifted\"].tolist()\n",
    "temp2 = []\n",
    "for value in temp1:\n",
    "    x = value.split(\" \")\n",
    "    temp2.append(x[0])\n",
    "labs_c[\"i2b2_date_shifted\"] = temp2"
   ]
  },
  {
   "cell_type": "code",
   "execution_count": 1041,
   "id": "937342b5-9676-4a29-86a3-6421f41410c5",
   "metadata": {
    "tags": []
   },
   "outputs": [],
   "source": [
    "labs_c.i2b2_date_shifted = pd.to_datetime(labs_c.i2b2_date_shifted, format = '%Y-%m-%d')"
   ]
  },
  {
   "cell_type": "code",
   "execution_count": 1042,
   "id": "bbfaf583-f809-4cd4-bbf3-fc5fde9048fc",
   "metadata": {
    "tags": []
   },
   "outputs": [],
   "source": [
    "labs_c.rename({'i2b2_date_shifted':'measure_date'}, axis='columns', inplace=True) # renaming the diagnosis date column\n",
    "labs_c.sort_values(by='measure_date', inplace=True) # sort df by date"
   ]
  },
  {
   "cell_type": "code",
   "execution_count": 1043,
   "id": "41c850b8-d2f8-47c1-920d-adbbcf4dc23b",
   "metadata": {
    "tags": []
   },
   "outputs": [],
   "source": [
    "#include labs only on day of DM dx and before \n",
    "def drop_labs_after_DM(df, init_dict):\n",
    "    drop_list = []\n",
    "    patient_ids = init_dict.keys()\n",
    "    for pt in patient_ids:\n",
    "        drop_list.extend(list(df[(df.patient_num == pt) & \n",
    "                                 (df.measure_date > init_dict[pt])].index))\n",
    "    print('Number to be dropped:', len(drop_list))\n",
    "    print('Number to keep:', df.shape[0] - len(drop_list))\n",
    "    df.drop(drop_list, axis=0, inplace=True)\n",
    "    print('Final DF Shape:', df.shape)"
   ]
  },
  {
   "cell_type": "code",
   "execution_count": 1045,
   "id": "4452ead3-bbd7-4254-96c2-b39d1d8028c3",
   "metadata": {
    "tags": []
   },
   "outputs": [
    {
     "name": "stdout",
     "output_type": "stream",
     "text": [
      "Number to be dropped: 32461813\n",
      "Number to keep: 2483846\n",
      "Final DF Shape: (2483846, 11)\n"
     ]
    }
   ],
   "source": [
    "drop_labs_after_DM(labs_c,init_diab_diag)"
   ]
  },
  {
   "cell_type": "code",
   "execution_count": 1049,
   "id": "d8c11acc-70b8-4a19-a4d1-f9f60ef0daec",
   "metadata": {},
   "outputs": [],
   "source": [
    "with open(r'.\\pickles\\labs_c.pkl', 'wb') as handle:\n",
    "    pickle.dump(labs_c, handle, protocol=pickle.HIGHEST_PROTOCOL)"
   ]
  },
  {
   "cell_type": "code",
   "execution_count": null,
   "id": "ee714321-d301-4fe3-bfb1-ae1c829d0419",
   "metadata": {},
   "outputs": [],
   "source": [
    "with open(r'./pickles/labs_c.pkl', 'rb') as handle:\n",
    "    labs_c = pickle.load(handle)"
   ]
  },
  {
   "cell_type": "code",
   "execution_count": 1046,
   "id": "5c5cfd80-ee0a-454c-96a8-d5568bf6b583",
   "metadata": {
    "tags": []
   },
   "outputs": [
    {
     "data": {
      "text/plain": [
       "21293"
      ]
     },
     "execution_count": 1046,
     "metadata": {},
     "output_type": "execute_result"
    }
   ],
   "source": [
    "#number of unique pt IDs with labs on day of and before first DM dx\n",
    "len(labs_c.patient_num.unique())"
   ]
  },
  {
   "cell_type": "code",
   "execution_count": 1059,
   "id": "93004693-38e8-4704-9e27-fb054c3775ae",
   "metadata": {},
   "outputs": [],
   "source": [
    "labs_prior=labs_c.drop(['encounter_num','result_modifier','src_value','src_unit','order_proc_id','proc_id'],axis=1)"
   ]
  },
  {
   "cell_type": "code",
   "execution_count": 1127,
   "id": "8058fd60-8017-40e6-9d36-67b5c994e663",
   "metadata": {},
   "outputs": [],
   "source": [
    "#Take 100 most common labs\n",
    "col = 'component_name'\n",
    "n = 4800\n",
    "\n",
    "labs_freq=labs_prior[labs_prior.groupby(col)[col].transform('count').ge(n)]"
   ]
  },
  {
   "cell_type": "code",
   "execution_count": 1151,
   "id": "a609afce-e58d-4dcf-aa6d-07cb1ebf32c0",
   "metadata": {},
   "outputs": [
    {
     "data": {
      "text/plain": [
       "CREATININE         58526\n",
       "GLUCOSE            57152\n",
       "POTASSIUM          56412\n",
       "SODIUM             53321\n",
       "CALCIUM            53318\n",
       "                   ...  \n",
       "URINE MUCUS         5592\n",
       "BUN/CREAT RATIO     5151\n",
       "CREATINE KINASE     5098\n",
       "PRE                 4865\n",
       "TROPONIN I          4834\n",
       "Name: component_name, Length: 100, dtype: int64"
      ]
     },
     "execution_count": 1151,
     "metadata": {},
     "output_type": "execute_result"
    }
   ],
   "source": [
    "labs_freq.component_name.value_counts()"
   ]
  },
  {
   "cell_type": "code",
   "execution_count": 1212,
   "id": "266d2fea-4a4f-4e7c-a74e-6e8a1195a017",
   "metadata": {},
   "outputs": [],
   "source": [
    "#Take labs closest to T2DM dx date\n",
    "def last_labs(patient_nums, df):\n",
    "    last_labs_dict = {}\n",
    "    for pt in patient_nums:\n",
    "        last_labs_dict[pt]={}\n",
    "    ##outer loop begins\n",
    "    components=df.component_name.unique()\n",
    "    for x in components:\n",
    "        temp_df=df[(df.component_name==x)].sort_values(by='measure_date')\n",
    "\n",
    "\n",
    "        for pt in patient_nums:\n",
    "            #print('starting 2nd loop')\n",
    "            #print(components[0])\n",
    "            #print(pt)\n",
    "            if len(temp_df[(temp_df.patient_num==pt)].iloc[-1:])==0:\n",
    "                last_labs_dict[pt][x] = np.nan\n",
    "            else:\n",
    "                last_labs_dict[pt][x]=temp_df[(temp_df.patient_num==pt)].iloc[-1:].result_num.values[0]\n",
    "    return last_labs_dict"
   ]
  },
  {
   "cell_type": "code",
   "execution_count": 1140,
   "id": "841a4535-987a-4498-87c8-af7a1dc332eb",
   "metadata": {},
   "outputs": [],
   "source": [
    "patient_nums_uniq = pd.Series(labs_freq.patient_num).unique()"
   ]
  },
  {
   "cell_type": "code",
   "execution_count": 1179,
   "id": "572906ac-373c-40fd-b8a0-35a34f7b39aa",
   "metadata": {},
   "outputs": [
    {
     "data": {
      "text/plain": [
       "20221"
      ]
     },
     "execution_count": 1179,
     "metadata": {},
     "output_type": "execute_result"
    }
   ],
   "source": [
    "len(patient_nums_uniq)"
   ]
  },
  {
   "cell_type": "code",
   "execution_count": null,
   "id": "670d0f3a-2c74-4c81-8152-0600fc40c24b",
   "metadata": {},
   "outputs": [],
   "source": [
    "last_labs_dict=last_labs(patient_nums=patient_nums_uniq,df=labs_freq)"
   ]
  },
  {
   "cell_type": "code",
   "execution_count": 1214,
   "id": "4d57e151-463e-4d71-be05-fb17a0d3dc75",
   "metadata": {},
   "outputs": [],
   "source": [
    "last_labs_df=pd.DataFrame.from_dict(last_labs_dict, orient='index')"
   ]
  },
  {
   "cell_type": "code",
   "execution_count": 1784,
   "id": "28280006-092e-4eba-8667-75a8a57ee4d9",
   "metadata": {},
   "outputs": [],
   "source": [
    "with open(r'./pickles/last_labs_df.pkl', 'wb') as handle:\n",
    "    pickle.dump(last_labs_df, handle, protocol=pickle.HIGHEST_PROTOCOL)"
   ]
  },
  {
   "cell_type": "code",
   "execution_count": 488,
   "id": "dbe2e720-f8a5-4f3b-9773-26c46081fe45",
   "metadata": {},
   "outputs": [],
   "source": [
    "with open(r'./pickles/last_labs_df.pkl', 'rb') as handle:\n",
    "    last_labs_df = pickle.load(handle)"
   ]
  },
  {
   "cell_type": "code",
   "execution_count": 1254,
   "id": "e01f4969-e3aa-498e-bf3f-40e741d6b06c",
   "metadata": {
    "collapsed": true,
    "jupyter": {
     "outputs_hidden": true
    },
    "tags": []
   },
   "outputs": [
    {
     "name": "stdout",
     "output_type": "stream",
     "text": [
      "CHOLESTEROL LDL\n",
      "81.81098857623263\n",
      "TOTAL CHOLESTEROL/HDL RATIO\n",
      "68.1914841006874\n",
      "CHOLESTEROL\n",
      "65.08580188912518\n",
      "TRIGLYCERIDES\n",
      "64.67039216655952\n",
      "CHOLESTEROL HDL\n",
      "65.47153948865041\n",
      "PLATELET COUNT\n",
      "29.65234162504327\n",
      "AST/SGOT\n",
      "47.33692695712378\n",
      "CALCIUM\n",
      "18.579694377132682\n",
      "GLYCOHEMOGLOBIN\n",
      "53.59279956480886\n",
      "GLUCOSE\n",
      "16.329558379902082\n",
      "BICARBONATE\n",
      "34.82023638791355\n",
      "CHLORIDE\n",
      "18.668710746253893\n",
      "POTASSIUM\n",
      "18.4115523465704\n",
      "HEMATOCRIT\n",
      "29.058899164235203\n",
      "WHITE BLOOD CELL COUNT\n",
      "29.780920824885023\n",
      "CREATININE\n",
      "16.631224964146185\n",
      "TOTAL PROTEIN\n",
      "48.8749320013847\n",
      "ALBUMIN\n",
      "48.06883932545374\n",
      "BLOOD UREA NITROGEN\n",
      "18.752781761535037\n",
      "INTERNATIONAL NORMALIZED RATIO\n",
      "71.80653775777657\n",
      "PROTIME\n",
      "76.79145442856436\n",
      "PHOSPHORUS\n",
      "86.17279066317195\n",
      "ANION GAP\n",
      "33.40586518965432\n",
      "TOTAL CO2\n",
      "79.6251421789229\n",
      "EGFR\n",
      "31.442559715147617\n",
      "EGFR FOR AFRICAN AMERICANS\n",
      "37.47589140002967\n",
      "SODIUM\n",
      "18.51540477721181\n",
      "BILIRUBIN TOTAL\n",
      "48.306216309776964\n",
      "ALKALINE PHOSPHATASE\n",
      "48.19247317145542\n",
      "ALT/SGPT\n",
      "46.03135354334603\n",
      "URIC ACID\n",
      "91.90940111764996\n",
      "HEMOGLOBIN\n",
      "29.187478364076952\n",
      "EKG DIAGNOSIS\n",
      "100.0\n",
      "EKG Q-T INTERVAL\n",
      "74.23470649324959\n",
      "EKG QRS DURATION\n",
      "74.23470649324959\n",
      "EKG QTC CALCULATION (BAZETT)\n",
      "74.23470649324959\n",
      "EKG VENTRICULAR RATE\n",
      "74.23965184708966\n",
      "EKG CALCULATED R AXIS\n",
      "74.34844963157113\n",
      "EKG CALCULATED T AXIS\n",
      "74.29899609317047\n",
      "EKG CALCULATED P AXIS\n",
      "75.83700113743139\n",
      "EKG ATRIAL RATE\n",
      "74.51164630829335\n",
      "EKG P-R INTERVAL\n",
      "75.65896839918896\n",
      "MAGNESIUM\n",
      "79.68943177884378\n",
      "TSH\n",
      "74.42262993917214\n",
      "CREATININE U CONC\n",
      "81.98407596063498\n",
      "ESTIMATED AVERAGE GLUCOSE\n",
      "86.12333712477128\n",
      "NON-HDL CHOLESTEROL\n",
      "83.93749072746155\n",
      "DIRECT BILIRUBIN\n",
      "80.35210919341279\n",
      "RED BLOOD CELL COUNT\n",
      "30.418871470253695\n",
      "MEAN CORPUSCULAR HGB\n",
      "31.768953068592058\n",
      "MEAN CORPUSCULAR VOLUME\n",
      "31.600811038029768\n",
      "MEAN PLATELET VOLUME\n",
      "34.05370654270313\n",
      "RED CELL DISTRIBUTION WIDTH\n",
      "31.966767222194747\n",
      "MEAN CORPUSCULAR HGB CONCENTRN\n",
      "31.78378913011226\n",
      "COLOR\n",
      "100.0\n",
      "RED BLOOD CELLS URINE\n",
      "97.33445428020376\n",
      "WHITE BLOOD CELLS URINE\n",
      "98.32847040205726\n",
      "SQUAMOUS EPITHELIAL CELLS\n",
      "99.88131150783839\n",
      "BILIRUBIN URINE\n",
      "99.99010929231986\n",
      "UROBILINOGEN URINE\n",
      "63.968151921269964\n",
      "URINE MUCUS\n",
      "99.99505464615993\n",
      "PROTEIN URINE\n",
      "96.9190445576381\n",
      "BACTERIA\n",
      "99.97527323079967\n",
      "PH URINE\n",
      "62.50927253845012\n",
      "GLUCOSE QUALITATIVE U\n",
      "95.83601206666337\n",
      "APPEARANCE\n",
      "100.0\n",
      "SPECIFIC GRAVITY URINE\n",
      "62.51421789229019\n",
      "KETONES URINE\n",
      "98.13065624845457\n",
      "LEUKOCYTES URINE\n",
      "99.8318579694377\n",
      "NITRITE URINE\n",
      "100.0\n",
      "BLOOD URINE\n",
      "99.85163938479799\n",
      "GLUCOSE POC\n",
      "79.99604371692794\n",
      "PERFORMED BY\n",
      "79.53612580980169\n",
      "BUN/CREAT RATIO\n",
      "90.80658721131498\n",
      "URINE MICROALBUMIN CONC\n",
      "82.02363879135552\n",
      "U MICROALBUMIN CALCULATION\n",
      "85.79694377132684\n",
      "MONOCYTE PERCENT\n",
      "48.746352801542955\n",
      "NEUTROPHIL PERCENT\n",
      "48.879877355224764\n",
      "BASOPHIL PERCENTAGE\n",
      "48.78591563226349\n",
      "EOSINOPHIL PERCENT\n",
      "48.78097027842342\n",
      "LYMPH PERCENT\n",
      "48.69689926314228\n",
      "NEUTROPHIL ABSOLUTE\n",
      "46.79788338855645\n",
      "IMMATURE GRANULOCYTE %\n",
      "80.46585233173434\n",
      "LYMPHOCYTE ABSOLUTE\n",
      "48.17763710993522\n",
      "MONOCYTE ABSOLUTE\n",
      "48.17763710993522\n",
      "BASOPHIL ABSOLUTE\n",
      "48.236981356016024\n",
      "EOSINOPHIL ABSOLUTE\n",
      "48.236981356016024\n",
      "PARTIAL THROMBOPLASTIN TIME\n",
      "79.12566144107612\n",
      "LACTATE DEHYDROGENASE\n",
      "92.83912763958261\n",
      "CREATINE KINASE\n",
      "86.33598733989417\n",
      "TROPONIN I\n",
      "87.56243509223086\n",
      "MONOCYTES\n",
      "86.45467583205578\n",
      "LYMPHOCYTES\n",
      "86.26180703229316\n",
      "RBC MORPHOLOGY\n",
      "99.99505464615993\n",
      "SEGMENTED NEUTROPHILS\n",
      "86.22718955541269\n",
      "URINE SOURCE\n",
      "99.99505464615993\n",
      "LDL CHOLESTEROL\n",
      "86.35082340141437\n",
      "FINAL\n",
      "100.0\n",
      "PRE\n",
      "100.0\n",
      "POC WHOLE BLOOD GLUCOSE\n",
      "89.7136640126601\n"
     ]
    }
   ],
   "source": [
    "# % missingness in each column\n",
    "cols=last_labs_df.columns\n",
    "for x in cols:  \n",
    "    percent_missing = (last_labs_df[x].isna().sum().sum()) / len(last_labs_df) *100\n",
    "    print(x)\n",
    "    print(percent_missing)  "
   ]
  },
  {
   "cell_type": "code",
   "execution_count": 493,
   "id": "5c8bf2a8-6f09-45a3-bbed-6345aff570bd",
   "metadata": {},
   "outputs": [
    {
     "data": {
      "text/plain": [
       "(19528, 8632)"
      ]
     },
     "execution_count": 493,
     "metadata": {},
     "output_type": "execute_result"
    }
   ],
   "source": [
    "codes_demos_vit_soc_norm.shape"
   ]
  },
  {
   "cell_type": "code",
   "execution_count": 514,
   "id": "eabbc348-4926-4688-89b1-94f34b634054",
   "metadata": {},
   "outputs": [],
   "source": [
    "#match labs to other inputs combined to limit # missingness\n",
    "labs_matched = last_labs_df.merge(codes_demos_vit_soc_norm,left_index=True, right_index=True)"
   ]
  },
  {
   "cell_type": "code",
   "execution_count": 515,
   "id": "73c61555-39de-4d58-a64c-0d7283d342f1",
   "metadata": {},
   "outputs": [
    {
     "data": {
      "text/plain": [
       "15987"
      ]
     },
     "execution_count": 515,
     "metadata": {},
     "output_type": "execute_result"
    }
   ],
   "source": [
    "len(labs_matched)"
   ]
  },
  {
   "cell_type": "code",
   "execution_count": 516,
   "id": "4ca9c0d9-d8a6-49fc-9a89-d4b3b81caf7e",
   "metadata": {},
   "outputs": [],
   "source": [
    "labs_matched=labs_matched.iloc[:,:-8632]"
   ]
  },
  {
   "cell_type": "code",
   "execution_count": 518,
   "id": "41d773f8-ebd8-4189-82d6-3928e572a5e1",
   "metadata": {},
   "outputs": [],
   "source": [
    "with open(r'./pickles/labs_matched.pkl', 'wb') as handle:\n",
    "    pickle.dump(labs_matched, handle, protocol=pickle.HIGHEST_PROTOCOL)"
   ]
  },
  {
   "cell_type": "code",
   "execution_count": 519,
   "id": "53213ef1-39a0-4f66-8114-079ff8059cd0",
   "metadata": {
    "collapsed": true,
    "jupyter": {
     "outputs_hidden": true
    },
    "tags": []
   },
   "outputs": [
    {
     "name": "stdout",
     "output_type": "stream",
     "text": [
      "CHOLESTEROL LDL\n",
      "82.51704509914305\n",
      "TOTAL CHOLESTEROL/HDL RATIO\n",
      "70.56358291111529\n",
      "CHOLESTEROL\n",
      "68.16788640770626\n",
      "TRIGLYCERIDES\n",
      "67.77381622568338\n",
      "CHOLESTEROL HDL\n",
      "68.50566084944018\n",
      "PLATELET COUNT\n",
      "25.996121849002314\n",
      "AST/SGOT\n",
      "46.25633327078251\n",
      "CALCIUM\n",
      "17.852004753862513\n",
      "GLYCOHEMOGLOBIN\n",
      "56.64602489522738\n",
      "GLUCOSE\n",
      "15.481328579470821\n",
      "BICARBONATE\n",
      "30.58735222368174\n",
      "CHLORIDE\n",
      "17.708137862012883\n",
      "POTASSIUM\n",
      "17.751923437793206\n",
      "HEMATOCRIT\n",
      "25.583286420216428\n",
      "WHITE BLOOD CELL COUNT\n",
      "26.133733658597613\n",
      "CREATININE\n",
      "16.16313254519297\n",
      "TOTAL PROTEIN\n",
      "47.31969725401889\n",
      "ALBUMIN\n",
      "46.61912804153375\n",
      "BLOOD UREA NITROGEN\n",
      "17.80821917808219\n",
      "INTERNATIONAL NORMALIZED RATIO\n",
      "69.68161631325452\n",
      "PROTIME\n",
      "75.19234377932071\n",
      "PHOSPHORUS\n",
      "86.40770626133734\n",
      "ANION GAP\n",
      "31.369237505473198\n",
      "TOTAL CO2\n",
      "81.99787327203353\n",
      "EGFR\n",
      "25.095390004378558\n",
      "EGFR FOR AFRICAN AMERICANS\n",
      "28.416838681428665\n",
      "SODIUM\n",
      "17.576781134671922\n",
      "BILIRUBIN TOTAL\n",
      "46.956902483267655\n",
      "ALKALINE PHOSPHATASE\n",
      "46.888096578470005\n",
      "ALT/SGPT\n",
      "45.41189716644774\n",
      "URIC ACID\n",
      "91.81835241133422\n",
      "HEMOGLOBIN\n",
      "25.508225433164444\n",
      "EKG DIAGNOSIS\n",
      "100.0\n",
      "EKG Q-T INTERVAL\n",
      "68.3930693688622\n",
      "EKG QRS DURATION\n",
      "68.3930693688622\n",
      "EKG QTC CALCULATION (BAZETT)\n",
      "68.3930693688622\n",
      "EKG VENTRICULAR RATE\n",
      "68.39932445111653\n",
      "EKG CALCULATED R AXIS\n",
      "68.5306811784575\n",
      "EKG CALCULATED T AXIS\n",
      "68.47438543816851\n",
      "EKG CALCULATED P AXIS\n",
      "70.35716519672233\n",
      "EKG ATRIAL RATE\n",
      "68.74335397510477\n",
      "EKG P-R INTERVAL\n",
      "70.14449240007507\n",
      "MAGNESIUM\n",
      "78.43247638706448\n",
      "TSH\n",
      "75.47382248076562\n",
      "CREATININE U CONC\n",
      "82.56708575717771\n",
      "ESTIMATED AVERAGE GLUCOSE\n",
      "84.68130355914181\n",
      "NON-HDL CHOLESTEROL\n",
      "82.84230937636829\n",
      "DIRECT BILIRUBIN\n",
      "78.8703321448677\n",
      "RED BLOOD CELL COUNT\n",
      "26.390192031025204\n",
      "MEAN CORPUSCULAR HGB\n",
      "27.178332395071\n",
      "MEAN CORPUSCULAR VOLUME\n",
      "27.040720585475697\n",
      "MEAN PLATELET VOLUME\n",
      "28.510664915243634\n",
      "RED CELL DISTRIBUTION WIDTH\n",
      "27.37223994495528\n",
      "MEAN CORPUSCULAR HGB CONCENTRN\n",
      "27.209607806342657\n",
      "COLOR\n",
      "100.0\n",
      "RED BLOOD CELLS URINE\n",
      "97.74191530618627\n",
      "WHITE BLOOD CELLS URINE\n",
      "98.42997435416275\n",
      "SQUAMOUS EPITHELIAL CELLS\n",
      "99.86864327265903\n",
      "BILIRUBIN URINE\n",
      "99.99374491774566\n",
      "UROBILINOGEN URINE\n",
      "61.01207230875087\n",
      "URINE MUCUS\n",
      "99.99374491774566\n",
      "PROTEIN URINE\n",
      "96.34703196347031\n",
      "BACTERIA\n",
      "99.96872458872834\n",
      "PH URINE\n",
      "59.97372865453181\n",
      "GLUCOSE QUALITATIVE U\n",
      "95.07099518358666\n",
      "APPEARANCE\n",
      "100.0\n",
      "SPECIFIC GRAVITY URINE\n",
      "59.97998373678614\n",
      "KETONES URINE\n",
      "97.72315005942328\n",
      "LEUKOCYTES URINE\n",
      "99.78732720335273\n",
      "NITRITE URINE\n",
      "100.0\n",
      "BLOOD URINE\n",
      "99.81234753237005\n",
      "GLUCOSE POC\n",
      "75.8053418402452\n",
      "PERFORMED BY\n",
      "75.22987427284669\n",
      "BUN/CREAT RATIO\n",
      "91.03646712954276\n",
      "URINE MICROALBUMIN CONC\n",
      "83.7492963032464\n",
      "U MICROALBUMIN CALCULATION\n",
      "88.23419027960217\n",
      "MONOCYTE PERCENT\n",
      "42.68468130355914\n",
      "NEUTROPHIL PERCENT\n",
      "42.784762619628445\n",
      "BASOPHIL PERCENTAGE\n",
      "42.70970163257647\n",
      "EOSINOPHIL PERCENT\n",
      "42.70970163257647\n",
      "LYMPH PERCENT\n",
      "42.65340589228748\n",
      "NEUTROPHIL ABSOLUTE\n",
      "42.00287733783699\n",
      "IMMATURE GRANULOCYTE %\n",
      "75.87414774504285\n",
      "LYMPHOCYTE ABSOLUTE\n",
      "42.340651779570905\n",
      "MONOCYTE ABSOLUTE\n",
      "42.36567210858823\n",
      "BASOPHIL ABSOLUTE\n",
      "42.40320260211422\n",
      "EOSINOPHIL ABSOLUTE\n",
      "42.409457684368554\n",
      "PARTIAL THROMBOPLASTIN TIME\n",
      "77.4441733908801\n",
      "LACTATE DEHYDROGENASE\n",
      "92.53768687058235\n",
      "CREATINE KINASE\n",
      "85.40689310064428\n",
      "TROPONIN I\n",
      "86.401451179083\n",
      "MONOCYTES\n",
      "86.6766747982736\n",
      "LYMPHOCYTES\n",
      "86.48902233064365\n",
      "RBC MORPHOLOGY\n",
      "99.99374491774566\n",
      "SEGMENTED NEUTROPHILS\n",
      "86.46400200162631\n",
      "URINE SOURCE\n",
      "99.99374491774566\n",
      "LDL CHOLESTEROL\n",
      "86.05116657284043\n",
      "FINAL\n",
      "100.0\n",
      "PRE\n",
      "100.0\n",
      "POC WHOLE BLOOD GLUCOSE\n",
      "87.664977794458\n"
     ]
    }
   ],
   "source": [
    "#Drop in place cols with >=50% missingness\n",
    "cols=labs_matched.columns\n",
    "for x in cols:  \n",
    "    percent_missing = (labs_matched[x].isna().sum()) / len(labs_matched) *100\n",
    "    print(x)\n",
    "    print(percent_missing)\n",
    "    if percent_missing >= 50:\n",
    "        labs_matched.drop([x],axis=1, inplace=True)"
   ]
  },
  {
   "cell_type": "code",
   "execution_count": 520,
   "id": "0df39605-201c-4f27-bdcb-2160349bb980",
   "metadata": {
    "collapsed": true,
    "jupyter": {
     "outputs_hidden": true
    },
    "tags": []
   },
   "outputs": [
    {
     "data": {
      "text/plain": [
       "PLATELET COUNT                    11831\n",
       "AST/SGOT                           8592\n",
       "CALCIUM                           13133\n",
       "GLUCOSE                           13512\n",
       "BICARBONATE                       11097\n",
       "CHLORIDE                          13156\n",
       "POTASSIUM                         13149\n",
       "HEMATOCRIT                        11897\n",
       "WHITE BLOOD CELL COUNT            11809\n",
       "CREATININE                        13403\n",
       "TOTAL PROTEIN                      8422\n",
       "ALBUMIN                            8534\n",
       "BLOOD UREA NITROGEN               13140\n",
       "ANION GAP                         10972\n",
       "EGFR                              11975\n",
       "EGFR FOR AFRICAN AMERICANS        11444\n",
       "SODIUM                            13177\n",
       "BILIRUBIN TOTAL                    8480\n",
       "ALKALINE PHOSPHATASE               8491\n",
       "ALT/SGPT                           8727\n",
       "HEMOGLOBIN                        11909\n",
       "RED BLOOD CELL COUNT              11768\n",
       "MEAN CORPUSCULAR HGB              11642\n",
       "MEAN CORPUSCULAR VOLUME           11664\n",
       "MEAN PLATELET VOLUME              11429\n",
       "RED CELL DISTRIBUTION WIDTH       11611\n",
       "MEAN CORPUSCULAR HGB CONCENTRN    11637\n",
       "MONOCYTE PERCENT                   9163\n",
       "NEUTROPHIL PERCENT                 9147\n",
       "BASOPHIL PERCENTAGE                9159\n",
       "EOSINOPHIL PERCENT                 9159\n",
       "LYMPH PERCENT                      9168\n",
       "NEUTROPHIL ABSOLUTE                9272\n",
       "LYMPHOCYTE ABSOLUTE                9218\n",
       "MONOCYTE ABSOLUTE                  9214\n",
       "BASOPHIL ABSOLUTE                  9208\n",
       "EOSINOPHIL ABSOLUTE                9207\n",
       "dtype: int64"
      ]
     },
     "execution_count": 520,
     "metadata": {},
     "output_type": "execute_result"
    }
   ],
   "source": [
    "labs_matched.count()"
   ]
  },
  {
   "cell_type": "code",
   "execution_count": null,
   "id": "96668b44-9932-4c22-80de-4cd12ad2a17d",
   "metadata": {},
   "outputs": [],
   "source": [
    "labs_matched['CREATININE'].values[labs_matched['CREATININE'].values > 50]= np.nan"
   ]
  },
  {
   "cell_type": "code",
   "execution_count": 526,
   "id": "264de4ef-1f46-4944-b0f6-25efadb2a478",
   "metadata": {},
   "outputs": [],
   "source": [
    "cols=labs_matched.columns\n",
    "labs_matched[cols] = labs_matched[cols].replace(['0', 0], np.nan)"
   ]
  },
  {
   "cell_type": "code",
   "execution_count": 527,
   "id": "266448ac-7387-4253-a7e7-58b0e4e4ef9d",
   "metadata": {
    "collapsed": true,
    "jupyter": {
     "outputs_hidden": true
    },
    "tags": []
   },
   "outputs": [
    {
     "name": "stdout",
     "output_type": "stream",
     "text": [
      "PLATELET COUNT\n",
      "min: 2.0\n",
      "max: 1663.0\n",
      "AST/SGOT\n",
      "min: 0.1\n",
      "max: 6764.0\n",
      "CALCIUM\n",
      "min: 0.6\n",
      "max: 18.0\n",
      "GLUCOSE\n",
      "min: 4.0\n",
      "max: 1282.0\n",
      "BICARBONATE\n",
      "min: 2.0\n",
      "max: 98.0\n",
      "CHLORIDE\n",
      "min: 69.0\n",
      "max: 140.0\n",
      "POTASSIUM\n",
      "min: 0.78\n",
      "max: 8.9\n",
      "HEMATOCRIT\n",
      "min: 12.0\n",
      "max: 66.0\n",
      "WHITE BLOOD CELL COUNT\n",
      "min: 0.2\n",
      "max: 19270.0\n",
      "CREATININE\n",
      "min: 0.2\n",
      "max: 10.6\n",
      "TOTAL PROTEIN\n",
      "min: 0.3\n",
      "max: 77.0\n",
      "ALBUMIN\n",
      "min: 0.2\n",
      "max: 4040.0\n",
      "BLOOD UREA NITROGEN\n",
      "min: 2.0\n",
      "max: 211.0\n",
      "ANION GAP\n",
      "min: 1.0\n",
      "max: 78.0\n",
      "EGFR\n",
      "min: 4.0\n",
      "max: 255.0\n",
      "EGFR FOR AFRICAN AMERICANS\n",
      "min: 6.0\n",
      "max: 308.0\n",
      "SODIUM\n",
      "min: 102.0\n",
      "max: 177.0\n",
      "BILIRUBIN TOTAL\n",
      "min: 0.1\n",
      "max: 58.0\n",
      "ALKALINE PHOSPHATASE\n",
      "min: 5.0\n",
      "max: 3003.0\n",
      "ALT/SGPT\n",
      "min: 0.7\n",
      "max: 3826.0\n",
      "HEMOGLOBIN\n",
      "min: 3.1\n",
      "max: 42.5\n",
      "RED BLOOD CELL COUNT\n",
      "min: 1.0\n",
      "max: 8.1\n",
      "MEAN CORPUSCULAR HGB\n",
      "min: 12.0\n",
      "max: 40.4\n",
      "MEAN CORPUSCULAR VOLUME\n",
      "min: 31.4\n",
      "max: 126.8\n",
      "MEAN PLATELET VOLUME\n",
      "min: 4.9\n",
      "max: 16.6\n",
      "RED CELL DISTRIBUTION WIDTH\n",
      "min: 10.6\n",
      "max: 313.0\n",
      "MEAN CORPUSCULAR HGB CONCENTRN\n",
      "min: 23.0\n",
      "max: 45.8\n",
      "MONOCYTE PERCENT\n",
      "min: 0.3\n",
      "max: 100.0\n",
      "NEUTROPHIL PERCENT\n",
      "min: 1.0\n",
      "max: 99.0\n",
      "BASOPHIL PERCENTAGE\n",
      "min: 0.1\n",
      "max: 3.7\n",
      "EOSINOPHIL PERCENT\n",
      "min: 0.1\n",
      "max: 40.0\n",
      "LYMPH PERCENT\n",
      "min: 1.0\n",
      "max: 97.0\n",
      "NEUTROPHIL ABSOLUTE\n",
      "min: 0.01\n",
      "max: 15320.0\n",
      "LYMPHOCYTE ABSOLUTE\n",
      "min: 0.02\n",
      "max: 5250.0\n",
      "MONOCYTE ABSOLUTE\n",
      "min: 0.01\n",
      "max: 950.0\n",
      "BASOPHIL ABSOLUTE\n",
      "min: 0.01\n",
      "max: 200.0\n",
      "EOSINOPHIL ABSOLUTE\n",
      "min: 0.01\n",
      "max: 1890.0\n"
     ]
    }
   ],
   "source": [
    "cols=labs_matched.columns\n",
    "for x in cols:  \n",
    "    print(x)\n",
    "    print('min:', labs_matched[x].min())\n",
    "    print('max:', labs_matched[x].max())"
   ]
  },
  {
   "cell_type": "code",
   "execution_count": 528,
   "id": "86401114-f508-4c21-a9d0-76b9c028d4bf",
   "metadata": {
    "collapsed": true,
    "jupyter": {
     "outputs_hidden": true
    },
    "tags": []
   },
   "outputs": [
    {
     "name": "stdout",
     "output_type": "stream",
     "text": [
      "PLATELET COUNT\n",
      "3 SD range: -35.0 to 541.0\n",
      "AST/SGOT\n",
      "3 SD range: -284.0 to 355.0\n",
      "CALCIUM\n",
      "3 SD range: 7.0 to 11.0\n",
      "GLUCOSE\n",
      "3 SD range: -141.0 to 508.0\n",
      "BICARBONATE\n",
      "3 SD range: 14.0 to 36.0\n",
      "CHLORIDE\n",
      "3 SD range: 87.0 to 115.0\n",
      "POTASSIUM\n",
      "3 SD range: 3.0 to 6.0\n",
      "HEMATOCRIT\n",
      "3 SD range: 23.0 to 56.0\n",
      "WHITE BLOOD CELL COUNT\n",
      "3 SD range: -3832.0 to 4289.0\n",
      "CREATININE\n",
      "3 SD range: -0.0 to 2.0\n",
      "TOTAL PROTEIN\n",
      "3 SD range: 4.0 to 11.0\n",
      "ALBUMIN\n",
      "3 SD range: -211.0 to 222.0\n",
      "BLOOD UREA NITROGEN\n",
      "3 SD range: -13.0 to 48.0\n",
      "ANION GAP\n",
      "3 SD range: 0.0 to 24.0\n",
      "EGFR\n",
      "3 SD range: 17.0 to 100.0\n",
      "EGFR FOR AFRICAN AMERICANS\n",
      "3 SD range: 12.0 to 112.0\n",
      "SODIUM\n",
      "3 SD range: 126.0 to 149.0\n",
      "BILIRUBIN TOTAL\n",
      "3 SD range: -4.0 to 6.0\n",
      "ALKALINE PHOSPHATASE\n",
      "3 SD range: -188.0 to 384.0\n",
      "ALT/SGPT\n",
      "3 SD range: -198.0 to 270.0\n",
      "HEMOGLOBIN\n",
      "3 SD range: 7.0 to 19.0\n",
      "RED BLOOD CELL COUNT\n",
      "3 SD range: 2.0 to 7.0\n",
      "MEAN CORPUSCULAR HGB\n",
      "3 SD range: 22.0 to 38.0\n",
      "MEAN CORPUSCULAR VOLUME\n",
      "3 SD range: 68.0 to 108.0\n",
      "MEAN PLATELET VOLUME\n",
      "3 SD range: 5.0 to 14.0\n",
      "RED CELL DISTRIBUTION WIDTH\n",
      "3 SD range: 3.0 to 25.0\n",
      "MEAN CORPUSCULAR HGB CONCENTRN\n",
      "3 SD range: 29.0 to 38.0\n",
      "MONOCYTE PERCENT\n",
      "3 SD range: -2.0 to 16.0\n",
      "NEUTROPHIL PERCENT\n",
      "3 SD range: 28.0 to 102.0\n",
      "BASOPHIL PERCENTAGE\n",
      "3 SD range: -0.0 to 2.0\n",
      "EOSINOPHIL PERCENT\n",
      "3 SD range: -4.0 to 9.0\n",
      "LYMPH PERCENT\n",
      "3 SD range: -9.0 to 58.0\n",
      "NEUTROPHIL ABSOLUTE\n",
      "3 SD range: -2870.0 to 3216.0\n",
      "LYMPHOCYTE ABSOLUTE\n",
      "3 SD range: -1166.0 to 1311.0\n",
      "MONOCYTE ABSOLUTE\n",
      "3 SD range: -190.0 to 214.0\n",
      "BASOPHIL ABSOLUTE\n",
      "3 SD range: -29.0 to 33.0\n",
      "EOSINOPHIL ABSOLUTE\n",
      "3 SD range: -144.0 to 158.0\n"
     ]
    }
   ],
   "source": [
    "cols=labs_matched.columns\n",
    "for x in cols:  \n",
    "    col_mean = labs_matched[x].mean()\n",
    "    col_std = labs_matched[x].std()\n",
    "    print(x)\n",
    "    print ('3 SD range: %s to %s' % (np.round(col_mean-3*col_std), \n",
    "                                    np.round(col_mean+3*col_std)) )\n",
    "    labs_matched[x].values[labs_matched[x].values < np.round(col_mean-3*col_std)] = np.nan\n",
    "    labs_matched[x].values[labs_matched[x].values > np.round(col_mean+3*col_std)] = np.nan"
   ]
  },
  {
   "cell_type": "code",
   "execution_count": 529,
   "id": "56dd1f8e-453e-413e-92bd-98b1653a895b",
   "metadata": {
    "collapsed": true,
    "jupyter": {
     "outputs_hidden": true
    },
    "tags": []
   },
   "outputs": [
    {
     "name": "stdout",
     "output_type": "stream",
     "text": [
      "PLATELET COUNT\n",
      "Range: 2.0 to 540.0\n",
      "AST/SGOT\n",
      "Range: 0.1 to 348.0\n",
      "CALCIUM\n",
      "Range: 7.0 to 11.0\n",
      "GLUCOSE\n",
      "Range: 4.0 to 508.0\n",
      "BICARBONATE\n",
      "Range: 14.0 to 36.0\n",
      "CHLORIDE\n",
      "Range: 87.0 to 115.0\n",
      "POTASSIUM\n",
      "Range: 3.0 to 6.0\n",
      "HEMATOCRIT\n",
      "Range: 23.0 to 56.0\n",
      "WHITE BLOOD CELL COUNT\n",
      "Range: 0.2 to 4280.0\n",
      "CREATININE\n",
      "Range: 0.2 to 2.0\n",
      "TOTAL PROTEIN\n",
      "Range: 4.0 to 10.7\n",
      "ALBUMIN\n",
      "Range: 0.2 to 17.0\n",
      "BLOOD UREA NITROGEN\n",
      "Range: 2.0 to 48.0\n",
      "ANION GAP\n",
      "Range: 1.0 to 24.0\n",
      "EGFR\n",
      "Range: 17.0 to 100.0\n",
      "EGFR FOR AFRICAN AMERICANS\n",
      "Range: 12.0 to 112.0\n",
      "SODIUM\n",
      "Range: 126.0 to 149.0\n",
      "BILIRUBIN TOTAL\n",
      "Range: 0.1 to 5.9\n",
      "ALKALINE PHOSPHATASE\n",
      "Range: 5.0 to 381.0\n",
      "ALT/SGPT\n",
      "Range: 0.7 to 261.0\n",
      "HEMOGLOBIN\n",
      "Range: 7.0 to 19.0\n",
      "RED BLOOD CELL COUNT\n",
      "Range: 2.0 to 6.99\n",
      "MEAN CORPUSCULAR HGB\n",
      "Range: 22.0 to 38.0\n",
      "MEAN CORPUSCULAR VOLUME\n",
      "Range: 68.0 to 108.0\n",
      "MEAN PLATELET VOLUME\n",
      "Range: 5.5 to 14.0\n",
      "RED CELL DISTRIBUTION WIDTH\n",
      "Range: 10.6 to 25.0\n",
      "MEAN CORPUSCULAR HGB CONCENTRN\n",
      "Range: 29.0 to 38.0\n",
      "MONOCYTE PERCENT\n",
      "Range: 0.3 to 16.0\n",
      "NEUTROPHIL PERCENT\n",
      "Range: 28.0 to 99.0\n",
      "BASOPHIL PERCENTAGE\n",
      "Range: 0.1 to 2.0\n",
      "EOSINOPHIL PERCENT\n",
      "Range: 0.1 to 9.0\n",
      "LYMPH PERCENT\n",
      "Range: 1.0 to 58.0\n",
      "NEUTROPHIL ABSOLUTE\n",
      "Range: 0.01 to 3200.0\n",
      "LYMPHOCYTE ABSOLUTE\n",
      "Range: 0.02 to 1300.0\n",
      "MONOCYTE ABSOLUTE\n",
      "Range: 0.01 to 210.0\n",
      "BASOPHIL ABSOLUTE\n",
      "Range: 0.01 to 32.0\n",
      "EOSINOPHIL ABSOLUTE\n",
      "Range: 0.01 to 150.0\n"
     ]
    }
   ],
   "source": [
    "cols=labs_matched.columns\n",
    "for x in cols:  \n",
    "    print(x)\n",
    "    print('Range: %s to %s' % (labs_matched[x].min(),labs_matched[x].max()))"
   ]
  },
  {
   "cell_type": "code",
   "execution_count": 530,
   "id": "f9bda518-3831-4813-b143-d8415fe2ceda",
   "metadata": {
    "collapsed": true,
    "jupyter": {
     "outputs_hidden": true
    },
    "tags": []
   },
   "outputs": [
    {
     "name": "stdout",
     "output_type": "stream",
     "text": [
      "PLATELET COUNT\n",
      "26.771752048539437\n",
      "AST/SGOT\n",
      "46.46900606742979\n",
      "CALCIUM\n",
      "18.583849377619316\n",
      "GLUCOSE\n",
      "17.00756864952774\n",
      "BICARBONATE\n",
      "31.350472258710205\n",
      "CHLORIDE\n",
      "18.47751297929568\n",
      "POTASSIUM\n",
      "18.690185775942954\n",
      "HEMATOCRIT\n",
      "26.089948082817287\n",
      "WHITE BLOOD CELL COUNT\n",
      "28.11659473322074\n",
      "CREATININE\n",
      "18.21479952461375\n",
      "TOTAL PROTEIN\n",
      "47.382248076562206\n",
      "ALBUMIN\n",
      "46.63789328829674\n",
      "BLOOD UREA NITROGEN\n",
      "19.16557202727216\n",
      "ANION GAP\n",
      "31.963470319634702\n",
      "EGFR\n",
      "27.040720585475697\n",
      "EGFR FOR AFRICAN AMERICANS\n",
      "30.549821730155752\n",
      "SODIUM\n",
      "18.22730968912241\n",
      "BILIRUBIN TOTAL\n",
      "47.44479889910552\n",
      "ALKALINE PHOSPHATASE\n",
      "47.5386251329205\n",
      "ALT/SGPT\n",
      "45.79345718396197\n",
      "HEMOGLOBIN\n",
      "25.958591355476322\n",
      "RED BLOOD CELL COUNT\n",
      "26.509038593857507\n",
      "MEAN CORPUSCULAR HGB\n",
      "28.235441296053043\n",
      "MEAN CORPUSCULAR VOLUME\n",
      "27.872646525301807\n",
      "MEAN PLATELET VOLUME\n",
      "28.56696065553262\n",
      "RED CELL DISTRIBUTION WIDTH\n",
      "27.69750422218052\n",
      "MEAN CORPUSCULAR HGB CONCENTRN\n",
      "27.57240257709389\n",
      "MONOCYTE PERCENT\n",
      "43.210108212923\n",
      "NEUTROPHIL PERCENT\n",
      "43.028710827547386\n",
      "BASOPHIL PERCENTAGE\n",
      "64.8151623193845\n",
      "EOSINOPHIL PERCENT\n",
      "49.60905735910428\n",
      "LYMPH PERCENT\n",
      "42.91611934696941\n",
      "NEUTROPHIL ABSOLUTE\n",
      "43.43529117407894\n",
      "LYMPHOCYTE ABSOLUTE\n",
      "43.929442672171135\n",
      "MONOCYTE ABSOLUTE\n",
      "44.02952398824044\n",
      "BASOPHIL ABSOLUTE\n",
      "62.413210733721144\n",
      "EOSINOPHIL ABSOLUTE\n",
      "49.22124225933571\n"
     ]
    }
   ],
   "source": [
    "cols=labs_matched.columns\n",
    "for x in cols:  \n",
    "    percent_missing = (labs_matched[x].isna().sum()) / len(labs_matched) *100\n",
    "    print(x)\n",
    "    print(percent_missing)  "
   ]
  },
  {
   "cell_type": "code",
   "execution_count": 531,
   "id": "db95ee69-a6a0-46dc-9721-a1c5c2e2ed70",
   "metadata": {},
   "outputs": [],
   "source": [
    "labs_matched.drop(['BASOPHIL ABSOLUTE', 'BASOPHIL PERCENTAGE'],axis=1,inplace=True)"
   ]
  },
  {
   "cell_type": "code",
   "execution_count": 532,
   "id": "26fef3b7-64fc-4f0b-afca-c1e8a5f6797f",
   "metadata": {
    "collapsed": true,
    "jupyter": {
     "outputs_hidden": true
    },
    "tags": []
   },
   "outputs": [
    {
     "name": "stderr",
     "output_type": "stream",
     "text": [
      "Criterion 'mse' was deprecated in v1.0 and will be removed in version 1.2. Use `criterion='squared_error'` which is equivalent.\n",
      "Criterion 'mse' was deprecated in v1.0 and will be removed in version 1.2. Use `criterion='squared_error'` which is equivalent.\n",
      "Criterion 'mse' was deprecated in v1.0 and will be removed in version 1.2. Use `criterion='squared_error'` which is equivalent.\n",
      "Criterion 'mse' was deprecated in v1.0 and will be removed in version 1.2. Use `criterion='squared_error'` which is equivalent.\n",
      "Criterion 'mse' was deprecated in v1.0 and will be removed in version 1.2. Use `criterion='squared_error'` which is equivalent.\n",
      "Criterion 'mse' was deprecated in v1.0 and will be removed in version 1.2. Use `criterion='squared_error'` which is equivalent.\n",
      "Criterion 'mse' was deprecated in v1.0 and will be removed in version 1.2. Use `criterion='squared_error'` which is equivalent.\n",
      "Criterion 'mse' was deprecated in v1.0 and will be removed in version 1.2. Use `criterion='squared_error'` which is equivalent.\n",
      "Criterion 'mse' was deprecated in v1.0 and will be removed in version 1.2. Use `criterion='squared_error'` which is equivalent.\n",
      "Criterion 'mse' was deprecated in v1.0 and will be removed in version 1.2. Use `criterion='squared_error'` which is equivalent.\n",
      "Criterion 'mse' was deprecated in v1.0 and will be removed in version 1.2. Use `criterion='squared_error'` which is equivalent.\n",
      "Criterion 'mse' was deprecated in v1.0 and will be removed in version 1.2. Use `criterion='squared_error'` which is equivalent.\n",
      "Criterion 'mse' was deprecated in v1.0 and will be removed in version 1.2. Use `criterion='squared_error'` which is equivalent.\n",
      "Criterion 'mse' was deprecated in v1.0 and will be removed in version 1.2. Use `criterion='squared_error'` which is equivalent.\n",
      "Criterion 'mse' was deprecated in v1.0 and will be removed in version 1.2. Use `criterion='squared_error'` which is equivalent.\n",
      "Criterion 'mse' was deprecated in v1.0 and will be removed in version 1.2. Use `criterion='squared_error'` which is equivalent.\n",
      "Criterion 'mse' was deprecated in v1.0 and will be removed in version 1.2. Use `criterion='squared_error'` which is equivalent.\n",
      "Criterion 'mse' was deprecated in v1.0 and will be removed in version 1.2. Use `criterion='squared_error'` which is equivalent.\n",
      "Criterion 'mse' was deprecated in v1.0 and will be removed in version 1.2. Use `criterion='squared_error'` which is equivalent.\n",
      "Criterion 'mse' was deprecated in v1.0 and will be removed in version 1.2. Use `criterion='squared_error'` which is equivalent.\n",
      "Criterion 'mse' was deprecated in v1.0 and will be removed in version 1.2. Use `criterion='squared_error'` which is equivalent.\n",
      "Criterion 'mse' was deprecated in v1.0 and will be removed in version 1.2. Use `criterion='squared_error'` which is equivalent.\n",
      "Criterion 'mse' was deprecated in v1.0 and will be removed in version 1.2. Use `criterion='squared_error'` which is equivalent.\n",
      "Criterion 'mse' was deprecated in v1.0 and will be removed in version 1.2. Use `criterion='squared_error'` which is equivalent.\n",
      "Criterion 'mse' was deprecated in v1.0 and will be removed in version 1.2. Use `criterion='squared_error'` which is equivalent.\n",
      "Criterion 'mse' was deprecated in v1.0 and will be removed in version 1.2. Use `criterion='squared_error'` which is equivalent.\n",
      "Criterion 'mse' was deprecated in v1.0 and will be removed in version 1.2. Use `criterion='squared_error'` which is equivalent.\n",
      "Criterion 'mse' was deprecated in v1.0 and will be removed in version 1.2. Use `criterion='squared_error'` which is equivalent.\n",
      "Criterion 'mse' was deprecated in v1.0 and will be removed in version 1.2. Use `criterion='squared_error'` which is equivalent.\n",
      "Criterion 'mse' was deprecated in v1.0 and will be removed in version 1.2. Use `criterion='squared_error'` which is equivalent.\n",
      "Criterion 'mse' was deprecated in v1.0 and will be removed in version 1.2. Use `criterion='squared_error'` which is equivalent.\n",
      "Criterion 'mse' was deprecated in v1.0 and will be removed in version 1.2. Use `criterion='squared_error'` which is equivalent.\n",
      "Criterion 'mse' was deprecated in v1.0 and will be removed in version 1.2. Use `criterion='squared_error'` which is equivalent.\n",
      "Criterion 'mse' was deprecated in v1.0 and will be removed in version 1.2. Use `criterion='squared_error'` which is equivalent.\n",
      "Criterion 'mse' was deprecated in v1.0 and will be removed in version 1.2. Use `criterion='squared_error'` which is equivalent.\n"
     ]
    },
    {
     "name": "stdout",
     "output_type": "stream",
     "text": [
      "Iteration: 0\n"
     ]
    },
    {
     "name": "stderr",
     "output_type": "stream",
     "text": [
      "Criterion 'mse' was deprecated in v1.0 and will be removed in version 1.2. Use `criterion='squared_error'` which is equivalent.\n",
      "Criterion 'mse' was deprecated in v1.0 and will be removed in version 1.2. Use `criterion='squared_error'` which is equivalent.\n",
      "Criterion 'mse' was deprecated in v1.0 and will be removed in version 1.2. Use `criterion='squared_error'` which is equivalent.\n",
      "Criterion 'mse' was deprecated in v1.0 and will be removed in version 1.2. Use `criterion='squared_error'` which is equivalent.\n",
      "Criterion 'mse' was deprecated in v1.0 and will be removed in version 1.2. Use `criterion='squared_error'` which is equivalent.\n",
      "Criterion 'mse' was deprecated in v1.0 and will be removed in version 1.2. Use `criterion='squared_error'` which is equivalent.\n",
      "Criterion 'mse' was deprecated in v1.0 and will be removed in version 1.2. Use `criterion='squared_error'` which is equivalent.\n",
      "Criterion 'mse' was deprecated in v1.0 and will be removed in version 1.2. Use `criterion='squared_error'` which is equivalent.\n",
      "Criterion 'mse' was deprecated in v1.0 and will be removed in version 1.2. Use `criterion='squared_error'` which is equivalent.\n",
      "Criterion 'mse' was deprecated in v1.0 and will be removed in version 1.2. Use `criterion='squared_error'` which is equivalent.\n",
      "Criterion 'mse' was deprecated in v1.0 and will be removed in version 1.2. Use `criterion='squared_error'` which is equivalent.\n",
      "Criterion 'mse' was deprecated in v1.0 and will be removed in version 1.2. Use `criterion='squared_error'` which is equivalent.\n",
      "Criterion 'mse' was deprecated in v1.0 and will be removed in version 1.2. Use `criterion='squared_error'` which is equivalent.\n",
      "Criterion 'mse' was deprecated in v1.0 and will be removed in version 1.2. Use `criterion='squared_error'` which is equivalent.\n",
      "Criterion 'mse' was deprecated in v1.0 and will be removed in version 1.2. Use `criterion='squared_error'` which is equivalent.\n",
      "Criterion 'mse' was deprecated in v1.0 and will be removed in version 1.2. Use `criterion='squared_error'` which is equivalent.\n",
      "Criterion 'mse' was deprecated in v1.0 and will be removed in version 1.2. Use `criterion='squared_error'` which is equivalent.\n",
      "Criterion 'mse' was deprecated in v1.0 and will be removed in version 1.2. Use `criterion='squared_error'` which is equivalent.\n",
      "Criterion 'mse' was deprecated in v1.0 and will be removed in version 1.2. Use `criterion='squared_error'` which is equivalent.\n",
      "Criterion 'mse' was deprecated in v1.0 and will be removed in version 1.2. Use `criterion='squared_error'` which is equivalent.\n",
      "Criterion 'mse' was deprecated in v1.0 and will be removed in version 1.2. Use `criterion='squared_error'` which is equivalent.\n",
      "Criterion 'mse' was deprecated in v1.0 and will be removed in version 1.2. Use `criterion='squared_error'` which is equivalent.\n",
      "Criterion 'mse' was deprecated in v1.0 and will be removed in version 1.2. Use `criterion='squared_error'` which is equivalent.\n",
      "Criterion 'mse' was deprecated in v1.0 and will be removed in version 1.2. Use `criterion='squared_error'` which is equivalent.\n",
      "Criterion 'mse' was deprecated in v1.0 and will be removed in version 1.2. Use `criterion='squared_error'` which is equivalent.\n",
      "Criterion 'mse' was deprecated in v1.0 and will be removed in version 1.2. Use `criterion='squared_error'` which is equivalent.\n",
      "Criterion 'mse' was deprecated in v1.0 and will be removed in version 1.2. Use `criterion='squared_error'` which is equivalent.\n",
      "Criterion 'mse' was deprecated in v1.0 and will be removed in version 1.2. Use `criterion='squared_error'` which is equivalent.\n",
      "Criterion 'mse' was deprecated in v1.0 and will be removed in version 1.2. Use `criterion='squared_error'` which is equivalent.\n",
      "Criterion 'mse' was deprecated in v1.0 and will be removed in version 1.2. Use `criterion='squared_error'` which is equivalent.\n",
      "Criterion 'mse' was deprecated in v1.0 and will be removed in version 1.2. Use `criterion='squared_error'` which is equivalent.\n",
      "Criterion 'mse' was deprecated in v1.0 and will be removed in version 1.2. Use `criterion='squared_error'` which is equivalent.\n",
      "Criterion 'mse' was deprecated in v1.0 and will be removed in version 1.2. Use `criterion='squared_error'` which is equivalent.\n",
      "Criterion 'mse' was deprecated in v1.0 and will be removed in version 1.2. Use `criterion='squared_error'` which is equivalent.\n",
      "Criterion 'mse' was deprecated in v1.0 and will be removed in version 1.2. Use `criterion='squared_error'` which is equivalent.\n"
     ]
    },
    {
     "name": "stdout",
     "output_type": "stream",
     "text": [
      "Iteration: 1\n"
     ]
    },
    {
     "name": "stderr",
     "output_type": "stream",
     "text": [
      "Criterion 'mse' was deprecated in v1.0 and will be removed in version 1.2. Use `criterion='squared_error'` which is equivalent.\n",
      "Criterion 'mse' was deprecated in v1.0 and will be removed in version 1.2. Use `criterion='squared_error'` which is equivalent.\n",
      "Criterion 'mse' was deprecated in v1.0 and will be removed in version 1.2. Use `criterion='squared_error'` which is equivalent.\n",
      "Criterion 'mse' was deprecated in v1.0 and will be removed in version 1.2. Use `criterion='squared_error'` which is equivalent.\n",
      "Criterion 'mse' was deprecated in v1.0 and will be removed in version 1.2. Use `criterion='squared_error'` which is equivalent.\n",
      "Criterion 'mse' was deprecated in v1.0 and will be removed in version 1.2. Use `criterion='squared_error'` which is equivalent.\n",
      "Criterion 'mse' was deprecated in v1.0 and will be removed in version 1.2. Use `criterion='squared_error'` which is equivalent.\n",
      "Criterion 'mse' was deprecated in v1.0 and will be removed in version 1.2. Use `criterion='squared_error'` which is equivalent.\n",
      "Criterion 'mse' was deprecated in v1.0 and will be removed in version 1.2. Use `criterion='squared_error'` which is equivalent.\n",
      "Criterion 'mse' was deprecated in v1.0 and will be removed in version 1.2. Use `criterion='squared_error'` which is equivalent.\n",
      "Criterion 'mse' was deprecated in v1.0 and will be removed in version 1.2. Use `criterion='squared_error'` which is equivalent.\n",
      "Criterion 'mse' was deprecated in v1.0 and will be removed in version 1.2. Use `criterion='squared_error'` which is equivalent.\n",
      "Criterion 'mse' was deprecated in v1.0 and will be removed in version 1.2. Use `criterion='squared_error'` which is equivalent.\n",
      "Criterion 'mse' was deprecated in v1.0 and will be removed in version 1.2. Use `criterion='squared_error'` which is equivalent.\n",
      "Criterion 'mse' was deprecated in v1.0 and will be removed in version 1.2. Use `criterion='squared_error'` which is equivalent.\n",
      "Criterion 'mse' was deprecated in v1.0 and will be removed in version 1.2. Use `criterion='squared_error'` which is equivalent.\n",
      "Criterion 'mse' was deprecated in v1.0 and will be removed in version 1.2. Use `criterion='squared_error'` which is equivalent.\n",
      "Criterion 'mse' was deprecated in v1.0 and will be removed in version 1.2. Use `criterion='squared_error'` which is equivalent.\n",
      "Criterion 'mse' was deprecated in v1.0 and will be removed in version 1.2. Use `criterion='squared_error'` which is equivalent.\n",
      "Criterion 'mse' was deprecated in v1.0 and will be removed in version 1.2. Use `criterion='squared_error'` which is equivalent.\n",
      "Criterion 'mse' was deprecated in v1.0 and will be removed in version 1.2. Use `criterion='squared_error'` which is equivalent.\n",
      "Criterion 'mse' was deprecated in v1.0 and will be removed in version 1.2. Use `criterion='squared_error'` which is equivalent.\n",
      "Criterion 'mse' was deprecated in v1.0 and will be removed in version 1.2. Use `criterion='squared_error'` which is equivalent.\n",
      "Criterion 'mse' was deprecated in v1.0 and will be removed in version 1.2. Use `criterion='squared_error'` which is equivalent.\n",
      "Criterion 'mse' was deprecated in v1.0 and will be removed in version 1.2. Use `criterion='squared_error'` which is equivalent.\n",
      "Criterion 'mse' was deprecated in v1.0 and will be removed in version 1.2. Use `criterion='squared_error'` which is equivalent.\n",
      "Criterion 'mse' was deprecated in v1.0 and will be removed in version 1.2. Use `criterion='squared_error'` which is equivalent.\n",
      "Criterion 'mse' was deprecated in v1.0 and will be removed in version 1.2. Use `criterion='squared_error'` which is equivalent.\n",
      "Criterion 'mse' was deprecated in v1.0 and will be removed in version 1.2. Use `criterion='squared_error'` which is equivalent.\n",
      "Criterion 'mse' was deprecated in v1.0 and will be removed in version 1.2. Use `criterion='squared_error'` which is equivalent.\n",
      "Criterion 'mse' was deprecated in v1.0 and will be removed in version 1.2. Use `criterion='squared_error'` which is equivalent.\n",
      "Criterion 'mse' was deprecated in v1.0 and will be removed in version 1.2. Use `criterion='squared_error'` which is equivalent.\n",
      "Criterion 'mse' was deprecated in v1.0 and will be removed in version 1.2. Use `criterion='squared_error'` which is equivalent.\n",
      "Criterion 'mse' was deprecated in v1.0 and will be removed in version 1.2. Use `criterion='squared_error'` which is equivalent.\n",
      "Criterion 'mse' was deprecated in v1.0 and will be removed in version 1.2. Use `criterion='squared_error'` which is equivalent.\n"
     ]
    },
    {
     "name": "stdout",
     "output_type": "stream",
     "text": [
      "Iteration: 2\n"
     ]
    }
   ],
   "source": [
    "imputer = MissForest()\n",
    "labs_MFimputed = imputer.fit_transform(labs_matched)"
   ]
  },
  {
   "cell_type": "code",
   "execution_count": 533,
   "id": "ac6175cf-9cde-4416-bedd-b6dcaa0b7b13",
   "metadata": {},
   "outputs": [
    {
     "data": {
      "text/plain": [
       "Index(['PLATELET COUNT', 'AST/SGOT', 'CALCIUM', 'GLUCOSE', 'BICARBONATE',\n",
       "       'CHLORIDE', 'POTASSIUM', 'HEMATOCRIT', 'WHITE BLOOD CELL COUNT',\n",
       "       'CREATININE', 'TOTAL PROTEIN', 'ALBUMIN', 'BLOOD UREA NITROGEN',\n",
       "       'ANION GAP', 'EGFR', 'EGFR FOR AFRICAN AMERICANS', 'SODIUM',\n",
       "       'BILIRUBIN TOTAL', 'ALKALINE PHOSPHATASE', 'ALT/SGPT', 'HEMOGLOBIN',\n",
       "       'RED BLOOD CELL COUNT', 'MEAN CORPUSCULAR HGB',\n",
       "       'MEAN CORPUSCULAR VOLUME', 'MEAN PLATELET VOLUME',\n",
       "       'RED CELL DISTRIBUTION WIDTH', 'MEAN CORPUSCULAR HGB CONCENTRN',\n",
       "       'MONOCYTE PERCENT', 'NEUTROPHIL PERCENT', 'EOSINOPHIL PERCENT',\n",
       "       'LYMPH PERCENT', 'NEUTROPHIL ABSOLUTE', 'LYMPHOCYTE ABSOLUTE',\n",
       "       'MONOCYTE ABSOLUTE', 'EOSINOPHIL ABSOLUTE'],\n",
       "      dtype='object')"
      ]
     },
     "execution_count": 533,
     "metadata": {},
     "output_type": "execute_result"
    }
   ],
   "source": [
    "labs_matched.columns"
   ]
  },
  {
   "cell_type": "code",
   "execution_count": 535,
   "id": "9e04a934-0588-4edd-94c0-9519e03bb667",
   "metadata": {},
   "outputs": [
    {
     "data": {
      "text/plain": [
       "(15987, 35)"
      ]
     },
     "execution_count": 535,
     "metadata": {},
     "output_type": "execute_result"
    }
   ],
   "source": [
    "labs_matched.shape"
   ]
  },
  {
   "cell_type": "code",
   "execution_count": 534,
   "id": "1d2fa081-fbf1-4b07-b6c8-c0d1afc227d4",
   "metadata": {
    "tags": []
   },
   "outputs": [],
   "source": [
    "imputed_labs_df = pd.DataFrame(labs_MFimputed, columns=['PLATELET COUNT', 'AST/SGOT', 'CALCIUM', 'GLUCOSE','BICARBONATE', \n",
    "                                                        'CHLORIDE', 'POTASSIUM', 'HEMATOCRIT','WHITE BLOOD CELL COUNT', \n",
    "                                                        'CREATININE', 'TOTAL PROTEIN', 'ALBUMIN','BLOOD UREA NITROGEN', \n",
    "                                                        'ANION GAP', 'EGFR','EGFR FOR AFRICAN AMERICANS', 'SODIUM', \n",
    "                                                        'BILIRUBIN TOTAL','ALKALINE PHOSPHATASE', 'ALT/SGPT', 'HEMOGLOBIN',\n",
    "                                                        'RED BLOOD CELL COUNT', 'MEAN CORPUSCULAR HGB',\n",
    "                                                        'MEAN CORPUSCULAR VOLUME', 'MEAN PLATELET VOLUME',\n",
    "                                                        'RED CELL DISTRIBUTION WIDTH', 'MEAN CORPUSCULAR HGB CONCENTRN',\n",
    "                                                        'MONOCYTE PERCENT', 'NEUTROPHIL PERCENT','EOSINOPHIL PERCENT', \n",
    "                                                        'LYMPH PERCENT', 'NEUTROPHIL ABSOLUTE','LYMPHOCYTE ABSOLUTE', \n",
    "                                                        'MONOCYTE ABSOLUTE','EOSINOPHIL ABSOLUTE'])"
   ]
  },
  {
   "cell_type": "code",
   "execution_count": 536,
   "id": "9246d4e3-78ab-48c1-9ad2-fba00b255b52",
   "metadata": {},
   "outputs": [
    {
     "data": {
      "text/plain": [
       "(15987, 35)"
      ]
     },
     "execution_count": 536,
     "metadata": {},
     "output_type": "execute_result"
    }
   ],
   "source": [
    "imputed_labs_df.shape"
   ]
  },
  {
   "cell_type": "code",
   "execution_count": 537,
   "id": "6ec8f250-528a-423a-8612-5758ca20e7e0",
   "metadata": {
    "tags": []
   },
   "outputs": [],
   "source": [
    "imputed_labs_df['patient_num'] = labs_matched.index.values"
   ]
  },
  {
   "cell_type": "code",
   "execution_count": 538,
   "id": "e23fdd8e-59e4-4f85-a6d5-dc7688a65bd4",
   "metadata": {},
   "outputs": [],
   "source": [
    "imp_labs=imputed_labs_df.set_index('patient_num')"
   ]
  },
  {
   "cell_type": "code",
   "execution_count": 539,
   "id": "0f0ab0e9-9627-419c-9c31-be9927d929b0",
   "metadata": {
    "tags": []
   },
   "outputs": [
    {
     "data": {
      "text/plain": [
       "15987"
      ]
     },
     "execution_count": 539,
     "metadata": {},
     "output_type": "execute_result"
    }
   ],
   "source": [
    "len(imputed_labs_df.patient_num.unique()) "
   ]
  },
  {
   "cell_type": "code",
   "execution_count": 544,
   "id": "426c20e0-e7f9-4c2d-ba39-fcc84025803d",
   "metadata": {
    "tags": []
   },
   "outputs": [
    {
     "data": {
      "text/plain": [
       "False"
      ]
     },
     "execution_count": 544,
     "metadata": {},
     "output_type": "execute_result"
    }
   ],
   "source": [
    "imp_labs.isnull().any().any()"
   ]
  },
  {
   "cell_type": "code",
   "execution_count": 545,
   "id": "9a4441ec-d16c-4835-83d2-091859e42096",
   "metadata": {},
   "outputs": [],
   "source": [
    "with open(r'./pickles/imp_labs.pkl', 'wb') as handle:\n",
    "    pickle.dump(imp_labs, handle, protocol=pickle.HIGHEST_PROTOCOL)"
   ]
  },
  {
   "cell_type": "code",
   "execution_count": 1188,
   "id": "20936ee7-fda4-41b1-89cb-0c0596df8b31",
   "metadata": {},
   "outputs": [],
   "source": [
    "with open(r'./pickles/imp_labs.pkl', 'rb') as handle:\n",
    "    imp_labs = pickle.load(handle)"
   ]
  },
  {
   "cell_type": "code",
   "execution_count": null,
   "id": "3cb0b328-1ccd-4df7-a8bc-3864f5477ac3",
   "metadata": {},
   "outputs": [],
   "source": [
    "#normalize\n",
    "labs_norm = pd.DataFrame(scaler.fit_transform(imp_labs), columns=imp_labs.columns, index=imp_labs.index)"
   ]
  },
  {
   "cell_type": "code",
   "execution_count": 547,
   "id": "d339830f-b497-4937-aa20-385fc8b8c858",
   "metadata": {},
   "outputs": [],
   "source": [
    "with open(r'./pickles/labs_norm.pkl', 'wb') as handle:\n",
    "    pickle.dump(labs_norm, handle, protocol=pickle.HIGHEST_PROTOCOL)"
   ]
  },
  {
   "cell_type": "markdown",
   "id": "0d429b51-e050-4c91-bf05-d86a97edf3b5",
   "metadata": {
    "tags": []
   },
   "source": [
    "### 8. Convert ICD codes to phenotypes"
   ]
  },
  {
   "cell_type": "markdown",
   "id": "09db6546-c150-4625-84b5-19631b546920",
   "metadata": {
    "jp-MarkdownHeadingCollapsed": true,
    "tags": []
   },
   "source": [
    "#### A. Convert all codes in diags in phenotypes"
   ]
  },
  {
   "cell_type": "code",
   "execution_count": 8,
   "id": "b5001ecf-7ff6-46b3-81fb-f70b88dbe7d1",
   "metadata": {},
   "outputs": [],
   "source": [
    "with open(r'./pickles/diags.pkl', 'rb') as handle:\n",
    "    diags = pickle.load(handle)"
   ]
  },
  {
   "cell_type": "code",
   "execution_count": 7,
   "id": "188f3fcd-fb30-4237-9098-ca77c28a0274",
   "metadata": {},
   "outputs": [
    {
     "data": {
      "text/plain": [
       "37021872"
      ]
     },
     "execution_count": 7,
     "metadata": {},
     "output_type": "execute_result"
    }
   ],
   "source": [
    "listofzeros = [0] * len(diags)\n",
    "len(listofzeros)"
   ]
  },
  {
   "cell_type": "code",
   "execution_count": null,
   "id": "500874f3-4c52-43b3-9f9c-7616bc9edf0d",
   "metadata": {
    "collapsed": true,
    "jupyter": {
     "outputs_hidden": true
    },
    "tags": []
   },
   "outputs": [
    {
     "name": "stdout",
     "output_type": "stream",
     "text": [
      "--- 6.103515625e-05 seconds ---\n",
      "+++++++++++++++\n",
      "0\n",
      "time per 100k: 0.0  minutes\n",
      "total time: 0.0 minutes\n",
      "+++++++++++++++\n",
      "100000\n",
      "time per 100k: 0.64  minutes\n",
      "total time: 0.64 minutes\n",
      "+++++++++++++++\n",
      "200000\n",
      "time per 100k: 0.63  minutes\n",
      "total time: 1.27 minutes\n",
      "+++++++++++++++\n",
      "300000\n",
      "time per 100k: 0.63  minutes\n",
      "total time: 1.9 minutes\n",
      "+++++++++++++++\n",
      "400000\n",
      "time per 100k: 0.65  minutes\n",
      "total time: 2.55 minutes\n",
      "+++++++++++++++\n",
      "500000\n",
      "time per 100k: 0.63  minutes\n",
      "total time: 3.18 minutes\n",
      "+++++++++++++++\n",
      "600000\n",
      "time per 100k: 0.57  minutes\n",
      "total time: 3.75 minutes\n",
      "+++++++++++++++\n",
      "700000\n",
      "time per 100k: 0.55  minutes\n",
      "total time: 4.31 minutes\n",
      "+++++++++++++++\n",
      "800000\n",
      "time per 100k: 0.55  minutes\n",
      "total time: 4.86 minutes\n",
      "+++++++++++++++\n",
      "900000\n",
      "time per 100k: 0.55  minutes\n",
      "total time: 5.41 minutes\n",
      "+++++++++++++++\n",
      "1000000\n",
      "time per 100k: 0.63  minutes\n",
      "total time: 6.04 minutes\n",
      "+++++++++++++++\n",
      "1100000\n",
      "time per 100k: 0.64  minutes\n",
      "total time: 6.68 minutes\n",
      "+++++++++++++++\n",
      "1200000\n",
      "time per 100k: 0.64  minutes\n",
      "total time: 7.32 minutes\n",
      "+++++++++++++++\n",
      "1300000\n",
      "time per 100k: 0.63  minutes\n",
      "total time: 7.95 minutes\n",
      "+++++++++++++++\n",
      "1400000\n",
      "time per 100k: 0.63  minutes\n",
      "total time: 8.59 minutes\n",
      "+++++++++++++++\n",
      "1500000\n",
      "time per 100k: 0.64  minutes\n",
      "total time: 9.22 minutes\n",
      "+++++++++++++++\n",
      "1600000\n",
      "time per 100k: 0.64  minutes\n",
      "total time: 9.86 minutes\n",
      "+++++++++++++++\n",
      "1700000\n",
      "time per 100k: 0.63  minutes\n",
      "total time: 10.49 minutes\n",
      "+++++++++++++++\n",
      "1800000\n",
      "time per 100k: 0.63  minutes\n",
      "total time: 11.13 minutes\n",
      "+++++++++++++++\n",
      "1900000\n",
      "time per 100k: 0.63  minutes\n",
      "total time: 11.76 minutes\n",
      "+++++++++++++++\n",
      "2000000\n",
      "time per 100k: 0.64  minutes\n",
      "total time: 12.4 minutes\n",
      "+++++++++++++++\n",
      "2100000\n",
      "time per 100k: 0.64  minutes\n",
      "total time: 13.03 minutes\n",
      "+++++++++++++++\n",
      "2200000\n",
      "time per 100k: 0.64  minutes\n",
      "total time: 13.67 minutes\n",
      "+++++++++++++++\n",
      "2300000\n",
      "time per 100k: 0.64  minutes\n",
      "total time: 14.31 minutes\n",
      "+++++++++++++++\n",
      "2400000\n",
      "time per 100k: 0.64  minutes\n",
      "total time: 14.95 minutes\n",
      "+++++++++++++++\n",
      "2500000\n",
      "time per 100k: 0.63  minutes\n",
      "total time: 15.58 minutes\n",
      "+++++++++++++++\n",
      "2600000\n",
      "time per 100k: 0.64  minutes\n",
      "total time: 16.22 minutes\n",
      "+++++++++++++++\n",
      "2700000\n",
      "time per 100k: 0.64  minutes\n",
      "total time: 16.86 minutes\n",
      "+++++++++++++++\n",
      "2800000\n",
      "time per 100k: 0.64  minutes\n",
      "total time: 17.5 minutes\n",
      "+++++++++++++++\n",
      "2900000\n",
      "time per 100k: 0.64  minutes\n",
      "total time: 18.14 minutes\n",
      "+++++++++++++++\n",
      "3000000\n",
      "time per 100k: 0.64  minutes\n",
      "total time: 18.77 minutes\n",
      "+++++++++++++++\n",
      "3100000\n",
      "time per 100k: 0.64  minutes\n",
      "total time: 19.41 minutes\n",
      "+++++++++++++++\n",
      "3200000\n",
      "time per 100k: 0.64  minutes\n",
      "total time: 20.05 minutes\n",
      "+++++++++++++++\n",
      "3300000\n",
      "time per 100k: 0.63  minutes\n",
      "total time: 20.68 minutes\n",
      "+++++++++++++++\n",
      "3400000\n",
      "time per 100k: 0.64  minutes\n",
      "total time: 21.32 minutes\n",
      "+++++++++++++++\n",
      "3500000\n",
      "time per 100k: 0.55  minutes\n",
      "total time: 21.87 minutes\n",
      "+++++++++++++++\n",
      "3600000\n",
      "time per 100k: 0.51  minutes\n",
      "total time: 22.38 minutes\n",
      "+++++++++++++++\n",
      "3700000\n",
      "time per 100k: 0.51  minutes\n",
      "total time: 22.89 minutes\n",
      "+++++++++++++++\n",
      "3800000\n",
      "time per 100k: 0.51  minutes\n",
      "total time: 23.41 minutes\n",
      "+++++++++++++++\n",
      "3900000\n",
      "time per 100k: 0.51  minutes\n",
      "total time: 23.91 minutes\n",
      "+++++++++++++++\n",
      "4000000\n",
      "time per 100k: 0.51  minutes\n",
      "total time: 24.43 minutes\n",
      "+++++++++++++++\n",
      "4100000\n",
      "time per 100k: 0.51  minutes\n",
      "total time: 24.94 minutes\n",
      "+++++++++++++++\n",
      "4200000\n",
      "time per 100k: 0.51  minutes\n",
      "total time: 25.45 minutes\n",
      "+++++++++++++++\n",
      "4300000\n",
      "time per 100k: 0.51  minutes\n",
      "total time: 25.96 minutes\n",
      "+++++++++++++++\n",
      "4400000\n",
      "time per 100k: 0.51  minutes\n",
      "total time: 26.47 minutes\n",
      "+++++++++++++++\n",
      "4500000\n",
      "time per 100k: 0.51  minutes\n",
      "total time: 26.98 minutes\n",
      "+++++++++++++++\n",
      "4600000\n",
      "time per 100k: 0.51  minutes\n",
      "total time: 27.48 minutes\n",
      "+++++++++++++++\n",
      "4700000\n",
      "time per 100k: 0.5  minutes\n",
      "total time: 27.99 minutes\n",
      "+++++++++++++++\n",
      "4800000\n",
      "time per 100k: 0.51  minutes\n",
      "total time: 28.49 minutes\n",
      "+++++++++++++++\n",
      "4900000\n",
      "time per 100k: 0.51  minutes\n",
      "total time: 29.0 minutes\n",
      "+++++++++++++++\n",
      "5000000\n",
      "time per 100k: 0.5  minutes\n",
      "total time: 29.51 minutes\n",
      "+++++++++++++++\n",
      "5100000\n",
      "time per 100k: 0.51  minutes\n",
      "total time: 30.01 minutes\n",
      "+++++++++++++++\n",
      "5200000\n",
      "time per 100k: 0.5  minutes\n",
      "total time: 30.52 minutes\n",
      "+++++++++++++++\n",
      "5300000\n",
      "time per 100k: 0.51  minutes\n",
      "total time: 31.02 minutes\n",
      "+++++++++++++++\n",
      "5400000\n",
      "time per 100k: 0.51  minutes\n",
      "total time: 31.53 minutes\n"
     ]
    }
   ],
   "source": [
    "listofzeros = [0] * len(diags)\n",
    "i=0\n",
    "start_time = time.time()\n",
    "print(\"--- %s seconds ---\" % (time.time() - start_time))\n",
    "tmplooptime = time.time()\n",
    "for x in diags.dx_code:\n",
    "    if x in icd9map.index:\n",
    "        listofzeros[i] = icd9map.loc[[x]].Phenotype.values[0]\n",
    "    elif x in icd10map.index:\n",
    "        listofzeros[i] = icd10map.loc[[x]].Phenotype.values[0]\n",
    "    elif x == 'OPTH':\n",
    "        listofzeros[i] = 'OPTH'\n",
    "    elif x == 'CVD':\n",
    "        listofzeros[i] = 'CVD'\n",
    "    elif x == 'KIDNEY':\n",
    "        listofzeros[i] = 'KIDNEY'\n",
    "    elif x == 'NEUROPATH':\n",
    "        listofzeros[i] = 'NEUROPATH'\n",
    "    else:\n",
    "        listofzeros[i] = 'NaN'\n",
    "    if i%100000==0:\n",
    "        print('+++++++++++++++')\n",
    "        print(i)\n",
    "        print('time per 100k:',np.round((time.time()-tmplooptime)/60,2), ' minutes')\n",
    "        print('total time:',np.round((time.time() - start_time)/60,2), 'minutes')\n",
    "        tmplooptime = time.time()\n",
    "    i+=1"
   ]
  },
  {
   "cell_type": "code",
   "execution_count": null,
   "id": "16c62640-0f0e-4187-a22e-66e18c3c0648",
   "metadata": {},
   "outputs": [],
   "source": [
    "with open(r'./pickles/listofzeros.pkl', 'wb') as handle:\n",
    "    pickle.dump(listofzeros, handle, protocol=pickle.HIGHEST_PROTOCOL)"
   ]
  },
  {
   "cell_type": "code",
   "execution_count": null,
   "id": "81d91969-28bf-47a2-94a8-f3cf2b5d90bb",
   "metadata": {},
   "outputs": [],
   "source": [
    "diags['Phenotypes'] = listofzeros"
   ]
  },
  {
   "cell_type": "code",
   "execution_count": null,
   "id": "9d82ee00-7870-448e-b96f-0f3886d517be",
   "metadata": {},
   "outputs": [],
   "source": [
    "diags_phen=diags.drop(['dx_code'],axis=1)"
   ]
  },
  {
   "cell_type": "markdown",
   "id": "71fc554d-6a84-496a-b12d-9d2cefba6659",
   "metadata": {
    "heading_collapsed": true,
    "jp-MarkdownHeadingCollapsed": true,
    "tags": []
   },
   "source": [
    "#### B. Removing phenotypes after inital diab diagnosis"
   ]
  },
  {
   "cell_type": "code",
   "execution_count": 9,
   "id": "0e03ac88-67c4-48f3-8d7a-6ae4699cecfe",
   "metadata": {},
   "outputs": [],
   "source": [
    "with open(r'./pickles/init_diab_diag.pkl', 'rb') as handle:\n",
    "    init_diab_diag = pickle.load(handle)\n",
    "with open(r'./pickles/init_comps_dict.pkl', 'rb') as handle:\n",
    "    init_comps_dict = pickle.load(handle)"
   ]
  },
  {
   "cell_type": "code",
   "execution_count": 10,
   "id": "5057eaa7",
   "metadata": {
    "ExecuteTime": {
     "end_time": "2021-08-18T20:10:02.223126Z",
     "start_time": "2021-08-18T20:10:02.215147Z"
    },
    "hidden": true
   },
   "outputs": [],
   "source": [
    "#drop the complications prior to first DM code but KEEP DAY OF first DM code\n",
    "def drop_after_init(df, init_dict):\n",
    "    drop_list = []\n",
    "    patient_ids = init_dict.keys()\n",
    "    for pt in patient_ids:\n",
    "        drop_list.extend(list(df[(df.patient_num == pt) & \n",
    "                                 (df.dx_date > init_dict[pt])].index))\n",
    "    print('Number to be dropped:', len(drop_list))\n",
    "    print('Number to keep:', df.shape[0] - len(drop_list))\n",
    "    df.drop(drop_list, axis=0, inplace=True)\n",
    "    print('Final DF Shape:', df.shape)"
   ]
  },
  {
   "cell_type": "code",
   "execution_count": null,
   "id": "74ca1f56-07fb-4f35-8717-0d24bdb8a61b",
   "metadata": {},
   "outputs": [],
   "source": [
    "drop_after_init(diags_phen, init_diab_diag)"
   ]
  },
  {
   "cell_type": "code",
   "execution_count": null,
   "id": "72cebcd6",
   "metadata": {
    "ExecuteTime": {
     "end_time": "2021-08-24T02:02:37.145825Z",
     "start_time": "2021-08-24T02:02:36.751233Z"
    },
    "hidden": true,
    "tags": []
   },
   "outputs": [],
   "source": [
    "with open(r'./pickles/diags_phen.pickle', 'wb') as handle:\n",
    "    pickle.dump(diags_phen, handle, protocol=pickle.HIGHEST_PROTOCOL)"
   ]
  },
  {
   "cell_type": "code",
   "execution_count": 64,
   "id": "df9315f4",
   "metadata": {},
   "outputs": [],
   "source": [
    "with open(r'./pickles/diags_phen.pickle', 'rb') as handle:\n",
    "    diags_phen = pickle.load(handle)"
   ]
  },
  {
   "cell_type": "markdown",
   "id": "81c39e46-07b7-4060-addc-d9671b0703b8",
   "metadata": {
    "jp-MarkdownHeadingCollapsed": true,
    "tags": []
   },
   "source": [
    "### 9. Model inputs"
   ]
  },
  {
   "cell_type": "markdown",
   "id": "ac06d8f6-3994-4fbe-8f87-affa11771e93",
   "metadata": {
    "tags": []
   },
   "source": [
    "#### A. Create pivot table of prediab phenotypes, binarize, drop NaN col"
   ]
  },
  {
   "cell_type": "code",
   "execution_count": 62,
   "id": "4cb4f895-77b8-445c-b205-d00a61b10095",
   "metadata": {},
   "outputs": [],
   "source": [
    "with open(r'./pickles/demos_R.pkl', 'rb') as handle:\n",
    "    demos_R = pickle.load(handle)\n",
    "with open(r'/Users/amomenzadeh/Desktop/DM_pickles/social_df_onehot.pkl', 'rb') as handle:\n",
    "    social_df_onehot = pickle.load(handle)\n",
    "with open(r'./pickles/vitals_norm.pkl', 'rb') as handle:\n",
    "    vitals_norm = pickle.load(handle)\n",
    "with open(r'./pickles/labs_norm.pkl', 'rb') as handle:\n",
    "    labs_norm = pickle.load(handle)"
   ]
  },
  {
   "cell_type": "code",
   "execution_count": 65,
   "id": "7ac0e643-a462-4b8d-bd7a-6edfb5a6b1ad",
   "metadata": {},
   "outputs": [],
   "source": [
    "#binarize\n",
    "phen_prediab_bin = diags_phen.reset_index().pivot_table(index='patient_num', columns='Phenotypes', values='index',   # create pivot table of binary entries for dx code before diab diagnosis\n",
    "                                                              aggfunc='count', fill_value=0).clip(upper=1)"
   ]
  },
  {
   "cell_type": "code",
   "execution_count": 66,
   "id": "6e571b1b-f12f-4120-9f83-1e9de3669457",
   "metadata": {},
   "outputs": [],
   "source": [
    "phen_prediab_bin.drop(['NaN'],axis=1,inplace=True)"
   ]
  },
  {
   "cell_type": "code",
   "execution_count": 67,
   "id": "cfc8287f-1be6-4e74-8654-fba7c21f9e41",
   "metadata": {},
   "outputs": [
    {
     "data": {
      "text/plain": [
       "(30854, 1721)"
      ]
     },
     "execution_count": 67,
     "metadata": {},
     "output_type": "execute_result"
    }
   ],
   "source": [
    "phen_prediab_bin.shape"
   ]
  },
  {
   "cell_type": "code",
   "execution_count": null,
   "id": "2b4b7394-d0fa-42ed-bc01-a58b9306a13a",
   "metadata": {},
   "outputs": [],
   "source": [
    "with open(r'./pickles/phen_prediab_bin.pkl', 'wb') as handle:\n",
    "    pickle.dump(phen_prediab_bin, handle, protocol=pickle.HIGHEST_PROTOCOL)"
   ]
  },
  {
   "cell_type": "markdown",
   "id": "c89f512e-0e49-495d-b7b3-a55d41a2a2bb",
   "metadata": {
    "tags": []
   },
   "source": [
    "#### B. Merge Phenotypes + Demos"
   ]
  },
  {
   "cell_type": "code",
   "execution_count": 68,
   "id": "718309ae",
   "metadata": {
    "ExecuteTime": {
     "end_time": "2021-08-25T01:44:41.233628Z",
     "start_time": "2021-08-25T01:44:35.193772Z"
    },
    "hidden": true,
    "tags": []
   },
   "outputs": [
    {
     "data": {
      "text/plain": [
       "(30854, 1754)"
      ]
     },
     "execution_count": 68,
     "metadata": {},
     "output_type": "execute_result"
    }
   ],
   "source": [
    "phen_demos = phen_prediab_bin.merge(demos_R,left_index=True, right_index=True)\n",
    "phen_demos.shape"
   ]
  },
  {
   "cell_type": "markdown",
   "id": "d28501aa-2f7c-4eb0-b030-28c619377580",
   "metadata": {
    "tags": []
   },
   "source": [
    "#### C. Merge Phenotypes + Demos + Vitals"
   ]
  },
  {
   "cell_type": "code",
   "execution_count": 69,
   "id": "e9527559-3d30-4c22-ba02-53dd32c7fa8d",
   "metadata": {},
   "outputs": [
    {
     "data": {
      "text/plain": [
       "(22475, 1760)"
      ]
     },
     "execution_count": 69,
     "metadata": {},
     "output_type": "execute_result"
    }
   ],
   "source": [
    "phen_demos_vit = phen_demos.merge(vitals_norm,left_index=True, right_index=True)\n",
    "phen_demos_vit.shape"
   ]
  },
  {
   "cell_type": "markdown",
   "id": "90cc5d60-08f8-4b3b-9ad0-9de4a6712546",
   "metadata": {
    "tags": []
   },
   "source": [
    "#### D. Merge Phenotypes + Demos + Vitals + Social"
   ]
  },
  {
   "cell_type": "code",
   "execution_count": 70,
   "id": "5e1b4f5d-fdbb-4dd5-959e-c07332c261bb",
   "metadata": {
    "tags": []
   },
   "outputs": [
    {
     "data": {
      "text/plain": [
       "(19528, 1789)"
      ]
     },
     "execution_count": 70,
     "metadata": {},
     "output_type": "execute_result"
    }
   ],
   "source": [
    "phen_demos_vit_soc = phen_demos_vit.merge(social_df_onehot, left_index=True, right_index=True)\n",
    "phen_demos_vit_soc.shape"
   ]
  },
  {
   "cell_type": "markdown",
   "id": "a1bab7ea-b559-4684-bc6e-aa260ca40ad1",
   "metadata": {
    "tags": []
   },
   "source": [
    "#### E. Merge Phenotypes + Demos + Vitals + Social + Labs"
   ]
  },
  {
   "cell_type": "code",
   "execution_count": 71,
   "id": "c8f3f6a8-c2d0-43f1-bcdd-63e4d9f70927",
   "metadata": {},
   "outputs": [
    {
     "data": {
      "text/plain": [
       "(15987, 1824)"
      ]
     },
     "execution_count": 71,
     "metadata": {},
     "output_type": "execute_result"
    }
   ],
   "source": [
    "phen_demos_vit_soc_lab = phen_demos_vit_soc.merge(labs_norm, left_index=True, right_index=True)\n",
    "phen_demos_vit_soc_lab.shape"
   ]
  },
  {
   "cell_type": "code",
   "execution_count": 72,
   "id": "693fc347-4def-454e-a5c9-e58cb4044dc0",
   "metadata": {},
   "outputs": [],
   "source": [
    "with open(r'/Users/amomenzadeh/Desktop/DM_pickles/phen_demos_vit_soc_lab.pkl', 'wb') as handle:\n",
    "    pickle.dump(phen_demos_vit_soc_lab, handle, protocol=pickle.HIGHEST_PROTOCOL)"
   ]
  },
  {
   "cell_type": "code",
   "execution_count": null,
   "id": "3a613180-fc4a-458a-b653-071a51ad6265",
   "metadata": {},
   "outputs": [],
   "source": [
    "with open(r'./pickles/phen_demos_vit_soc_lab.pkl', 'rb') as handle:\n",
    "    phen_demos_vit_soc_lab = pickle.load(handle) "
   ]
  }
 ],
 "metadata": {
  "kernelspec": {
   "display_name": "Python 3 (ipykernel)",
   "language": "python",
   "name": "python3"
  },
  "language_info": {
   "codemirror_mode": {
    "name": "ipython",
    "version": 3
   },
   "file_extension": ".py",
   "mimetype": "text/x-python",
   "name": "python",
   "nbconvert_exporter": "python",
   "pygments_lexer": "ipython3",
   "version": "3.7.11"
  },
  "varInspector": {
   "cols": {
    "lenName": "24",
    "lenType": 16,
    "lenVar": "0"
   },
   "kernels_config": {
    "python": {
     "delete_cmd_postfix": "",
     "delete_cmd_prefix": "del ",
     "library": "var_list.py",
     "varRefreshCmd": "print(var_dic_list())"
    },
    "r": {
     "delete_cmd_postfix": ") ",
     "delete_cmd_prefix": "rm(",
     "library": "var_list.r",
     "varRefreshCmd": "cat(var_dic_list()) "
    }
   },
   "oldHeight": 589.043,
   "position": {
    "height": "40px",
    "left": "1370.37px",
    "right": "20px",
    "top": "184.672px",
    "width": "522.598px"
   },
   "types_to_exclude": [
    "module",
    "function",
    "builtin_function_or_method",
    "instance",
    "_Feature"
   ],
   "varInspector_section_display": "none",
   "window_display": false
  }
 },
 "nbformat": 4,
 "nbformat_minor": 5
}
