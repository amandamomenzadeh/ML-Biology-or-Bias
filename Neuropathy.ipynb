{
 "cells": [
  {
   "cell_type": "markdown",
   "id": "dfef385c-6bf2-46cf-8cb5-0e02fee14270",
   "metadata": {
    "tags": []
   },
   "source": [
    "## Neuropathy\n",
    "\n",
    "----------------------------------"
   ]
  },
  {
   "cell_type": "markdown",
   "id": "775ead9f-e6d8-4449-b316-0a62f962ac7f",
   "metadata": {
    "jp-MarkdownHeadingCollapsed": true,
    "tags": []
   },
   "source": [
    "### 1. Import packages"
   ]
  },
  {
   "cell_type": "code",
   "execution_count": null,
   "id": "3da196dd-0ee4-40d9-ac8c-4b3b5df29a43",
   "metadata": {},
   "outputs": [],
   "source": [
    "#!conda install -c https://conda.anaconda.org/plotly plotly -y\n",
    "#!pip install pydot\n",
    "#!pip install graphviz\n",
    "#!conda install -c anaconda py-xgboost -y\n",
    "#!pip install shap\n",
    "#!pip install dill\n",
    "#pip install matplotlib\n",
    "#pip install seaborn\n",
    "#pip install missingpy\n",
    "#!pip3 install pickle5\n",
    "#pip install statannot"
   ]
  },
  {
   "cell_type": "code",
   "execution_count": 1,
   "id": "12b50529",
   "metadata": {
    "ExecuteTime": {
     "end_time": "2021-09-24T21:11:10.209823Z",
     "start_time": "2021-09-24T21:10:59.833304Z"
    },
    "run_control": {
     "marked": false
    },
    "tags": []
   },
   "outputs": [],
   "source": [
    "import pandas as pd\n",
    "import sqlite3 as sql\n",
    "import numpy as np\n",
    "from IPython.display import HTML\n",
    "from datetime import datetime\n",
    "\n",
    "%matplotlib inline\n",
    "import matplotlib\n",
    "import matplotlib.pyplot as plt\n",
    "import seaborn as sns\n",
    "sns.set()  # set plot style\n",
    "from collections import Counter\n",
    "import scipy as sp\n",
    "import sklearn as sk\n",
    "import sys\n",
    "import plotly.express as px\n",
    "import pydot\n",
    "import pickle\n",
    "import time\n",
    "import xgboost as xgb\n",
    "import shap\n",
    "import dill\n",
    "import gc\n",
    "import subprocess\n",
    "import pickle5 as pickle\n",
    "import sklearn.metrics as metrics\n",
    "from scipy.stats import ranksums, ttest_ind\n",
    "from statsmodels.stats.weightstats import ztest\n",
    "import pylab \n",
    "import scipy.stats as stats\n",
    "from scipy.stats import chi2_contingency\n",
    "from matplotlib import rc\n",
    "from cycler import cycler\n",
    "from sklearn.calibration import calibration_curve\n",
    "from sklearn.metrics import brier_score_loss\n",
    "from statannot import add_stat_annotation"
   ]
  },
  {
   "cell_type": "code",
   "execution_count": 2,
   "id": "b9c1ee78",
   "metadata": {
    "ExecuteTime": {
     "end_time": "2021-09-24T21:11:10.240882Z",
     "start_time": "2021-09-24T21:11:10.225260Z"
    },
    "tags": []
   },
   "outputs": [],
   "source": [
    "import os\n",
    "from pandas.plotting import scatter_matrix\n",
    "from matplotlib import pyplot\n",
    "\n",
    "from collections import defaultdict\n",
    "\n",
    "from sklearn.linear_model import Lasso\n",
    "from sklearn.linear_model import ElasticNet\n",
    "from sklearn.linear_model import LinearRegression\n",
    "from sklearn.linear_model import RidgeCV\n",
    "\n",
    "from sklearn.model_selection import train_test_split\n",
    "from sklearn.model_selection import cross_val_score\n",
    "from sklearn.model_selection import StratifiedKFold\n",
    "\n",
    "from sklearn.metrics import classification_report\n",
    "from sklearn.metrics import confusion_matrix\n",
    "from sklearn.metrics import accuracy_score\n",
    "from sklearn.metrics import recall_score\n",
    "from sklearn.metrics import precision_score\n",
    "from sklearn.metrics import f1_score\n",
    "from sklearn.metrics import explained_variance_score\n",
    "from sklearn.metrics import mean_absolute_error\n",
    "from sklearn.metrics import mean_squared_error\n",
    "from sklearn.metrics import r2_score\n",
    "from sklearn.metrics import plot_confusion_matrix\n",
    "from sklearn.tree import export_graphviz\n",
    "from sklearn.metrics import roc_curve\n",
    "from sklearn.metrics import roc_auc_score\n",
    "\n",
    "from sklearn.neighbors import KNeighborsRegressor\n",
    "from sklearn.ensemble import RandomForestRegressor\n",
    "from sklearn.ensemble import ExtraTreesRegressor, AdaBoostRegressor, GradientBoostingRegressor\n",
    "from sklearn.dummy import DummyRegressor\n",
    "from sklearn.linear_model import Lasso, Ridge, ElasticNet\n",
    "from sklearn.svm import SVR\n",
    "from sklearn.multioutput import MultiOutputRegressor\n",
    "\n",
    "from sklearn.model_selection import KFold\n",
    "from sklearn.model_selection import ParameterGrid\n",
    "from sklearn.model_selection import GridSearchCV"
   ]
  },
  {
   "cell_type": "code",
   "execution_count": 3,
   "id": "3e4acfe8",
   "metadata": {
    "ExecuteTime": {
     "end_time": "2021-09-24T21:11:10.271596Z",
     "start_time": "2021-09-24T21:11:10.257604Z"
    },
    "tags": []
   },
   "outputs": [],
   "source": [
    "from sklearn.linear_model import LogisticRegression\n",
    "from sklearn.dummy import DummyClassifier\n",
    "from sklearn.ensemble import RandomForestClassifier\n",
    "from sklearn.ensemble import ExtraTreesClassifier\n",
    "from sklearn.ensemble import AdaBoostClassifier\n",
    "from sklearn.ensemble import GradientBoostingClassifier\n",
    "from sklearn.svm import SVC\n",
    "from sklearn.neighbors import KNeighborsClassifier\n",
    "from sklearn.discriminant_analysis import LinearDiscriminantAnalysis\n",
    "from sklearn.naive_bayes import GaussianNB\n",
    "from sklearn.tree import DecisionTreeClassifier\n",
    "import time"
   ]
  },
  {
   "cell_type": "markdown",
   "id": "4b6552b9-1943-45f9-92d5-f66c2774ebc8",
   "metadata": {
    "jp-MarkdownHeadingCollapsed": true,
    "tags": []
   },
   "source": [
    "### 2. Removing pts w/ neuro diff=NaN from Output"
   ]
  },
  {
   "cell_type": "code",
   "execution_count": 4,
   "id": "03df2d1e-4108-464c-a9ca-133023af34f3",
   "metadata": {},
   "outputs": [],
   "source": [
    "with open(r'/Users/amomenzadeh/Desktop/DM_pickles/comps_over1mo_df.pkl', 'rb') as handle:\n",
    "    comps_over1mo_df = pickle.load(handle) "
   ]
  },
  {
   "cell_type": "code",
   "execution_count": 5,
   "id": "ec6831d1-64c6-4782-99f0-1d866bb028b6",
   "metadata": {},
   "outputs": [
    {
     "name": "stdout",
     "output_type": "stream",
     "text": [
      "Total Length:  (30854,)\n",
      "Number to be dropped:  (22222,)\n",
      "Output dataset size: (8632,)\n"
     ]
    }
   ],
   "source": [
    "#1mo\n",
    "neuro_time = comps_over1mo_df.NEUROPATH_diff.copy()\n",
    "neuro_time_drop=neuro_time.replace(np.nan, 'Drop', inplace=False)\n",
    "neuro_index = neuro_time_drop [neuro_time_drop == 'Drop'].index\n",
    "print(\"Total Length: \", neuro_time_drop.shape)\n",
    "print(\"Number to be dropped: \", neuro_time_drop[neuro_time_drop == 'Drop'].shape)\n",
    "# dropping the NaNs from our OUTput data\n",
    "neuro_time_drop.drop(neuro_index, inplace=True)\n",
    "neuro_time_final = neuro_time_drop.astype('float64')\n",
    "print('Output dataset size:', neuro_time_final.shape)"
   ]
  },
  {
   "cell_type": "markdown",
   "id": "bc68b5e8-b93a-4ca0-a596-87de942fb5e6",
   "metadata": {
    "jp-MarkdownHeadingCollapsed": true,
    "tags": []
   },
   "source": [
    "### 3. Two way drop from input and output"
   ]
  },
  {
   "cell_type": "code",
   "execution_count": 6,
   "id": "eb1dfa0f-09b1-4c2d-b30a-c0aa444c4391",
   "metadata": {},
   "outputs": [],
   "source": [
    "with open(r'/Users/amomenzadeh/Desktop/DM_pickles/phen_demos_vit_soc_lab.pkl', 'rb') as handle:\n",
    "    phen_demos_vit_soc_lab = pickle.load(handle)"
   ]
  },
  {
   "cell_type": "code",
   "execution_count": 7,
   "id": "8c8afd19-e260-4821-9b2f-608ba371ab95",
   "metadata": {
    "tags": []
   },
   "outputs": [],
   "source": [
    "def drop_opth_list(output_df,input_df):\n",
    "    extra_list=list(set(input_df.index.tolist())-set(output_df.index.tolist()))\n",
    "    input_df_new=input_df.drop(extra_list)\n",
    "    extra_list_rev=list(set(output_df.index.tolist())-set(input_df_new.index.tolist()))\n",
    "    output_df_new=output_df.drop(extra_list_rev)\n",
    "    print('length of input_df:', len(input_df))\n",
    "    print('length of opth_df:', len(output_df))\n",
    "    print('length of # to drop from  input:',len(extra_list))\n",
    "    print('length of # to drop from  opth:',len(extra_list_rev))\n",
    "    print('length of input_df after dropping',len(input_df_new))\n",
    "    print('length of opth_df after dropping',len(output_df_new))\n",
    "    print('Indexes equal?', np.all(input_df_new.index == output_df_new.index))\n",
    "    return output_df_new, input_df_new"
   ]
  },
  {
   "cell_type": "code",
   "execution_count": 8,
   "id": "eb00fc75-c00b-4279-8d64-0f615a8e9d63",
   "metadata": {},
   "outputs": [
    {
     "data": {
      "text/plain": [
       "(15987, 1824)"
      ]
     },
     "execution_count": 8,
     "metadata": {},
     "output_type": "execute_result"
    }
   ],
   "source": [
    "phen_demos_vit_soc_lab.shape"
   ]
  },
  {
   "cell_type": "code",
   "execution_count": 9,
   "id": "7a276257-d815-4d62-a140-4aaeac24f119",
   "metadata": {},
   "outputs": [
    {
     "data": {
      "text/plain": [
       "(8632,)"
      ]
     },
     "execution_count": 9,
     "metadata": {},
     "output_type": "execute_result"
    }
   ],
   "source": [
    "neuro_time_final.shape"
   ]
  },
  {
   "cell_type": "code",
   "execution_count": 10,
   "id": "82c2754b-d9e0-4412-8f4d-d18bd366ccbe",
   "metadata": {
    "tags": []
   },
   "outputs": [
    {
     "name": "stdout",
     "output_type": "stream",
     "text": [
      "length of input_df: 15987\n",
      "length of opth_df: 8632\n",
      "length of # to drop from  input: 11730\n",
      "length of # to drop from  opth: 4375\n",
      "length of input_df after dropping 4257\n",
      "length of opth_df after dropping 4257\n",
      "Indexes equal? True\n"
     ]
    }
   ],
   "source": [
    "neuro_final, all_inputs=drop_opth_list(neuro_time_final, phen_demos_vit_soc_lab)"
   ]
  },
  {
   "cell_type": "markdown",
   "id": "a3a3db94-cc30-4112-89d3-29f9a9dddc1d",
   "metadata": {
    "jp-MarkdownHeadingCollapsed": true,
    "tags": []
   },
   "source": [
    "### 4. Make output diff times categorical using median as cut-off"
   ]
  },
  {
   "cell_type": "code",
   "execution_count": 11,
   "id": "59008050-e7f7-4468-8d3b-afbf6984b6bf",
   "metadata": {},
   "outputs": [
    {
     "data": {
      "text/plain": [
       "3.2608472453233124"
      ]
     },
     "execution_count": 11,
     "metadata": {},
     "output_type": "execute_result"
    }
   ],
   "source": [
    "neuro_final.median()"
   ]
  },
  {
   "cell_type": "code",
   "execution_count": 12,
   "id": "57f31883-20ec-432a-b923-98684deefe3d",
   "metadata": {},
   "outputs": [
    {
     "data": {
      "text/plain": [
       "15.644400637932332"
      ]
     },
     "execution_count": 12,
     "metadata": {},
     "output_type": "execute_result"
    }
   ],
   "source": [
    "neuro_final.max()"
   ]
  },
  {
   "cell_type": "code",
   "execution_count": 13,
   "id": "a629d0c6-a96a-43fc-847e-644625f80b0a",
   "metadata": {
    "tags": []
   },
   "outputs": [
    {
     "data": {
      "image/png": "[encoded data removed]",
      "text/plain": [
       "<Figure size 864x576 with 1 Axes>"
      ]
     },
     "metadata": {},
     "output_type": "display_data"
    }
   ],
   "source": [
    "plt.figure(figsize=(12,8))\n",
    "plt.rcParams['axes.facecolor']='white'\n",
    "plt.rcParams[\"axes.edgecolor\"] = \"black\"\n",
    "h = plt.hist(neuro_final, edgecolor='#007066', \n",
    "             bins=60, alpha=0.4,\n",
    "             color='#007066')\n",
    "h = plt.axvline(neuro_final.median(), color='maroon', linestyle='solid', linewidth=1.25)\n",
    "min_ylim, max_ylim = plt.ylim()\n",
    "plt.text(neuro_final.median()*1.08, max_ylim*0.6, \n",
    "         'Median: {:.2f} years'.format(neuro_final.median()),\n",
    "         fontsize=24, fontweight=600, color='maroon')\n",
    "plt.xlim(left=0.0)\n",
    "plt.xlabel('Time to Complication (years)', fontsize=26, fontweight=600)\n",
    "plt.ylabel('Counts', fontsize=30, fontweight=600)\n",
    "plt.xticks(fontsize=30)\n",
    "plt.yticks(fontsize=30)\n",
    "plt.title(\"Neuropathy\", fontsize=32, fontweight=600)\n",
    "plt.savefig(r'/Users/amomenzadeh/Desktop/DM_figures/neuro_hist.svg', format='svg')\n",
    "plt.show()"
   ]
  },
  {
   "cell_type": "code",
   "execution_count": 14,
   "id": "48eef47c-ef48-4618-9252-73674e27c7bf",
   "metadata": {},
   "outputs": [],
   "source": [
    "#assign 0 if neuro complication occurred > neuro diff median \n",
    "#assign 1 if neuro complication occurred < neuro diff median \n",
    "neuro_final_clf = neuro_final.copy()\n",
    "neuro_final_clf = pd.Series(np.where((neuro_final_clf > neuro_final.median()), 0, neuro_final_clf), \n",
    "                            index=neuro_final_clf.index)\n",
    "neuro_final_clf = pd.Series(np.where((neuro_final_clf > 0), 1, neuro_final_clf), \n",
    "                            index=neuro_final_clf.index)"
   ]
  },
  {
   "cell_type": "code",
   "execution_count": 15,
   "id": "18480797-661d-48c7-8eec-fc3c12a4b856",
   "metadata": {},
   "outputs": [
    {
     "name": "stdout",
     "output_type": "stream",
     "text": [
      "49.99% negative\n",
      "50.01% positive\n"
     ]
    }
   ],
   "source": [
    "num_negs = neuro_final_clf.value_counts()[0]\n",
    "num_pos = neuro_final_clf.value_counts()[1]\n",
    "neg_prop = num_negs/(num_negs + num_pos)\n",
    "print(str(round(neg_prop*100,2)), '% negative', sep='')\n",
    "print(str(100-round(neg_prop*100,2)), '% positive', sep='')"
   ]
  },
  {
   "cell_type": "code",
   "execution_count": 16,
   "id": "68495c27-368f-48ca-916d-6e001991e26a",
   "metadata": {},
   "outputs": [
    {
     "data": {
      "text/plain": [
       "(4257,)"
      ]
     },
     "execution_count": 16,
     "metadata": {},
     "output_type": "execute_result"
    }
   ],
   "source": [
    "neuro_final_clf.shape"
   ]
  },
  {
   "cell_type": "code",
   "execution_count": null,
   "id": "b962848e-3626-4fb9-a35e-2e81ac74ab4f",
   "metadata": {},
   "outputs": [],
   "source": [
    "with open(r'./pickles/neuro_final.pkl', 'wb') as handle:\n",
    "    pickle.dump(neuro_final, handle, protocol=pickle.HIGHEST_PROTOCOL)\n",
    "with open(r'./pickles/neuro_final_clf.pkl', 'wb') as handle:\n",
    "    pickle.dump(neuro_final_clf, handle, protocol=pickle.HIGHEST_PROTOCOL)"
   ]
  },
  {
   "cell_type": "markdown",
   "id": "4324ec60-804a-49a7-abad-c51847343b10",
   "metadata": {
    "jp-MarkdownHeadingCollapsed": true,
    "tags": []
   },
   "source": [
    "### 5. Final Inputs"
   ]
  },
  {
   "cell_type": "code",
   "execution_count": 17,
   "id": "f7c497e3-cfb9-4a79-93b5-98b5186deba0",
   "metadata": {},
   "outputs": [
    {
     "name": "stdout",
     "output_type": "stream",
     "text": [
      "Index(['ASCVD', 'Abdominal aortic aneurysm', 'Abdominal hernia',\n",
      "       'Abdominal pain',\n",
      "       'Abnormal Papanicolaou smear of cervix and cervical HPV',\n",
      "       'Abnormal arterial blood gases', 'Abnormal chest sounds',\n",
      "       'Abnormal coagulation profile',\n",
      "       'Abnormal electrocardiogram [ECG] [EKG]',\n",
      "       'Abnormal findings examination of lungs',\n",
      "       ...\n",
      "       'Vitamin B-complex deficiencies', 'Vitamin D deficiency',\n",
      "       'Vitamin deficiency', 'Vitiligo', 'Voice disturbance',\n",
      "       'Von willebrand's disease', 'Wegener's granulomatosis', 'Wheezing',\n",
      "       'severe protein-calorie malnutrition', 'stress incontinence, female'],\n",
      "      dtype='object', length=1721)\n"
     ]
    }
   ],
   "source": [
    "neuro_phen=all_inputs.iloc[:,:-103]\n",
    "print(neuro_phen.columns)"
   ]
  },
  {
   "cell_type": "code",
   "execution_count": 22,
   "id": "cc215407-2e06-41d2-bfdb-d8cfb00229ad",
   "metadata": {},
   "outputs": [],
   "source": [
    "neuro_all=all_inputs.drop(['duration_diab','vital_status_Alive','vital_status_Deceased'],axis=1)"
   ]
  },
  {
   "cell_type": "code",
   "execution_count": 24,
   "id": "a3b08fe7-5392-4e04-a01a-e9e1ff095248",
   "metadata": {},
   "outputs": [
    {
     "data": {
      "text/plain": [
       "Index(['age_at_diab', 'sex_Female', 'sex_Male', 'marital_status_Divorced',\n",
       "       'marital_status_Legally Separated', 'marital_status_Married',\n",
       "       'marital_status_Patient Refused', 'marital_status_Significant Other',\n",
       "       'marital_status_Single', 'marital_status_Unknown',\n",
       "       'marital_status_Widowed', 'employment_status_Disabled',\n",
       "       'employment_status_Full Time', 'employment_status_Not Employed',\n",
       "       'employment_status_On Active Military Duty',\n",
       "       'employment_status_Part Time', 'employment_status_Patient Refused',\n",
       "       'employment_status_Retired', 'employment_status_Self Employed',\n",
       "       'employment_status_Student - Full Time',\n",
       "       'employment_status_Student - Part Time', 'employment_status_Unknown',\n",
       "       'race_American Indian or Alaska Native', 'race_Asian',\n",
       "       'race_Black or African American', 'race_Multiracial',\n",
       "       'race_Native Hawaiian or Other Pacific Islander', 'race_Other',\n",
       "       'race_Unknown', 'race_White or Caucasian'],\n",
       "      dtype='object')"
      ]
     },
     "execution_count": 24,
     "metadata": {},
     "output_type": "execute_result"
    }
   ],
   "source": [
    "neuro_demos_norm=neuro_all.iloc[:,-100:-70]\n",
    "neuro_demos_norm.columns"
   ]
  },
  {
   "cell_type": "code",
   "execution_count": 25,
   "id": "a135dfd0-ba5d-4857-857c-df3fcaebab67",
   "metadata": {
    "tags": []
   },
   "outputs": [
    {
     "data": {
      "text/plain": [
       "Index(['bmi', 'bp_diastolic', 'bp_systolic', 'pulse', 'temperature',\n",
       "       'respiration'],\n",
       "      dtype='object')"
      ]
     },
     "execution_count": 25,
     "metadata": {},
     "output_type": "execute_result"
    }
   ],
   "source": [
    "neuro_vitals_norm=neuro_all.iloc[:,-70:-64]\n",
    "neuro_vitals_norm.columns"
   ]
  },
  {
   "cell_type": "code",
   "execution_count": 26,
   "id": "36f2502b-c47b-423a-806e-865d4093c10d",
   "metadata": {},
   "outputs": [
    {
     "data": {
      "text/plain": [
       "Index(['alcohol_use_name_Never', 'alcohol_use_name_No',\n",
       "       'alcohol_use_name_Not Asked', 'alcohol_use_name_Not Currently',\n",
       "       'alcohol_use_name_Yes', 'ill_drug_user_name_Never',\n",
       "       'ill_drug_user_name_No', 'ill_drug_user_name_Not Asked',\n",
       "       'ill_drug_user_name_Not Currently', 'ill_drug_user_name_Yes',\n",
       "       'tobacco_user_name_Never', 'tobacco_user_name_Not Asked',\n",
       "       'tobacco_user_name_Passive', 'tobacco_user_name_Quit',\n",
       "       'tobacco_user_name_Yes', 'cigarettes_yn_N', 'cigarettes_yn_Y',\n",
       "       'pipes_yn_N', 'pipes_yn_Y', 'cigars_yn_N', 'cigars_yn_Y', 'snuff_yn_N',\n",
       "       'snuff_yn_Y', 'chew_yn_N', 'chew_yn_Y',\n",
       "       'smokeless_tob_use_name_Current User',\n",
       "       'smokeless_tob_use_name_Former User',\n",
       "       'smokeless_tob_use_name_Never Used', 'smokeless_tob_use_name_Unknown'],\n",
       "      dtype='object')"
      ]
     },
     "execution_count": 26,
     "metadata": {},
     "output_type": "execute_result"
    }
   ],
   "source": [
    "neuro_social_norm=neuro_all.iloc[:,-64:-35]\n",
    "neuro_social_norm.columns"
   ]
  },
  {
   "cell_type": "code",
   "execution_count": 27,
   "id": "f06fd13b-2db7-46a1-a005-8a552c218bac",
   "metadata": {},
   "outputs": [
    {
     "data": {
      "text/plain": [
       "Index(['PLATELET COUNT', 'AST/SGOT', 'CALCIUM', 'GLUCOSE', 'BICARBONATE',\n",
       "       'CHLORIDE', 'POTASSIUM', 'HEMATOCRIT', 'WHITE BLOOD CELL COUNT',\n",
       "       'CREATININE', 'TOTAL PROTEIN', 'ALBUMIN', 'BLOOD UREA NITROGEN',\n",
       "       'ANION GAP', 'EGFR', 'EGFR FOR AFRICAN AMERICANS', 'SODIUM',\n",
       "       'BILIRUBIN TOTAL', 'ALKALINE PHOSPHATASE', 'ALT/SGPT', 'HEMOGLOBIN',\n",
       "       'RED BLOOD CELL COUNT', 'MEAN CORPUSCULAR HGB',\n",
       "       'MEAN CORPUSCULAR VOLUME', 'MEAN PLATELET VOLUME',\n",
       "       'RED CELL DISTRIBUTION WIDTH', 'MEAN CORPUSCULAR HGB CONCENTRN',\n",
       "       'MONOCYTE PERCENT', 'NEUTROPHIL PERCENT', 'EOSINOPHIL PERCENT',\n",
       "       'LYMPH PERCENT', 'NEUTROPHIL ABSOLUTE', 'LYMPHOCYTE ABSOLUTE',\n",
       "       'MONOCYTE ABSOLUTE', 'EOSINOPHIL ABSOLUTE'],\n",
       "      dtype='object')"
      ]
     },
     "execution_count": 27,
     "metadata": {},
     "output_type": "execute_result"
    }
   ],
   "source": [
    "neuro_labs_norm=neuro_all.iloc[:,-35:]\n",
    "neuro_labs_norm.columns"
   ]
  },
  {
   "cell_type": "code",
   "execution_count": 231,
   "id": "1a74ddd5-173c-4b87-8f2f-6ae29112d2bc",
   "metadata": {
    "tags": []
   },
   "outputs": [],
   "source": [
    "with open(r'./pickles/neuro_all.pkl', 'wb') as handle:\n",
    "    pickle.dump(neuro_all, handle, protocol=pickle.HIGHEST_PROTOCOL)\n",
    "with open(r'./pickles/neuro_phen.pkl', 'wb') as handle:\n",
    "    pickle.dump(neuro_phen, handle, protocol=pickle.HIGHEST_PROTOCOL)\n",
    "with open(r'./pickles/neuro_demos_norm.pkl', 'wb') as handle:\n",
    "    pickle.dump(neuro_demos_norm, handle, protocol=pickle.HIGHEST_PROTOCOL)\n",
    "with open(r'./pickles/neuro_vitals_norm.pkl', 'wb') as handle:\n",
    "    pickle.dump(neuro_vitals_norm, handle, protocol=pickle.HIGHEST_PROTOCOL)\n",
    "with open(r'./pickles/neuro_social_norm.pkl', 'wb') as handle:\n",
    "    pickle.dump(neuro_social_norm, handle, protocol=pickle.HIGHEST_PROTOCOL)\n",
    "with open(r'./pickles/neuro_labs_norm.pkl', 'wb') as handle:\n",
    "    pickle.dump(neuro_labs_norm, handle, protocol=pickle.HIGHEST_PROTOCOL)"
   ]
  },
  {
   "cell_type": "markdown",
   "id": "4886b4c1-7551-4f28-b665-c859d915cd0f",
   "metadata": {
    "jp-MarkdownHeadingCollapsed": true,
    "tags": []
   },
   "source": [
    "### 6. Make Table 1"
   ]
  },
  {
   "cell_type": "code",
   "execution_count": 31,
   "id": "ca156c70-6979-4c02-bda4-d2bcb8f4453c",
   "metadata": {},
   "outputs": [],
   "source": [
    "with open(r'./pickles/phen_prediab_bin.pkl', 'rb') as handle:\n",
    "    phen_prediab_bin = pickle.load(handle)\n",
    "with open(r'./pickles/social_df.pkl', 'rb') as handle:\n",
    "    social_df = pickle.load(handle)\n",
    "with open(r'./pickles/vitals_df.pkl', 'rb') as handle:\n",
    "    vitals_df = pickle.load(handle)\n",
    "with open(r'./pickles/imp_labs.pkl', 'rb') as handle:\n",
    "    imp_labs = pickle.load(handle)\n",
    "with open(r'./pickles/neuro_final_clf.pkl', 'rb') as handle:\n",
    "    neuro_final_clf = pickle.load(handle)"
   ]
  },
  {
   "cell_type": "code",
   "execution_count": 7,
   "id": "56814916-a767-415a-aa8a-e2b65c3520ed",
   "metadata": {},
   "outputs": [],
   "source": [
    "demos_all = pd.read_csv(r'/Users/amomenzadeh/Desktop/DM_csv/demos_all.csv',low_memory=False)"
   ]
  },
  {
   "cell_type": "code",
   "execution_count": 8,
   "id": "f527a6a7-3147-4528-91ec-c8d54ba3bab2",
   "metadata": {},
   "outputs": [],
   "source": [
    "demos_R = pd.read_csv(r'/Users/amomenzadeh/Desktop/DM_csv/demos_from_R.csv',low_memory=False)"
   ]
  },
  {
   "cell_type": "code",
   "execution_count": 55,
   "id": "85b4c142-e7f8-4d33-ab66-07a7207669b7",
   "metadata": {},
   "outputs": [],
   "source": [
    "demos_R['patient_num'] = demos_all['patient_num'].values"
   ]
  },
  {
   "cell_type": "code",
   "execution_count": 56,
   "id": "c821a5d3-dc7c-4d58-a509-2288cffabc0b",
   "metadata": {},
   "outputs": [],
   "source": [
    "demos_R=demos_R.set_index('patient_num')"
   ]
  },
  {
   "cell_type": "code",
   "execution_count": 57,
   "id": "d5ee8299-61d4-47d6-90dc-fb3d8d14482d",
   "metadata": {},
   "outputs": [
    {
     "data": {
      "text/plain": [
       "(4257, 1)"
      ]
     },
     "execution_count": 57,
     "metadata": {},
     "output_type": "execute_result"
    }
   ],
   "source": [
    "neuro_df=neuro_final_clf.to_frame(name='class')\n",
    "neuro_df.shape"
   ]
  },
  {
   "cell_type": "code",
   "execution_count": 58,
   "id": "944b4498-edfd-4884-9dca-76762a79320c",
   "metadata": {},
   "outputs": [
    {
     "data": {
      "text/plain": [
       "(4257, 8)"
      ]
     },
     "execution_count": 58,
     "metadata": {},
     "output_type": "execute_result"
    }
   ],
   "source": [
    "all_neu=demos_R.merge(neuro_df,left_index=True, right_index=True)\n",
    "all_neu.shape"
   ]
  },
  {
   "cell_type": "code",
   "execution_count": 59,
   "id": "fff12719-6e7c-4aee-899f-3c6ab16c6fb7",
   "metadata": {},
   "outputs": [
    {
     "data": {
      "text/plain": [
       "(4257, 43)"
      ]
     },
     "execution_count": 59,
     "metadata": {},
     "output_type": "execute_result"
    }
   ],
   "source": [
    "all_neu=all_neu.merge(imp_labs,left_index=True, right_index=True)\n",
    "all_neu.shape"
   ]
  },
  {
   "cell_type": "code",
   "execution_count": 60,
   "id": "d1d31a41-9645-4cb4-8e01-bede84097caf",
   "metadata": {},
   "outputs": [
    {
     "data": {
      "text/plain": [
       "(4257, 49)"
      ]
     },
     "execution_count": 60,
     "metadata": {},
     "output_type": "execute_result"
    }
   ],
   "source": [
    "all_neu=all_neu.merge(vitals_df,left_index=True, right_index=True)\n",
    "all_neu.shape"
   ]
  },
  {
   "cell_type": "code",
   "execution_count": 61,
   "id": "7ce17376-8195-447d-a6f5-13083ef71a81",
   "metadata": {},
   "outputs": [
    {
     "data": {
      "text/plain": [
       "(4257, 58)"
      ]
     },
     "execution_count": 61,
     "metadata": {},
     "output_type": "execute_result"
    }
   ],
   "source": [
    "all_neu=all_neu.merge(social_df,left_index=True, right_index=True)\n",
    "all_neu.shape"
   ]
  },
  {
   "cell_type": "code",
   "execution_count": 62,
   "id": "d6068282-f24d-458d-a4e7-9f4e81004dea",
   "metadata": {},
   "outputs": [
    {
     "data": {
      "text/plain": [
       "(4257, 1779)"
      ]
     },
     "execution_count": 62,
     "metadata": {},
     "output_type": "execute_result"
    }
   ],
   "source": [
    "all_neu=all_neu.merge(phen_prediab_bin,left_index=True, right_index=True)\n",
    "all_neu.shape"
   ]
  },
  {
   "cell_type": "code",
   "execution_count": 63,
   "id": "2eeb9d34-cf6d-4554-bdc9-ba031c136c10",
   "metadata": {},
   "outputs": [],
   "source": [
    "i_o_fast=all_neu.loc[all_neu['class'] == 1]"
   ]
  },
  {
   "cell_type": "code",
   "execution_count": 64,
   "id": "0b6609ff-4bb9-452e-9b5c-94b245222d63",
   "metadata": {},
   "outputs": [],
   "source": [
    "i_o_slow=all_neu.loc[all_neu['class'] == 0]"
   ]
  },
  {
   "cell_type": "code",
   "execution_count": 65,
   "id": "9c3a459a-6b7a-4b58-93a5-afbdecc18408",
   "metadata": {
    "collapsed": true,
    "jupyter": {
     "outputs_hidden": true
    },
    "tags": []
   },
   "outputs": [
    {
     "name": "stdout",
     "output_type": "stream",
     "text": [
      "\n",
      "--Median Slow---\n",
      "\n",
      "age_at_diab       55.723252\n",
      "duration_diab     10.728762\n",
      "GLUCOSE          160.500000\n",
      "CREATININE         0.861500\n",
      "bmi               34.084288\n",
      "EGFR              60.000000\n",
      "dtype: float64\n",
      "\n",
      "---Median Fast---\n",
      "\n",
      "age_at_diab       58.867739\n",
      "duration_diab      5.967541\n",
      "GLUCOSE          166.000000\n",
      "CREATININE         0.861500\n",
      "bmi               33.628500\n",
      "EGFR              60.000000\n",
      "dtype: float64\n"
     ]
    }
   ],
   "source": [
    "print(\"\\n--Median Slow---\\n\")\n",
    "print(i_o_slow[['age_at_diab','duration_diab','GLUCOSE','CREATININE','bmi','EGFR']].median())\n",
    "print(\"\\n---Median Fast---\\n\")\n",
    "print(i_o_fast[['age_at_diab','duration_diab','GLUCOSE','CREATININE','bmi','EGFR']].median())"
   ]
  },
  {
   "cell_type": "code",
   "execution_count": 66,
   "id": "fd14d1d5-85bc-4097-9f77-6f0adac47d8a",
   "metadata": {
    "collapsed": true,
    "jupyter": {
     "outputs_hidden": true
    },
    "tags": []
   },
   "outputs": [
    {
     "name": "stdout",
     "output_type": "stream",
     "text": [
      "\n",
      "--IQR Slow---\n",
      "\n",
      "       age_at_diab  duration_diab      GLUCOSE   CREATININE          bmi  \\\n",
      "count  2128.000000    2128.000000  2128.000000  2128.000000  2128.000000   \n",
      "mean     54.795566      10.549905   178.145028     0.917163    34.388086   \n",
      "std      14.338656       2.858103    80.077312     0.247623     6.627134   \n",
      "min      14.749105       0.172488     4.000000     0.200000    15.850000   \n",
      "25%      45.640910       8.434395   119.000000     0.780000    30.250000   \n",
      "50%      55.723252      10.728762   160.500000     0.861500    34.084288   \n",
      "75%      64.976009      12.675413   204.970000     1.000000    37.959800   \n",
      "max      93.201092      17.086182   508.000000     2.000000    60.840000   \n",
      "\n",
      "              EGFR  \n",
      "count  2128.000000  \n",
      "mean     62.982130  \n",
      "std      11.519713  \n",
      "min      17.200000  \n",
      "25%      60.000000  \n",
      "50%      60.000000  \n",
      "75%      65.860000  \n",
      "max     100.000000  \n",
      "\n",
      "--IQR Fast---\n",
      "\n",
      "       age_at_diab  duration_diab      GLUCOSE   CREATININE          bmi  \\\n",
      "count  2129.000000    2129.000000  2129.000000  2129.000000  2129.000000   \n",
      "mean     58.089309       6.312116   184.515688     0.923602    34.126345   \n",
      "std      14.157166       3.473590    84.945338     0.260893     7.184177   \n",
      "min      17.027044       0.139633    27.000000     0.320000    14.150000   \n",
      "25%      49.030439       3.508901   121.000000     0.767000    29.550000   \n",
      "50%      58.867739       5.967541   166.000000     0.861500    33.628500   \n",
      "75%      67.697489       8.642476   209.700000     1.030000    37.840000   \n",
      "max      99.166992      16.661806   508.000000     2.000000    59.580000   \n",
      "\n",
      "              EGFR  \n",
      "count  2129.000000  \n",
      "mean     60.308139  \n",
      "std       9.701671  \n",
      "min      17.280000  \n",
      "25%      60.000000  \n",
      "50%      60.000000  \n",
      "75%      60.000000  \n",
      "max     100.000000  \n"
     ]
    }
   ],
   "source": [
    "print(\"\\n--IQR Slow---\\n\")\n",
    "print(i_o_slow[['age_at_diab','duration_diab','GLUCOSE','CREATININE','bmi','EGFR']].describe())\n",
    "print(\"\\n--IQR Fast---\\n\")\n",
    "print(i_o_fast[['age_at_diab','duration_diab','GLUCOSE','CREATININE','bmi','EGFR']].describe())"
   ]
  },
  {
   "cell_type": "code",
   "execution_count": 67,
   "id": "3a1f0817-324d-4de6-8e6e-caad1199deaa",
   "metadata": {},
   "outputs": [],
   "source": [
    "cat_variables=['sex', 'race', 'Essential hypertension','Hyperlipidemia','cigarettes_yn','smokeless_tob_use_name']"
   ]
  },
  {
   "cell_type": "code",
   "execution_count": 68,
   "id": "228bf8af-de73-4235-a778-299853b3717a",
   "metadata": {
    "collapsed": true,
    "jupyter": {
     "outputs_hidden": true
    },
    "tags": []
   },
   "outputs": [
    {
     "name": "stdout",
     "output_type": "stream",
     "text": [
      "sex\n",
      "Slow counts: Female    1138\n",
      "Male       990\n",
      "Name: sex, dtype: int64\n",
      "Slow percents: Female    53.477444\n",
      "Male      46.522556\n",
      "Name: sex, dtype: float64\n",
      "++++++++++++++++++++++++++++++++++++++\n",
      "sex\n",
      "Fast counts: Female    1090\n",
      "Male      1039\n",
      "Name: sex, dtype: int64\n",
      "Fast percents: Female    51.197745\n",
      "Male      48.802255\n",
      "Name: sex, dtype: float64\n",
      "++++++++++++++++++++++++++++++++++++++\n",
      "race\n",
      "Slow counts: White or Caucasian                  1345\n",
      "Black or African American            682\n",
      "Other                                 70\n",
      "Asian                                 20\n",
      "American Indian or Alaska Native       8\n",
      "Multiracial                            3\n",
      "Name: race, dtype: int64\n",
      "Slow percents: White or Caucasian                  63.204887\n",
      "Black or African American           32.048872\n",
      "Other                                3.289474\n",
      "Asian                                0.939850\n",
      "American Indian or Alaska Native     0.375940\n",
      "Multiracial                          0.140977\n",
      "Name: race, dtype: float64\n",
      "++++++++++++++++++++++++++++++++++++++\n",
      "race\n",
      "Fast counts: White or Caucasian                           1431\n",
      "Black or African American                     568\n",
      "Other                                          79\n",
      "Asian                                          38\n",
      "American Indian or Alaska Native                7\n",
      "Native Hawaiian or Other Pacific Islander       4\n",
      "Multiracial                                     2\n",
      "Name: race, dtype: int64\n",
      "Fast percents: White or Caucasian                           67.214655\n",
      "Black or African American                    26.679192\n",
      "Other                                         3.710662\n",
      "Asian                                         1.784876\n",
      "American Indian or Alaska Native              0.328793\n",
      "Native Hawaiian or Other Pacific Islander     0.187882\n",
      "Multiracial                                   0.093941\n",
      "Name: race, dtype: float64\n",
      "++++++++++++++++++++++++++++++++++++++\n",
      "Essential hypertension\n",
      "Slow counts: 1    1274\n",
      "0     854\n",
      "Name: Essential hypertension, dtype: int64\n",
      "Slow percents: 1    59.868421\n",
      "0    40.131579\n",
      "Name: Essential hypertension, dtype: float64\n",
      "++++++++++++++++++++++++++++++++++++++\n",
      "Essential hypertension\n",
      "Fast counts: 1    1323\n",
      "0     806\n",
      "Name: Essential hypertension, dtype: int64\n",
      "Fast percents: 1    62.141851\n",
      "0    37.858149\n",
      "Name: Essential hypertension, dtype: float64\n",
      "++++++++++++++++++++++++++++++++++++++\n",
      "Hyperlipidemia\n",
      "Slow counts: 0    1559\n",
      "1     569\n",
      "Name: Hyperlipidemia, dtype: int64\n",
      "Slow percents: 0    73.261278\n",
      "1    26.738722\n",
      "Name: Hyperlipidemia, dtype: float64\n",
      "++++++++++++++++++++++++++++++++++++++\n",
      "Hyperlipidemia\n",
      "Fast counts: 0    1469\n",
      "1     660\n",
      "Name: Hyperlipidemia, dtype: int64\n",
      "Fast percents: 0    68.99953\n",
      "1    31.00047\n",
      "Name: Hyperlipidemia, dtype: float64\n",
      "++++++++++++++++++++++++++++++++++++++\n",
      "cigarettes_yn\n",
      "Slow counts: N    1652\n",
      "Y     476\n",
      "Name: cigarettes_yn, dtype: int64\n",
      "Slow percents: N    77.631579\n",
      "Y    22.368421\n",
      "Name: cigarettes_yn, dtype: float64\n",
      "++++++++++++++++++++++++++++++++++++++\n",
      "cigarettes_yn\n",
      "Fast counts: N    1583\n",
      "Y     546\n",
      "Name: cigarettes_yn, dtype: int64\n",
      "Fast percents: N    74.354157\n",
      "Y    25.645843\n",
      "Name: cigarettes_yn, dtype: float64\n",
      "++++++++++++++++++++++++++++++++++++++\n",
      "smokeless_tob_use_name\n",
      "Slow counts: Unknown         1849\n",
      "Never Used       255\n",
      "Former User       14\n",
      "Current User      10\n",
      "Name: smokeless_tob_use_name, dtype: int64\n",
      "Slow percents: Unknown         86.889098\n",
      "Never Used      11.983083\n",
      "Former User      0.657895\n",
      "Current User     0.469925\n",
      "Name: smokeless_tob_use_name, dtype: float64\n",
      "++++++++++++++++++++++++++++++++++++++\n",
      "smokeless_tob_use_name\n",
      "Fast counts: Unknown         1155\n",
      "Never Used       915\n",
      "Former User       40\n",
      "Current User      19\n",
      "Name: smokeless_tob_use_name, dtype: int64\n",
      "Fast percents: Unknown         54.250822\n",
      "Never Used      42.977924\n",
      "Former User      1.878816\n",
      "Current User     0.892438\n",
      "Name: smokeless_tob_use_name, dtype: float64\n",
      "++++++++++++++++++++++++++++++++++++++\n"
     ]
    }
   ],
   "source": [
    "for i in cat_variables:\n",
    "    print(i)\n",
    "    print('Slow counts:', i_o_slow[i].value_counts())\n",
    "    print('Slow percents:', i_o_slow[i].value_counts(normalize=True)*100)\n",
    "    print('++++++++++++++++++++++++++++++++++++++')\n",
    "    print(i)\n",
    "    print('Fast counts:', i_o_fast[i].value_counts())\n",
    "    print('Fast percents:', i_o_fast[i].value_counts(normalize=True)*100)\n",
    "    print('++++++++++++++++++++++++++++++++++++++')"
   ]
  },
  {
   "cell_type": "code",
   "execution_count": 72,
   "id": "ad4a65c2-0881-48ed-aef4-3d1eaebdf9e3",
   "metadata": {
    "collapsed": true,
    "jupyter": {
     "outputs_hidden": true
    },
    "tags": []
   },
   "outputs": [
    {
     "name": "stdout",
     "output_type": "stream",
     "text": [
      "sex\n",
      "chi-square: (2.1267721286788706, 0.14474528450344543, 1, array([[1113.73831337, 1114.26168663],\n",
      "       [1014.26168663, 1014.73831337]]))\n",
      "+++++++++++++++++++++++++++++++++++++++\n",
      "race\n",
      "chi-square: (23.457329241171774, 0.000656921757197881, 6, array([[   7.4982382 ,    7.5017618 ],\n",
      "       [  28.99318769,   29.00681231],\n",
      "       [ 624.85318299,  625.14681701],\n",
      "       [   2.49941273,    2.50058727],\n",
      "       [   1.99953019,    2.00046981],\n",
      "       [  74.48249941,   74.51750059],\n",
      "       [1387.67394879, 1388.32605121]]))\n",
      "+++++++++++++++++++++++++++++++++++++++\n",
      "Essential hypertension\n",
      "chi-square: (2.21766561924294, 0.1364392204470528, 1, array([[ 829.80502701,  830.19497299],\n",
      "       [1298.19497299, 1298.80502701]]))\n",
      "+++++++++++++++++++++++++++++++++++++++\n",
      "Hyperlipidemia\n",
      "chi-square: (9.206407864553725, 0.002411694516485715, 1, array([[1513.64435048, 1514.35564952],\n",
      "       [ 614.35564952,  614.64435048]]))\n",
      "+++++++++++++++++++++++++++++++++++++++\n",
      "cigarettes_yn\n",
      "chi-square: (6.087644454897466, 0.01361304561708965, 1, array([[1617.12003759, 1617.87996241],\n",
      "       [ 510.87996241,  511.12003759]]))\n",
      "+++++++++++++++++++++++++++++++++++++++\n",
      "smokeless_tob_use_name\n",
      "chi-square: (547.9506675267286, 1.9325270512638657e-118, 3, array([[  14.49659385,   14.50340615],\n",
      "       [  26.99365751,   27.00634249],\n",
      "       [ 584.86257928,  585.13742072],\n",
      "       [1501.64716937, 1502.35283063]]))\n",
      "+++++++++++++++++++++++++++++++++++++++\n"
     ]
    }
   ],
   "source": [
    "for i in cat_variables:\n",
    "    print(i)\n",
    "    crosstab = pd.crosstab(all_neu[i], all_neu['class'])\n",
    "    print('chi-square:',stats.chi2_contingency(crosstab))\n",
    "    print('+++++++++++++++++++++++++++++++++++++++')"
   ]
  },
  {
   "cell_type": "code",
   "execution_count": 71,
   "id": "10304b55-4db8-4d4d-af3a-7ab7a952bafb",
   "metadata": {
    "collapsed": true,
    "jupyter": {
     "outputs_hidden": true
    },
    "tags": []
   },
   "outputs": [
    {
     "name": "stdout",
     "output_type": "stream",
     "text": [
      "age_at_diab\n",
      "fast var normality: ShapiroResult(statistic=0.9931840896606445, pvalue=2.2115365538866172e-08)\n",
      "slow var normality: ShapiroResult(statistic=0.992682695388794, pvalue=7.890268882704277e-09)\n",
      "ranksum:  RanksumsResult(statistic=7.357325554679423, pvalue=1.876313635786395e-13)\n",
      "+++++++++++++++++++++++++++++++++++++++\n",
      "duration_diab\n",
      "fast var normality: ShapiroResult(statistic=0.9695741534233093, pvalue=7.911938938217095e-21)\n",
      "slow var normality: ShapiroResult(statistic=0.9881847500801086, pvalue=3.111250840293067e-12)\n",
      "ranksum:  RanksumsResult(statistic=-36.31011718017185, pvalue=1.120255909679564e-288)\n",
      "+++++++++++++++++++++++++++++++++++++++\n",
      "GLUCOSE\n",
      "fast var normality: ShapiroResult(statistic=0.9012157917022705, pvalue=5.138683886112948e-35)\n",
      "slow var normality: ShapiroResult(statistic=0.8968486785888672, pvalue=1.3266806887668217e-35)\n",
      "ranksum:  RanksumsResult(statistic=2.0736335341466265, pvalue=0.03811335833994221)\n",
      "+++++++++++++++++++++++++++++++++++++++\n",
      "CREATININE\n",
      "fast var normality: ShapiroResult(statistic=0.9122042655944824, pvalue=2.025618844834674e-33)\n",
      "slow var normality: ShapiroResult(statistic=0.904334306716919, pvalue=1.4312082235755505e-34)\n",
      "ranksum:  RanksumsResult(statistic=0.03613953309693068, pvalue=0.9711711000508543)\n",
      "+++++++++++++++++++++++++++++++++++++++\n",
      "bmi\n",
      "fast var normality: ShapiroResult(statistic=0.9791628122329712, pvalue=4.318808247196129e-17)\n",
      "slow var normality: ShapiroResult(statistic=0.982143223285675, pvalue=1.1189413229930082e-15)\n",
      "ranksum:  RanksumsResult(statistic=-1.9854919813760585, pvalue=0.04708976137742155)\n",
      "+++++++++++++++++++++++++++++++++++++++\n",
      "EGFR\n",
      "fast var normality: ShapiroResult(statistic=0.7708405256271362, pvalue=0.0)\n",
      "slow var normality: ShapiroResult(statistic=0.8441504240036011, pvalue=1.519708184560264e-41)\n",
      "ranksum:  RanksumsResult(statistic=-7.235812921657859, pvalue=4.627488425475181e-13)\n",
      "+++++++++++++++++++++++++++++++++++++++\n"
     ]
    }
   ],
   "source": [
    "listofname=['age_at_diab','duration_diab','GLUCOSE','CREATININE','bmi','EGFR']\n",
    "\n",
    "for x in listofname:\n",
    "    print(x)\n",
    "    print('fast var normality:', stats.shapiro(i_o_fast[x]))\n",
    "    print('slow var normality:',stats.shapiro(i_o_slow[x]))\n",
    "    \n",
    "    #print('t-test: ',ttest_ind(i_o_fast[x],i_o_slow[x], equal_var=True))\n",
    "    print('ranksum: ',ci_o_fast[x],i_o_slow[x]))\n",
    "    #print('z-test: ', ztest(i_o_fast[x],i_o_slow[x]))\n",
    "    print('+++++++++++++++++++++++++++++++++++++++')"
   ]
  },
  {
   "cell_type": "markdown",
   "id": "5a33c82e-b628-45e9-9b39-fabf6c754bae",
   "metadata": {
    "jp-MarkdownHeadingCollapsed": true,
    "tags": []
   },
   "source": [
    "### 7. Random Search on MCW cluster"
   ]
  },
  {
   "cell_type": "code",
   "execution_count": null,
   "id": "4a5d5cdb-a2d6-41ca-afa8-123103c43780",
   "metadata": {},
   "outputs": [],
   "source": [
    "#inputs\n",
    "input_dict = {\n",
    "    'Codes': neuro_phen,\n",
    "    'Demos': neuro_demos,\n",
    "    'Vitals': neuro_vitals,\n",
    "    'Social':neuro_social,\n",
    "    'Labs': neuro_labs,\n",
    "    'All': neuro_all}\n",
    "\n",
    "#parameters\n",
    "Dummy_params = {'strategy':['most_frequent']}\n",
    "\n",
    "GB_params = {\n",
    "    'learning_rate': np.linspace(0.1, 1, 19),\n",
    "    'max_depth': np.linspace(5, 100, 20),\n",
    "    'max_features': ['auto','sqrt','log2'],\n",
    "    'min_samples_leaf': [2, 10, 20, 40, 80, 100, 150, 200, 250, 300, 350, 400, 450, 500],\n",
    "    'min_samples_split': [2, 10, 20, 40, 80, 100, 150, 200, 250, 300, 350, 400, 450, 500],\n",
    "    'subsample':[0.8, 1],\n",
    "    'n_estimators':[10, 50, 100, 250, 500, 1000, 2000, 3000]}\n",
    "\n",
    "SVC_params = {\n",
    "    'C': [0.1,1,10,100],\n",
    "    'kernel':['poly', 'rbf', 'sigmoid'],\n",
    "    'gamma':[1,0.1,0.01,0.001]}\n",
    "\n",
    "ET_params = {\n",
    "    'bootstrap': [True, False],\n",
    "    'max_depth': np.linspace(5, 100, 20),\n",
    "    'max_features':['auto','sqrt','log2'],\n",
    "    'min_samples_leaf': [2, 10, 20, 40, 80, 100, 150, 200, 250, 300, 350, 400, 450, 500],\n",
    "    'min_samples_split': [2, 10, 20, 40, 80, 100, 150, 200, 250, 300, 350, 400, 450, 500],\n",
    "    'n_estimators':[10, 50, 100, 250, 500, 1000, 2000, 3000]}\n",
    "\n",
    "RF_params = {\n",
    "    'bootstrap': [True, False],\n",
    "    'max_depth': np.linspace(5, 100, 20),\n",
    "    'max_features':['auto','sqrt','log2'],\n",
    "    'min_samples_leaf': [2, 10, 20, 40, 80, 100, 150, 200, 250, 300, 350, 400, 450, 500],\n",
    "    'min_samples_split': [2, 10, 20, 40, 80, 100, 150, 200, 250, 300, 350, 400, 450, 500],\n",
    "    'n_estimators':[10, 50, 100, 250, 500, 1000, 2000, 3000]}\n",
    "\n",
    "ada_params = {\n",
    "    'learning_rate': np.linspace(0.1, 1, 19),\n",
    "    'n_estimators':[10, 50, 100, 250, 500, 1000, 2000, 3000]}\n",
    "\n",
    "LR_params = {\n",
    "            'C':[0.01,0.1,1,10,100],\n",
    "            'penalty':['l2','none'],\n",
    "            'solver':['newton-cg','lbfgs', 'sag', 'saga'],\n",
    "            'max_iter':[100,200,300]}\n",
    "            \n",
    "models_dict = {\n",
    "    'Dummy': DummyClassifier(),\n",
    "    'SVC': SVC(probability=True),\n",
    "    'GB': GradientBoostingClassifier(),\n",
    "    'ET': ExtraTreesClassifier(),\n",
    "    'RF': RandomForestClassifier(),\n",
    "    'AdaBoost': AdaBoostClassifier(),\n",
    "    'LR': LogisticRegression()}\n",
    "\n",
    "params_dict = {\n",
    "    'Dummy': Dummy_params,\n",
    "    'SVC': SVC_params,\n",
    "    'GB': GB_params,\n",
    "    'ET': ET_params,\n",
    "    'RF': RF_params,\n",
    "    'AdaBoost': ada_params,\n",
    "    'LR': LR_params}\n",
    "\n",
    "#run randomsearch\n",
    "neuro_all_score_dict = {}\n",
    "neuro_all_model_dict = {}\n",
    "\n",
    "for i in input_dict.keys():\n",
    "    print('Input:', i)\n",
    "    temp_1 = {}\n",
    "    temp_2 = {}\n",
    "    Xtrain, Xtest, ytrain, ytest = train_test_split(input_dict[i], neuro_final_clf, random_state=42, test_size=0.2) \n",
    "    for x in models_dict.keys():\n",
    "        print(x)\n",
    "        clf = RandomizedSearchCV(models_dict[x], param_distributions= params_dict[x],scoring='roc_auc',refit=True,cv=5, n_jobs=47,verbose=3, n_iter=1000)\n",
    "        clf.fit(Xtrain, ytrain)\n",
    "        print(clf.best_estimator_)\n",
    "        print(clf.best_score_)\n",
    "        temp_1[x] = clf.best_estimator_\n",
    "        temp_2[x] = clf.best_score_\n",
    "    neuro_all_model_dict[i] = temp_1\n",
    "    neuro_all_score_dict[i] = temp_2\n",
    "\n",
    "# save\n",
    "with open('neuro_phenbin_all_score_dict.pkl', 'wb') as tmpfile:\n",
    "    pickle.dump(neuro_all_score_dict, tmpfile)\n",
    "with open('neuro_phenbin_all_model_dict.pkl', 'wb') as tmpfile:\n",
    "    pickle.dump(neuro_all_model_dict, tmpfile)\n",
    "\n",
    "neuro_score_df=pd.DataFrame.from_dict(neuro_all_score_dict)\n",
    "neuro_score_df.to_csv('neuro_phenbin_score_df.csv')"
   ]
  },
  {
   "cell_type": "code",
   "execution_count": 29,
   "id": "751fbe60-0486-4499-8107-adf68ddf1dbd",
   "metadata": {},
   "outputs": [],
   "source": [
    "with open(r'./pickles/neuro_phenbin_all_model_dict.pkl', 'rb') as handle:\n",
    "    neuro_all_model_dict = pickle.load(handle)\n",
    "with open(r'./pickles/neuro_phenbin_all_score_dict.pkl', 'rb') as handle:\n",
    "    neuro_all_score_dict = pickle.load(handle)"
   ]
  },
  {
   "cell_type": "markdown",
   "id": "8accda14-d77d-46f7-ae18-832418e94afd",
   "metadata": {
    "jp-MarkdownHeadingCollapsed": true,
    "tags": []
   },
   "source": [
    "### 8. Evaluate test set"
   ]
  },
  {
   "cell_type": "code",
   "execution_count": 38,
   "id": "6d4d1fd3-239e-4def-8c0c-92acc385dd7f",
   "metadata": {},
   "outputs": [],
   "source": [
    "with open(r'./pickles/neuro_all.pkl', 'rb') as handle:\n",
    "    neuro_all = pickle.load(handle)\n",
    "with open(r'./pickles/neuro_phen.pkl', 'rb') as handle:\n",
    "    neuro_phen = pickle.load(handle)\n",
    "with open(r'./pickles/neuro_demos_norm.pkl', 'rb') as handle:\n",
    "    neuro_demos = pickle.load(handle)\n",
    "with open(r'./pickles/neuro_social_norm.pkl', 'rb') as handle:\n",
    "    neuro_social = pickle.load(handle)\n",
    "with open(r'./pickles/neuro_vitals_norm.pkl', 'rb') as handle:\n",
    "    neuro_vitals = pickle.load(handle)\n",
    "with open(r'./pickles/neuro_labs_norm.pkl', 'rb') as handle:\n",
    "    neuro_labs = pickle.load(handle)\n",
    "with open(r'./pickles/neuro_final_clf.pkl', 'rb') as handle:\n",
    "    neuro_final_clf = pickle.load(handle)"
   ]
  },
  {
   "cell_type": "code",
   "execution_count": 31,
   "id": "5599b4a5-593e-426a-895f-db804e5d30dd",
   "metadata": {},
   "outputs": [],
   "source": [
    "neuro_score_df = pd.read_csv(r'/Users/amomenzadeh/Desktop/DM_csv/neuro_phenbin_score_df.csv',low_memory=False)"
   ]
  },
  {
   "cell_type": "code",
   "execution_count": 32,
   "id": "73a4e84b-249a-4d48-be10-443f5bb28cf9",
   "metadata": {
    "tags": []
   },
   "outputs": [
    {
     "data": {
      "text/html": [
       "<div>\n",
       "<style scoped>\n",
       "    .dataframe tbody tr th:only-of-type {\n",
       "        vertical-align: middle;\n",
       "    }\n",
       "\n",
       "    .dataframe tbody tr th {\n",
       "        vertical-align: top;\n",
       "    }\n",
       "\n",
       "    .dataframe thead th {\n",
       "        text-align: right;\n",
       "    }\n",
       "</style>\n",
       "<table border=\"1\" class=\"dataframe\">\n",
       "  <thead>\n",
       "    <tr style=\"text-align: right;\">\n",
       "      <th></th>\n",
       "      <th>Unnamed: 0</th>\n",
       "      <th>Codes</th>\n",
       "      <th>Demos</th>\n",
       "      <th>Vitals</th>\n",
       "      <th>Social</th>\n",
       "      <th>Labs</th>\n",
       "      <th>All</th>\n",
       "    </tr>\n",
       "  </thead>\n",
       "  <tbody>\n",
       "    <tr>\n",
       "      <th>0</th>\n",
       "      <td>Dummy</td>\n",
       "      <td>0.500000</td>\n",
       "      <td>0.500000</td>\n",
       "      <td>0.500000</td>\n",
       "      <td>0.500000</td>\n",
       "      <td>0.500000</td>\n",
       "      <td>0.500000</td>\n",
       "    </tr>\n",
       "    <tr>\n",
       "      <th>1</th>\n",
       "      <td>SVC</td>\n",
       "      <td>0.644772</td>\n",
       "      <td>0.626187</td>\n",
       "      <td>0.550071</td>\n",
       "      <td>0.679791</td>\n",
       "      <td>0.665915</td>\n",
       "      <td>0.737861</td>\n",
       "    </tr>\n",
       "    <tr>\n",
       "      <th>2</th>\n",
       "      <td>GB</td>\n",
       "      <td>0.644948</td>\n",
       "      <td>0.634357</td>\n",
       "      <td>0.549844</td>\n",
       "      <td>0.687774</td>\n",
       "      <td>0.667440</td>\n",
       "      <td>0.744522</td>\n",
       "    </tr>\n",
       "    <tr>\n",
       "      <th>3</th>\n",
       "      <td>ET</td>\n",
       "      <td>0.659338</td>\n",
       "      <td>0.614063</td>\n",
       "      <td>0.559436</td>\n",
       "      <td>0.684268</td>\n",
       "      <td>0.669495</td>\n",
       "      <td>0.746353</td>\n",
       "    </tr>\n",
       "    <tr>\n",
       "      <th>4</th>\n",
       "      <td>RF</td>\n",
       "      <td>0.660152</td>\n",
       "      <td>0.634783</td>\n",
       "      <td>0.553288</td>\n",
       "      <td>0.684804</td>\n",
       "      <td>0.671516</td>\n",
       "      <td>0.747347</td>\n",
       "    </tr>\n",
       "    <tr>\n",
       "      <th>5</th>\n",
       "      <td>AdaBoost</td>\n",
       "      <td>0.611622</td>\n",
       "      <td>0.636074</td>\n",
       "      <td>0.549158</td>\n",
       "      <td>0.672051</td>\n",
       "      <td>0.660124</td>\n",
       "      <td>0.745259</td>\n",
       "    </tr>\n",
       "    <tr>\n",
       "      <th>6</th>\n",
       "      <td>LR</td>\n",
       "      <td>0.632961</td>\n",
       "      <td>0.625830</td>\n",
       "      <td>0.522481</td>\n",
       "      <td>0.672284</td>\n",
       "      <td>0.669122</td>\n",
       "      <td>0.735467</td>\n",
       "    </tr>\n",
       "  </tbody>\n",
       "</table>\n",
       "</div>"
      ],
      "text/plain": [
       "  Unnamed: 0     Codes     Demos    Vitals    Social      Labs       All\n",
       "0      Dummy  0.500000  0.500000  0.500000  0.500000  0.500000  0.500000\n",
       "1        SVC  0.644772  0.626187  0.550071  0.679791  0.665915  0.737861\n",
       "2         GB  0.644948  0.634357  0.549844  0.687774  0.667440  0.744522\n",
       "3         ET  0.659338  0.614063  0.559436  0.684268  0.669495  0.746353\n",
       "4         RF  0.660152  0.634783  0.553288  0.684804  0.671516  0.747347\n",
       "5   AdaBoost  0.611622  0.636074  0.549158  0.672051  0.660124  0.745259\n",
       "6         LR  0.632961  0.625830  0.522481  0.672284  0.669122  0.735467"
      ]
     },
     "execution_count": 32,
     "metadata": {},
     "output_type": "execute_result"
    }
   ],
   "source": [
    "#train data (80%)\n",
    "neuro_score_df"
   ]
  },
  {
   "cell_type": "code",
   "execution_count": 27,
   "id": "c7c5cbc3-1a90-4e73-99e0-f7077a7d55a7",
   "metadata": {
    "tags": []
   },
   "outputs": [],
   "source": [
    "input_dict = {\n",
    "    'Codes': neuro_phen,\n",
    "    'Demos': neuro_demos,\n",
    "    'Vitals': neuro_vitals,\n",
    "    'Social': neuro_social,\n",
    "    'Labs': neuro_labs,\n",
    "    'All': neuro_all}"
   ]
  },
  {
   "cell_type": "code",
   "execution_count": 28,
   "id": "882faf47-37f0-463f-b817-b0da551c2506",
   "metadata": {},
   "outputs": [],
   "source": [
    "auroc = {}\n",
    "fpr = {}\n",
    "tpr = {}\n",
    "threshold = {}\n",
    "\n",
    "for x in neuro_all_model_dict.keys():\n",
    "    temp1 = {}\n",
    "    temp2 = {}\n",
    "    temp3 = {}\n",
    "    temp4 = {} \n",
    "    Xtrain, Xtest, ytrain, ytest = train_test_split(input_dict[x], neuro_final_clf, random_state=42, test_size=0.2) \n",
    "    for y in neuro_all_model_dict[x].keys():\n",
    "        model= neuro_all_model_dict[x][y]\n",
    "        ypred = model.predict(Xtest)\n",
    "        probs = model.predict_proba(Xtest)\n",
    "        pos_probs = probs[:, 1]\n",
    "        temp1[y] = roc_auc_score(ytest, pos_probs)\n",
    "        temp2[y], temp3[y], temp4[y] = metrics.roc_curve(ytest, pos_probs)\n",
    "    auroc[x] = temp1\n",
    "    fpr[x] = temp2\n",
    "    tpr[x] = temp3\n",
    "    threshold [x] = temp4"
   ]
  },
  {
   "cell_type": "code",
   "execution_count": 33,
   "id": "43366b48-6ab5-4a31-ac33-a7774e569192",
   "metadata": {},
   "outputs": [
    {
     "data": {
      "text/html": [
       "<div>\n",
       "<style scoped>\n",
       "    .dataframe tbody tr th:only-of-type {\n",
       "        vertical-align: middle;\n",
       "    }\n",
       "\n",
       "    .dataframe tbody tr th {\n",
       "        vertical-align: top;\n",
       "    }\n",
       "\n",
       "    .dataframe thead th {\n",
       "        text-align: right;\n",
       "    }\n",
       "</style>\n",
       "<table border=\"1\" class=\"dataframe\">\n",
       "  <thead>\n",
       "    <tr style=\"text-align: right;\">\n",
       "      <th></th>\n",
       "      <th>Codes</th>\n",
       "      <th>Demos</th>\n",
       "      <th>Vitals</th>\n",
       "      <th>Social</th>\n",
       "      <th>Labs</th>\n",
       "      <th>All</th>\n",
       "    </tr>\n",
       "  </thead>\n",
       "  <tbody>\n",
       "    <tr>\n",
       "      <th>Dummy</th>\n",
       "      <td>0.500000</td>\n",
       "      <td>0.500000</td>\n",
       "      <td>0.500000</td>\n",
       "      <td>0.500000</td>\n",
       "      <td>0.500000</td>\n",
       "      <td>0.500000</td>\n",
       "    </tr>\n",
       "    <tr>\n",
       "      <th>SVC</th>\n",
       "      <td>0.632897</td>\n",
       "      <td>0.578871</td>\n",
       "      <td>0.565155</td>\n",
       "      <td>0.631922</td>\n",
       "      <td>0.648462</td>\n",
       "      <td>0.725636</td>\n",
       "    </tr>\n",
       "    <tr>\n",
       "      <th>GB</th>\n",
       "      <td>0.629216</td>\n",
       "      <td>0.582417</td>\n",
       "      <td>0.558617</td>\n",
       "      <td>0.665722</td>\n",
       "      <td>0.666096</td>\n",
       "      <td>0.712906</td>\n",
       "    </tr>\n",
       "    <tr>\n",
       "      <th>ET</th>\n",
       "      <td>0.634159</td>\n",
       "      <td>0.582740</td>\n",
       "      <td>0.573983</td>\n",
       "      <td>0.679567</td>\n",
       "      <td>0.661401</td>\n",
       "      <td>0.731913</td>\n",
       "    </tr>\n",
       "    <tr>\n",
       "      <th>RF</th>\n",
       "      <td>0.638331</td>\n",
       "      <td>0.582255</td>\n",
       "      <td>0.578292</td>\n",
       "      <td>0.673935</td>\n",
       "      <td>0.671387</td>\n",
       "      <td>0.736999</td>\n",
       "    </tr>\n",
       "    <tr>\n",
       "      <th>AdaBoost</th>\n",
       "      <td>0.614274</td>\n",
       "      <td>0.590149</td>\n",
       "      <td>0.583114</td>\n",
       "      <td>0.679187</td>\n",
       "      <td>0.663859</td>\n",
       "      <td>0.726959</td>\n",
       "    </tr>\n",
       "    <tr>\n",
       "      <th>LR</th>\n",
       "      <td>0.623777</td>\n",
       "      <td>0.583412</td>\n",
       "      <td>0.524536</td>\n",
       "      <td>0.677203</td>\n",
       "      <td>0.645084</td>\n",
       "      <td>0.724077</td>\n",
       "    </tr>\n",
       "  </tbody>\n",
       "</table>\n",
       "</div>"
      ],
      "text/plain": [
       "             Codes     Demos    Vitals    Social      Labs       All\n",
       "Dummy     0.500000  0.500000  0.500000  0.500000  0.500000  0.500000\n",
       "SVC       0.632897  0.578871  0.565155  0.631922  0.648462  0.725636\n",
       "GB        0.629216  0.582417  0.558617  0.665722  0.666096  0.712906\n",
       "ET        0.634159  0.582740  0.573983  0.679567  0.661401  0.731913\n",
       "RF        0.638331  0.582255  0.578292  0.673935  0.671387  0.736999\n",
       "AdaBoost  0.614274  0.590149  0.583114  0.679187  0.663859  0.726959\n",
       "LR        0.623777  0.583412  0.524536  0.677203  0.645084  0.724077"
      ]
     },
     "execution_count": 33,
     "metadata": {},
     "output_type": "execute_result"
    }
   ],
   "source": [
    "#test data(20%)\n",
    "pd.DataFrame.from_dict(auroc)"
   ]
  },
  {
   "cell_type": "markdown",
   "id": "19d070ac-bdb8-4509-bf4d-9724b756ed34",
   "metadata": {
    "jp-MarkdownHeadingCollapsed": true,
    "tags": []
   },
   "source": [
    "### 9. Make overlayed AUROC plot"
   ]
  },
  {
   "cell_type": "code",
   "execution_count": 49,
   "id": "1d84e330-233d-4e0a-9ef2-0ed6f69500c9",
   "metadata": {
    "tags": []
   },
   "outputs": [],
   "source": [
    "# Set the global font to be DejaVu Sans, size 10 \n",
    "rc('font',**{'family':'sans-serif','sans-serif':['DejaVu Sans'],'size':10})\n",
    "# Set the font used for MathJax\n",
    "rc('mathtext',**{'default':'regular'})\n",
    "%matplotlib inline\n",
    "# The following %config line changes the inline figures to have a higher DPI.\n",
    "%config InlineBackend.figure_format = 'retina'"
   ]
  },
  {
   "cell_type": "code",
   "execution_count": 55,
   "id": "2de35068-90e3-499d-9e52-15557d1a4db9",
   "metadata": {
    "tags": []
   },
   "outputs": [
    {
     "data": {
      "text/plain": [
       "<Figure size 504x504 with 0 Axes>"
      ]
     },
     "execution_count": 55,
     "metadata": {},
     "output_type": "execute_result"
    },
    {
     "data": {
      "image/png": "[encoded data removed]",
      "text/plain": [
       "<Figure size 504x504 with 1 Axes>"
      ]
     },
     "metadata": {
      "image/png": {
       "height": 464,
       "width": 474
      },
      "needs_background": "light"
     },
     "output_type": "display_data"
    },
    {
     "data": {
      "text/plain": [
       "<Figure size 504x504 with 0 Axes>"
      ]
     },
     "metadata": {},
     "output_type": "display_data"
    }
   ],
   "source": [
    "plt.rcParams['figure.figsize']=7,7\n",
    "plt.rcParams['axes.facecolor']='white'\n",
    "plt.rcParams[\"axes.edgecolor\"] = \"black\"\n",
    "plt.rcParams[\"axes.linewidth\"] = 0.75\n",
    "plt.rcParams[\"axes.prop_cycle\"] = plt.cycler(color=['#bcbd22', '#ff7f0e', '#2ca02c', \n",
    "                                                    '#d62728', '#9467bd', '#17becf'])\n",
    "\n",
    "plt.plot(fpr['Vitals']['AdaBoost'], tpr['Vitals']['AdaBoost'],\n",
    "         label='Vitals (AUROC = {0:0.2f})'\n",
    "               ''.format(auroc['Vitals']['AdaBoost']),\n",
    "         linewidth=2.5)\n",
    "\n",
    "plt.plot(fpr['Demos']['AdaBoost'], tpr['Demos']['AdaBoost'],\n",
    "         label='Demographics (AUROC = {0:0.2f})'\n",
    "               ''.format(auroc['Demos']['AdaBoost']),\n",
    "         linewidth=2.5)\n",
    "\n",
    "plt.plot(fpr['Codes']['RF'], tpr['Codes']['RF'],\n",
    "         label='Phenotypes (AUROC = {0:0.2f})'\n",
    "               ''.format(auroc['Codes']['RF']),\n",
    "         linewidth=2.5)\n",
    "\n",
    "plt.plot(fpr['Labs']['RF'], tpr['Labs']['RF'],\n",
    "         label='Labs (AUROC = {0:0.2f})'\n",
    "               ''.format(auroc['Labs']['RF']),\n",
    "         linewidth=2.5)\n",
    "\n",
    "plt.plot(fpr['Social']['ET'], tpr['Social']['ET'],\n",
    "         label='Social (AUROC = {0:0.2f})'\n",
    "               ''.format(auroc['Social']['ET']),\n",
    "         linewidth=2.5)\n",
    "\n",
    "\n",
    "plt.plot(fpr['All']['RF'], tpr['All']['RF'],\n",
    "         label='All (AUROC = {0:0.2f})'\n",
    "               ''.format(auroc['All']['RF']),\n",
    "         linewidth=2.5)\n",
    "\n",
    "plt.xticks(fontsize=15)\n",
    "plt.yticks(fontsize=15)\n",
    "plt.plot([0, 1], [0, 1], 'k--')\n",
    "plt.xlim([0, 1.0])\n",
    "plt.ylim([0.0, 1.05])\n",
    "plt.xlabel('False Positive Rate', fontsize=20, fontweight=100)\n",
    "plt.ylabel('True Positive Rate', fontsize=20, fontweight=100)\n",
    "plt.title('Neuropathy ROC Curves', fontsize=20, fontweight=100)\n",
    "plt.legend(loc=\"lower right\",fontsize=12)\n",
    "plt.grid(False)\n",
    "plt.savefig(r'./figures/neurophen_AUROC.svg', format='svg')\n",
    "plt.figure()"
   ]
  },
  {
   "cell_type": "markdown",
   "id": "888e1d75-dde2-4483-873e-462221f19aa3",
   "metadata": {
    "jp-MarkdownHeadingCollapsed": true,
    "tags": []
   },
   "source": [
    "### 10. Make calibration plot"
   ]
  },
  {
   "cell_type": "code",
   "execution_count": 44,
   "id": "de93e32c-e76f-4ac3-9eeb-c287a3aa8029",
   "metadata": {},
   "outputs": [],
   "source": [
    "Xtrain, Xtest, ytrain, ytest = train_test_split(input_dict['All'], neuro_final_clf, random_state=42, test_size=0.2) "
   ]
  },
  {
   "cell_type": "code",
   "execution_count": 45,
   "id": "658c6367-d1fa-4643-906e-332a151fc6bb",
   "metadata": {},
   "outputs": [
    {
     "name": "stdout",
     "output_type": "stream",
     "text": [
      "RandomForestClassifier(bootstrap=False, max_depth=70.0, min_samples_leaf=2,\n",
      "                       min_samples_split=150, n_estimators=250)\n"
     ]
    }
   ],
   "source": [
    "model=neuro_all_model_dict['All']['RF']\n",
    "print(model)"
   ]
  },
  {
   "cell_type": "code",
   "execution_count": 66,
   "id": "15cbb8ad-52c1-42d5-8006-7df0c0dc5fad",
   "metadata": {
    "jupyter": {
     "source_hidden": true
    },
    "tags": []
   },
   "outputs": [
    {
     "name": "stdout",
     "output_type": "stream",
     "text": [
      "AUROC: 0.7369990135947582\n",
      "Brier Score: 0.21364363622038968\n"
     ]
    },
    {
     "data": {
      "text/plain": [
       "<Figure size 504x504 with 0 Axes>"
      ]
     },
     "execution_count": 66,
     "metadata": {},
     "output_type": "execute_result"
    },
    {
     "data": {
      "image/png": "[encoded data removed]",
      "text/plain": [
       "<Figure size 504x504 with 1 Axes>"
      ]
     },
     "metadata": {
      "image/png": {
       "height": 464,
       "width": 462
      },
      "needs_background": "light"
     },
     "output_type": "display_data"
    },
    {
     "data": {
      "text/plain": [
       "<Figure size 504x504 with 0 Axes>"
      ]
     },
     "metadata": {},
     "output_type": "display_data"
    }
   ],
   "source": [
    "plt.rcParams['figure.figsize']=7,7\n",
    "plt.rcParams['axes.facecolor']='white'\n",
    "plt.rcParams[\"axes.edgecolor\"] = \"black\"\n",
    "plt.rcParams[\"axes.linewidth\"] = 0.75\n",
    "\n",
    "probs = model.predict_proba(Xtest)[:, 1]\n",
    "# reliability diagram\n",
    "fop, mpv = calibration_curve(ytest, probs, n_bins=10, normalize=True)\n",
    "# plot perfectly calibrated\n",
    "plt.plot([0, 1], [0, 1], linestyle='--', color=\"black\")\n",
    "# plot model reliability\n",
    "plt.plot(mpv, fop, marker='.', color=\"blue\")\n",
    "\n",
    "ypred = model.predict(Xtest)\n",
    "probs = model.predict_proba(Xtest)\n",
    "pos_probs = probs[:, 1]\n",
    "rocauc = roc_auc_score(ytest, pos_probs)\n",
    "print('AUROC:', rocauc)\n",
    "bs=brier_score_loss(ytest, pos_probs)\n",
    "print('Brier Score:', bs)\n",
    "\n",
    "plt.xticks(fontsize=15)\n",
    "plt.yticks(fontsize=15)\n",
    "plt.xlabel('Observed Probability', fontsize=20, fontweight=100)\n",
    "plt.ylabel('Predicted Probability', fontsize=20, fontweight=100)\n",
    "plt.title('Neuropathy (uncalibrated)', fontsize=20, fontweight=100)\n",
    "plt.grid(False)\n",
    "plt.figure()"
   ]
  },
  {
   "cell_type": "code",
   "execution_count": 80,
   "id": "d6103811-d507-4725-8cff-c282da2e82d4",
   "metadata": {},
   "outputs": [
    {
     "name": "stdout",
     "output_type": "stream",
     "text": [
      "AUCROC: 0.7395504416781012\n",
      "Brier Score: 0.20732973487532788\n"
     ]
    },
    {
     "data": {
      "text/plain": [
       "<Figure size 504x504 with 0 Axes>"
      ]
     },
     "execution_count": 80,
     "metadata": {},
     "output_type": "execute_result"
    },
    {
     "data": {
      "image/png": "[encoded data removed]",
      "text/plain": [
       "<Figure size 504x504 with 1 Axes>"
      ]
     },
     "metadata": {
      "image/png": {
       "height": 464,
       "width": 462
      },
      "needs_background": "light"
     },
     "output_type": "display_data"
    },
    {
     "data": {
      "text/plain": [
       "<Figure size 504x504 with 0 Axes>"
      ]
     },
     "metadata": {},
     "output_type": "display_data"
    }
   ],
   "source": [
    "plt.rcParams['figure.figsize']=7,7\n",
    "plt.rcParams['axes.facecolor']='white'\n",
    "plt.rcParams[\"axes.edgecolor\"] = \"black\"\n",
    "plt.rcParams[\"axes.linewidth\"] = 0.75\n",
    "\n",
    "from sklearn.calibration import CalibratedClassifierCV\n",
    "calibrated = CalibratedClassifierCV(model, method='sigmoid', cv=5)\n",
    "calibrated.fit(Xtrain, ytrain)\n",
    "# predict probabilities\n",
    "probs = calibrated.predict_proba(Xtest)[:, 1]\n",
    "# reliability diagram\n",
    "fop, mpv = calibration_curve(ytest, probs, n_bins=10, normalize=True)\n",
    "# plot perfectly calibrated\n",
    "plt.plot([0, 1], [0, 1], linestyle='--',color=\"black\")\n",
    "# plot calibrated reliability\n",
    "plt.plot(mpv, fop, marker='.',color=\"blue\")\n",
    "\n",
    "ypred = calibrated.predict(Xtest)\n",
    "probs = calibrated.predict_proba(Xtest)\n",
    "pos_probs = probs[:, 1]\n",
    "rocauc = roc_auc_score(ytest, pos_probs)\n",
    "print('AUCROC:', rocauc)\n",
    "bs=brier_score_loss(ytest, pos_probs)\n",
    "print('Brier Score:', bs)\n",
    "\n",
    "plt.xticks(fontsize=15)\n",
    "plt.yticks(fontsize=15)\n",
    "plt.xlabel('Observed Probability', fontsize=20, fontweight=100)\n",
    "plt.ylabel('Predicted Probability', fontsize=20, fontweight=100)\n",
    "plt.title('Neuropathy', fontsize=20, fontweight=100)\n",
    "plt.grid(False)\n",
    "matplotlib.pyplot.text(1,0,'Brier Score=0.207', horizontalalignment='right',\n",
    "     verticalalignment='bottom',fontsize=20)\n",
    "plt.savefig(r'./figures/neuro_calib_plot.svg', format='svg')\n",
    "plt.figure()"
   ]
  },
  {
   "cell_type": "markdown",
   "id": "e2cfebf9-6431-4797-bda7-2801a22e5e8a",
   "metadata": {
    "tags": []
   },
   "source": [
    "### 11. encounters between T2DM dx and comp"
   ]
  },
  {
   "cell_type": "code",
   "execution_count": 61,
   "id": "c40ff618-1c5d-4f18-ade3-cc65a8b9e969",
   "metadata": {},
   "outputs": [],
   "source": [
    "neuro_final_clf.to_excel('neuro_out.xlsx')"
   ]
  },
  {
   "cell_type": "code",
   "execution_count": 17,
   "id": "1788fd96-74e7-485c-a8fe-c16e9e272730",
   "metadata": {},
   "outputs": [],
   "source": [
    "with open(r'/Users/amomenzadeh/Desktop/DM_pickles/init_comps_dict.pkl', 'rb') as handle:\n",
    "    init_comps_dict = pickle.load(handle) "
   ]
  },
  {
   "cell_type": "code",
   "execution_count": 18,
   "id": "46da7127-ad82-4de6-a789-f839a3bf55b8",
   "metadata": {
    "tags": []
   },
   "outputs": [],
   "source": [
    "# creating new dataframe from the above dictionary for time of first complication with the patient number as the index\n",
    "comps_time_df = pd.DataFrame.from_dict(init_comps_dict, orient='index')\n",
    "comps_time_df = comps_time_df.apply(pd.to_datetime, errors='coerce')\n",
    "\n",
    "# sort table by patient number (index)\n",
    "comps_time_df.sort_index(inplace=True)"
   ]
  },
  {
   "cell_type": "code",
   "execution_count": 19,
   "id": "a68b7f52-dfda-457c-82b2-93ba07eb401f",
   "metadata": {},
   "outputs": [],
   "source": [
    "comps_time_df.drop(['initial_OPTH','initial_CVD','initial_KIDNEY'],axis=1,inplace=True)"
   ]
  },
  {
   "cell_type": "code",
   "execution_count": 20,
   "id": "47b74b24-9d35-4318-af7a-5fa882c7449c",
   "metadata": {},
   "outputs": [],
   "source": [
    "time_to_neuro=neuro_final.to_frame('time_to_neuro(yr)')"
   ]
  },
  {
   "cell_type": "code",
   "execution_count": 21,
   "id": "1206dce0-2ee1-4224-8d5e-f3323e8fc778",
   "metadata": {},
   "outputs": [],
   "source": [
    "merge = comps_time_df.merge(time_to_neuro, left_index=True, right_index=True)"
   ]
  },
  {
   "cell_type": "code",
   "execution_count": 22,
   "id": "05057a12-ac2b-4757-aaba-4f00e8b7a1a3",
   "metadata": {},
   "outputs": [],
   "source": [
    "encounters = pd.read_csv(r'/Users/amomenzadeh/Desktop/DM_csv/neuro_encounters.csv',low_memory=False)"
   ]
  },
  {
   "cell_type": "code",
   "execution_count": 23,
   "id": "09e725ac-00e9-42a9-86cc-da2b7509685d",
   "metadata": {},
   "outputs": [],
   "source": [
    "encounters.drop(['department_name', 'department_id', 'department_external_name',\n",
    "       'department_specialty', 'payor_type_primary_c','age_at_visit_years',\n",
    "       'payor_type_primary_name', 'payer_type_secondary_c','visit_type_id',\n",
    "       'payer_type_secondary_name', 'appt_status_c', 'appt_status_name','discharge_status_c', 'discharge_status_name',\n",
    "       'length_of_stay_days', 'hosp_serv_c', 'hosp_serv_name','visit_type_name',\n",
    "       'adm_for_surg_yn', 'surgical_svc_c', 'surgical_svc_name', 'drg','visit_date_shifted',\n",
    "       'drg_type', 'drg_name', 'visit_provider_id', 'visit_provider_name','admit_date_shifted',\n",
    "       'visit_provider_title', 'visit_provider_npi', 'admission_provider_id',\n",
    "       'admission_provider_name', 'admission_provider_title','admit_source_c','admit_source_name','discharge_date_shifted',\n",
    "       'admission_provider_npi', 'sourcesystem_cd','encounter_num','enc_type','src_enc_type_c'],inplace=True, axis=1)"
   ]
  },
  {
   "cell_type": "code",
   "execution_count": 24,
   "id": "34eda64b-f477-4508-97ab-4c7cc997ca3b",
   "metadata": {
    "ExecuteTime": {
     "end_time": "2021-08-13T19:54:31.000060Z",
     "start_time": "2021-08-13T19:54:17.666513Z"
    },
    "tags": []
   },
   "outputs": [],
   "source": [
    "encounters.i2b2_date_shifted = pd.to_datetime(encounters.i2b2_date_shifted, format = '%Y-%m-%d') # converted dx date column to datetime"
   ]
  },
  {
   "cell_type": "code",
   "execution_count": 25,
   "id": "f644a0a4-e93b-4345-b41f-4ddfe7e3829b",
   "metadata": {},
   "outputs": [],
   "source": [
    "encounters=encounters.sort_values(by='i2b2_date_shifted')"
   ]
  },
  {
   "cell_type": "code",
   "execution_count": 26,
   "id": "d34d539f-8aa9-4311-af68-1ec7bc161936",
   "metadata": {},
   "outputs": [],
   "source": [
    "with open(r'/Users/amomenzadeh/Desktop/DM_pickles/neuro_enc.pkl', 'wb') as handle:\n",
    "    pickle.dump(encounters, handle)"
   ]
  },
  {
   "cell_type": "code",
   "execution_count": 27,
   "id": "1f229e4e-3ed9-4441-92f5-4e9be7ae3dda",
   "metadata": {},
   "outputs": [],
   "source": [
    "visits=[]\n",
    "for x in merge.index:\n",
    "    enc=encounters[(encounters.patient_num==x)]\n",
    "    after_DM=enc[(enc.i2b2_date_shifted.values >= merge.loc[[x]].initial_DIAB.values)]\n",
    "    before_comp=after_DM[(after_DM.i2b2_date_shifted.values <= merge.loc[[x]].initial_NEUROPATH.values)]\n",
    "    visits.append(len(before_comp.i2b2_date_shifted.unique()))"
   ]
  },
  {
   "cell_type": "code",
   "execution_count": 28,
   "id": "59837b25-f48f-47ef-9dcf-815bc9eaa80a",
   "metadata": {},
   "outputs": [],
   "source": [
    "merge['visits_bw']=visits"
   ]
  },
  {
   "cell_type": "code",
   "execution_count": 29,
   "id": "dc2a0a1a-8a4f-435c-8ef0-a3d748aa2814",
   "metadata": {},
   "outputs": [],
   "source": [
    "merge['visits_bw/yr']=merge['visits_bw']/merge['time_to_neuro(yr)']"
   ]
  },
  {
   "cell_type": "code",
   "execution_count": 30,
   "id": "8249afda-fe6a-4822-ae54-a25e6872c604",
   "metadata": {},
   "outputs": [],
   "source": [
    "merge['output_class']=neuro_final_clf"
   ]
  },
  {
   "cell_type": "code",
   "execution_count": 32,
   "id": "1768902d-a49b-4614-81c9-4d0dfdfc22e2",
   "metadata": {},
   "outputs": [],
   "source": [
    "with open(r'/Users/amomenzadeh/Desktop/DM_pickles/neur_merge.pkl', 'wb') as handle:\n",
    "    pickle.dump(merge, handle)"
   ]
  },
  {
   "cell_type": "code",
   "execution_count": 33,
   "id": "293314a4-e5ab-48f8-8ad7-1a70822c3749",
   "metadata": {},
   "outputs": [],
   "source": [
    "fast=merge[merge['output_class']==1]"
   ]
  },
  {
   "cell_type": "code",
   "execution_count": 34,
   "id": "56a98e3e-6558-4f55-a840-d7888976e715",
   "metadata": {},
   "outputs": [],
   "source": [
    "slow=merge[merge['output_class']==0]"
   ]
  },
  {
   "cell_type": "code",
   "execution_count": 35,
   "id": "2eaa358f-7f95-4198-bc58-8567158efdc0",
   "metadata": {},
   "outputs": [
    {
     "data": {
      "text/html": [
       "<div>\n",
       "<style scoped>\n",
       "    .dataframe tbody tr th:only-of-type {\n",
       "        vertical-align: middle;\n",
       "    }\n",
       "\n",
       "    .dataframe tbody tr th {\n",
       "        vertical-align: top;\n",
       "    }\n",
       "\n",
       "    .dataframe thead th {\n",
       "        text-align: right;\n",
       "    }\n",
       "</style>\n",
       "<table border=\"1\" class=\"dataframe\">\n",
       "  <thead>\n",
       "    <tr style=\"text-align: right;\">\n",
       "      <th></th>\n",
       "      <th>time_to_neuro(yr)</th>\n",
       "      <th>visits_bw</th>\n",
       "      <th>visits_bw/yr</th>\n",
       "      <th>output_class</th>\n",
       "    </tr>\n",
       "  </thead>\n",
       "  <tbody>\n",
       "    <tr>\n",
       "      <th>count</th>\n",
       "      <td>2129.000000</td>\n",
       "      <td>2129.000000</td>\n",
       "      <td>2129.000000</td>\n",
       "      <td>2129.0</td>\n",
       "    </tr>\n",
       "    <tr>\n",
       "      <th>mean</th>\n",
       "      <td>1.360115</td>\n",
       "      <td>43.085956</td>\n",
       "      <td>43.250647</td>\n",
       "      <td>1.0</td>\n",
       "    </tr>\n",
       "    <tr>\n",
       "      <th>std</th>\n",
       "      <td>0.957790</td>\n",
       "      <td>46.966420</td>\n",
       "      <td>43.819734</td>\n",
       "      <td>0.0</td>\n",
       "    </tr>\n",
       "    <tr>\n",
       "      <th>min</th>\n",
       "      <td>0.084875</td>\n",
       "      <td>0.000000</td>\n",
       "      <td>0.000000</td>\n",
       "      <td>1.0</td>\n",
       "    </tr>\n",
       "    <tr>\n",
       "      <th>25%</th>\n",
       "      <td>0.484610</td>\n",
       "      <td>11.000000</td>\n",
       "      <td>13.974496</td>\n",
       "      <td>1.0</td>\n",
       "    </tr>\n",
       "    <tr>\n",
       "      <th>50%</th>\n",
       "      <td>1.196465</td>\n",
       "      <td>27.000000</td>\n",
       "      <td>29.288314</td>\n",
       "      <td>1.0</td>\n",
       "    </tr>\n",
       "    <tr>\n",
       "      <th>75%</th>\n",
       "      <td>2.162947</td>\n",
       "      <td>58.000000</td>\n",
       "      <td>57.594557</td>\n",
       "      <td>1.0</td>\n",
       "    </tr>\n",
       "    <tr>\n",
       "      <th>max</th>\n",
       "      <td>3.260847</td>\n",
       "      <td>541.000000</td>\n",
       "      <td>373.543466</td>\n",
       "      <td>1.0</td>\n",
       "    </tr>\n",
       "  </tbody>\n",
       "</table>\n",
       "</div>"
      ],
      "text/plain": [
       "       time_to_neuro(yr)    visits_bw  visits_bw/yr  output_class\n",
       "count        2129.000000  2129.000000   2129.000000        2129.0\n",
       "mean            1.360115    43.085956     43.250647           1.0\n",
       "std             0.957790    46.966420     43.819734           0.0\n",
       "min             0.084875     0.000000      0.000000           1.0\n",
       "25%             0.484610    11.000000     13.974496           1.0\n",
       "50%             1.196465    27.000000     29.288314           1.0\n",
       "75%             2.162947    58.000000     57.594557           1.0\n",
       "max             3.260847   541.000000    373.543466           1.0"
      ]
     },
     "execution_count": 35,
     "metadata": {},
     "output_type": "execute_result"
    }
   ],
   "source": [
    "fast.describe()"
   ]
  },
  {
   "cell_type": "code",
   "execution_count": 36,
   "id": "2b77ac15-7f4f-4801-827a-4dca79e6e47c",
   "metadata": {},
   "outputs": [
    {
     "data": {
      "text/html": [
       "<div>\n",
       "<style scoped>\n",
       "    .dataframe tbody tr th:only-of-type {\n",
       "        vertical-align: middle;\n",
       "    }\n",
       "\n",
       "    .dataframe tbody tr th {\n",
       "        vertical-align: top;\n",
       "    }\n",
       "\n",
       "    .dataframe thead th {\n",
       "        text-align: right;\n",
       "    }\n",
       "</style>\n",
       "<table border=\"1\" class=\"dataframe\">\n",
       "  <thead>\n",
       "    <tr style=\"text-align: right;\">\n",
       "      <th></th>\n",
       "      <th>time_to_neuro(yr)</th>\n",
       "      <th>visits_bw</th>\n",
       "      <th>visits_bw/yr</th>\n",
       "      <th>output_class</th>\n",
       "    </tr>\n",
       "  </thead>\n",
       "  <tbody>\n",
       "    <tr>\n",
       "      <th>count</th>\n",
       "      <td>2128.000000</td>\n",
       "      <td>2128.000000</td>\n",
       "      <td>2128.000000</td>\n",
       "      <td>2128.0</td>\n",
       "    </tr>\n",
       "    <tr>\n",
       "      <th>mean</th>\n",
       "      <td>6.667824</td>\n",
       "      <td>129.536654</td>\n",
       "      <td>20.551347</td>\n",
       "      <td>0.0</td>\n",
       "    </tr>\n",
       "    <tr>\n",
       "      <th>std</th>\n",
       "      <td>2.539361</td>\n",
       "      <td>136.188828</td>\n",
       "      <td>20.804483</td>\n",
       "      <td>0.0</td>\n",
       "    </tr>\n",
       "    <tr>\n",
       "      <th>min</th>\n",
       "      <td>3.263585</td>\n",
       "      <td>2.000000</td>\n",
       "      <td>0.154961</td>\n",
       "      <td>0.0</td>\n",
       "    </tr>\n",
       "    <tr>\n",
       "      <th>25%</th>\n",
       "      <td>4.579834</td>\n",
       "      <td>31.750000</td>\n",
       "      <td>4.853678</td>\n",
       "      <td>0.0</td>\n",
       "    </tr>\n",
       "    <tr>\n",
       "      <th>50%</th>\n",
       "      <td>6.190408</td>\n",
       "      <td>88.000000</td>\n",
       "      <td>14.691020</td>\n",
       "      <td>0.0</td>\n",
       "    </tr>\n",
       "    <tr>\n",
       "      <th>75%</th>\n",
       "      <td>8.244522</td>\n",
       "      <td>182.250000</td>\n",
       "      <td>29.019372</td>\n",
       "      <td>0.0</td>\n",
       "    </tr>\n",
       "    <tr>\n",
       "      <th>max</th>\n",
       "      <td>15.644401</td>\n",
       "      <td>1936.000000</td>\n",
       "      <td>215.911292</td>\n",
       "      <td>0.0</td>\n",
       "    </tr>\n",
       "  </tbody>\n",
       "</table>\n",
       "</div>"
      ],
      "text/plain": [
       "       time_to_neuro(yr)    visits_bw  visits_bw/yr  output_class\n",
       "count        2128.000000  2128.000000   2128.000000        2128.0\n",
       "mean            6.667824   129.536654     20.551347           0.0\n",
       "std             2.539361   136.188828     20.804483           0.0\n",
       "min             3.263585     2.000000      0.154961           0.0\n",
       "25%             4.579834    31.750000      4.853678           0.0\n",
       "50%             6.190408    88.000000     14.691020           0.0\n",
       "75%             8.244522   182.250000     29.019372           0.0\n",
       "max            15.644401  1936.000000    215.911292           0.0"
      ]
     },
     "execution_count": 36,
     "metadata": {},
     "output_type": "execute_result"
    }
   ],
   "source": [
    "slow.describe()"
   ]
  },
  {
   "cell_type": "code",
   "execution_count": 37,
   "id": "bd9699a4-9ba2-4041-b2b7-dd225fa53f46",
   "metadata": {},
   "outputs": [
    {
     "data": {
      "text/plain": [
       "27.345"
      ]
     },
     "execution_count": 37,
     "metadata": {},
     "output_type": "execute_result"
    }
   ],
   "source": [
    "fast = [25.34, 28.36, 26.39, 29.29]\n",
    "\n",
    "average = sum(fast) / len(fast)\n",
    "average"
   ]
  },
  {
   "cell_type": "code",
   "execution_count": 38,
   "id": "0dcf620c-a9ca-4ef2-ac61-02cdef58fcea",
   "metadata": {},
   "outputs": [
    {
     "data": {
      "text/plain": [
       "14.0075"
      ]
     },
     "execution_count": 38,
     "metadata": {},
     "output_type": "execute_result"
    }
   ],
   "source": [
    "slow = [15.08, 12.73, 13.53, 14.69]\n",
    "\n",
    "average = sum(slow) / len(slow)\n",
    "average"
   ]
  },
  {
   "cell_type": "code",
   "execution_count": 39,
   "id": "678f7299-bed2-4805-b089-cac9fe100aca",
   "metadata": {},
   "outputs": [],
   "source": [
    "merge.loc[merge['output_class']==1 ,'output_class']='Fast'\n",
    "merge.loc[merge['output_class']==0 ,'output_class']='Slow'"
   ]
  },
  {
   "cell_type": "code",
   "execution_count": 40,
   "id": "f9daa95a-1aea-4534-9b1b-c6bfa2391f1f",
   "metadata": {},
   "outputs": [
    {
     "name": "stdout",
     "output_type": "stream",
     "text": [
      "Slow v.s. Fast: Mann-Whitney-Wilcoxon test two-sided with Bonferroni correction, P_val=2.559e-101 U_stat=1.408e+06\n"
     ]
    },
    {
     "data": {
      "image/png": "[encoded data removed]",
      "text/plain": [
       "<Figure size 432x288 with 1 Axes>"
      ]
     },
     "metadata": {},
     "output_type": "display_data"
    }
   ],
   "source": [
    "sns.set(style=\"whitegrid\")\n",
    "\n",
    "x = \"output_class\"\n",
    "y = \"visits_bw/yr\"\n",
    "order = ['Slow', 'Fast']\n",
    "ax = sns.boxplot(data=merge, x=x, y=y, order=order)\n",
    "add_stat_annotation(ax, data=merge, x=x, y=y, order=order,\n",
    "                    box_pairs=[('Slow','Fast')], \n",
    "                    test='Mann-Whitney', text_format='simple', loc='inside', verbose=2,fontsize=20)\n",
    "_ = ax.set(xlabel=\"Diagnosis of Diabetic Complication\", ylabel=\"Visits between T2DM and Neuropathy Diagnoses\")\n",
    "\n",
    "ax.tick_params(labelsize=24)\n",
    "ax.set_xlabel(\"Neuropathy Diagnosis\",fontsize=24)\n",
    "ax.set_ylabel(\"Visits/yr between T2DM+Neuropathy\",fontsize=20)\n",
    "ax.grid(False)\n",
    "sns.set(rc={'figure.figsize':(6.5,6)})\n",
    "plt.savefig(r'/Users/amomenzadeh/Desktop/DM_figures/neuro_visits.svg', format='svg',bbox_inches='tight')\n",
    "plt.show()"
   ]
  }
 ],
 "metadata": {
  "kernelspec": {
   "display_name": "Python 3 (ipykernel)",
   "language": "python",
   "name": "python3"
  },
  "language_info": {
   "codemirror_mode": {
    "name": "ipython",
    "version": 3
   },
   "file_extension": ".py",
   "mimetype": "text/x-python",
   "name": "python",
   "nbconvert_exporter": "python",
   "pygments_lexer": "ipython3",
   "version": "3.7.11"
  },
  "varInspector": {
   "cols": {
    "lenName": "24",
    "lenType": 16,
    "lenVar": "0"
   },
   "kernels_config": {
    "python": {
     "delete_cmd_postfix": "",
     "delete_cmd_prefix": "del ",
     "library": "var_list.py",
     "varRefreshCmd": "print(var_dic_list())"
    },
    "r": {
     "delete_cmd_postfix": ") ",
     "delete_cmd_prefix": "rm(",
     "library": "var_list.r",
     "varRefreshCmd": "cat(var_dic_list()) "
    }
   },
   "oldHeight": 589.043,
   "position": {
    "height": "40px",
    "left": "1370.37px",
    "right": "20px",
    "top": "184.672px",
    "width": "522.598px"
   },
   "types_to_exclude": [
    "module",
    "function",
    "builtin_function_or_method",
    "instance",
    "_Feature"
   ],
   "varInspector_section_display": "none",
   "window_display": false
  }
 },
 "nbformat": 4,
 "nbformat_minor": 5
}
